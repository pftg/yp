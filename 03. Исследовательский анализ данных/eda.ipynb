{
 "cells": [
  {
   "cell_type": "markdown",
   "metadata": {},
   "source": [
    "# Исследование объявлений о продаже квартир\n",
    "\n",
    "В вашем распоряжении данные сервиса Яндекс.Недвижимость — архив объявлений о продаже квартир в Санкт-Петербурге и соседних населённых пунктов за несколько лет. Нужно научиться определять рыночную стоимость объектов недвижимости. Ваша задача — установить параметры. Это позволит построить автоматизированную систему: она отследит аномалии и мошенническую деятельность. \n",
    "\n",
    "По каждой квартире на продажу доступны два вида данных. Первые вписаны пользователем, вторые — получены автоматически на основе картографических данных. Например, расстояние до центра, аэропорта, ближайшего парка и водоёма. "
   ]
  },
  {
   "cell_type": "markdown",
   "metadata": {},
   "source": [
    "### Шаг 1. Откройте файл с данными и изучите общую информацию. "
   ]
  },
  {
   "cell_type": "code",
   "execution_count": 1,
   "metadata": {
    "scrolled": false
   },
   "outputs": [
    {
     "name": "stdout",
     "output_type": "stream",
     "text": [
      "<class 'pandas.core.frame.DataFrame'>\n",
      "RangeIndex: 23699 entries, 0 to 23698\n",
      "Data columns (total 22 columns):\n",
      "total_images            23699 non-null int64\n",
      "last_price              23699 non-null float64\n",
      "total_area              23699 non-null float64\n",
      "first_day_exposition    23699 non-null object\n",
      "rooms                   23699 non-null int64\n",
      "ceiling_height          14504 non-null float64\n",
      "floors_total            23613 non-null float64\n",
      "living_area             21796 non-null float64\n",
      "floor                   23699 non-null int64\n",
      "is_apartment            2775 non-null object\n",
      "studio                  23699 non-null bool\n",
      "open_plan               23699 non-null bool\n",
      "kitchen_area            21421 non-null float64\n",
      "balcony                 12180 non-null float64\n",
      "locality_name           23650 non-null object\n",
      "airports_nearest        18157 non-null float64\n",
      "cityCenters_nearest     18180 non-null float64\n",
      "parks_around3000        18181 non-null float64\n",
      "parks_nearest           8079 non-null float64\n",
      "ponds_around3000        18181 non-null float64\n",
      "ponds_nearest           9110 non-null float64\n",
      "days_exposition         20518 non-null float64\n",
      "dtypes: bool(2), float64(14), int64(3), object(3)\n",
      "memory usage: 3.7+ MB\n",
      "None\n"
     ]
    }
   ],
   "source": [
    "import pandas as pd\n",
    "import math \n",
    "import warnings\n",
    "\n",
    "warnings.simplefilter('ignore') \n",
    "\n",
    "data = pd.read_csv('/datasets/real_estate_data.csv', sep='\\t') #читаем файл и делим значения по сепаратору\n",
    "#display(data.sample(10))\n",
    "print(data.info())"
   ]
  },
  {
   "cell_type": "code",
   "execution_count": 2,
   "metadata": {},
   "outputs": [
    {
     "data": {
      "text/html": [
       "<div>\n",
       "<style scoped>\n",
       "    .dataframe tbody tr th:only-of-type {\n",
       "        vertical-align: middle;\n",
       "    }\n",
       "\n",
       "    .dataframe tbody tr th {\n",
       "        vertical-align: top;\n",
       "    }\n",
       "\n",
       "    .dataframe thead th {\n",
       "        text-align: right;\n",
       "    }\n",
       "</style>\n",
       "<table border=\"1\" class=\"dataframe\">\n",
       "  <thead>\n",
       "    <tr style=\"text-align: right;\">\n",
       "      <th></th>\n",
       "      <th>total_images</th>\n",
       "      <th>last_price</th>\n",
       "      <th>total_area</th>\n",
       "      <th>first_day_exposition</th>\n",
       "      <th>rooms</th>\n",
       "      <th>ceiling_height</th>\n",
       "      <th>floors_total</th>\n",
       "      <th>living_area</th>\n",
       "      <th>floor</th>\n",
       "      <th>is_apartment</th>\n",
       "      <th>...</th>\n",
       "      <th>kitchen_area</th>\n",
       "      <th>balcony</th>\n",
       "      <th>locality_name</th>\n",
       "      <th>airports_nearest</th>\n",
       "      <th>cityCenters_nearest</th>\n",
       "      <th>parks_around3000</th>\n",
       "      <th>parks_nearest</th>\n",
       "      <th>ponds_around3000</th>\n",
       "      <th>ponds_nearest</th>\n",
       "      <th>days_exposition</th>\n",
       "    </tr>\n",
       "  </thead>\n",
       "  <tbody>\n",
       "    <tr>\n",
       "      <td>3484</td>\n",
       "      <td>10</td>\n",
       "      <td>3750000.0</td>\n",
       "      <td>43.0</td>\n",
       "      <td>2017-11-03T00:00:00</td>\n",
       "      <td>1</td>\n",
       "      <td>2.50</td>\n",
       "      <td>9.0</td>\n",
       "      <td>NaN</td>\n",
       "      <td>3</td>\n",
       "      <td>NaN</td>\n",
       "      <td>...</td>\n",
       "      <td>NaN</td>\n",
       "      <td>NaN</td>\n",
       "      <td>Санкт-Петербург</td>\n",
       "      <td>48185.0</td>\n",
       "      <td>16165.0</td>\n",
       "      <td>0.0</td>\n",
       "      <td>NaN</td>\n",
       "      <td>0.0</td>\n",
       "      <td>NaN</td>\n",
       "      <td>117.0</td>\n",
       "    </tr>\n",
       "    <tr>\n",
       "      <td>8634</td>\n",
       "      <td>19</td>\n",
       "      <td>45900000.0</td>\n",
       "      <td>223.0</td>\n",
       "      <td>2017-09-20T00:00:00</td>\n",
       "      <td>5</td>\n",
       "      <td>3.10</td>\n",
       "      <td>10.0</td>\n",
       "      <td>175.0</td>\n",
       "      <td>10</td>\n",
       "      <td>NaN</td>\n",
       "      <td>...</td>\n",
       "      <td>18.0</td>\n",
       "      <td>NaN</td>\n",
       "      <td>Санкт-Петербург</td>\n",
       "      <td>26084.0</td>\n",
       "      <td>5807.0</td>\n",
       "      <td>3.0</td>\n",
       "      <td>411.0</td>\n",
       "      <td>1.0</td>\n",
       "      <td>478.0</td>\n",
       "      <td>365.0</td>\n",
       "    </tr>\n",
       "    <tr>\n",
       "      <td>12386</td>\n",
       "      <td>6</td>\n",
       "      <td>4950000.0</td>\n",
       "      <td>56.6</td>\n",
       "      <td>2017-08-21T00:00:00</td>\n",
       "      <td>3</td>\n",
       "      <td>NaN</td>\n",
       "      <td>9.0</td>\n",
       "      <td>36.7</td>\n",
       "      <td>4</td>\n",
       "      <td>NaN</td>\n",
       "      <td>...</td>\n",
       "      <td>8.7</td>\n",
       "      <td>1.0</td>\n",
       "      <td>Сестрорецк</td>\n",
       "      <td>61026.0</td>\n",
       "      <td>36245.0</td>\n",
       "      <td>0.0</td>\n",
       "      <td>NaN</td>\n",
       "      <td>2.0</td>\n",
       "      <td>136.0</td>\n",
       "      <td>485.0</td>\n",
       "    </tr>\n",
       "    <tr>\n",
       "      <td>9554</td>\n",
       "      <td>1</td>\n",
       "      <td>10828140.0</td>\n",
       "      <td>83.3</td>\n",
       "      <td>2016-09-24T00:00:00</td>\n",
       "      <td>2</td>\n",
       "      <td>NaN</td>\n",
       "      <td>5.0</td>\n",
       "      <td>NaN</td>\n",
       "      <td>2</td>\n",
       "      <td>NaN</td>\n",
       "      <td>...</td>\n",
       "      <td>NaN</td>\n",
       "      <td>NaN</td>\n",
       "      <td>Санкт-Петербург</td>\n",
       "      <td>37956.0</td>\n",
       "      <td>11491.0</td>\n",
       "      <td>1.0</td>\n",
       "      <td>161.0</td>\n",
       "      <td>1.0</td>\n",
       "      <td>149.0</td>\n",
       "      <td>793.0</td>\n",
       "    </tr>\n",
       "    <tr>\n",
       "      <td>10304</td>\n",
       "      <td>9</td>\n",
       "      <td>4490000.0</td>\n",
       "      <td>43.3</td>\n",
       "      <td>2017-12-19T00:00:00</td>\n",
       "      <td>1</td>\n",
       "      <td>3.00</td>\n",
       "      <td>16.0</td>\n",
       "      <td>16.0</td>\n",
       "      <td>11</td>\n",
       "      <td>NaN</td>\n",
       "      <td>...</td>\n",
       "      <td>9.2</td>\n",
       "      <td>2.0</td>\n",
       "      <td>Санкт-Петербург</td>\n",
       "      <td>15674.0</td>\n",
       "      <td>15582.0</td>\n",
       "      <td>0.0</td>\n",
       "      <td>NaN</td>\n",
       "      <td>1.0</td>\n",
       "      <td>640.0</td>\n",
       "      <td>282.0</td>\n",
       "    </tr>\n",
       "    <tr>\n",
       "      <td>15608</td>\n",
       "      <td>2</td>\n",
       "      <td>2250000.0</td>\n",
       "      <td>37.4</td>\n",
       "      <td>2018-02-10T00:00:00</td>\n",
       "      <td>1</td>\n",
       "      <td>2.80</td>\n",
       "      <td>4.0</td>\n",
       "      <td>15.3</td>\n",
       "      <td>2</td>\n",
       "      <td>NaN</td>\n",
       "      <td>...</td>\n",
       "      <td>11.3</td>\n",
       "      <td>1.0</td>\n",
       "      <td>Сертолово</td>\n",
       "      <td>NaN</td>\n",
       "      <td>NaN</td>\n",
       "      <td>NaN</td>\n",
       "      <td>NaN</td>\n",
       "      <td>NaN</td>\n",
       "      <td>NaN</td>\n",
       "      <td>76.0</td>\n",
       "    </tr>\n",
       "    <tr>\n",
       "      <td>23537</td>\n",
       "      <td>9</td>\n",
       "      <td>3600000.0</td>\n",
       "      <td>45.0</td>\n",
       "      <td>2017-06-14T00:00:00</td>\n",
       "      <td>2</td>\n",
       "      <td>2.50</td>\n",
       "      <td>5.0</td>\n",
       "      <td>28.7</td>\n",
       "      <td>3</td>\n",
       "      <td>False</td>\n",
       "      <td>...</td>\n",
       "      <td>5.5</td>\n",
       "      <td>1.0</td>\n",
       "      <td>Санкт-Петербург</td>\n",
       "      <td>12592.0</td>\n",
       "      <td>11154.0</td>\n",
       "      <td>0.0</td>\n",
       "      <td>NaN</td>\n",
       "      <td>1.0</td>\n",
       "      <td>658.0</td>\n",
       "      <td>45.0</td>\n",
       "    </tr>\n",
       "    <tr>\n",
       "      <td>14024</td>\n",
       "      <td>12</td>\n",
       "      <td>5550000.0</td>\n",
       "      <td>41.0</td>\n",
       "      <td>2018-02-14T00:00:00</td>\n",
       "      <td>1</td>\n",
       "      <td>2.65</td>\n",
       "      <td>17.0</td>\n",
       "      <td>17.0</td>\n",
       "      <td>11</td>\n",
       "      <td>NaN</td>\n",
       "      <td>...</td>\n",
       "      <td>10.0</td>\n",
       "      <td>NaN</td>\n",
       "      <td>Санкт-Петербург</td>\n",
       "      <td>36688.0</td>\n",
       "      <td>11841.0</td>\n",
       "      <td>0.0</td>\n",
       "      <td>NaN</td>\n",
       "      <td>2.0</td>\n",
       "      <td>981.0</td>\n",
       "      <td>60.0</td>\n",
       "    </tr>\n",
       "    <tr>\n",
       "      <td>10443</td>\n",
       "      <td>13</td>\n",
       "      <td>4610000.0</td>\n",
       "      <td>43.0</td>\n",
       "      <td>2019-03-22T00:00:00</td>\n",
       "      <td>2</td>\n",
       "      <td>2.50</td>\n",
       "      <td>5.0</td>\n",
       "      <td>29.0</td>\n",
       "      <td>4</td>\n",
       "      <td>NaN</td>\n",
       "      <td>...</td>\n",
       "      <td>5.5</td>\n",
       "      <td>NaN</td>\n",
       "      <td>Санкт-Петербург</td>\n",
       "      <td>42720.0</td>\n",
       "      <td>12596.0</td>\n",
       "      <td>1.0</td>\n",
       "      <td>432.0</td>\n",
       "      <td>0.0</td>\n",
       "      <td>NaN</td>\n",
       "      <td>NaN</td>\n",
       "    </tr>\n",
       "    <tr>\n",
       "      <td>2702</td>\n",
       "      <td>1</td>\n",
       "      <td>4450000.0</td>\n",
       "      <td>49.0</td>\n",
       "      <td>2018-04-21T00:00:00</td>\n",
       "      <td>4</td>\n",
       "      <td>2.50</td>\n",
       "      <td>5.0</td>\n",
       "      <td>38.0</td>\n",
       "      <td>4</td>\n",
       "      <td>NaN</td>\n",
       "      <td>...</td>\n",
       "      <td>5.5</td>\n",
       "      <td>NaN</td>\n",
       "      <td>Санкт-Петербург</td>\n",
       "      <td>11046.0</td>\n",
       "      <td>12150.0</td>\n",
       "      <td>0.0</td>\n",
       "      <td>NaN</td>\n",
       "      <td>1.0</td>\n",
       "      <td>776.0</td>\n",
       "      <td>NaN</td>\n",
       "    </tr>\n",
       "  </tbody>\n",
       "</table>\n",
       "<p>10 rows × 22 columns</p>\n",
       "</div>"
      ],
      "text/plain": [
       "       total_images  last_price  total_area first_day_exposition  rooms  \\\n",
       "3484             10   3750000.0        43.0  2017-11-03T00:00:00      1   \n",
       "8634             19  45900000.0       223.0  2017-09-20T00:00:00      5   \n",
       "12386             6   4950000.0        56.6  2017-08-21T00:00:00      3   \n",
       "9554              1  10828140.0        83.3  2016-09-24T00:00:00      2   \n",
       "10304             9   4490000.0        43.3  2017-12-19T00:00:00      1   \n",
       "15608             2   2250000.0        37.4  2018-02-10T00:00:00      1   \n",
       "23537             9   3600000.0        45.0  2017-06-14T00:00:00      2   \n",
       "14024            12   5550000.0        41.0  2018-02-14T00:00:00      1   \n",
       "10443            13   4610000.0        43.0  2019-03-22T00:00:00      2   \n",
       "2702              1   4450000.0        49.0  2018-04-21T00:00:00      4   \n",
       "\n",
       "       ceiling_height  floors_total  living_area  floor is_apartment  ...  \\\n",
       "3484             2.50           9.0          NaN      3          NaN  ...   \n",
       "8634             3.10          10.0        175.0     10          NaN  ...   \n",
       "12386             NaN           9.0         36.7      4          NaN  ...   \n",
       "9554              NaN           5.0          NaN      2          NaN  ...   \n",
       "10304            3.00          16.0         16.0     11          NaN  ...   \n",
       "15608            2.80           4.0         15.3      2          NaN  ...   \n",
       "23537            2.50           5.0         28.7      3        False  ...   \n",
       "14024            2.65          17.0         17.0     11          NaN  ...   \n",
       "10443            2.50           5.0         29.0      4          NaN  ...   \n",
       "2702             2.50           5.0         38.0      4          NaN  ...   \n",
       "\n",
       "       kitchen_area  balcony    locality_name  airports_nearest  \\\n",
       "3484            NaN      NaN  Санкт-Петербург           48185.0   \n",
       "8634           18.0      NaN  Санкт-Петербург           26084.0   \n",
       "12386           8.7      1.0       Сестрорецк           61026.0   \n",
       "9554            NaN      NaN  Санкт-Петербург           37956.0   \n",
       "10304           9.2      2.0  Санкт-Петербург           15674.0   \n",
       "15608          11.3      1.0        Сертолово               NaN   \n",
       "23537           5.5      1.0  Санкт-Петербург           12592.0   \n",
       "14024          10.0      NaN  Санкт-Петербург           36688.0   \n",
       "10443           5.5      NaN  Санкт-Петербург           42720.0   \n",
       "2702            5.5      NaN  Санкт-Петербург           11046.0   \n",
       "\n",
       "      cityCenters_nearest  parks_around3000  parks_nearest  ponds_around3000  \\\n",
       "3484              16165.0               0.0            NaN               0.0   \n",
       "8634               5807.0               3.0          411.0               1.0   \n",
       "12386             36245.0               0.0            NaN               2.0   \n",
       "9554              11491.0               1.0          161.0               1.0   \n",
       "10304             15582.0               0.0            NaN               1.0   \n",
       "15608                 NaN               NaN            NaN               NaN   \n",
       "23537             11154.0               0.0            NaN               1.0   \n",
       "14024             11841.0               0.0            NaN               2.0   \n",
       "10443             12596.0               1.0          432.0               0.0   \n",
       "2702              12150.0               0.0            NaN               1.0   \n",
       "\n",
       "       ponds_nearest  days_exposition  \n",
       "3484             NaN            117.0  \n",
       "8634           478.0            365.0  \n",
       "12386          136.0            485.0  \n",
       "9554           149.0            793.0  \n",
       "10304          640.0            282.0  \n",
       "15608            NaN             76.0  \n",
       "23537          658.0             45.0  \n",
       "14024          981.0             60.0  \n",
       "10443            NaN              NaN  \n",
       "2702           776.0              NaN  \n",
       "\n",
       "[10 rows x 22 columns]"
      ]
     },
     "execution_count": 2,
     "metadata": {},
     "output_type": "execute_result"
    }
   ],
   "source": [
    "data.sample(10)"
   ]
  },
  {
   "cell_type": "markdown",
   "metadata": {},
   "source": [
    "### Вывод"
   ]
  },
  {
   "cell_type": "markdown",
   "metadata": {},
   "source": [
    "<span style=\"text-decoration:underline\">При помощи метода info() мы можем видеть несколько важных моментов: </span>\n",
    "\n",
    "1) Количество наблюдений в более чем половине столбцов меньше общего числа наблюдений в сете. Количество наблюдений существенно снижается при приближении к \"правой границе\" сета. Вероятно, заполнение полей не обязательно в пользовательской форме, поэтому необходимо будет проанализировать каждый столбец и заполнить его, либо какими-то расчетными значениями, либо нулями;\n",
    "\n",
    "2) Тип данных в столбце 'first_day_exposition' некорректный - вместо даты строковое значение;\n",
    "\n",
    "3) Вероятно, тип данных в столбце 'floors_total' выбран не совсем корректно. Маловероятно, что количество этажей будет не целым числом. \n",
    "\n",
    "4) Столбец 'is_apartment' даже по контексту должнен быть заполнен булевыми значениями, а по факту - строковые;\n",
    "\n",
    "В общем, мы видим, что данные имеют ряд проблемных мест. Потребуется провести масштабную работу для заполнения пропусков таким образом, чтобы новые значения в наименьшей степени повлияли на итоговый результат. \n",
    "\n",
    "Предположительно, для формирования и проверки гипотез по такому датасету потребуется использовать только определенные фрагменты датасета (в зависимости от анализируемой метрики)."
   ]
  },
  {
   "cell_type": "markdown",
   "metadata": {},
   "source": [
    "### Шаг 2. Предобработка данных"
   ]
  },
  {
   "cell_type": "code",
   "execution_count": 3,
   "metadata": {
    "scrolled": false
   },
   "outputs": [],
   "source": [
    "data['first_day_exposition'] = pd.to_datetime(data['first_day_exposition'], format='%Y-%m-%dT%H:%M:%S')\n",
    "#преобразуем значения столбца 'first_day_exposition' в дату из строки\n"
   ]
  },
  {
   "cell_type": "code",
   "execution_count": 4,
   "metadata": {},
   "outputs": [],
   "source": [
    "data['ceiling_height'] = data['ceiling_height'].fillna(0)\n",
    "#для корректной дальнейшей обработки заполняем пропуски нулями"
   ]
  },
  {
   "cell_type": "code",
   "execution_count": 5,
   "metadata": {
    "scrolled": false
   },
   "outputs": [
    {
     "data": {
      "text/html": [
       "<div>\n",
       "<style scoped>\n",
       "    .dataframe tbody tr th:only-of-type {\n",
       "        vertical-align: middle;\n",
       "    }\n",
       "\n",
       "    .dataframe tbody tr th {\n",
       "        vertical-align: top;\n",
       "    }\n",
       "\n",
       "    .dataframe thead tr th {\n",
       "        text-align: left;\n",
       "    }\n",
       "\n",
       "    .dataframe thead tr:last-of-type th {\n",
       "        text-align: right;\n",
       "    }\n",
       "</style>\n",
       "<table border=\"1\" class=\"dataframe\">\n",
       "  <thead>\n",
       "    <tr>\n",
       "      <th></th>\n",
       "      <th>count</th>\n",
       "      <th>mean</th>\n",
       "      <th>median</th>\n",
       "      <th>min</th>\n",
       "      <th>max</th>\n",
       "    </tr>\n",
       "    <tr>\n",
       "      <th></th>\n",
       "      <th>ceiling_height</th>\n",
       "      <th>ceiling_height</th>\n",
       "      <th>ceiling_height</th>\n",
       "      <th>ceiling_height</th>\n",
       "      <th>ceiling_height</th>\n",
       "    </tr>\n",
       "    <tr>\n",
       "      <th>ceiling_height_gp</th>\n",
       "      <th></th>\n",
       "      <th></th>\n",
       "      <th></th>\n",
       "      <th></th>\n",
       "      <th></th>\n",
       "    </tr>\n",
       "  </thead>\n",
       "  <tbody>\n",
       "    <tr>\n",
       "      <td>Более 3 метров</td>\n",
       "      <td>1529</td>\n",
       "      <td>3.770320</td>\n",
       "      <td>3.26</td>\n",
       "      <td>3.01</td>\n",
       "      <td>100.00</td>\n",
       "    </tr>\n",
       "    <tr>\n",
       "      <td>Высота не указана</td>\n",
       "      <td>9195</td>\n",
       "      <td>0.000000</td>\n",
       "      <td>0.00</td>\n",
       "      <td>0.00</td>\n",
       "      <td>0.00</td>\n",
       "    </tr>\n",
       "    <tr>\n",
       "      <td>До 2 метров</td>\n",
       "      <td>3</td>\n",
       "      <td>1.316667</td>\n",
       "      <td>1.20</td>\n",
       "      <td>1.00</td>\n",
       "      <td>1.75</td>\n",
       "    </tr>\n",
       "    <tr>\n",
       "      <td>От 2 до 3 метров</td>\n",
       "      <td>12972</td>\n",
       "      <td>2.654105</td>\n",
       "      <td>2.60</td>\n",
       "      <td>2.00</td>\n",
       "      <td>3.00</td>\n",
       "    </tr>\n",
       "  </tbody>\n",
       "</table>\n",
       "</div>"
      ],
      "text/plain": [
       "                           count           mean         median            min  \\\n",
       "                  ceiling_height ceiling_height ceiling_height ceiling_height   \n",
       "ceiling_height_gp                                                               \n",
       "Более 3 метров              1529       3.770320           3.26           3.01   \n",
       "Высота не указана           9195       0.000000           0.00           0.00   \n",
       "До 2 метров                    3       1.316667           1.20           1.00   \n",
       "От 2 до 3 метров           12972       2.654105           2.60           2.00   \n",
       "\n",
       "                             max  \n",
       "                  ceiling_height  \n",
       "ceiling_height_gp                 \n",
       "Более 3 метров            100.00  \n",
       "Высота не указана           0.00  \n",
       "До 2 метров                 1.75  \n",
       "От 2 до 3 метров            3.00  "
      ]
     },
     "metadata": {},
     "output_type": "display_data"
    },
    {
     "name": "stdout",
     "output_type": "stream",
     "text": [
      "<class 'pandas.core.frame.DataFrame'>\n",
      "RangeIndex: 23696 entries, 0 to 23695\n",
      "Data columns (total 23 columns):\n",
      "total_images            23696 non-null int64\n",
      "last_price              23696 non-null float64\n",
      "total_area              23696 non-null float64\n",
      "first_day_exposition    23696 non-null datetime64[ns]\n",
      "rooms                   23696 non-null int64\n",
      "ceiling_height          23696 non-null float64\n",
      "floors_total            23610 non-null float64\n",
      "living_area             21793 non-null float64\n",
      "floor                   23696 non-null int64\n",
      "is_apartment            2775 non-null object\n",
      "studio                  23696 non-null bool\n",
      "open_plan               23696 non-null bool\n",
      "kitchen_area            21418 non-null float64\n",
      "balcony                 12180 non-null float64\n",
      "locality_name           23647 non-null object\n",
      "airports_nearest        18155 non-null float64\n",
      "cityCenters_nearest     18178 non-null float64\n",
      "parks_around3000        18179 non-null float64\n",
      "parks_nearest           8078 non-null float64\n",
      "ponds_around3000        18179 non-null float64\n",
      "ponds_nearest           9108 non-null float64\n",
      "days_exposition         20515 non-null float64\n",
      "ceiling_height_gp       23696 non-null object\n",
      "dtypes: bool(2), datetime64[ns](1), float64(14), int64(3), object(3)\n",
      "memory usage: 3.8+ MB\n"
     ]
    },
    {
     "data": {
      "text/plain": [
       "None"
      ]
     },
     "metadata": {},
     "output_type": "display_data"
    }
   ],
   "source": [
    "data['ceiling_height'].describe()\n",
    "#При помощи метода describe() мы видим минимум и максимум по высоте потолка. \n",
    "#Оба значения явно выделяются своей нереалистичностью (1 метр и 100 метров).\n",
    "#Нам необходимо заполнить пропуски в столбце, но перед этим надо обработать имеющиеся данные. \n",
    "\n",
    "#При помощи небольшой функции, распределяем записи в группы по высоте потолков\n",
    "def ceiling_height_gp(value):\n",
    "    if value == 0:\n",
    "        return 'Высота не указана'\n",
    "    elif value < 2:\n",
    "        return 'До 2 метров'\n",
    "    elif value >= 2 and value <= 3:\n",
    "        return 'От 2 до 3 метров'\n",
    "    elif value > 3:\n",
    "        return 'Более 3 метров'\n",
    "    \n",
    "data['ceiling_height_gp'] = data['ceiling_height'].apply(ceiling_height_gp) #добавляем столбец с группами\n",
    "display(data.pivot_table(index='ceiling_height_gp', values='ceiling_height', aggfunc=['count', 'mean', 'median', 'min', 'max']))\n",
    "#при помощи сводной таблицы оцениваем результат\n",
    "\n",
    "data.drop(data.loc[data['ceiling_height_gp'] == 'До 2 метров'].index, inplace=True) \n",
    "#убираем из датасета группу \"До 2 метров\"\n",
    "data = data.reset_index(drop=True) #сбрасываем индексы\n",
    "display(data.info())"
   ]
  },
  {
   "cell_type": "code",
   "execution_count": 6,
   "metadata": {},
   "outputs": [
    {
     "name": "stdout",
     "output_type": "stream",
     "text": [
      "Количество удаленных значений:  75\n"
     ]
    }
   ],
   "source": [
    "data['ceiling_height'].describe() #снова смотрим на значения столбца 'ceiling_height'\n",
    "#минимальное значение в 2 метра звучит реалистично\n",
    "#также видим, что 75% всех заполненных значений не превывышают 2,8 метра\n",
    "data.loc[data['ceiling_height'] >= 2.8, 'ceiling_height'].describe() #отбираем группу свыше 2,8 и снова ее оцениваем\n",
    "data.loc[data['ceiling_height'] >= 4, 'ceiling_height'].describe()\n",
    "#несколькими итерациями отбора группы по 3 квартилю, мы приходим к тому, что группа свыше 4 метров включает значения\n",
    "#не похожие на реальные (3 квартиль на уровне 7.5 метров)\n",
    "#количество наблюдений в группе позволяет спокойно отсеять эти значения из датасета\n",
    "print('Количество удаленных значений: ', len(data.loc[data['ceiling_height'] > 4]))\n",
    "data.drop(data.loc[data['ceiling_height'] > 4].index, inplace=True) #убираем из датафрейма значения более 4 метров\n",
    "data = data.reset_index(drop=True)\n",
    "\n",
    "del data['ceiling_height_gp'] #удаляем временный столбец с группами по высоте потолка"
   ]
  },
  {
   "cell_type": "code",
   "execution_count": 7,
   "metadata": {
    "scrolled": false
   },
   "outputs": [
    {
     "data": {
      "text/plain": [
       "False    2710\n",
       "True       44\n",
       "Name: is_apartment, dtype: int64"
      ]
     },
     "metadata": {},
     "output_type": "display_data"
    }
   ],
   "source": [
    "display(data['is_apartment'].value_counts())\n",
    "#В 44 объявленях параметр 'is_apartment' указан как True.\n",
    "data['is_apartment'] = data['is_apartment'].fillna(False)\n",
    "#data.info()\n",
    "#Столбец заполнен. Тип данных теперь корректный - булево значение. "
   ]
  },
  {
   "cell_type": "code",
   "execution_count": 8,
   "metadata": {},
   "outputs": [
    {
     "data": {
      "text/plain": [
       "<matplotlib.axes._subplots.AxesSubplot at 0x7fb5230b5990>"
      ]
     },
     "execution_count": 8,
     "metadata": {},
     "output_type": "execute_result"
    },
    {
     "data": {
      "image/png": "[encoded data removed]",
      "text/plain": [
       "<Figure size 1080x360 with 1 Axes>"
      ]
     },
     "metadata": {
      "needs_background": "light"
     },
     "output_type": "display_data"
    }
   ],
   "source": [
    "#data['floors_total'].sort_values().value_counts()\n",
    "#display(data.loc[data['floors_total'].isnull() == False])\n",
    "data['floors_total'].loc[data['floors_total'].isnull() == False]\\\n",
    ".plot(kind='hist', title='Количество объявлений по количеству этажей в здании (ограничение - 30 этажей)', \\\n",
    "range=(1, 30), figsize=(15, 5), bins=30, grid=True)"
   ]
  },
  {
   "cell_type": "code",
   "execution_count": 9,
   "metadata": {},
   "outputs": [
    {
     "data": {
      "text/plain": [
       "5.0     5767\n",
       "9.0     3763\n",
       "16.0    1373\n",
       "12.0    1367\n",
       "4.0     1202\n",
       "10.0    1176\n",
       "25.0    1074\n",
       "6.0      914\n",
       "17.0     833\n",
       "3.0      662\n",
       "7.0      590\n",
       "14.0     553\n",
       "18.0     508\n",
       "24.0     470\n",
       "8.0      397\n",
       "2.0      382\n",
       "15.0     368\n",
       "23.0     353\n",
       "19.0     342\n",
       "22.0     287\n",
       "20.0     273\n",
       "13.0     232\n",
       "11.0     206\n",
       "27.0     164\n",
       "21.0     162\n",
       "26.0     123\n",
       "1.0       28\n",
       "35.0      24\n",
       "28.0      21\n",
       "36.0       2\n",
       "29.0       1\n",
       "60.0       1\n",
       "33.0       1\n",
       "52.0       1\n",
       "34.0       1\n",
       "Name: floors_total, dtype: int64"
      ]
     },
     "execution_count": 9,
     "metadata": {},
     "output_type": "execute_result"
    }
   ],
   "source": [
    "data['floors_total'] = data['floors_total'].fillna(data['floor']) #заполняем данные об общем количестве этажей\n",
    "data['floors_total'].value_counts()"
   ]
  },
  {
   "cell_type": "markdown",
   "metadata": {},
   "source": [
    "Мы видим, что некоторые типы зданий по этажности имеют не более 1-2 записей. Если предполагаем, что на базе исходного датасета необходимо создать расченую модель, нам лучше исключить эти выбросы из таблицы. Самый простой способ - убрать из таблицы все записи, общее количество этажей в которых превышает 35. На текущий момент, мы убрали из датасета 82 записи, что составляется примерно 0,0034% от исходного объема. "
   ]
  },
  {
   "cell_type": "code",
   "execution_count": 10,
   "metadata": {},
   "outputs": [],
   "source": [
    "data.drop(data.loc[data['floors_total'] > 35].index, inplace=True)\n",
    "data = data.reset_index(drop=True)"
   ]
  },
  {
   "cell_type": "markdown",
   "metadata": {},
   "source": [
    "Теперь мы располагаем нормализованными данными по этажности зданий и можем вернуться к заполнению столбца с высотой потолка конкретными значениями (ранее мы заполнили пропуски нулями). Сделаем это на основании предположения о том, что высота потолка напрямую связана с количеством этажей в здании."
   ]
  },
  {
   "cell_type": "code",
   "execution_count": 11,
   "metadata": {},
   "outputs": [],
   "source": [
    "ceiling_height_groups = data.loc[data['ceiling_height'] > 0].groupby('floors_total')['ceiling_height'].median().to_dict()\n",
    "#отбираем значения с ненулевой высотой потолка\n",
    "#делаем из них группировку, куда выводим медианное значения для каждого типа здания по этажности\n",
    "#преобразуем группировку в словарь для присвоения стандартизированной высоты потолка в цикле\n",
    "\n",
    "#функцией заменяем нулевые значения столбца ceiling_height высотами потолка\n",
    "def ceiling_height_normalizer(row):\n",
    "    if row['ceiling_height'] == 0: \n",
    "        if row['floors_total'] in ceiling_height_groups.keys():\n",
    "            row['ceiling_height'] = ceiling_height_groups[row['floors_total']]\n",
    "    return row\n",
    "        \n",
    "data = data.apply(ceiling_height_normalizer, axis=1) #применяем функцию"
   ]
  },
  {
   "cell_type": "code",
   "execution_count": 12,
   "metadata": {},
   "outputs": [
    {
     "data": {
      "text/plain": [
       "1"
      ]
     },
     "metadata": {},
     "output_type": "display_data"
    }
   ],
   "source": [
    "display(len(data.loc[data['ceiling_height'] == 0])) #повторно проверяем, есть ли строки с нулевой высотой потолка\n",
    "#осталось 1 значение. В словаре не было пары для высоты здания в 33 этаже, поэтому мы вручную присвоем строке\n",
    "#значение высоты потолка из ближайшего типа здания - выберем значение в 2.65 метра\n",
    "data.loc[data['ceiling_height'] == 0, 'ceiling_height'] = 2.65"
   ]
  },
  {
   "cell_type": "code",
   "execution_count": 13,
   "metadata": {},
   "outputs": [],
   "source": [
    "data['floors_total'] = data['floors_total'].astype(int) #общее количество этажей в здании не может быть выражено\n",
    "#вещественным числом, поэтому преобразуем его в целое значение"
   ]
  },
  {
   "cell_type": "markdown",
   "metadata": {},
   "source": [
    "В таблице присутствует столбец 'living_area', в котором меньше записей, чем в остальных столбцах. Нам известна общая площадь жилого помешения. Также известно, что значение жилой площади будет отличаться от общей площади жилого помещения, так как санитарные узлы и прочие подобные помещения присутствуют в любой квартире и их площадь не учитывается в качестве жилой, поэтому необходимо понять, как мы произведем заполнение пропусков на базе имеющейся информации. "
   ]
  },
  {
   "cell_type": "code",
   "execution_count": 14,
   "metadata": {},
   "outputs": [
    {
     "data": {
      "text/plain": [
       "0.9377219524355874"
      ]
     },
     "metadata": {},
     "output_type": "display_data"
    },
    {
     "data": {
      "text/plain": [
       "0.8511408013766087"
      ]
     },
     "metadata": {},
     "output_type": "display_data"
    }
   ],
   "source": [
    "#display(data.corr()) #строим матрицу корреляции\n",
    "\n",
    "#для простоты восприятия посчитаем и выведем коэффициент корреляции между для самых заметных значений\n",
    "display(data['living_area'].corr(data['total_area'])) \n",
    "display(data['rooms'].corr(data['living_area']))"
   ]
  },
  {
   "cell_type": "markdown",
   "metadata": {},
   "source": [
    "Корреляция между общей площадью квартиры и жилой площадью довольно очевидна, поэтому попробуем использовать для этого другое значение. Мы видим, что корреляция между количеством комнат и общей площадью составляет 85.1%.\n",
    "\n",
    "Но для начала проанализируем, насколько корректно заполнен значениями столбцы с количеством комнат в квартире и общей площадью квартиры."
   ]
  },
  {
   "cell_type": "code",
   "execution_count": 15,
   "metadata": {},
   "outputs": [
    {
     "data": {
      "text/plain": [
       "count    23617.000000\n",
       "mean         2.068764\n",
       "std          1.076006\n",
       "min          0.000000\n",
       "25%          1.000000\n",
       "50%          2.000000\n",
       "75%          3.000000\n",
       "max         19.000000\n",
       "Name: rooms, dtype: float64"
      ]
     },
     "execution_count": 15,
     "metadata": {},
     "output_type": "execute_result"
    }
   ],
   "source": [
    "data['rooms'].describe()"
   ]
  },
  {
   "cell_type": "code",
   "execution_count": 16,
   "metadata": {},
   "outputs": [
    {
     "data": {
      "text/plain": [
       "count    23617.000000\n",
       "mean        60.182956\n",
       "std         35.044734\n",
       "min         12.000000\n",
       "25%         40.000000\n",
       "50%         52.000000\n",
       "75%         69.700000\n",
       "max        900.000000\n",
       "Name: total_area, dtype: float64"
      ]
     },
     "execution_count": 16,
     "metadata": {},
     "output_type": "execute_result"
    }
   ],
   "source": [
    "data['total_area'].describe()"
   ]
  },
  {
   "cell_type": "markdown",
   "metadata": {},
   "source": [
    "Мы видим, что 75% всех значений в обеих группах близки к \"реальным\" - до 70 квадратных метров и до 3 комнат. Максимальное значение в 900 квадратных метров и 19 комнат требуют проверки - либо это аномалия, либо сегмент жилья класса \"люкс\". \n",
    "\n",
    "Но сначала обратим внимание на минимальное количество комнат равное нулю. Посмотрим, сколько таких значений в таблице и есть ли связь между площадью квартиры и нулевым количеством комнат в ней. Мы видим, что площадь помещения варьируется в диапазоне от 15,5 до 371 квадратных метров. "
   ]
  },
  {
   "cell_type": "code",
   "execution_count": 17,
   "metadata": {},
   "outputs": [
    {
     "data": {
      "text/plain": [
       "195"
      ]
     },
     "metadata": {},
     "output_type": "display_data"
    },
    {
     "data": {
      "text/plain": [
       "count    195.000000\n",
       "mean      29.087744\n",
       "std       25.812455\n",
       "min       15.500000\n",
       "25%       24.025000\n",
       "50%       26.050000\n",
       "75%       28.350000\n",
       "max      371.000000\n",
       "Name: total_area, dtype: float64"
      ]
     },
     "execution_count": 17,
     "metadata": {},
     "output_type": "execute_result"
    }
   ],
   "source": [
    "display(len(data.loc[data['rooms'] == 0])) #количество записей с нулевым количеством комнат в квартире\n",
    "data.loc[data['rooms'] == 0, 'total_area'].describe() "
   ]
  },
  {
   "cell_type": "code",
   "execution_count": 18,
   "metadata": {},
   "outputs": [
    {
     "name": "stdout",
     "output_type": "stream",
     "text": [
      "Средняя площадь 1 комнаты составляет: 31.0 кв.м.\n",
      "Медианная площадь 1 комнаты составляет: 30.0 кв.м.\n"
     ]
    }
   ],
   "source": [
    "data['room_sq'] = data['total_area'] / data['rooms'] #временно формируем столбец, в который запишем среднюю\n",
    "#площадь комнаты в квартире \n",
    "avg_room_sq = data.loc[data['rooms'] != 0, 'room_sq'].mean().round() #среднее по столбцу со средней площади комнаты\n",
    "median_room_sq = data.loc[data['rooms'] != 0, 'room_sq'].median().round() #медиана по столбцу со средней площадью комнаты\n",
    "del data['room_sq']\n",
    "print('Средняя площадь 1 комнаты составляет:', avg_room_sq, 'кв.м.')\n",
    "print('Медианная площадь 1 комнаты составляет:', median_room_sq, 'кв.м.')"
   ]
  },
  {
   "cell_type": "markdown",
   "metadata": {},
   "source": [
    "Среднее и медианное значения близки друг к другу, поэтому принципиальной разницы, какое из них будет использовано для заполнения нулевых значений по количеству комнат нет. Используем 30 квадратных метров для простоты восприятия."
   ]
  },
  {
   "cell_type": "code",
   "execution_count": 19,
   "metadata": {},
   "outputs": [],
   "source": [
    "def rooms_filler(row):\n",
    "    if row['rooms'] == 0: #отбираем строки с нулевым значением\n",
    "        row['rooms'] = math.ceil(row['total_area'] / median_room_sq) #считаем количество комнат и округляем \n",
    "#в большую сторону\n",
    "#чтобы повторно не появились нули для значений менее 30 квадратных метров\n",
    "    return row\n",
    "\n",
    "data = data.apply(rooms_filler, axis=1)"
   ]
  },
  {
   "cell_type": "code",
   "execution_count": 20,
   "metadata": {},
   "outputs": [
    {
     "data": {
      "text/plain": [
       "0"
      ]
     },
     "metadata": {},
     "output_type": "display_data"
    },
    {
     "data": {
      "text/plain": [
       "0.8552992789520346"
      ]
     },
     "metadata": {},
     "output_type": "display_data"
    }
   ],
   "source": [
    "display(len(data.loc[data['rooms'] == 0])) #повторно проверяем данные на нулевое количество комнат\n",
    "display(data['rooms'].corr(data['living_area'])) #повторно проверяем корреляцию"
   ]
  },
  {
   "cell_type": "code",
   "execution_count": 21,
   "metadata": {},
   "outputs": [
    {
     "data": {
      "text/plain": [
       "count    21720.000000\n",
       "mean        34.355145\n",
       "std         21.653523\n",
       "min          2.000000\n",
       "25%         18.600000\n",
       "50%         30.000000\n",
       "75%         42.270000\n",
       "max        409.700000\n",
       "Name: living_area, dtype: float64"
      ]
     },
     "execution_count": 21,
     "metadata": {},
     "output_type": "execute_result"
    }
   ],
   "source": [
    "data['living_area'].describe()"
   ]
  },
  {
   "cell_type": "code",
   "execution_count": 22,
   "metadata": {},
   "outputs": [
    {
     "data": {
      "text/plain": [
       "count    4115.000000\n",
       "mean       15.931638\n",
       "std         1.661715\n",
       "min         2.000000\n",
       "25%        15.075000\n",
       "50%        16.100000\n",
       "75%        17.000000\n",
       "max        17.970000\n",
       "Name: living_area, dtype: float64"
      ]
     },
     "execution_count": 22,
     "metadata": {},
     "output_type": "execute_result"
    }
   ],
   "source": [
    "data.loc[data['living_area'] < 18, 'living_area'].describe()"
   ]
  },
  {
   "cell_type": "code",
   "execution_count": 23,
   "metadata": {},
   "outputs": [
    {
     "data": {
      "text/plain": [
       "count    23617.000000\n",
       "mean        60.182956\n",
       "std         35.044734\n",
       "min         12.000000\n",
       "25%         40.000000\n",
       "50%         52.000000\n",
       "75%         69.700000\n",
       "max        900.000000\n",
       "Name: total_area, dtype: float64"
      ]
     },
     "execution_count": 23,
     "metadata": {},
     "output_type": "execute_result"
    }
   ],
   "source": [
    "data['total_area'].describe()"
   ]
  },
  {
   "cell_type": "code",
   "execution_count": 24,
   "metadata": {},
   "outputs": [],
   "source": [
    "living_area_filled_old = data.loc[data['living_area'] != 0] #в отдельный массив отбираем значения с заполненной жил.площадью\n",
    "living_area_filled_old['living_area_part'] = living_area_filled_old['living_area'] / living_area_filled_old['total_area']\n",
    "#добавляем вычисляемый столбцев с долей жилой площади относительно общей площади\n",
    "\n",
    "room_liv_area_part_groups_old = living_area_filled_old.groupby('rooms')['living_area_part'].mean().to_dict()\n",
    "room_liv_area_part_groups_old[13] = room_liv_area_part_groups_old[11]"
   ]
  },
  {
   "cell_type": "code",
   "execution_count": 25,
   "metadata": {},
   "outputs": [],
   "source": [
    "living_area_filled = data.loc[(data['living_area'] != 0) & (data['living_area'] >= data['living_area'].mean())] #в отдельный массив отбираем значения с заполненной жил.площадью\n",
    "living_area_filled['living_area_part'] = living_area_filled['living_area'] / living_area_filled['total_area']\n",
    "#добавляем вычисляемый столбцев с долей жилой площади относительно общей площади\n",
    "\n",
    "room_liv_area_part_groups = living_area_filled.groupby('rooms')['living_area_part'].mean().to_dict()\n",
    "room_liv_area_part_groups[13] = room_liv_area_part_groups[11]"
   ]
  },
  {
   "cell_type": "code",
   "execution_count": 26,
   "metadata": {},
   "outputs": [],
   "source": [
    "room_liv_area_part_groups_comparison1 = pd.DataFrame.from_dict(room_liv_area_part_groups, orient='index', columns=['rows'])\n",
    "room_liv_area_part_groups_comparison1.reset_index(inplace=True)\n",
    "room_liv_area_part_groups_comparison1.columns=['rooms', 'living_area_part']\n",
    "room_liv_area_part_groups_comparison2 = pd.DataFrame.from_dict(room_liv_area_part_groups_old, orient='index', columns=['rows'])\n",
    "room_liv_area_part_groups_comparison = room_liv_area_part_groups_comparison1.join(room_liv_area_part_groups_comparison2, on='rooms')\n",
    "room_liv_area_part_groups_comparison.columns=['rooms', 'new_liv_area_part', 'old_liv_area_part']"
   ]
  },
  {
   "cell_type": "code",
   "execution_count": 27,
   "metadata": {},
   "outputs": [],
   "source": [
    "living_area_filled = data.loc[(data['living_area'] != 0) & (data['living_area'] >= data['living_area'].mean())] #в отдельный массив отбираем значения с заполненной жил.площадью\n",
    "living_area_filled['living_area_part'] = living_area_filled['living_area'] / living_area_filled['total_area']\n",
    "#добавляем вычисляемый столбцев с долей жилой площади относительно общей площади\n",
    "\n",
    "room_liv_area_part_groups = living_area_filled.groupby('rooms')['living_area_part'].mean().to_dict()\n",
    "room_liv_area_part_groups[13] = room_liv_area_part_groups[11]\n",
    "#формируем словарь с парами количество комнат-доля жилой площади для применения в функции для заполнения \n",
    "#нулевых значений\n",
    "\n",
    "data['living_area'] = data['living_area'].fillna(0) #заполняем незаполненные строки нулями\n",
    "\n",
    "def living_area_filler(row):\n",
    "    if row['living_area'] == 0:\n",
    "        if row['rooms'] in room_liv_area_part_groups.keys():\n",
    "            row['living_area'] = row['total_area'] * room_liv_area_part_groups[row['rooms']]\n",
    "    return row\n",
    "    \n",
    "data = data.apply(living_area_filler, axis=1) #применяем функцию"
   ]
  },
  {
   "cell_type": "markdown",
   "metadata": {},
   "source": [
    "При первоначальном изучении группировки мы видим странный коэффициент жилой площади для квартир с 12 комнатами. Таких записей в таблице 2, поэтому из соображений экономии времени мы удаляем эти две записи из датасета.\n",
    "\n",
    "Также значение количества комнат для единственной 13-комнатной квартиры было получено расчетным путем, поэтому для простоты расчета паре для 13-комнатной квартиры было присвоено значение 11-комнатной квартиры."
   ]
  },
  {
   "cell_type": "code",
   "execution_count": 28,
   "metadata": {},
   "outputs": [],
   "source": [
    "data['living_area'].describe()\n",
    "#display(room_liv_area_part_groups)\n",
    "#len(data.loc[data['rooms'] == 12])  #считаем количество 12комнатных квартир в датасете\n",
    "data.drop(data.loc[data['rooms'] == 12].index, inplace=True)\n",
    "data = data.reset_index(drop=True)"
   ]
  },
  {
   "cell_type": "markdown",
   "metadata": {},
   "source": [
    "Перейдем к анализу и заполнению данных о площади кухни. Можно предположить, что отсутствие данных о кухне равносильно отсутствию кухни в квартире и это возможно (в отличие от нулевого или идентичного общей площади значения жилой площади квартиры). Однако отсутствие отдельной кухни характерно для квартир типа \"студия\", что означает возможное нулевое значение кухни для группы однокомнатных квартир. \n",
    "\n",
    "По этой причине мы можем присвоить нулевую площадь кухни однокомнатным квартирам, а для остального пула необходимо произвести расчет по аналогии с жилой площадью. "
   ]
  },
  {
   "cell_type": "code",
   "execution_count": 29,
   "metadata": {},
   "outputs": [
    {
     "name": "stdout",
     "output_type": "stream",
     "text": [
      "994\n"
     ]
    }
   ],
   "source": [
    "data['kitchen_area'] = data['kitchen_area'].fillna(0) #заполняем все пустые строки нулевыми значениями\n",
    "print(len(data.loc[(data['kitchen_area'] == 0)&(data['rooms'] == 1)])) #считаем количество значений с нулевой\n",
    "#площадью кухни у однокомнатных квартир"
   ]
  },
  {
   "cell_type": "markdown",
   "metadata": {},
   "source": [
    "Однако принудительное присвоение нулевого значения 1000 строк только на основании количества комнат может значительно исказить наши данные, поэтому для заполнения нулевых значений площади кухни в однокомнатных квартирах мы вычислим медианное значение общей площади квартиры и оставим нулевое значение только у тех записей, площадь которых находится ниже второго квартиля. \n",
    "\n",
    "Нижнюю половину также можно классифицировать по количеству этажей - если этажность не превышает 12 этажей, то вероятней всего - эти дома старой постройки и в них также есть отдельная кухня.\n",
    "\n",
    "Также мы в явном виде используем значение в столбце open_plan."
   ]
  },
  {
   "cell_type": "code",
   "execution_count": 30,
   "metadata": {},
   "outputs": [
    {
     "data": {
      "text/html": [
       "<div>\n",
       "<style scoped>\n",
       "    .dataframe tbody tr th:only-of-type {\n",
       "        vertical-align: middle;\n",
       "    }\n",
       "\n",
       "    .dataframe tbody tr th {\n",
       "        vertical-align: top;\n",
       "    }\n",
       "\n",
       "    .dataframe thead tr th {\n",
       "        text-align: left;\n",
       "    }\n",
       "\n",
       "    .dataframe thead tr:last-of-type th {\n",
       "        text-align: right;\n",
       "    }\n",
       "</style>\n",
       "<table border=\"1\" class=\"dataframe\">\n",
       "  <thead>\n",
       "    <tr>\n",
       "      <th></th>\n",
       "      <th colspan=\"2\" halign=\"left\">mean</th>\n",
       "      <th colspan=\"2\" halign=\"left\">median</th>\n",
       "      <th colspan=\"2\" halign=\"left\">min</th>\n",
       "    </tr>\n",
       "    <tr>\n",
       "      <th></th>\n",
       "      <th>kitchen_area</th>\n",
       "      <th>total_area</th>\n",
       "      <th>kitchen_area</th>\n",
       "      <th>total_area</th>\n",
       "      <th>kitchen_area</th>\n",
       "      <th>total_area</th>\n",
       "    </tr>\n",
       "    <tr>\n",
       "      <th>rooms</th>\n",
       "      <th></th>\n",
       "      <th></th>\n",
       "      <th></th>\n",
       "      <th></th>\n",
       "      <th></th>\n",
       "      <th></th>\n",
       "    </tr>\n",
       "  </thead>\n",
       "  <tbody>\n",
       "    <tr>\n",
       "      <td>1</td>\n",
       "      <td>9.551731</td>\n",
       "      <td>37.814807</td>\n",
       "      <td>9.055</td>\n",
       "      <td>36.80</td>\n",
       "      <td>1.3</td>\n",
       "      <td>14.0</td>\n",
       "    </tr>\n",
       "    <tr>\n",
       "      <td>2</td>\n",
       "      <td>9.972598</td>\n",
       "      <td>55.822697</td>\n",
       "      <td>8.715</td>\n",
       "      <td>53.00</td>\n",
       "      <td>2.0</td>\n",
       "      <td>20.0</td>\n",
       "    </tr>\n",
       "    <tr>\n",
       "      <td>3</td>\n",
       "      <td>11.293762</td>\n",
       "      <td>77.615247</td>\n",
       "      <td>9.500</td>\n",
       "      <td>72.80</td>\n",
       "      <td>4.0</td>\n",
       "      <td>40.1</td>\n",
       "    </tr>\n",
       "    <tr>\n",
       "      <td>4</td>\n",
       "      <td>13.669963</td>\n",
       "      <td>107.180102</td>\n",
       "      <td>11.100</td>\n",
       "      <td>99.05</td>\n",
       "      <td>4.8</td>\n",
       "      <td>48.0</td>\n",
       "    </tr>\n",
       "    <tr>\n",
       "      <td>5</td>\n",
       "      <td>17.861714</td>\n",
       "      <td>157.447107</td>\n",
       "      <td>15.000</td>\n",
       "      <td>145.20</td>\n",
       "      <td>5.0</td>\n",
       "      <td>40.0</td>\n",
       "    </tr>\n",
       "    <tr>\n",
       "      <td>6</td>\n",
       "      <td>21.102447</td>\n",
       "      <td>203.628191</td>\n",
       "      <td>19.300</td>\n",
       "      <td>182.85</td>\n",
       "      <td>5.9</td>\n",
       "      <td>87.0</td>\n",
       "    </tr>\n",
       "    <tr>\n",
       "      <td>7</td>\n",
       "      <td>21.938000</td>\n",
       "      <td>255.968000</td>\n",
       "      <td>19.750</td>\n",
       "      <td>210.70</td>\n",
       "      <td>5.0</td>\n",
       "      <td>125.0</td>\n",
       "    </tr>\n",
       "    <tr>\n",
       "      <td>8</td>\n",
       "      <td>24.866667</td>\n",
       "      <td>257.722222</td>\n",
       "      <td>25.000</td>\n",
       "      <td>235.00</td>\n",
       "      <td>5.0</td>\n",
       "      <td>150.0</td>\n",
       "    </tr>\n",
       "    <tr>\n",
       "      <td>9</td>\n",
       "      <td>25.071429</td>\n",
       "      <td>316.114286</td>\n",
       "      <td>14.300</td>\n",
       "      <td>309.70</td>\n",
       "      <td>11.7</td>\n",
       "      <td>249.9</td>\n",
       "    </tr>\n",
       "    <tr>\n",
       "      <td>10</td>\n",
       "      <td>22.866667</td>\n",
       "      <td>259.566667</td>\n",
       "      <td>19.800</td>\n",
       "      <td>272.60</td>\n",
       "      <td>18.8</td>\n",
       "      <td>216.1</td>\n",
       "    </tr>\n",
       "    <tr>\n",
       "      <td>11</td>\n",
       "      <td>12.600000</td>\n",
       "      <td>188.900000</td>\n",
       "      <td>12.600</td>\n",
       "      <td>188.90</td>\n",
       "      <td>11.9</td>\n",
       "      <td>183.7</td>\n",
       "    </tr>\n",
       "    <tr>\n",
       "      <td>14</td>\n",
       "      <td>21.250000</td>\n",
       "      <td>304.200000</td>\n",
       "      <td>21.250</td>\n",
       "      <td>304.20</td>\n",
       "      <td>16.6</td>\n",
       "      <td>245.4</td>\n",
       "    </tr>\n",
       "    <tr>\n",
       "      <td>15</td>\n",
       "      <td>100.000000</td>\n",
       "      <td>590.000000</td>\n",
       "      <td>100.000</td>\n",
       "      <td>590.00</td>\n",
       "      <td>100.0</td>\n",
       "      <td>590.0</td>\n",
       "    </tr>\n",
       "    <tr>\n",
       "      <td>16</td>\n",
       "      <td>13.000000</td>\n",
       "      <td>270.000000</td>\n",
       "      <td>13.000</td>\n",
       "      <td>270.00</td>\n",
       "      <td>13.0</td>\n",
       "      <td>270.0</td>\n",
       "    </tr>\n",
       "    <tr>\n",
       "      <td>19</td>\n",
       "      <td>27.600000</td>\n",
       "      <td>374.600000</td>\n",
       "      <td>27.600</td>\n",
       "      <td>374.60</td>\n",
       "      <td>27.6</td>\n",
       "      <td>374.6</td>\n",
       "    </tr>\n",
       "  </tbody>\n",
       "</table>\n",
       "</div>"
      ],
      "text/plain": [
       "              mean                   median                     min           \n",
       "      kitchen_area  total_area kitchen_area total_area kitchen_area total_area\n",
       "rooms                                                                         \n",
       "1         9.551731   37.814807        9.055      36.80          1.3       14.0\n",
       "2         9.972598   55.822697        8.715      53.00          2.0       20.0\n",
       "3        11.293762   77.615247        9.500      72.80          4.0       40.1\n",
       "4        13.669963  107.180102       11.100      99.05          4.8       48.0\n",
       "5        17.861714  157.447107       15.000     145.20          5.0       40.0\n",
       "6        21.102447  203.628191       19.300     182.85          5.9       87.0\n",
       "7        21.938000  255.968000       19.750     210.70          5.0      125.0\n",
       "8        24.866667  257.722222       25.000     235.00          5.0      150.0\n",
       "9        25.071429  316.114286       14.300     309.70         11.7      249.9\n",
       "10       22.866667  259.566667       19.800     272.60         18.8      216.1\n",
       "11       12.600000  188.900000       12.600     188.90         11.9      183.7\n",
       "14       21.250000  304.200000       21.250     304.20         16.6      245.4\n",
       "15      100.000000  590.000000      100.000     590.00        100.0      590.0\n",
       "16       13.000000  270.000000       13.000     270.00         13.0      270.0\n",
       "19       27.600000  374.600000       27.600     374.60         27.6      374.6"
      ]
     },
     "execution_count": 30,
     "metadata": {},
     "output_type": "execute_result"
    }
   ],
   "source": [
    "#строим сводную таблицу для поиска решения по заполнению пропусков у однокомнатных квартир\n",
    "data.loc[data['kitchen_area'] != 0].pivot_table(index='rooms', values=['kitchen_area', 'total_area'], \\\n",
    "aggfunc=['mean', 'median', 'min']) "
   ]
  },
  {
   "cell_type": "code",
   "execution_count": 31,
   "metadata": {},
   "outputs": [],
   "source": [
    "data['kitchen_area_part'] = data['kitchen_area'] / data['total_area'] #добавляем вычисляемый столбец\n",
    "kitchen_area_part_groups = data.loc[data['kitchen_area'] != 0].\\\n",
    "groupby('rooms')['kitchen_area_part'].mean().to_dict() #делаем список для функции\n",
    "del data['kitchen_area_part'] #удаляем вычисляемый столбец\n",
    "\n",
    "def kitchen_area_filler(row): #функцией заполняем площадь кухни\n",
    "    if row['kitchen_area'] == 0:\n",
    "        if row['rooms'] == 1 and row['floor'] > 12 and row['total_area'] < 36.8 or row['open_plan'] == True: \n",
    "            row['kitchen_area'] = row['kitchen_area']\n",
    "        elif row['rooms'] in kitchen_area_part_groups.keys():\n",
    "            row['kitchen_area'] = row['total_area'] * kitchen_area_part_groups[row['rooms']]\n",
    "        else:\n",
    "            row['kitchen_area'] = row['total_area'] * kitchen_area_part_groups[row['rooms'] + 1]\n",
    "    return row\n",
    "\n",
    "data = data.apply(kitchen_area_filler, axis=1) #применяем функцию"
   ]
  },
  {
   "cell_type": "code",
   "execution_count": 32,
   "metadata": {},
   "outputs": [
    {
     "name": "stdout",
     "output_type": "stream",
     "text": [
      "182\n"
     ]
    }
   ],
   "source": [
    "print(len(data.loc[(data['kitchen_area'] == 0)&(data['rooms'] == 1)]))\n",
    "#в итоге, мы сократили площадь квартир с нулевой площадью с порядка 2000 тысяч строк до 182"
   ]
  },
  {
   "cell_type": "markdown",
   "metadata": {},
   "source": [
    "В качестве следующего шага исправим пропуски в столбце balcony. Так как балкон - довольно существенный параметр, напрямую влияющий на стоимость квартиры и ее привлекательность как объекта недвижимости для некоторых категорий покупателей, пустую строку мы будем расценивать как ноль. Соответственно пропуски в количестве балконов заполним нулями, а также преобразуем значения столбца в целое число. "
   ]
  },
  {
   "cell_type": "code",
   "execution_count": 33,
   "metadata": {},
   "outputs": [
    {
     "data": {
      "text/plain": [
       "0    15229\n",
       "1     4178\n",
       "2     3645\n",
       "5      301\n",
       "4      182\n",
       "3       81\n",
       "Name: balcony, dtype: int64"
      ]
     },
     "execution_count": 33,
     "metadata": {},
     "output_type": "execute_result"
    }
   ],
   "source": [
    "data['balcony'] = data['balcony'].fillna(0).astype(int)\n",
    "data['balcony'].value_counts()"
   ]
  },
  {
   "cell_type": "markdown",
   "metadata": {},
   "source": [
    "Первичное ознакомление со столбцом locality_name"
   ]
  },
  {
   "cell_type": "code",
   "execution_count": 34,
   "metadata": {},
   "outputs": [
    {
     "data": {
      "text/plain": [
       "363"
      ]
     },
     "metadata": {},
     "output_type": "display_data"
    }
   ],
   "source": [
    "display(len(data['locality_name'].value_counts()))\n",
    "data['locality_name'] = data['locality_name'].fillna('Не указано')\n",
    "data = data.reset_index(drop=True)"
   ]
  },
  {
   "cell_type": "markdown",
   "metadata": {},
   "source": [
    "При помощи нескольких итераций визуальной оценки семплов дета сета по столбцу locality_name, удалось определить наиболее распространенные избыточно длинные или немного различные значения (количество уникальных значений по столбцу сократилось на 7). "
   ]
  },
  {
   "cell_type": "code",
   "execution_count": 35,
   "metadata": {},
   "outputs": [],
   "source": [
    "def locality_adjustment(row):\n",
    "    if 'посёлок' in row['locality_name']:\n",
    "        row['locality_name'] = row['locality_name'].replace('посёлок', 'п.')\n",
    "    elif 'поселок' in row['locality_name']:\n",
    "        row['locality_name'] = row['locality_name'].replace('поселок', 'п.')\n",
    "    elif 'садоводческое некоммерческое товарищество' in row['locality_name']:\n",
    "        row['locality_name'] = row['locality_name'].replace('садоводческое некоммерческое товарищество', 'снт')\n",
    "    elif 'садовое товарищество' in row['locality_name']:\n",
    "        row['locality_name'] = row['locality_name'].replace('садовое товарищество', 'снт')\n",
    "    elif 'городской поселок' in row['locality_name']:\n",
    "        row['locality_name'] = row['locality_name'].replace('городской поселок', 'пгт')\n",
    "    elif 'поселок городского типа' in row['locality_name']:\n",
    "        row['locality_name'] = row['locality_name'].replace('поселок городского типа', 'пгт')\n",
    "    elif 'деревня' in row['locality_name']:\n",
    "        row['locality_name'] = row['locality_name'].replace('деревня', 'д.')\n",
    "    return row\n",
    "\n",
    "data = data.apply(locality_adjustment, axis=1)"
   ]
  },
  {
   "cell_type": "markdown",
   "metadata": {},
   "source": [
    "После произведенных манипуляций, мы видим, что данными заполнены почти все столбцы. Исключение - столбцы с расстояними до ближайших важных инфраструктурных объектов, но к анализу данных приступить можно уже сейчас. Однако перед этим имеет смысл произвести преобразование данных ряда столбцов из формата вещественных чисел в целые.\n",
    "\n",
    "Во-первых, наличие данных о копейках в цене квартиры не имеет определяющего значения для исследования;\n",
    "\n",
    "Во-вторых, столбцы с площадями также не требуют такой точности."
   ]
  },
  {
   "cell_type": "code",
   "execution_count": 36,
   "metadata": {},
   "outputs": [],
   "source": [
    "data['last_price'], data['total_area'], data['living_area'], data['kitchen_area'] = \\\n",
    "data['last_price'].astype(int), data['total_area'].astype(int), data['living_area'].astype(int),\\\n",
    "data['kitchen_area'].astype(int), "
   ]
  },
  {
   "cell_type": "code",
   "execution_count": 37,
   "metadata": {},
   "outputs": [
    {
     "data": {
      "text/html": [
       "<div>\n",
       "<style scoped>\n",
       "    .dataframe tbody tr th:only-of-type {\n",
       "        vertical-align: middle;\n",
       "    }\n",
       "\n",
       "    .dataframe tbody tr th {\n",
       "        vertical-align: top;\n",
       "    }\n",
       "\n",
       "    .dataframe thead th {\n",
       "        text-align: right;\n",
       "    }\n",
       "</style>\n",
       "<table border=\"1\" class=\"dataframe\">\n",
       "  <thead>\n",
       "    <tr style=\"text-align: right;\">\n",
       "      <th></th>\n",
       "      <th>total_images</th>\n",
       "      <th>last_price</th>\n",
       "      <th>total_area</th>\n",
       "      <th>first_day_exposition</th>\n",
       "      <th>rooms</th>\n",
       "      <th>ceiling_height</th>\n",
       "      <th>floors_total</th>\n",
       "      <th>living_area</th>\n",
       "      <th>floor</th>\n",
       "      <th>is_apartment</th>\n",
       "      <th>...</th>\n",
       "      <th>kitchen_area</th>\n",
       "      <th>balcony</th>\n",
       "      <th>locality_name</th>\n",
       "      <th>airports_nearest</th>\n",
       "      <th>cityCenters_nearest</th>\n",
       "      <th>parks_around3000</th>\n",
       "      <th>parks_nearest</th>\n",
       "      <th>ponds_around3000</th>\n",
       "      <th>ponds_nearest</th>\n",
       "      <th>days_exposition</th>\n",
       "    </tr>\n",
       "  </thead>\n",
       "  <tbody>\n",
       "    <tr>\n",
       "      <td>21823</td>\n",
       "      <td>2</td>\n",
       "      <td>5886750</td>\n",
       "      <td>83</td>\n",
       "      <td>2018-07-30</td>\n",
       "      <td>2</td>\n",
       "      <td>2.55</td>\n",
       "      <td>9</td>\n",
       "      <td>36</td>\n",
       "      <td>2</td>\n",
       "      <td>False</td>\n",
       "      <td>...</td>\n",
       "      <td>29</td>\n",
       "      <td>0</td>\n",
       "      <td>Не указано</td>\n",
       "      <td>NaN</td>\n",
       "      <td>NaN</td>\n",
       "      <td>NaN</td>\n",
       "      <td>NaN</td>\n",
       "      <td>NaN</td>\n",
       "      <td>NaN</td>\n",
       "      <td>169.0</td>\n",
       "    </tr>\n",
       "    <tr>\n",
       "      <td>13808</td>\n",
       "      <td>19</td>\n",
       "      <td>6550000</td>\n",
       "      <td>55</td>\n",
       "      <td>2019-04-22</td>\n",
       "      <td>2</td>\n",
       "      <td>2.50</td>\n",
       "      <td>9</td>\n",
       "      <td>32</td>\n",
       "      <td>3</td>\n",
       "      <td>False</td>\n",
       "      <td>...</td>\n",
       "      <td>11</td>\n",
       "      <td>0</td>\n",
       "      <td>Санкт-Петербург</td>\n",
       "      <td>29638.0</td>\n",
       "      <td>13663.0</td>\n",
       "      <td>0.0</td>\n",
       "      <td>NaN</td>\n",
       "      <td>1.0</td>\n",
       "      <td>842.0</td>\n",
       "      <td>NaN</td>\n",
       "    </tr>\n",
       "    <tr>\n",
       "      <td>14569</td>\n",
       "      <td>8</td>\n",
       "      <td>3770000</td>\n",
       "      <td>45</td>\n",
       "      <td>2019-03-20</td>\n",
       "      <td>2</td>\n",
       "      <td>2.55</td>\n",
       "      <td>9</td>\n",
       "      <td>28</td>\n",
       "      <td>2</td>\n",
       "      <td>False</td>\n",
       "      <td>...</td>\n",
       "      <td>6</td>\n",
       "      <td>0</td>\n",
       "      <td>Санкт-Петербург</td>\n",
       "      <td>43932.0</td>\n",
       "      <td>16436.0</td>\n",
       "      <td>1.0</td>\n",
       "      <td>1.0</td>\n",
       "      <td>0.0</td>\n",
       "      <td>NaN</td>\n",
       "      <td>42.0</td>\n",
       "    </tr>\n",
       "    <tr>\n",
       "      <td>2833</td>\n",
       "      <td>2</td>\n",
       "      <td>2200000</td>\n",
       "      <td>40</td>\n",
       "      <td>2018-11-21</td>\n",
       "      <td>1</td>\n",
       "      <td>2.80</td>\n",
       "      <td>3</td>\n",
       "      <td>16</td>\n",
       "      <td>2</td>\n",
       "      <td>False</td>\n",
       "      <td>...</td>\n",
       "      <td>15</td>\n",
       "      <td>0</td>\n",
       "      <td>п. Романовка</td>\n",
       "      <td>NaN</td>\n",
       "      <td>NaN</td>\n",
       "      <td>NaN</td>\n",
       "      <td>NaN</td>\n",
       "      <td>NaN</td>\n",
       "      <td>NaN</td>\n",
       "      <td>27.0</td>\n",
       "    </tr>\n",
       "    <tr>\n",
       "      <td>5401</td>\n",
       "      <td>0</td>\n",
       "      <td>3300000</td>\n",
       "      <td>38</td>\n",
       "      <td>2018-09-07</td>\n",
       "      <td>1</td>\n",
       "      <td>2.50</td>\n",
       "      <td>9</td>\n",
       "      <td>18</td>\n",
       "      <td>3</td>\n",
       "      <td>False</td>\n",
       "      <td>...</td>\n",
       "      <td>8</td>\n",
       "      <td>0</td>\n",
       "      <td>Санкт-Петербург</td>\n",
       "      <td>15683.0</td>\n",
       "      <td>14479.0</td>\n",
       "      <td>2.0</td>\n",
       "      <td>594.0</td>\n",
       "      <td>1.0</td>\n",
       "      <td>410.0</td>\n",
       "      <td>8.0</td>\n",
       "    </tr>\n",
       "    <tr>\n",
       "      <td>14036</td>\n",
       "      <td>8</td>\n",
       "      <td>51000000</td>\n",
       "      <td>402</td>\n",
       "      <td>2017-02-07</td>\n",
       "      <td>6</td>\n",
       "      <td>3.15</td>\n",
       "      <td>8</td>\n",
       "      <td>300</td>\n",
       "      <td>6</td>\n",
       "      <td>False</td>\n",
       "      <td>...</td>\n",
       "      <td>56</td>\n",
       "      <td>2</td>\n",
       "      <td>Санкт-Петербург</td>\n",
       "      <td>24484.0</td>\n",
       "      <td>5052.0</td>\n",
       "      <td>1.0</td>\n",
       "      <td>253.0</td>\n",
       "      <td>0.0</td>\n",
       "      <td>NaN</td>\n",
       "      <td>32.0</td>\n",
       "    </tr>\n",
       "    <tr>\n",
       "      <td>1202</td>\n",
       "      <td>0</td>\n",
       "      <td>6700000</td>\n",
       "      <td>67</td>\n",
       "      <td>2016-05-19</td>\n",
       "      <td>2</td>\n",
       "      <td>2.70</td>\n",
       "      <td>18</td>\n",
       "      <td>38</td>\n",
       "      <td>6</td>\n",
       "      <td>False</td>\n",
       "      <td>...</td>\n",
       "      <td>11</td>\n",
       "      <td>0</td>\n",
       "      <td>Санкт-Петербург</td>\n",
       "      <td>33623.0</td>\n",
       "      <td>14722.0</td>\n",
       "      <td>0.0</td>\n",
       "      <td>NaN</td>\n",
       "      <td>1.0</td>\n",
       "      <td>506.0</td>\n",
       "      <td>53.0</td>\n",
       "    </tr>\n",
       "    <tr>\n",
       "      <td>1920</td>\n",
       "      <td>15</td>\n",
       "      <td>6300000</td>\n",
       "      <td>60</td>\n",
       "      <td>2017-05-10</td>\n",
       "      <td>2</td>\n",
       "      <td>2.78</td>\n",
       "      <td>17</td>\n",
       "      <td>31</td>\n",
       "      <td>11</td>\n",
       "      <td>False</td>\n",
       "      <td>...</td>\n",
       "      <td>13</td>\n",
       "      <td>1</td>\n",
       "      <td>Санкт-Петербург</td>\n",
       "      <td>17101.0</td>\n",
       "      <td>17110.0</td>\n",
       "      <td>0.0</td>\n",
       "      <td>NaN</td>\n",
       "      <td>0.0</td>\n",
       "      <td>NaN</td>\n",
       "      <td>55.0</td>\n",
       "    </tr>\n",
       "    <tr>\n",
       "      <td>6724</td>\n",
       "      <td>12</td>\n",
       "      <td>11500000</td>\n",
       "      <td>89</td>\n",
       "      <td>2018-11-04</td>\n",
       "      <td>3</td>\n",
       "      <td>3.00</td>\n",
       "      <td>6</td>\n",
       "      <td>48</td>\n",
       "      <td>2</td>\n",
       "      <td>False</td>\n",
       "      <td>...</td>\n",
       "      <td>7</td>\n",
       "      <td>0</td>\n",
       "      <td>Санкт-Петербург</td>\n",
       "      <td>12729.0</td>\n",
       "      <td>7889.0</td>\n",
       "      <td>1.0</td>\n",
       "      <td>437.0</td>\n",
       "      <td>3.0</td>\n",
       "      <td>535.0</td>\n",
       "      <td>NaN</td>\n",
       "    </tr>\n",
       "    <tr>\n",
       "      <td>18408</td>\n",
       "      <td>8</td>\n",
       "      <td>6500000</td>\n",
       "      <td>66</td>\n",
       "      <td>2016-06-01</td>\n",
       "      <td>2</td>\n",
       "      <td>2.60</td>\n",
       "      <td>10</td>\n",
       "      <td>30</td>\n",
       "      <td>10</td>\n",
       "      <td>False</td>\n",
       "      <td>...</td>\n",
       "      <td>14</td>\n",
       "      <td>2</td>\n",
       "      <td>Санкт-Петербург</td>\n",
       "      <td>38802.0</td>\n",
       "      <td>12499.0</td>\n",
       "      <td>1.0</td>\n",
       "      <td>646.0</td>\n",
       "      <td>0.0</td>\n",
       "      <td>NaN</td>\n",
       "      <td>96.0</td>\n",
       "    </tr>\n",
       "  </tbody>\n",
       "</table>\n",
       "<p>10 rows × 22 columns</p>\n",
       "</div>"
      ],
      "text/plain": [
       "       total_images  last_price  total_area first_day_exposition  rooms  \\\n",
       "21823             2     5886750          83           2018-07-30      2   \n",
       "13808            19     6550000          55           2019-04-22      2   \n",
       "14569             8     3770000          45           2019-03-20      2   \n",
       "2833              2     2200000          40           2018-11-21      1   \n",
       "5401              0     3300000          38           2018-09-07      1   \n",
       "14036             8    51000000         402           2017-02-07      6   \n",
       "1202              0     6700000          67           2016-05-19      2   \n",
       "1920             15     6300000          60           2017-05-10      2   \n",
       "6724             12    11500000          89           2018-11-04      3   \n",
       "18408             8     6500000          66           2016-06-01      2   \n",
       "\n",
       "       ceiling_height  floors_total  living_area  floor  is_apartment  ...  \\\n",
       "21823            2.55             9           36      2         False  ...   \n",
       "13808            2.50             9           32      3         False  ...   \n",
       "14569            2.55             9           28      2         False  ...   \n",
       "2833             2.80             3           16      2         False  ...   \n",
       "5401             2.50             9           18      3         False  ...   \n",
       "14036            3.15             8          300      6         False  ...   \n",
       "1202             2.70            18           38      6         False  ...   \n",
       "1920             2.78            17           31     11         False  ...   \n",
       "6724             3.00             6           48      2         False  ...   \n",
       "18408            2.60            10           30     10         False  ...   \n",
       "\n",
       "       kitchen_area  balcony    locality_name  airports_nearest  \\\n",
       "21823            29        0       Не указано               NaN   \n",
       "13808            11        0  Санкт-Петербург           29638.0   \n",
       "14569             6        0  Санкт-Петербург           43932.0   \n",
       "2833             15        0     п. Романовка               NaN   \n",
       "5401              8        0  Санкт-Петербург           15683.0   \n",
       "14036            56        2  Санкт-Петербург           24484.0   \n",
       "1202             11        0  Санкт-Петербург           33623.0   \n",
       "1920             13        1  Санкт-Петербург           17101.0   \n",
       "6724              7        0  Санкт-Петербург           12729.0   \n",
       "18408            14        2  Санкт-Петербург           38802.0   \n",
       "\n",
       "      cityCenters_nearest  parks_around3000  parks_nearest  ponds_around3000  \\\n",
       "21823                 NaN               NaN            NaN               NaN   \n",
       "13808             13663.0               0.0            NaN               1.0   \n",
       "14569             16436.0               1.0            1.0               0.0   \n",
       "2833                  NaN               NaN            NaN               NaN   \n",
       "5401              14479.0               2.0          594.0               1.0   \n",
       "14036              5052.0               1.0          253.0               0.0   \n",
       "1202              14722.0               0.0            NaN               1.0   \n",
       "1920              17110.0               0.0            NaN               0.0   \n",
       "6724               7889.0               1.0          437.0               3.0   \n",
       "18408             12499.0               1.0          646.0               0.0   \n",
       "\n",
       "       ponds_nearest  days_exposition  \n",
       "21823            NaN            169.0  \n",
       "13808          842.0              NaN  \n",
       "14569            NaN             42.0  \n",
       "2833             NaN             27.0  \n",
       "5401           410.0              8.0  \n",
       "14036            NaN             32.0  \n",
       "1202           506.0             53.0  \n",
       "1920             NaN             55.0  \n",
       "6724           535.0              NaN  \n",
       "18408            NaN             96.0  \n",
       "\n",
       "[10 rows x 22 columns]"
      ]
     },
     "execution_count": 37,
     "metadata": {},
     "output_type": "execute_result"
    }
   ],
   "source": [
    "data.sample(10)"
   ]
  },
  {
   "cell_type": "markdown",
   "metadata": {},
   "source": [
    "Также в срезе присутствуют столбцы, указывающие на количество определенных инфраструктурных объектов:\n",
    "\n",
    "1. parks_around3000\n",
    "2. ponds_around3000\n",
    "\n",
    "Значения в этих столбцах также необходимо преобразовать в целые числа, но в данных есть пропуски. Однако следует понимать, что без анализа географического положения каждого объекта недвижимости мы не можем заполнить пропуски какими-то значениями отличными от нуля = мы считаем, что пропуск равносилен отсутствию указанных объектов на заданном расстоянии от объекта недвижимости.\n",
    "\n",
    "Также мы можем предположить, что для указанных строк мы можем заполнить нулями столбцы с расстоянием до ближайших парков или прудов."
   ]
  },
  {
   "cell_type": "code",
   "execution_count": 38,
   "metadata": {},
   "outputs": [
    {
     "data": {
      "text/plain": [
       "5503"
      ]
     },
     "metadata": {},
     "output_type": "display_data"
    }
   ],
   "source": [
    "display(len(data.loc[data['parks_around3000'].isnull()])) #5503 строки с NaN в количестве парков поблизости\n",
    "data['parks_around3000'] = data['parks_around3000'].fillna(0) #заполняем NaN нулями\n",
    "\n",
    "#display(data.loc[(data['parks_around3000'] == 0) & (data['parks_nearest'] > 0)]) \n",
    "#проверяем, у скольких парков после заполнения пропусков есть информация в колонке с расстоянием до ближайшего парка\n",
    "#и видим, что такие есть, но\n",
    "#все парки действительно далее 3 км от объекта недвижимости\n",
    "\n",
    "#display(data.loc[(data['parks_around3000'] == 0) & (data['parks_nearest'].isnull())])\n",
    "#проверяем, у скольких парков с нулевым количеством в округе ближайших 3 км пропуск в расстоянии - таких более 15 тысяч\n",
    "\n",
    "data['parks_nearest'] = data['parks_nearest'].fillna(0) #заполняем пропуски в ближайших парках"
   ]
  },
  {
   "cell_type": "markdown",
   "metadata": {},
   "source": [
    "Проводим аналогичную процедуру для водоемов:"
   ]
  },
  {
   "cell_type": "code",
   "execution_count": 39,
   "metadata": {},
   "outputs": [
    {
     "data": {
      "text/plain": [
       "5503"
      ]
     },
     "metadata": {},
     "output_type": "display_data"
    }
   ],
   "source": [
    "display(len(data.loc[data['ponds_around3000'].isnull()])) #аналогичные 5503 NaN-строк для прудов поблизости\n",
    "#Можно предположить, что это те же объекты, что и в случае с парками. \n",
    "\n",
    "data['ponds_around3000'] = data['ponds_around3000'].fillna(0) #заполняем NaN нулями\n",
    "\n",
    "#display(data.loc[(data['ponds_around3000'] == 0) & (data['ponds_nearest'] > 0)]) \n",
    "#однако мы видим, что количество строк, где количество ближайших водоемов равно нулю, но есть данные о расстоянии\n",
    "#до ближайшего водоема равно 0\n",
    "\n",
    "#display(data.loc[(data['ponds_around3000'] == 0) & (data['ponds_nearest'].isnull())])\n",
    "#похожая ситуация: 14.5 тысяч строк с пропуском в расстоянии до пруда. Заполним эти пропуски, чтобы работа с данными\n",
    "#была проще\n",
    "\n",
    "data['ponds_nearest'] = data['ponds_nearest'].fillna(0) #заполняем пропуски"
   ]
  },
  {
   "cell_type": "code",
   "execution_count": 40,
   "metadata": {},
   "outputs": [],
   "source": [
    "data['parks_around3000'], data['ponds_around3000'], data['parks_nearest'], data['ponds_nearest'] = \\\n",
    "data['parks_around3000'].astype(int), data['ponds_around3000'].astype(int), data['parks_nearest'].astype(int),\\\n",
    "data['ponds_nearest'].astype(int)\n",
    "#преобразуем тип данных в обработанных столбцах к целом числу для простоты обработки\n",
    "#избыточная точность в десятых метров нам не нужна, а количество объектов может измеряться только целыми числами"
   ]
  },
  {
   "cell_type": "markdown",
   "metadata": {},
   "source": [
    "Также мы можем преобразовать столбец с количеством дней до снятия объявления. \n",
    "\n",
    "Если бы строки в датасете не были двухлетней давности, то в качестве количества дней можно было бы использовать вычисляемое значение - разность между текущей датой и датой размещения. Однако в указанных условиях сделать это невозможно, так как избыточно большие цифры исказят данные, поэтому нам проще заполнить пропуски в данных нулями для однородности и полноты данных."
   ]
  },
  {
   "cell_type": "code",
   "execution_count": 41,
   "metadata": {},
   "outputs": [],
   "source": [
    "len(data.loc[data['days_exposition'] == 0])\n",
    "#мы видим, что количество строк с нулевой дельтой между размещением и снятие равно нулю\n",
    "#поэтому нулевое значение, которым мы заполним пропуски, будет также выступать маркером этой особенности нашего датасета\n",
    "\n",
    "data['days_exposition'] = data['days_exposition'].fillna(0).astype(int)"
   ]
  },
  {
   "cell_type": "markdown",
   "metadata": {},
   "source": [
    "Руководствуясь похожей логикой, мы заполним пропуски в расстояниях до ближайшего аэропорта и центра города нулями. Предположительно, пропуски в этих значениях говорят о локации объекта недвижимости в области, где расстояние до аэропорта, например, не принципиально, так как оно во всех случаях не сможет выступать в качестве преимущества. \n",
    "\n",
    "Кроме того, расстояние расстояние до аэропорта или центра города предполагает, что перемещение в эту локацию будет происходить с использованием какого-то вида транспорта, поэтому для простоты и наглядности результатов потенциального анализа метрики мы пересчитаем расстояние в километры с точностью до 1 знака после запятой. "
   ]
  },
  {
   "cell_type": "code",
   "execution_count": 42,
   "metadata": {},
   "outputs": [
    {
     "name": "stdout",
     "output_type": "stream",
     "text": [
      "<class 'pandas.core.frame.DataFrame'>\n",
      "RangeIndex: 23616 entries, 0 to 23615\n",
      "Data columns (total 22 columns):\n",
      "total_images            23616 non-null int64\n",
      "last_price              23616 non-null int64\n",
      "total_area              23616 non-null int64\n",
      "first_day_exposition    23616 non-null datetime64[ns]\n",
      "rooms                   23616 non-null int64\n",
      "ceiling_height          23616 non-null float64\n",
      "floors_total            23616 non-null int64\n",
      "living_area             23616 non-null int64\n",
      "floor                   23616 non-null int64\n",
      "is_apartment            23616 non-null bool\n",
      "studio                  23616 non-null bool\n",
      "open_plan               23616 non-null bool\n",
      "kitchen_area            23616 non-null int64\n",
      "balcony                 23616 non-null int64\n",
      "locality_name           23616 non-null object\n",
      "airports_nearest        23616 non-null float64\n",
      "cityCenters_nearest     18112 non-null float64\n",
      "parks_around3000        23616 non-null int64\n",
      "parks_nearest           23616 non-null int64\n",
      "ponds_around3000        23616 non-null int64\n",
      "ponds_nearest           23616 non-null int64\n",
      "days_exposition         23616 non-null int64\n",
      "dtypes: bool(3), datetime64[ns](1), float64(3), int64(14), object(1)\n",
      "memory usage: 3.5+ MB\n"
     ]
    }
   ],
   "source": [
    "data['airports_nearest'] = round(data['airports_nearest'].fillna(0) / 1000, 1)\n",
    "#data['cityCenters_nearest'] = data['cityCenters_nearest'].fillna('Нет данных')\n",
    "data.info()"
   ]
  },
  {
   "cell_type": "markdown",
   "metadata": {},
   "source": [
    "### Вывод"
   ]
  },
  {
   "cell_type": "markdown",
   "metadata": {},
   "source": [
    "Мы преобразовали итоговый датафрейм, заполнив пропуски. Для заполнения ряда столбцов были предложены алгоритмы, учитывающие дополнительные характеристики (в частности, заполнение пропусков в площадях). К сожалению, по ряду столбцов заполнение было произведено нулевыми значениями в силу отсутствия других адекватных методов - при анализе таких метрик (например, времени жизни объявления на сайте), придется использовать более узкую выборку."
   ]
  },
  {
   "cell_type": "markdown",
   "metadata": {},
   "source": [
    "### Шаг 3. Посчитайте и добавьте в таблицу"
   ]
  },
  {
   "cell_type": "code",
   "execution_count": 43,
   "metadata": {},
   "outputs": [],
   "source": [
    "#считаем стоимость 1 квадратного метра жилой площади и одновременно меняем тип полученных данных на целое число\n",
    "data['price_per_sqm'] = (data['last_price'] / data['total_area']).astype(int)\n",
    "\n",
    "#из ранее преобразованной даты получаем день недели, в которые объявление впервые было опубликовано\n",
    "data['weekday_published'] = pd.to_datetime(data['first_day_exposition']).dt.dayofweek\n",
    "\n",
    "#функция определит группу объекта недвижимости по этажности\n",
    "def floor_gr_identifier(row):\n",
    "    if row['floor'] == 1:\n",
    "        row['floor_quality'] = 'Первый этаж'\n",
    "    elif row['floors_total'] - row['floor'] == 0:\n",
    "        row['floor_quality'] = 'Последний этаж'\n",
    "    else:\n",
    "        row['floor_quality'] = 'Другой'\n",
    "    return row\n",
    "\n",
    "data = data.apply(floor_gr_identifier, axis=1) #используем написанную функцию"
   ]
  },
  {
   "cell_type": "code",
   "execution_count": 44,
   "metadata": {},
   "outputs": [],
   "source": [
    "#считаем долю жилой площади и площади кухни относительно общей площади объектов недвижимости\n",
    "data['living_area_part'] = round(data['living_area'] / data['total_area'], 2)\n",
    "data['kitchen_area_part'] = round(data['kitchen_area'] / data['total_area'], 2)"
   ]
  },
  {
   "cell_type": "markdown",
   "metadata": {},
   "source": [
    "### Шаг 4. Проведите исследовательский анализ данных и выполните инструкции:"
   ]
  },
  {
   "cell_type": "markdown",
   "metadata": {},
   "source": [
    "<p style=\"font-size:20px\">4.1 Анализ площади</p>  "
   ]
  },
  {
   "cell_type": "code",
   "execution_count": 45,
   "metadata": {},
   "outputs": [
    {
     "data": {
      "text/plain": [
       "count    23616.000000\n",
       "mean        59.918953\n",
       "std         34.627969\n",
       "min         12.000000\n",
       "25%         40.000000\n",
       "50%         52.000000\n",
       "75%         69.000000\n",
       "max        631.000000\n",
       "Name: total_area, dtype: float64"
      ]
     },
     "execution_count": 45,
     "metadata": {},
     "output_type": "execute_result"
    }
   ],
   "source": [
    "data['total_area'].describe()"
   ]
  },
  {
   "cell_type": "markdown",
   "metadata": {},
   "source": [
    "При помощи метода describe мы можем оценить, как распределяются площади квартир из нашего среза. В среднем, площадь квартиры из объявления почти 60 квадратных метров. Медианное значение, конечно, немного ниже - 52 метра, но все равно эта цифра положительно характеризует ситуацию с площадью квартиры на рынке недвижимости. Однако мы видим, что с двух \"концов\" среза есть как ультрабюджетное жилье (в случае 12 квадратных метров нельзя быть полностью уверенным, что это отдельная квартира), так и жилье сегмента люкс (максимальное значение среза - 631 квадратный метр).\n",
    "\n",
    "В зависимости от поставленных задач, возможно, будет иметь смысл исключение определенных групп из выборки для снижения размаха в данных.\n",
    "\n",
    "Для наглядности, посмотрим на данные в трех разрезах, сгруппировав их по количеству комнат."
   ]
  },
  {
   "cell_type": "code",
   "execution_count": 46,
   "metadata": {},
   "outputs": [
    {
     "data": {
      "text/html": [
       "<div>\n",
       "<style scoped>\n",
       "    .dataframe tbody tr th:only-of-type {\n",
       "        vertical-align: middle;\n",
       "    }\n",
       "\n",
       "    .dataframe tbody tr th {\n",
       "        vertical-align: top;\n",
       "    }\n",
       "\n",
       "    .dataframe thead tr th {\n",
       "        text-align: left;\n",
       "    }\n",
       "\n",
       "    .dataframe thead tr:last-of-type th {\n",
       "        text-align: right;\n",
       "    }\n",
       "</style>\n",
       "<table border=\"1\" class=\"dataframe\">\n",
       "  <thead>\n",
       "    <tr>\n",
       "      <th></th>\n",
       "      <th colspan=\"3\" halign=\"left\">median</th>\n",
       "      <th colspan=\"3\" halign=\"left\">mean</th>\n",
       "      <th colspan=\"3\" halign=\"left\">max</th>\n",
       "    </tr>\n",
       "    <tr>\n",
       "      <th></th>\n",
       "      <th>kitchen_area</th>\n",
       "      <th>living_area</th>\n",
       "      <th>total_area</th>\n",
       "      <th>kitchen_area</th>\n",
       "      <th>living_area</th>\n",
       "      <th>total_area</th>\n",
       "      <th>kitchen_area</th>\n",
       "      <th>living_area</th>\n",
       "      <th>total_area</th>\n",
       "    </tr>\n",
       "    <tr>\n",
       "      <th>rooms</th>\n",
       "      <th></th>\n",
       "      <th></th>\n",
       "      <th></th>\n",
       "      <th></th>\n",
       "      <th></th>\n",
       "      <th></th>\n",
       "      <th></th>\n",
       "      <th></th>\n",
       "      <th></th>\n",
       "    </tr>\n",
       "  </thead>\n",
       "  <tbody>\n",
       "    <tr>\n",
       "      <td>1</td>\n",
       "      <td>9.0</td>\n",
       "      <td>17.0</td>\n",
       "      <td>36.0</td>\n",
       "      <td>9.000488</td>\n",
       "      <td>18.261841</td>\n",
       "      <td>37.159302</td>\n",
       "      <td>123</td>\n",
       "      <td>324</td>\n",
       "      <td>494</td>\n",
       "    </tr>\n",
       "    <tr>\n",
       "      <td>2</td>\n",
       "      <td>8.0</td>\n",
       "      <td>30.0</td>\n",
       "      <td>53.0</td>\n",
       "      <td>9.665785</td>\n",
       "      <td>31.530841</td>\n",
       "      <td>55.532226</td>\n",
       "      <td>93</td>\n",
       "      <td>113</td>\n",
       "      <td>196</td>\n",
       "    </tr>\n",
       "    <tr>\n",
       "      <td>3</td>\n",
       "      <td>9.0</td>\n",
       "      <td>45.0</td>\n",
       "      <td>72.0</td>\n",
       "      <td>11.010356</td>\n",
       "      <td>47.370901</td>\n",
       "      <td>77.460822</td>\n",
       "      <td>107</td>\n",
       "      <td>227</td>\n",
       "      <td>363</td>\n",
       "    </tr>\n",
       "    <tr>\n",
       "      <td>4</td>\n",
       "      <td>11.0</td>\n",
       "      <td>64.0</td>\n",
       "      <td>99.0</td>\n",
       "      <td>13.401869</td>\n",
       "      <td>67.389125</td>\n",
       "      <td>107.334749</td>\n",
       "      <td>77</td>\n",
       "      <td>323</td>\n",
       "      <td>500</td>\n",
       "    </tr>\n",
       "    <tr>\n",
       "      <td>5</td>\n",
       "      <td>15.0</td>\n",
       "      <td>91.0</td>\n",
       "      <td>145.0</td>\n",
       "      <td>17.498433</td>\n",
       "      <td>98.507837</td>\n",
       "      <td>157.003135</td>\n",
       "      <td>66</td>\n",
       "      <td>272</td>\n",
       "      <td>488</td>\n",
       "    </tr>\n",
       "    <tr>\n",
       "      <td>6</td>\n",
       "      <td>19.0</td>\n",
       "      <td>123.0</td>\n",
       "      <td>183.5</td>\n",
       "      <td>20.578431</td>\n",
       "      <td>131.529412</td>\n",
       "      <td>200.696078</td>\n",
       "      <td>56</td>\n",
       "      <td>334</td>\n",
       "      <td>500</td>\n",
       "    </tr>\n",
       "    <tr>\n",
       "      <td>7</td>\n",
       "      <td>20.0</td>\n",
       "      <td>145.0</td>\n",
       "      <td>213.0</td>\n",
       "      <td>22.368421</td>\n",
       "      <td>166.105263</td>\n",
       "      <td>260.877193</td>\n",
       "      <td>70</td>\n",
       "      <td>414</td>\n",
       "      <td>631</td>\n",
       "    </tr>\n",
       "    <tr>\n",
       "      <td>8</td>\n",
       "      <td>24.0</td>\n",
       "      <td>161.0</td>\n",
       "      <td>235.5</td>\n",
       "      <td>24.500000</td>\n",
       "      <td>168.500000</td>\n",
       "      <td>259.083333</td>\n",
       "      <td>45</td>\n",
       "      <td>260</td>\n",
       "      <td>373</td>\n",
       "    </tr>\n",
       "    <tr>\n",
       "      <td>9</td>\n",
       "      <td>15.5</td>\n",
       "      <td>169.5</td>\n",
       "      <td>300.5</td>\n",
       "      <td>23.750000</td>\n",
       "      <td>184.125000</td>\n",
       "      <td>305.750000</td>\n",
       "      <td>50</td>\n",
       "      <td>250</td>\n",
       "      <td>400</td>\n",
       "    </tr>\n",
       "    <tr>\n",
       "      <td>10</td>\n",
       "      <td>19.0</td>\n",
       "      <td>161.0</td>\n",
       "      <td>272.0</td>\n",
       "      <td>22.333333</td>\n",
       "      <td>165.000000</td>\n",
       "      <td>259.333333</td>\n",
       "      <td>30</td>\n",
       "      <td>189</td>\n",
       "      <td>290</td>\n",
       "    </tr>\n",
       "    <tr>\n",
       "      <td>11</td>\n",
       "      <td>12.0</td>\n",
       "      <td>133.5</td>\n",
       "      <td>188.5</td>\n",
       "      <td>12.000000</td>\n",
       "      <td>133.500000</td>\n",
       "      <td>188.500000</td>\n",
       "      <td>13</td>\n",
       "      <td>138</td>\n",
       "      <td>194</td>\n",
       "    </tr>\n",
       "    <tr>\n",
       "      <td>13</td>\n",
       "      <td>0.0</td>\n",
       "      <td>263.0</td>\n",
       "      <td>371.0</td>\n",
       "      <td>0.000000</td>\n",
       "      <td>263.000000</td>\n",
       "      <td>371.000000</td>\n",
       "      <td>0</td>\n",
       "      <td>263</td>\n",
       "      <td>371</td>\n",
       "    </tr>\n",
       "    <tr>\n",
       "      <td>14</td>\n",
       "      <td>20.5</td>\n",
       "      <td>195.0</td>\n",
       "      <td>304.0</td>\n",
       "      <td>20.500000</td>\n",
       "      <td>195.000000</td>\n",
       "      <td>304.000000</td>\n",
       "      <td>25</td>\n",
       "      <td>222</td>\n",
       "      <td>363</td>\n",
       "    </tr>\n",
       "    <tr>\n",
       "      <td>15</td>\n",
       "      <td>100.0</td>\n",
       "      <td>409.0</td>\n",
       "      <td>590.0</td>\n",
       "      <td>100.000000</td>\n",
       "      <td>409.000000</td>\n",
       "      <td>590.000000</td>\n",
       "      <td>100</td>\n",
       "      <td>409</td>\n",
       "      <td>590</td>\n",
       "    </tr>\n",
       "    <tr>\n",
       "      <td>16</td>\n",
       "      <td>13.0</td>\n",
       "      <td>180.0</td>\n",
       "      <td>270.0</td>\n",
       "      <td>13.000000</td>\n",
       "      <td>180.000000</td>\n",
       "      <td>270.000000</td>\n",
       "      <td>13</td>\n",
       "      <td>180</td>\n",
       "      <td>270</td>\n",
       "    </tr>\n",
       "    <tr>\n",
       "      <td>19</td>\n",
       "      <td>27.0</td>\n",
       "      <td>264.0</td>\n",
       "      <td>374.0</td>\n",
       "      <td>27.000000</td>\n",
       "      <td>264.000000</td>\n",
       "      <td>374.000000</td>\n",
       "      <td>27</td>\n",
       "      <td>264</td>\n",
       "      <td>374</td>\n",
       "    </tr>\n",
       "  </tbody>\n",
       "</table>\n",
       "</div>"
      ],
      "text/plain": [
       "            median                                mean              \\\n",
       "      kitchen_area living_area total_area kitchen_area living_area   \n",
       "rooms                                                                \n",
       "1              9.0        17.0       36.0     9.000488   18.261841   \n",
       "2              8.0        30.0       53.0     9.665785   31.530841   \n",
       "3              9.0        45.0       72.0    11.010356   47.370901   \n",
       "4             11.0        64.0       99.0    13.401869   67.389125   \n",
       "5             15.0        91.0      145.0    17.498433   98.507837   \n",
       "6             19.0       123.0      183.5    20.578431  131.529412   \n",
       "7             20.0       145.0      213.0    22.368421  166.105263   \n",
       "8             24.0       161.0      235.5    24.500000  168.500000   \n",
       "9             15.5       169.5      300.5    23.750000  184.125000   \n",
       "10            19.0       161.0      272.0    22.333333  165.000000   \n",
       "11            12.0       133.5      188.5    12.000000  133.500000   \n",
       "13             0.0       263.0      371.0     0.000000  263.000000   \n",
       "14            20.5       195.0      304.0    20.500000  195.000000   \n",
       "15           100.0       409.0      590.0   100.000000  409.000000   \n",
       "16            13.0       180.0      270.0    13.000000  180.000000   \n",
       "19            27.0       264.0      374.0    27.000000  264.000000   \n",
       "\n",
       "                           max                         \n",
       "       total_area kitchen_area living_area total_area  \n",
       "rooms                                                  \n",
       "1       37.159302          123         324        494  \n",
       "2       55.532226           93         113        196  \n",
       "3       77.460822          107         227        363  \n",
       "4      107.334749           77         323        500  \n",
       "5      157.003135           66         272        488  \n",
       "6      200.696078           56         334        500  \n",
       "7      260.877193           70         414        631  \n",
       "8      259.083333           45         260        373  \n",
       "9      305.750000           50         250        400  \n",
       "10     259.333333           30         189        290  \n",
       "11     188.500000           13         138        194  \n",
       "13     371.000000            0         263        371  \n",
       "14     304.000000           25         222        363  \n",
       "15     590.000000          100         409        590  \n",
       "16     270.000000           13         180        270  \n",
       "19     374.000000           27         264        374  "
      ]
     },
     "execution_count": 46,
     "metadata": {},
     "output_type": "execute_result"
    }
   ],
   "source": [
    "data.pivot_table(index='rooms', values=['total_area', 'living_area', 'kitchen_area'], aggfunc=['median', 'mean', 'max'])"
   ]
  },
  {
   "cell_type": "markdown",
   "metadata": {},
   "source": [
    "К себе сразу же привлекает внимание сегмент \"люкс\". В сводной таблице видна \"солидарность\" и \"ровность\" медианных и средних значений для квартир с 7 и более комнатами. Вероятно, таких значений немного, но они существенно влияют на цифры, описывающие весь датасет. \n",
    "\n",
    "Кроме того, общая площадь ряда объектов недвижимости с более чем 9 комнатами парадоксально мала для такого количества комнат, а с квартир с 7 комнатами общая площадь вообще начинает убывать. Природа таких данных в данном случае требует более глубокого погружения для понимания, что избыточно в рамках исследования. \n",
    "\n",
    "Оценим количество таких записей в датасете:"
   ]
  },
  {
   "cell_type": "code",
   "execution_count": 47,
   "metadata": {},
   "outputs": [
    {
     "data": {
      "text/plain": [
       "31"
      ]
     },
     "metadata": {},
     "output_type": "display_data"
    },
    {
     "data": {
      "text/plain": [
       "0.001312669376693767"
      ]
     },
     "metadata": {},
     "output_type": "display_data"
    }
   ],
   "source": [
    "display(len(data.loc[data['rooms'] > 7]))\n",
    "display(len(data.loc[data['rooms'] > 7]) / len(data))"
   ]
  },
  {
   "cell_type": "markdown",
   "metadata": {},
   "source": [
    "Мы видим, что таких записей всего 31, что составляет порядка 0,13% от общего текущего объема датасета. Можем сделать допущение, что такие записи возможно исключить из набора."
   ]
  },
  {
   "cell_type": "code",
   "execution_count": 48,
   "metadata": {},
   "outputs": [
    {
     "data": {
      "text/html": [
       "<div>\n",
       "<style scoped>\n",
       "    .dataframe tbody tr th:only-of-type {\n",
       "        vertical-align: middle;\n",
       "    }\n",
       "\n",
       "    .dataframe tbody tr th {\n",
       "        vertical-align: top;\n",
       "    }\n",
       "\n",
       "    .dataframe thead tr th {\n",
       "        text-align: left;\n",
       "    }\n",
       "\n",
       "    .dataframe thead tr:last-of-type th {\n",
       "        text-align: right;\n",
       "    }\n",
       "</style>\n",
       "<table border=\"1\" class=\"dataframe\">\n",
       "  <thead>\n",
       "    <tr>\n",
       "      <th></th>\n",
       "      <th colspan=\"3\" halign=\"left\">median</th>\n",
       "      <th colspan=\"3\" halign=\"left\">mean</th>\n",
       "      <th colspan=\"3\" halign=\"left\">max</th>\n",
       "    </tr>\n",
       "    <tr>\n",
       "      <th></th>\n",
       "      <th>kitchen_area</th>\n",
       "      <th>living_area</th>\n",
       "      <th>total_area</th>\n",
       "      <th>kitchen_area</th>\n",
       "      <th>living_area</th>\n",
       "      <th>total_area</th>\n",
       "      <th>kitchen_area</th>\n",
       "      <th>living_area</th>\n",
       "      <th>total_area</th>\n",
       "    </tr>\n",
       "    <tr>\n",
       "      <th>rooms</th>\n",
       "      <th></th>\n",
       "      <th></th>\n",
       "      <th></th>\n",
       "      <th></th>\n",
       "      <th></th>\n",
       "      <th></th>\n",
       "      <th></th>\n",
       "      <th></th>\n",
       "      <th></th>\n",
       "    </tr>\n",
       "  </thead>\n",
       "  <tbody>\n",
       "    <tr>\n",
       "      <td>1</td>\n",
       "      <td>9</td>\n",
       "      <td>17</td>\n",
       "      <td>36.0</td>\n",
       "      <td>9.000488</td>\n",
       "      <td>18.261841</td>\n",
       "      <td>37.159302</td>\n",
       "      <td>123</td>\n",
       "      <td>324</td>\n",
       "      <td>494</td>\n",
       "    </tr>\n",
       "    <tr>\n",
       "      <td>2</td>\n",
       "      <td>8</td>\n",
       "      <td>30</td>\n",
       "      <td>53.0</td>\n",
       "      <td>9.665785</td>\n",
       "      <td>31.530841</td>\n",
       "      <td>55.532226</td>\n",
       "      <td>93</td>\n",
       "      <td>113</td>\n",
       "      <td>196</td>\n",
       "    </tr>\n",
       "    <tr>\n",
       "      <td>3</td>\n",
       "      <td>9</td>\n",
       "      <td>45</td>\n",
       "      <td>72.0</td>\n",
       "      <td>11.010356</td>\n",
       "      <td>47.370901</td>\n",
       "      <td>77.460822</td>\n",
       "      <td>107</td>\n",
       "      <td>227</td>\n",
       "      <td>363</td>\n",
       "    </tr>\n",
       "    <tr>\n",
       "      <td>4</td>\n",
       "      <td>11</td>\n",
       "      <td>64</td>\n",
       "      <td>99.0</td>\n",
       "      <td>13.401869</td>\n",
       "      <td>67.389125</td>\n",
       "      <td>107.334749</td>\n",
       "      <td>77</td>\n",
       "      <td>323</td>\n",
       "      <td>500</td>\n",
       "    </tr>\n",
       "    <tr>\n",
       "      <td>5</td>\n",
       "      <td>15</td>\n",
       "      <td>91</td>\n",
       "      <td>145.0</td>\n",
       "      <td>17.498433</td>\n",
       "      <td>98.507837</td>\n",
       "      <td>157.003135</td>\n",
       "      <td>66</td>\n",
       "      <td>272</td>\n",
       "      <td>488</td>\n",
       "    </tr>\n",
       "    <tr>\n",
       "      <td>6</td>\n",
       "      <td>19</td>\n",
       "      <td>123</td>\n",
       "      <td>183.5</td>\n",
       "      <td>20.578431</td>\n",
       "      <td>131.529412</td>\n",
       "      <td>200.696078</td>\n",
       "      <td>56</td>\n",
       "      <td>334</td>\n",
       "      <td>500</td>\n",
       "    </tr>\n",
       "    <tr>\n",
       "      <td>7</td>\n",
       "      <td>20</td>\n",
       "      <td>145</td>\n",
       "      <td>213.0</td>\n",
       "      <td>22.368421</td>\n",
       "      <td>166.105263</td>\n",
       "      <td>260.877193</td>\n",
       "      <td>70</td>\n",
       "      <td>414</td>\n",
       "      <td>631</td>\n",
       "    </tr>\n",
       "  </tbody>\n",
       "</table>\n",
       "</div>"
      ],
      "text/plain": [
       "            median                                mean              \\\n",
       "      kitchen_area living_area total_area kitchen_area living_area   \n",
       "rooms                                                                \n",
       "1                9          17       36.0     9.000488   18.261841   \n",
       "2                8          30       53.0     9.665785   31.530841   \n",
       "3                9          45       72.0    11.010356   47.370901   \n",
       "4               11          64       99.0    13.401869   67.389125   \n",
       "5               15          91      145.0    17.498433   98.507837   \n",
       "6               19         123      183.5    20.578431  131.529412   \n",
       "7               20         145      213.0    22.368421  166.105263   \n",
       "\n",
       "                           max                         \n",
       "       total_area kitchen_area living_area total_area  \n",
       "rooms                                                  \n",
       "1       37.159302          123         324        494  \n",
       "2       55.532226           93         113        196  \n",
       "3       77.460822          107         227        363  \n",
       "4      107.334749           77         323        500  \n",
       "5      157.003135           66         272        488  \n",
       "6      200.696078           56         334        500  \n",
       "7      260.877193           70         414        631  "
      ]
     },
     "execution_count": 48,
     "metadata": {},
     "output_type": "execute_result"
    }
   ],
   "source": [
    "data.drop(data.loc[data['rooms'] > 7].index, inplace=True) \n",
    "data = data.reset_index(drop=True) #сбрасываем индексы\n",
    "data.pivot_table(index='rooms', values=['total_area', 'living_area', 'kitchen_area'], aggfunc=['median', 'mean', 'max'])"
   ]
  },
  {
   "cell_type": "markdown",
   "metadata": {},
   "source": [
    "Убрали всего 31 строку и сократили сводную таблицу вдвое! \n",
    "\n",
    "Однако в сводной таблице есть другие значения, вызывающие вопросы. В частности, таковыми можно назвать аномально большие квартиры с 1-3 комнатами (особенно, квартира с 1 комнатой общей площадью почти 500 квадратных метров). \n",
    "\n",
    "Такие записи требуют отдельного рассмотрения и, при необходимости, удаления из датасета. "
   ]
  },
  {
   "cell_type": "code",
   "execution_count": 49,
   "metadata": {},
   "outputs": [],
   "source": [
    "#data.loc[(data['rooms'] == 1) & (data['total_area'] > 150)]\n",
    "#мы видим, что в таблице всего значение для однокомнатной квартиры с площадью более 200 метров. Разрыв с предыдущим\n",
    "#304 квадратны метра. Это похоже на аномалию и такое значение вполне можно убрать из выборки.\n",
    "data.drop(data.loc[(data['rooms'] == 1) & (data['total_area'] > 200)].index, inplace=True) \n",
    "data = data.reset_index(drop=True) #сбрасываем индексы\n",
    "\n",
    "#data.loc[(data['rooms'] == 2) & (data['total_area'] > 150)]\n",
    "#выборка двухкомнатных квартир с площадью более 150 метров возвращает всего 6 значений, но\n",
    "#разрыв в площадях не такой большой, поэтому тут ничего убирать не будем\n",
    "\n",
    "#data.loc[(data['rooms'] == 3) & (data['total_area'] > 300)]"
   ]
  },
  {
   "cell_type": "markdown",
   "metadata": {},
   "source": [
    "Попробуем визуализировать данные в виде гистограммы. "
   ]
  },
  {
   "cell_type": "code",
   "execution_count": 50,
   "metadata": {},
   "outputs": [
    {
     "data": {
      "text/plain": [
       "<matplotlib.axes._subplots.AxesSubplot at 0x7fb52368ffd0>"
      ]
     },
     "execution_count": 50,
     "metadata": {},
     "output_type": "execute_result"
    },
    {
     "data": {
      "image/png": "[encoded data removed]",
      "text/plain": [
       "<Figure size 432x288 with 1 Axes>"
      ]
     },
     "metadata": {
      "needs_background": "light"
     },
     "output_type": "display_data"
    }
   ],
   "source": [
    "data['total_area'].plot(kind='hist', grid=True, title='Распределение объявлений по площади квартиры')"
   ]
  },
  {
   "cell_type": "markdown",
   "metadata": {},
   "source": [
    "В таком виде гистограмма не слишком информативна - значения общей площади многокомнатных квартир делают большую часть гистограммы \"пустой\". "
   ]
  },
  {
   "cell_type": "code",
   "execution_count": 51,
   "metadata": {},
   "outputs": [
    {
     "data": {
      "text/plain": [
       "<matplotlib.axes._subplots.AxesSubplot at 0x7fb51a03e2d0>"
      ]
     },
     "execution_count": 51,
     "metadata": {},
     "output_type": "execute_result"
    },
    {
     "data": {
      "image/png": "[encoded data removed]",
      "text/plain": [
       "<Figure size 1080x360 with 1 Axes>"
      ]
     },
     "metadata": {
      "needs_background": "light"
     },
     "output_type": "display_data"
    }
   ],
   "source": [
    "data['total_area'].plot(kind='hist', bins=50, range=(10, 350), figsize=(15, 5), \\\n",
    "grid=True, title='Распределение объявлений по площади квартиры (ограничение - 350 кв.м.)')"
   ]
  },
  {
   "cell_type": "markdown",
   "metadata": {},
   "source": [
    "При увеличении числа корзин, ограничении диапазона площадей и увеличении размера графика мы видим, что большая часть объявлений о продаже квартир с общей площадью в диапазоне до 50 квадратных метров (медиана). Пики для квартир с площадями в районе 35, 42 и 49 квадратных метров. Вероятно, речь идет о квартирах с 1 и 2 комнатами, что довольно логично - так как такие предложения наиболее массовые. \n",
    "\n",
    "Первый резкий провал в районе 63 и 70 квадратных метров. Далее снижение идет довольно большими ступенями до уровня 100 метров, где шаг уменьшается и диаграмма становится более пологой. "
   ]
  },
  {
   "cell_type": "markdown",
   "metadata": {},
   "source": [
    "<p style=\"font-size:20px\">4.2 Анализ цен</p>  "
   ]
  },
  {
   "cell_type": "markdown",
   "metadata": {},
   "source": [
    "Проанализируем цены на недвижимость как в виде абсолютных значений, так и виде цены квадратного метра, которую мы рассчитали чуть выше. Для удобства мы добавим дополнительный вычисляемый столбец, цена в котором будет зафиксирована в миллионах. "
   ]
  },
  {
   "cell_type": "code",
   "execution_count": 52,
   "metadata": {},
   "outputs": [],
   "source": [
    "data['last_price_mlns'] = round(data['last_price'] / 1000000, 2)\n",
    "#после точки оставим два знака для удобства ориентирования в объектах недвижимости бюджетного сегмента"
   ]
  },
  {
   "cell_type": "code",
   "execution_count": 53,
   "metadata": {},
   "outputs": [
    {
     "data": {
      "text/plain": [
       "count    23584.000000\n",
       "mean         6.430728\n",
       "std         10.215493\n",
       "min          0.010000\n",
       "25%          3.400000\n",
       "50%          4.615000\n",
       "75%          6.750000\n",
       "max        763.000000\n",
       "Name: last_price_mlns, dtype: float64"
      ]
     },
     "execution_count": 53,
     "metadata": {},
     "output_type": "execute_result"
    }
   ],
   "source": [
    "data['last_price_mlns'].describe()"
   ]
  },
  {
   "cell_type": "markdown",
   "metadata": {},
   "source": [
    "Мы видим, что квартили выглядт вполне привычно: нижний ценовой сегмент находится в районе отметки в 3 миллиона - это, вероятно, распространенный вариант малогабаритной однокомнатной квартиры; далее отметка 4.5-5 миллионов - 2 комнаты и порядка 7 миллонов для трехкомнатных квартир - эти данные понятны на интуитивном уровне. \n",
    "\n",
    "Однако внимание в очередной раз привлекают внимание крайние значения выборки. Кроме того, довольно высоко среднеквадратичное отклонение. "
   ]
  },
  {
   "cell_type": "code",
   "execution_count": 54,
   "metadata": {},
   "outputs": [
    {
     "name": "stdout",
     "output_type": "stream",
     "text": [
      "Количество квартир дешевле 1 миллиона рублей:  244\n"
     ]
    },
    {
     "data": {
      "text/html": [
       "<div>\n",
       "<style scoped>\n",
       "    .dataframe tbody tr th:only-of-type {\n",
       "        vertical-align: middle;\n",
       "    }\n",
       "\n",
       "    .dataframe tbody tr th {\n",
       "        vertical-align: top;\n",
       "    }\n",
       "\n",
       "    .dataframe thead th {\n",
       "        text-align: right;\n",
       "    }\n",
       "</style>\n",
       "<table border=\"1\" class=\"dataframe\">\n",
       "  <thead>\n",
       "    <tr style=\"text-align: right;\">\n",
       "      <th></th>\n",
       "      <th>last_price_mlns</th>\n",
       "      <th>price_per_sqm</th>\n",
       "      <th>total_area</th>\n",
       "    </tr>\n",
       "    <tr>\n",
       "      <th>rooms</th>\n",
       "      <th></th>\n",
       "      <th></th>\n",
       "      <th></th>\n",
       "    </tr>\n",
       "  </thead>\n",
       "  <tbody>\n",
       "    <tr>\n",
       "      <td>1</td>\n",
       "      <td>0.768018</td>\n",
       "      <td>24354.711712</td>\n",
       "      <td>32.360360</td>\n",
       "    </tr>\n",
       "    <tr>\n",
       "      <td>2</td>\n",
       "      <td>0.776364</td>\n",
       "      <td>17677.525253</td>\n",
       "      <td>45.636364</td>\n",
       "    </tr>\n",
       "    <tr>\n",
       "      <td>3</td>\n",
       "      <td>0.884545</td>\n",
       "      <td>14898.121212</td>\n",
       "      <td>60.060606</td>\n",
       "    </tr>\n",
       "    <tr>\n",
       "      <td>4</td>\n",
       "      <td>1.000000</td>\n",
       "      <td>16112.000000</td>\n",
       "      <td>62.000000</td>\n",
       "    </tr>\n",
       "  </tbody>\n",
       "</table>\n",
       "</div>"
      ],
      "text/plain": [
       "       last_price_mlns  price_per_sqm  total_area\n",
       "rooms                                            \n",
       "1             0.768018   24354.711712   32.360360\n",
       "2             0.776364   17677.525253   45.636364\n",
       "3             0.884545   14898.121212   60.060606\n",
       "4             1.000000   16112.000000   62.000000"
      ]
     },
     "execution_count": 54,
     "metadata": {},
     "output_type": "execute_result"
    }
   ],
   "source": [
    "#посмотрим на количество квартир дешевле миллиона\n",
    "print('Количество квартир дешевле 1 миллиона рублей: ', len(data.loc[data['last_price_mlns'] <= 1]))\n",
    "data.loc[data['last_price_mlns'] <= 1].pivot_table(index='rooms', values=['total_area', 'price_per_sqm', 'last_price_mlns'])"
   ]
  },
  {
   "cell_type": "markdown",
   "metadata": {},
   "source": [
    "Из сводной таблицы, где в качестве индексов выступает количество комнат в квартире, мы видим, что  диапазон комнат варьируется от отметки в 1 комнату, до 4. Мы можем предположить, что не все из этих значений являются аномалиями в чистом виде, но в целом - такие значения можно удалить из таблицы для повышения точности результатов итогового исследования;\n",
    "\n",
    "Необходимо проверить гипотезу - крайне низкая цена обусловлена локацией. Для проверки гипотезы добавим в датасет столбец, в котором каждый объект будет отнесен к одной из трех групп: непосредственно Санкт-Петербург, областные города и \"сельская местность\" (населенные пункты, не являющиеся городами). "
   ]
  },
  {
   "cell_type": "code",
   "execution_count": 55,
   "metadata": {},
   "outputs": [],
   "source": [
    "def location_group(row):\n",
    "    if row['locality_name'] == 'Санкт-Петербург':\n",
    "        row['urban_group'] = 'Санкт-Петербург'\n",
    "    elif len(row['locality_name'].split()) == 1:\n",
    "        row['urban_group'] = 'Областной город'\n",
    "    elif 'д.' or 'п.' or 'пгт' or 'снт' in row['locality_name'].split():\n",
    "        row['urban_group'] = 'Сельская местность'\n",
    "        \n",
    "    return row\n",
    "        \n",
    "data = data.apply(location_group, axis=1)"
   ]
  },
  {
   "cell_type": "code",
   "execution_count": 56,
   "metadata": {},
   "outputs": [
    {
     "data": {
      "text/html": [
       "<div>\n",
       "<style scoped>\n",
       "    .dataframe tbody tr th:only-of-type {\n",
       "        vertical-align: middle;\n",
       "    }\n",
       "\n",
       "    .dataframe tbody tr th {\n",
       "        vertical-align: top;\n",
       "    }\n",
       "\n",
       "    .dataframe thead th {\n",
       "        text-align: right;\n",
       "    }\n",
       "</style>\n",
       "<table border=\"1\" class=\"dataframe\">\n",
       "  <thead>\n",
       "    <tr style=\"text-align: right;\">\n",
       "      <th></th>\n",
       "      <th>last_price_mlns</th>\n",
       "      <th>price_per_sqm</th>\n",
       "      <th>total_area</th>\n",
       "    </tr>\n",
       "    <tr>\n",
       "      <th>urban_group</th>\n",
       "      <th></th>\n",
       "      <th></th>\n",
       "      <th></th>\n",
       "    </tr>\n",
       "  </thead>\n",
       "  <tbody>\n",
       "    <tr>\n",
       "      <td>Областной город</td>\n",
       "      <td>0.786556</td>\n",
       "      <td>20100.814570</td>\n",
       "      <td>41.668874</td>\n",
       "    </tr>\n",
       "    <tr>\n",
       "      <td>Санкт-Петербург</td>\n",
       "      <td>0.010000</td>\n",
       "      <td>111.000000</td>\n",
       "      <td>109.000000</td>\n",
       "    </tr>\n",
       "    <tr>\n",
       "      <td>Сельская местность</td>\n",
       "      <td>0.799130</td>\n",
       "      <td>20933.304348</td>\n",
       "      <td>40.793478</td>\n",
       "    </tr>\n",
       "  </tbody>\n",
       "</table>\n",
       "</div>"
      ],
      "text/plain": [
       "                    last_price_mlns  price_per_sqm  total_area\n",
       "urban_group                                                   \n",
       "Областной город            0.786556   20100.814570   41.668874\n",
       "Санкт-Петербург            0.010000     111.000000  109.000000\n",
       "Сельская местность         0.799130   20933.304348   40.793478"
      ]
     },
     "execution_count": 56,
     "metadata": {},
     "output_type": "execute_result"
    }
   ],
   "source": [
    "#Теперь построим сводную таблицу по новому столбцу\n",
    "data.loc[(data['last_price_mlns'] <= 1) & (data['rooms'] > 0)].\\\n",
    "pivot_table(index='urban_group', values=['total_area', 'price_per_sqm', 'last_price_mlns'])\n",
    "#Явно выделяется квартира в СПб"
   ]
  },
  {
   "cell_type": "code",
   "execution_count": 57,
   "metadata": {},
   "outputs": [],
   "source": [
    "data.drop(data.loc[(data['last_price_mlns'] <= 0.2) & (data['rooms'] == 2)].index, inplace=True) \n",
    "#удаляем \"некорректную\" квартиру из датасета\n",
    "data = data.reset_index(drop=True) #сбрасываем индексы"
   ]
  },
  {
   "cell_type": "code",
   "execution_count": 58,
   "metadata": {},
   "outputs": [
    {
     "data": {
      "text/plain": [
       "<matplotlib.axes._subplots.AxesSubplot at 0x7fb5187f4dd0>"
      ]
     },
     "execution_count": 58,
     "metadata": {},
     "output_type": "execute_result"
    },
    {
     "data": {
      "image/png": "[encoded data removed]",
      "text/plain": [
       "<Figure size 1080x360 with 1 Axes>"
      ]
     },
     "metadata": {
      "needs_background": "light"
     },
     "output_type": "display_data"
    }
   ],
   "source": [
    "data['last_price_mlns'].plot(kind='hist', grid=True, bins=50, figsize=( 15, 5), range=(0, 100), title='Распределение квартир по стоимости в млн. рублей')\n",
    "#даже с 50 корзинами гистограмму сложно назвать наглядной - влияют очень дорогие объекты недвижимости\n",
    "#при ограничении диапазона рассматриваемых значений потолков 100 миллионов, мы получаем более понятную картину"
   ]
  },
  {
   "cell_type": "markdown",
   "metadata": {},
   "source": [
    "Распределение унимодальное - при снижении количества корзин пики на 4 и 6 миллионах сольются. Это, вероятно, наиболее распространенные варианты жилья: либо 1-2 комнаты в городе, либо чуть большая площадь, но в пригороде. "
   ]
  },
  {
   "cell_type": "markdown",
   "metadata": {},
   "source": [
    "<p style=\"font-size:20px\">4.3 Анализ количества комнат</p>  "
   ]
  },
  {
   "cell_type": "code",
   "execution_count": 59,
   "metadata": {},
   "outputs": [
    {
     "data": {
      "text/plain": [
       "count    23583.000000\n",
       "mean         2.068142\n",
       "std          1.019517\n",
       "min          1.000000\n",
       "25%          1.000000\n",
       "50%          2.000000\n",
       "75%          3.000000\n",
       "max          7.000000\n",
       "Name: rooms, dtype: float64"
      ]
     },
     "execution_count": 59,
     "metadata": {},
     "output_type": "execute_result"
    }
   ],
   "source": [
    "data['rooms'].describe()"
   ]
  },
  {
   "cell_type": "markdown",
   "metadata": {},
   "source": [
    "Высказанные выше предположения о количестве комнат в наиболее распространнеых вариантах жилья находят подтверждение при оценки данных столбца:\n",
    "\n",
    "1) Среднее и медианное значения практически одинаковы - 2 комнаты;\n",
    "\n",
    "2) Отклонение - 1 комната\n",
    "\n",
    "Анализ аномальных значение, заполнение пропусков и корректировка количества комнат уже были произведены."
   ]
  },
  {
   "cell_type": "code",
   "execution_count": 60,
   "metadata": {},
   "outputs": [
    {
     "data": {
      "text/plain": [
       "<matplotlib.axes._subplots.AxesSubplot at 0x7fb5189cb9d0>"
      ]
     },
     "execution_count": 60,
     "metadata": {},
     "output_type": "execute_result"
    },
    {
     "data": {
      "image/png": "[encoded data removed]",
      "text/plain": [
       "<Figure size 432x288 with 1 Axes>"
      ]
     },
     "metadata": {
      "needs_background": "light"
     },
     "output_type": "display_data"
    }
   ],
   "source": [
    "data['rooms'].plot(kind='hist', grid=True, bins=7, title='Распределение объявлений по количеству комнат в квартире') \n",
    "#ограничим количество корзин в гистограмме количеством возможных вариантов количества комнат в квартире - 7"
   ]
  },
  {
   "cell_type": "markdown",
   "metadata": {},
   "source": [
    "Мы видим, что большая часть объявлений - это \"народные\" варианты в 1-2 комнаты (примерно 16 тысяч записей с незначительным преимуществом однокомнатных вариантов). Трехкомнатные квартиры также достаточно популярны, но количество таких объявление составляет примерно 75% от количества двухкомнатных (или однокомнатных) вариантов. С 4 комнат виден значительный \"провал\" - такой формат жилья уже доступен меньшему количеству покупателей. В относительных значения картина сопоставима и для пар 5-4 комнат, 6-5 комнат. "
   ]
  },
  {
   "cell_type": "markdown",
   "metadata": {},
   "source": [
    "<p style=\"font-size:20px\">4.4 Анализ высоты потолков</p>  "
   ]
  },
  {
   "cell_type": "markdown",
   "metadata": {},
   "source": [
    "Ранее в рамках анализа также была произведена нормализация данных в столбце с высотами потолков, поэтому мы можем просто оценить полученный результат и понять, какие варианты в наибольшей степени популярны."
   ]
  },
  {
   "cell_type": "code",
   "execution_count": 61,
   "metadata": {},
   "outputs": [
    {
     "data": {
      "text/plain": [
       "count    23583.000000\n",
       "mean         2.703991\n",
       "std          0.219063\n",
       "min          2.000000\n",
       "25%          2.550000\n",
       "50%          2.650000\n",
       "75%          2.750000\n",
       "max          4.000000\n",
       "Name: ceiling_height, dtype: float64"
      ]
     },
     "execution_count": 61,
     "metadata": {},
     "output_type": "execute_result"
    }
   ],
   "source": [
    "data['ceiling_height'].describe()"
   ]
  },
  {
   "cell_type": "markdown",
   "metadata": {},
   "source": [
    "Как видим, метод describe действительно возвращает нам вполне реалистиные значения. Среднее и медианные значения находятся на одном уровне (2.6-2.7 метра). Не обладая экспертизой в области возможных планировок квартир и высот потолков, я бы сказал, что средняя высота довольно большая. Вероятно, на это влияет год постройки дома, но мы не располагаем соответствующими данными для проверки гипотезы. "
   ]
  },
  {
   "cell_type": "code",
   "execution_count": 62,
   "metadata": {},
   "outputs": [
    {
     "data": {
      "text/plain": [
       "<matplotlib.axes._subplots.AxesSubplot at 0x7fb5192922d0>"
      ]
     },
     "execution_count": 62,
     "metadata": {},
     "output_type": "execute_result"
    },
    {
     "data": {
      "image/png": "[encoded data removed]",
      "text/plain": [
       "<Figure size 432x288 with 1 Axes>"
      ]
     },
     "metadata": {
      "needs_background": "light"
     },
     "output_type": "display_data"
    }
   ],
   "source": [
    "data['ceiling_height'].plot(kind='hist', grid=True, bins=20, title='Распределение квартир по высоте потолков')"
   ]
  },
  {
   "cell_type": "markdown",
   "metadata": {},
   "source": [
    "Пиковое значение находится у отметки 2.5 метра, что похоже на правду, так как в бюджетном жилье потолок ниже. Далее мы наблюдаем некоторый провал при переходе к значению в 2.75 - вероятно, это как-то связано с особенностями типовых серий домов. "
   ]
  },
  {
   "cell_type": "markdown",
   "metadata": {},
   "source": [
    "<p style=\"font-size:20px\">4.5 Анализ времени продажи квартир</p>  "
   ]
  },
  {
   "cell_type": "markdown",
   "metadata": {},
   "source": [
    "Следует отметить, что пустые значения во времени продажи ранее были заполнены нулевыми значениями, поэтому при анализе времени продажи следует ориентироваться только на ту часть выборк, данные по которой у нас имеются. "
   ]
  },
  {
   "cell_type": "code",
   "execution_count": 63,
   "metadata": {},
   "outputs": [
    {
     "data": {
      "text/plain": [
       "count    23583.000000\n",
       "mean       156.271764\n",
       "std        213.007611\n",
       "min          0.000000\n",
       "25%         22.000000\n",
       "50%         74.000000\n",
       "75%        198.000000\n",
       "max       1580.000000\n",
       "Name: days_exposition, dtype: float64"
      ]
     },
     "execution_count": 63,
     "metadata": {},
     "output_type": "execute_result"
    }
   ],
   "source": [
    "data['days_exposition'].describe()"
   ]
  },
  {
   "cell_type": "code",
   "execution_count": 64,
   "metadata": {},
   "outputs": [
    {
     "data": {
      "text/plain": [
       "count    20424.000000\n",
       "mean       180.442470\n",
       "std        219.154556\n",
       "min          1.000000\n",
       "25%         45.000000\n",
       "50%         95.000000\n",
       "75%        231.000000\n",
       "max       1580.000000\n",
       "Name: days_exposition, dtype: float64"
      ]
     },
     "execution_count": 64,
     "metadata": {},
     "output_type": "execute_result"
    }
   ],
   "source": [
    "data['days_exposition'].loc[data['days_exposition'] != 0].describe()"
   ]
  },
  {
   "cell_type": "markdown",
   "metadata": {},
   "source": [
    "Мы видим, что отказ от нулевых значений значительно сдвигает все метрики \"вправо\", что повышает точность результата анализа. "
   ]
  },
  {
   "cell_type": "markdown",
   "metadata": {},
   "source": [
    "В общем, 1 квартиль лежит на уровне 45 дней, но на уровне субъективной оценки - это довольно большой срок для недорогих \"народных\" вариантов жилья, поэтому на средние и медианные значения имеет смысль посмотреть через призму количества комнат в квартире. \n",
    "\n",
    "Необычно долгим же значение можно назвать все, что более 1 года (хотя 3 квартиль лежит на отметке в 231 день). Субъективно, записи с временем продажи более 1 года вызывают вопросы относительно своей достоверности. "
   ]
  },
  {
   "cell_type": "code",
   "execution_count": 65,
   "metadata": {},
   "outputs": [
    {
     "data": {
      "text/plain": [
       "<matplotlib.axes._subplots.AxesSubplot at 0x7fb51918c710>"
      ]
     },
     "execution_count": 65,
     "metadata": {},
     "output_type": "execute_result"
    },
    {
     "data": {
      "image/png": "[encoded data removed]",
      "text/plain": [
       "<Figure size 1080x360 with 1 Axes>"
      ]
     },
     "metadata": {
      "needs_background": "light"
     },
     "output_type": "display_data"
    }
   ],
   "source": [
    "data['days_exposition'].loc[data['days_exposition'] != 0].plot(kind='hist', grid=True, bins=20, figsize=(15, 5), range=(0, 1095), title='Распределение объявлений по количеству дней размещения')\n",
    "#ограничим диапазон значений для гистограммы и видим на нем похожую картину"
   ]
  },
  {
   "cell_type": "code",
   "execution_count": 66,
   "metadata": {},
   "outputs": [
    {
     "data": {
      "text/plain": [
       "60    537\n",
       "61    108\n",
       "59    106\n",
       "63     99\n",
       "64     88\n",
       "56     86\n",
       "62     74\n",
       "57     74\n",
       "58     72\n",
       "Name: days_exposition, dtype: int64"
      ]
     },
     "execution_count": 66,
     "metadata": {},
     "output_type": "execute_result"
    }
   ],
   "source": [
    "data.loc[(data['days_exposition'] > 55) & (data['days_exposition'] < 65), 'days_exposition'].value_counts()\n",
    "#data.loc[data['days_exposition'] == 45].describe()"
   ]
  },
  {
   "cell_type": "code",
   "execution_count": 67,
   "metadata": {},
   "outputs": [
    {
     "data": {
      "text/html": [
       "<div>\n",
       "<style scoped>\n",
       "    .dataframe tbody tr th:only-of-type {\n",
       "        vertical-align: middle;\n",
       "    }\n",
       "\n",
       "    .dataframe tbody tr th {\n",
       "        vertical-align: top;\n",
       "    }\n",
       "\n",
       "    .dataframe thead tr th {\n",
       "        text-align: left;\n",
       "    }\n",
       "\n",
       "    .dataframe thead tr:last-of-type th {\n",
       "        text-align: right;\n",
       "    }\n",
       "</style>\n",
       "<table border=\"1\" class=\"dataframe\">\n",
       "  <thead>\n",
       "    <tr>\n",
       "      <th></th>\n",
       "      <th></th>\n",
       "      <th colspan=\"2\" halign=\"left\">mean</th>\n",
       "      <th colspan=\"2\" halign=\"left\">median</th>\n",
       "    </tr>\n",
       "    <tr>\n",
       "      <th></th>\n",
       "      <th></th>\n",
       "      <th>days_exposition</th>\n",
       "      <th>last_price_mlns</th>\n",
       "      <th>days_exposition</th>\n",
       "      <th>last_price_mlns</th>\n",
       "    </tr>\n",
       "    <tr>\n",
       "      <th>urban_group</th>\n",
       "      <th>rooms</th>\n",
       "      <th></th>\n",
       "      <th></th>\n",
       "      <th></th>\n",
       "      <th></th>\n",
       "    </tr>\n",
       "  </thead>\n",
       "  <tbody>\n",
       "    <tr>\n",
       "      <td rowspan=\"7\" valign=\"top\">Областной город</td>\n",
       "      <td>1</td>\n",
       "      <td>144.798125</td>\n",
       "      <td>2.729856</td>\n",
       "      <td>62.0</td>\n",
       "      <td>2.650</td>\n",
       "    </tr>\n",
       "    <tr>\n",
       "      <td>2</td>\n",
       "      <td>155.329054</td>\n",
       "      <td>3.539750</td>\n",
       "      <td>73.0</td>\n",
       "      <td>3.235</td>\n",
       "    </tr>\n",
       "    <tr>\n",
       "      <td>3</td>\n",
       "      <td>157.418410</td>\n",
       "      <td>4.616862</td>\n",
       "      <td>69.0</td>\n",
       "      <td>4.150</td>\n",
       "    </tr>\n",
       "    <tr>\n",
       "      <td>4</td>\n",
       "      <td>197.984848</td>\n",
       "      <td>6.650530</td>\n",
       "      <td>94.5</td>\n",
       "      <td>4.625</td>\n",
       "    </tr>\n",
       "    <tr>\n",
       "      <td>5</td>\n",
       "      <td>109.263158</td>\n",
       "      <td>7.555263</td>\n",
       "      <td>57.0</td>\n",
       "      <td>5.900</td>\n",
       "    </tr>\n",
       "    <tr>\n",
       "      <td>6</td>\n",
       "      <td>37.000000</td>\n",
       "      <td>18.533333</td>\n",
       "      <td>15.0</td>\n",
       "      <td>14.500</td>\n",
       "    </tr>\n",
       "    <tr>\n",
       "      <td>7</td>\n",
       "      <td>9.000000</td>\n",
       "      <td>42.000000</td>\n",
       "      <td>9.0</td>\n",
       "      <td>42.000</td>\n",
       "    </tr>\n",
       "    <tr>\n",
       "      <td rowspan=\"7\" valign=\"top\">Санкт-Петербург</td>\n",
       "      <td>1</td>\n",
       "      <td>141.304990</td>\n",
       "      <td>4.445234</td>\n",
       "      <td>64.0</td>\n",
       "      <td>4.070</td>\n",
       "    </tr>\n",
       "    <tr>\n",
       "      <td>2</td>\n",
       "      <td>149.227833</td>\n",
       "      <td>6.742592</td>\n",
       "      <td>71.0</td>\n",
       "      <td>5.600</td>\n",
       "    </tr>\n",
       "    <tr>\n",
       "      <td>3</td>\n",
       "      <td>171.662119</td>\n",
       "      <td>9.651381</td>\n",
       "      <td>86.0</td>\n",
       "      <td>7.190</td>\n",
       "    </tr>\n",
       "    <tr>\n",
       "      <td>4</td>\n",
       "      <td>206.288820</td>\n",
       "      <td>14.877433</td>\n",
       "      <td>104.0</td>\n",
       "      <td>10.050</td>\n",
       "    </tr>\n",
       "    <tr>\n",
       "      <td>5</td>\n",
       "      <td>242.764085</td>\n",
       "      <td>24.037923</td>\n",
       "      <td>112.5</td>\n",
       "      <td>14.400</td>\n",
       "    </tr>\n",
       "    <tr>\n",
       "      <td>6</td>\n",
       "      <td>201.416667</td>\n",
       "      <td>32.393333</td>\n",
       "      <td>90.0</td>\n",
       "      <td>19.000</td>\n",
       "    </tr>\n",
       "    <tr>\n",
       "      <td>7</td>\n",
       "      <td>124.727273</td>\n",
       "      <td>51.642364</td>\n",
       "      <td>46.0</td>\n",
       "      <td>24.900</td>\n",
       "    </tr>\n",
       "    <tr>\n",
       "      <td rowspan=\"7\" valign=\"top\">Сельская местность</td>\n",
       "      <td>1</td>\n",
       "      <td>145.588629</td>\n",
       "      <td>2.855178</td>\n",
       "      <td>74.0</td>\n",
       "      <td>2.900</td>\n",
       "    </tr>\n",
       "    <tr>\n",
       "      <td>2</td>\n",
       "      <td>150.649926</td>\n",
       "      <td>3.419136</td>\n",
       "      <td>74.0</td>\n",
       "      <td>3.400</td>\n",
       "    </tr>\n",
       "    <tr>\n",
       "      <td>3</td>\n",
       "      <td>169.165075</td>\n",
       "      <td>4.435089</td>\n",
       "      <td>80.0</td>\n",
       "      <td>4.400</td>\n",
       "    </tr>\n",
       "    <tr>\n",
       "      <td>4</td>\n",
       "      <td>175.354430</td>\n",
       "      <td>5.790000</td>\n",
       "      <td>90.0</td>\n",
       "      <td>5.150</td>\n",
       "    </tr>\n",
       "    <tr>\n",
       "      <td>5</td>\n",
       "      <td>162.875000</td>\n",
       "      <td>6.735625</td>\n",
       "      <td>55.0</td>\n",
       "      <td>5.995</td>\n",
       "    </tr>\n",
       "    <tr>\n",
       "      <td>6</td>\n",
       "      <td>241.000000</td>\n",
       "      <td>14.266667</td>\n",
       "      <td>162.0</td>\n",
       "      <td>14.000</td>\n",
       "    </tr>\n",
       "    <tr>\n",
       "      <td>7</td>\n",
       "      <td>35.000000</td>\n",
       "      <td>7.900000</td>\n",
       "      <td>35.0</td>\n",
       "      <td>7.900</td>\n",
       "    </tr>\n",
       "  </tbody>\n",
       "</table>\n",
       "</div>"
      ],
      "text/plain": [
       "                                    mean                          median  \\\n",
       "                         days_exposition last_price_mlns days_exposition   \n",
       "urban_group        rooms                                                   \n",
       "Областной город    1          144.798125        2.729856            62.0   \n",
       "                   2          155.329054        3.539750            73.0   \n",
       "                   3          157.418410        4.616862            69.0   \n",
       "                   4          197.984848        6.650530            94.5   \n",
       "                   5          109.263158        7.555263            57.0   \n",
       "                   6           37.000000       18.533333            15.0   \n",
       "                   7            9.000000       42.000000             9.0   \n",
       "Санкт-Петербург    1          141.304990        4.445234            64.0   \n",
       "                   2          149.227833        6.742592            71.0   \n",
       "                   3          171.662119        9.651381            86.0   \n",
       "                   4          206.288820       14.877433           104.0   \n",
       "                   5          242.764085       24.037923           112.5   \n",
       "                   6          201.416667       32.393333            90.0   \n",
       "                   7          124.727273       51.642364            46.0   \n",
       "Сельская местность 1          145.588629        2.855178            74.0   \n",
       "                   2          150.649926        3.419136            74.0   \n",
       "                   3          169.165075        4.435089            80.0   \n",
       "                   4          175.354430        5.790000            90.0   \n",
       "                   5          162.875000        6.735625            55.0   \n",
       "                   6          241.000000       14.266667           162.0   \n",
       "                   7           35.000000        7.900000            35.0   \n",
       "\n",
       "                                          \n",
       "                         last_price_mlns  \n",
       "urban_group        rooms                  \n",
       "Областной город    1               2.650  \n",
       "                   2               3.235  \n",
       "                   3               4.150  \n",
       "                   4               4.625  \n",
       "                   5               5.900  \n",
       "                   6              14.500  \n",
       "                   7              42.000  \n",
       "Санкт-Петербург    1               4.070  \n",
       "                   2               5.600  \n",
       "                   3               7.190  \n",
       "                   4              10.050  \n",
       "                   5              14.400  \n",
       "                   6              19.000  \n",
       "                   7              24.900  \n",
       "Сельская местность 1               2.900  \n",
       "                   2               3.400  \n",
       "                   3               4.400  \n",
       "                   4               5.150  \n",
       "                   5               5.995  \n",
       "                   6              14.000  \n",
       "                   7               7.900  "
      ]
     },
     "execution_count": 67,
     "metadata": {},
     "output_type": "execute_result"
    }
   ],
   "source": [
    "data.pivot_table(index=['urban_group', 'rooms'], values=['days_exposition', 'last_price_mlns'], aggfunc=['mean', 'median'])"
   ]
  },
  {
   "cell_type": "markdown",
   "metadata": {},
   "source": [
    "<span style=\"font-family:Arial Black\">Из полученной сводной таблицы можем сделать следующие выводы: </span>\n",
    "\n",
    "1) Время продажи до 45 дней действительно можно считать хорошим. Условно, можно говорить о месяце как действительно \"хорошем\" времени продажи. Наша гипотеза не подтвердилась;\n",
    "\n",
    "2) Мы видим, что \"экономичные\" варианты (1 и 2 комнаты) продаются максимально быстро в Санкт-Петербурге. Начиная с 3 и более комнат в квартире ситуация меняется - среднее время продажи для Санкт-Петербурга растет, а для области сокращается - вероятно; \n",
    "\n",
    "3) Обратная пропорциональная зависимость, вероятней всего, обусловлена средней стоимостью объекта недвижимости в Санкт-Петербурге и области (например, медианная стоимость двухкомнатной квартиры в СПб находится на уровне 4-5 комнатной квартиры в области). \n",
    "\n",
    "Все эти выводы, при необходимости, можно детализировать и уточнить через более глубокую сегментацию данных. "
   ]
  },
  {
   "cell_type": "markdown",
   "metadata": {},
   "source": [
    "<p style=\"font-size:20px\">4.6 Анализ редких и выбивающихся значений</p> "
   ]
  },
  {
   "cell_type": "markdown",
   "metadata": {},
   "source": [
    "Еще раз взглянем на наши данные по наиболее важным параметрам для анализа и ответа на поставленные перед исследованием вопросы:"
   ]
  },
  {
   "cell_type": "code",
   "execution_count": 68,
   "metadata": {},
   "outputs": [
    {
     "data": {
      "text/html": [
       "<div>\n",
       "<style scoped>\n",
       "    .dataframe tbody tr th:only-of-type {\n",
       "        vertical-align: middle;\n",
       "    }\n",
       "\n",
       "    .dataframe tbody tr th {\n",
       "        vertical-align: top;\n",
       "    }\n",
       "\n",
       "    .dataframe thead th {\n",
       "        text-align: right;\n",
       "    }\n",
       "</style>\n",
       "<table border=\"1\" class=\"dataframe\">\n",
       "  <thead>\n",
       "    <tr style=\"text-align: right;\">\n",
       "      <th></th>\n",
       "      <th>total_area</th>\n",
       "      <th>living_area</th>\n",
       "      <th>kitchen_area</th>\n",
       "      <th>rooms</th>\n",
       "      <th>ceiling_height</th>\n",
       "    </tr>\n",
       "  </thead>\n",
       "  <tbody>\n",
       "    <tr>\n",
       "      <td>count</td>\n",
       "      <td>23583.000000</td>\n",
       "      <td>23583.000000</td>\n",
       "      <td>23583.000000</td>\n",
       "      <td>23583.000000</td>\n",
       "      <td>23583.000000</td>\n",
       "    </tr>\n",
       "    <tr>\n",
       "      <td>mean</td>\n",
       "      <td>59.598864</td>\n",
       "      <td>34.254251</td>\n",
       "      <td>10.129246</td>\n",
       "      <td>2.068142</td>\n",
       "      <td>2.703991</td>\n",
       "    </tr>\n",
       "    <tr>\n",
       "      <td>std</td>\n",
       "      <td>33.382280</td>\n",
       "      <td>21.335756</td>\n",
       "      <td>5.707230</td>\n",
       "      <td>1.019517</td>\n",
       "      <td>0.219063</td>\n",
       "    </tr>\n",
       "    <tr>\n",
       "      <td>min</td>\n",
       "      <td>12.000000</td>\n",
       "      <td>2.000000</td>\n",
       "      <td>0.000000</td>\n",
       "      <td>1.000000</td>\n",
       "      <td>2.000000</td>\n",
       "    </tr>\n",
       "    <tr>\n",
       "      <td>25%</td>\n",
       "      <td>40.000000</td>\n",
       "      <td>19.000000</td>\n",
       "      <td>7.000000</td>\n",
       "      <td>1.000000</td>\n",
       "      <td>2.550000</td>\n",
       "    </tr>\n",
       "    <tr>\n",
       "      <td>50%</td>\n",
       "      <td>52.000000</td>\n",
       "      <td>30.000000</td>\n",
       "      <td>9.000000</td>\n",
       "      <td>2.000000</td>\n",
       "      <td>2.650000</td>\n",
       "    </tr>\n",
       "    <tr>\n",
       "      <td>75%</td>\n",
       "      <td>69.000000</td>\n",
       "      <td>42.000000</td>\n",
       "      <td>11.000000</td>\n",
       "      <td>3.000000</td>\n",
       "      <td>2.750000</td>\n",
       "    </tr>\n",
       "    <tr>\n",
       "      <td>max</td>\n",
       "      <td>631.000000</td>\n",
       "      <td>414.000000</td>\n",
       "      <td>107.000000</td>\n",
       "      <td>7.000000</td>\n",
       "      <td>4.000000</td>\n",
       "    </tr>\n",
       "  </tbody>\n",
       "</table>\n",
       "</div>"
      ],
      "text/plain": [
       "         total_area   living_area  kitchen_area         rooms  ceiling_height\n",
       "count  23583.000000  23583.000000  23583.000000  23583.000000    23583.000000\n",
       "mean      59.598864     34.254251     10.129246      2.068142        2.703991\n",
       "std       33.382280     21.335756      5.707230      1.019517        0.219063\n",
       "min       12.000000      2.000000      0.000000      1.000000        2.000000\n",
       "25%       40.000000     19.000000      7.000000      1.000000        2.550000\n",
       "50%       52.000000     30.000000      9.000000      2.000000        2.650000\n",
       "75%       69.000000     42.000000     11.000000      3.000000        2.750000\n",
       "max      631.000000    414.000000    107.000000      7.000000        4.000000"
      ]
     },
     "execution_count": 68,
     "metadata": {},
     "output_type": "execute_result"
    }
   ],
   "source": [
    "data[['total_area', 'living_area', 'kitchen_area', 'rooms', 'ceiling_height']].describe()"
   ]
  },
  {
   "cell_type": "code",
   "execution_count": 69,
   "metadata": {},
   "outputs": [
    {
     "data": {
      "text/plain": [
       "count    4177.000000\n",
       "mean       15.631554\n",
       "std         1.650203\n",
       "min         2.000000\n",
       "25%        15.000000\n",
       "50%        16.000000\n",
       "75%        17.000000\n",
       "max        17.000000\n",
       "Name: living_area, dtype: float64"
      ]
     },
     "execution_count": 69,
     "metadata": {},
     "output_type": "execute_result"
    }
   ],
   "source": [
    "#Еще раз проделаем ту же саму процедуру но для значений до 1 квартиля\n",
    "data.loc[data['living_area'] < 18, 'living_area'].describe()"
   ]
  },
  {
   "cell_type": "markdown",
   "metadata": {},
   "source": [
    "Явная проблема с минимальным значеним жилой площади. Ее надо исправить:"
   ]
  },
  {
   "cell_type": "code",
   "execution_count": 70,
   "metadata": {},
   "outputs": [
    {
     "data": {
      "text/html": [
       "<div>\n",
       "<style scoped>\n",
       "    .dataframe tbody tr th:only-of-type {\n",
       "        vertical-align: middle;\n",
       "    }\n",
       "\n",
       "    .dataframe tbody tr th {\n",
       "        vertical-align: top;\n",
       "    }\n",
       "\n",
       "    .dataframe thead th {\n",
       "        text-align: right;\n",
       "    }\n",
       "</style>\n",
       "<table border=\"1\" class=\"dataframe\">\n",
       "  <thead>\n",
       "    <tr style=\"text-align: right;\">\n",
       "      <th></th>\n",
       "      <th>rooms</th>\n",
       "      <th>new_liv_area_part</th>\n",
       "      <th>old_liv_area_part</th>\n",
       "    </tr>\n",
       "  </thead>\n",
       "  <tbody>\n",
       "    <tr>\n",
       "      <td>0</td>\n",
       "      <td>1</td>\n",
       "      <td>0.655937</td>\n",
       "      <td>0.490133</td>\n",
       "    </tr>\n",
       "    <tr>\n",
       "      <td>1</td>\n",
       "      <td>2</td>\n",
       "      <td>0.580324</td>\n",
       "      <td>0.579402</td>\n",
       "    </tr>\n",
       "    <tr>\n",
       "      <td>2</td>\n",
       "      <td>3</td>\n",
       "      <td>0.627911</td>\n",
       "      <td>0.625373</td>\n",
       "    </tr>\n",
       "    <tr>\n",
       "      <td>3</td>\n",
       "      <td>4</td>\n",
       "      <td>0.647172</td>\n",
       "      <td>0.646157</td>\n",
       "    </tr>\n",
       "    <tr>\n",
       "      <td>4</td>\n",
       "      <td>5</td>\n",
       "      <td>0.644394</td>\n",
       "      <td>0.642307</td>\n",
       "    </tr>\n",
       "    <tr>\n",
       "      <td>5</td>\n",
       "      <td>6</td>\n",
       "      <td>0.669708</td>\n",
       "      <td>0.669708</td>\n",
       "    </tr>\n",
       "    <tr>\n",
       "      <td>6</td>\n",
       "      <td>7</td>\n",
       "      <td>0.656364</td>\n",
       "      <td>0.656364</td>\n",
       "    </tr>\n",
       "    <tr>\n",
       "      <td>7</td>\n",
       "      <td>8</td>\n",
       "      <td>0.667001</td>\n",
       "      <td>0.667001</td>\n",
       "    </tr>\n",
       "    <tr>\n",
       "      <td>8</td>\n",
       "      <td>9</td>\n",
       "      <td>0.612299</td>\n",
       "      <td>0.612299</td>\n",
       "    </tr>\n",
       "    <tr>\n",
       "      <td>9</td>\n",
       "      <td>10</td>\n",
       "      <td>0.645065</td>\n",
       "      <td>0.645065</td>\n",
       "    </tr>\n",
       "    <tr>\n",
       "      <td>10</td>\n",
       "      <td>11</td>\n",
       "      <td>0.710093</td>\n",
       "      <td>0.710093</td>\n",
       "    </tr>\n",
       "    <tr>\n",
       "      <td>11</td>\n",
       "      <td>12</td>\n",
       "      <td>0.455222</td>\n",
       "      <td>0.455222</td>\n",
       "    </tr>\n",
       "    <tr>\n",
       "      <td>12</td>\n",
       "      <td>14</td>\n",
       "      <td>0.648695</td>\n",
       "      <td>0.648695</td>\n",
       "    </tr>\n",
       "    <tr>\n",
       "      <td>13</td>\n",
       "      <td>15</td>\n",
       "      <td>0.693220</td>\n",
       "      <td>0.693220</td>\n",
       "    </tr>\n",
       "    <tr>\n",
       "      <td>14</td>\n",
       "      <td>16</td>\n",
       "      <td>0.666667</td>\n",
       "      <td>0.666667</td>\n",
       "    </tr>\n",
       "    <tr>\n",
       "      <td>15</td>\n",
       "      <td>19</td>\n",
       "      <td>0.706086</td>\n",
       "      <td>0.706086</td>\n",
       "    </tr>\n",
       "    <tr>\n",
       "      <td>16</td>\n",
       "      <td>13</td>\n",
       "      <td>0.710093</td>\n",
       "      <td>0.710093</td>\n",
       "    </tr>\n",
       "  </tbody>\n",
       "</table>\n",
       "</div>"
      ],
      "text/plain": [
       "    rooms  new_liv_area_part  old_liv_area_part\n",
       "0       1           0.655937           0.490133\n",
       "1       2           0.580324           0.579402\n",
       "2       3           0.627911           0.625373\n",
       "3       4           0.647172           0.646157\n",
       "4       5           0.644394           0.642307\n",
       "5       6           0.669708           0.669708\n",
       "6       7           0.656364           0.656364\n",
       "7       8           0.667001           0.667001\n",
       "8       9           0.612299           0.612299\n",
       "9      10           0.645065           0.645065\n",
       "10     11           0.710093           0.710093\n",
       "11     12           0.455222           0.455222\n",
       "12     14           0.648695           0.648695\n",
       "13     15           0.693220           0.693220\n",
       "14     16           0.666667           0.666667\n",
       "15     19           0.706086           0.706086\n",
       "16     13           0.710093           0.710093"
      ]
     },
     "execution_count": 70,
     "metadata": {},
     "output_type": "execute_result"
    }
   ],
   "source": [
    "#наш датафрейм\n",
    "room_liv_area_part_groups_comparison"
   ]
  },
  {
   "cell_type": "code",
   "execution_count": 71,
   "metadata": {},
   "outputs": [],
   "source": [
    "import numpy as np\n",
    "\n",
    "def areas_checker(row):\n",
    "    a = row['living_area'] / row['total_area']\n",
    "    b = room_liv_area_part_groups[row['rooms']] - np.std(data['living_area_part'])\n",
    "    areas_sum = row['living_area'] + row['kitchen_area']\n",
    "    if a < b:\n",
    "        row['living_area'] = row['total_area'] * room_liv_area_part_groups[row['rooms']]\n",
    "    if row['total_area'] <= areas_sum:\n",
    "        row['kitchen_area'] = 0\n",
    "    return row\n",
    "        \n",
    "data = data.apply(areas_checker, axis=1)"
   ]
  },
  {
   "cell_type": "code",
   "execution_count": 72,
   "metadata": {},
   "outputs": [
    {
     "data": {
      "text/html": [
       "<div>\n",
       "<style scoped>\n",
       "    .dataframe tbody tr th:only-of-type {\n",
       "        vertical-align: middle;\n",
       "    }\n",
       "\n",
       "    .dataframe tbody tr th {\n",
       "        vertical-align: top;\n",
       "    }\n",
       "\n",
       "    .dataframe thead th {\n",
       "        text-align: right;\n",
       "    }\n",
       "</style>\n",
       "<table border=\"1\" class=\"dataframe\">\n",
       "  <thead>\n",
       "    <tr style=\"text-align: right;\">\n",
       "      <th></th>\n",
       "      <th>total_area</th>\n",
       "      <th>living_area</th>\n",
       "      <th>kitchen_area</th>\n",
       "      <th>rooms</th>\n",
       "      <th>ceiling_height</th>\n",
       "    </tr>\n",
       "  </thead>\n",
       "  <tbody>\n",
       "    <tr>\n",
       "      <td>count</td>\n",
       "      <td>23583.000000</td>\n",
       "      <td>23583.000000</td>\n",
       "      <td>23583.000000</td>\n",
       "      <td>23583.000000</td>\n",
       "      <td>23583.000000</td>\n",
       "    </tr>\n",
       "    <tr>\n",
       "      <td>mean</td>\n",
       "      <td>59.598864</td>\n",
       "      <td>37.348059</td>\n",
       "      <td>10.010643</td>\n",
       "      <td>2.068142</td>\n",
       "      <td>2.703991</td>\n",
       "    </tr>\n",
       "    <tr>\n",
       "      <td>std</td>\n",
       "      <td>33.382280</td>\n",
       "      <td>21.671869</td>\n",
       "      <td>5.711672</td>\n",
       "      <td>1.019517</td>\n",
       "      <td>0.219063</td>\n",
       "    </tr>\n",
       "    <tr>\n",
       "      <td>min</td>\n",
       "      <td>12.000000</td>\n",
       "      <td>8.000000</td>\n",
       "      <td>0.000000</td>\n",
       "      <td>1.000000</td>\n",
       "      <td>2.000000</td>\n",
       "    </tr>\n",
       "    <tr>\n",
       "      <td>25%</td>\n",
       "      <td>40.000000</td>\n",
       "      <td>25.581531</td>\n",
       "      <td>7.000000</td>\n",
       "      <td>1.000000</td>\n",
       "      <td>2.550000</td>\n",
       "    </tr>\n",
       "    <tr>\n",
       "      <td>50%</td>\n",
       "      <td>52.000000</td>\n",
       "      <td>31.000000</td>\n",
       "      <td>9.000000</td>\n",
       "      <td>2.000000</td>\n",
       "      <td>2.650000</td>\n",
       "    </tr>\n",
       "    <tr>\n",
       "      <td>75%</td>\n",
       "      <td>69.000000</td>\n",
       "      <td>43.000000</td>\n",
       "      <td>11.000000</td>\n",
       "      <td>3.000000</td>\n",
       "      <td>2.750000</td>\n",
       "    </tr>\n",
       "    <tr>\n",
       "      <td>max</td>\n",
       "      <td>631.000000</td>\n",
       "      <td>414.165396</td>\n",
       "      <td>107.000000</td>\n",
       "      <td>7.000000</td>\n",
       "      <td>4.000000</td>\n",
       "    </tr>\n",
       "  </tbody>\n",
       "</table>\n",
       "</div>"
      ],
      "text/plain": [
       "         total_area   living_area  kitchen_area         rooms  ceiling_height\n",
       "count  23583.000000  23583.000000  23583.000000  23583.000000    23583.000000\n",
       "mean      59.598864     37.348059     10.010643      2.068142        2.703991\n",
       "std       33.382280     21.671869      5.711672      1.019517        0.219063\n",
       "min       12.000000      8.000000      0.000000      1.000000        2.000000\n",
       "25%       40.000000     25.581531      7.000000      1.000000        2.550000\n",
       "50%       52.000000     31.000000      9.000000      2.000000        2.650000\n",
       "75%       69.000000     43.000000     11.000000      3.000000        2.750000\n",
       "max      631.000000    414.165396    107.000000      7.000000        4.000000"
      ]
     },
     "execution_count": 72,
     "metadata": {},
     "output_type": "execute_result"
    }
   ],
   "source": [
    "data[['total_area', 'living_area', 'kitchen_area', 'rooms', 'ceiling_height']].describe()"
   ]
  },
  {
   "cell_type": "markdown",
   "metadata": {},
   "source": [
    "После нормализации значений в столбце `living_area` мы можем убедиться, что для любого измерения данных, представленных в резузультате работы метода  `.describe()`, данные корректны. "
   ]
  },
  {
   "cell_type": "markdown",
   "metadata": {},
   "source": [
    "<p style=\"font-size:20px\">4.7 Анализ факторов, влияющих на стоимость продажи квартиры</p>  "
   ]
  },
  {
   "cell_type": "markdown",
   "metadata": {},
   "source": [
    "В числе факторов, от которых потенциально может зависить стоимость объекта, по условию задания следующие:\n",
    "\n",
    "- Цена 1 квадратного метра недвижимости\n",
    "- Число комнат\n",
    "- Этаж (первый или последний)\n",
    "- Удаленность от центра\n",
    "\n",
    "Таким образом, пул значений для проверки будет <span style=\"text-decoration:underline\">ограничен следующими критериями: </span>\n",
    "\n",
    "- Этаж первый или последний (промежуточные значения не учитываем)\n",
    "- Удаленность от центра должна быть указана\n"
   ]
  },
  {
   "cell_type": "code",
   "execution_count": 73,
   "metadata": {},
   "outputs": [
    {
     "data": {
      "text/plain": [
       "4360"
      ]
     },
     "execution_count": 73,
     "metadata": {},
     "output_type": "execute_result"
    }
   ],
   "source": [
    "len(data.loc[(data['cityCenters_nearest'].isnull() == False) & (data['floor_quality'] != 'Другой')])"
   ]
  },
  {
   "cell_type": "markdown",
   "metadata": {},
   "source": [
    "Для надежности стоит проверить записей в датасете, которые имеют указанное значение расстояния до центра, но при этом не принадлежат к локации \"Санкт-Петербург\" для ответа на вопрос: \"Не указано ли расстояние у таких записей до центра другого города\". "
   ]
  },
  {
   "cell_type": "code",
   "execution_count": 74,
   "metadata": {},
   "outputs": [
    {
     "data": {
      "text/plain": [
       "п. Шушары             436\n",
       "Пушкин                367\n",
       "Колпино               336\n",
       "п. Парголово          327\n",
       "Петергоф              201\n",
       "Сестрорецк            183\n",
       "Красное Село          175\n",
       "Ломоносов             132\n",
       "Кронштадт              93\n",
       "п. Металлострой        66\n",
       "п. Стрельна            44\n",
       "Не указано             41\n",
       "Павловск               38\n",
       "Зеленогорск            24\n",
       "п. Понтонный           20\n",
       "п. Сапёрный             6\n",
       "п. Молодёжное           5\n",
       "п. Песочный             4\n",
       "п. Репино               4\n",
       "п. Лисий Нос            3\n",
       "п. Усть-Ижора           2\n",
       "п. Мурино               2\n",
       "п. Александровская      2\n",
       "п. Петро-Славянка       1\n",
       "п. Белоостров           1\n",
       "п. Левашово             1\n",
       "п. Щеглово              1\n",
       "Name: locality_name, dtype: int64"
      ]
     },
     "execution_count": 74,
     "metadata": {},
     "output_type": "execute_result"
    }
   ],
   "source": [
    "#Посмотрим, как распределились такие значения по населенным пунктам\n",
    "data.loc[(data['cityCenters_nearest'].isnull() == False) & (data['locality_name'] != 'Санкт-Петербург'), 'locality_name'].value_counts()"
   ]
  },
  {
   "cell_type": "markdown",
   "metadata": {},
   "source": [
    "Так как я не обладаю экспертизой в областных городах-сателлитах Санкт-Петербурга, посмотрим на среднее расстояние до центра города по этим населенным пунктам:"
   ]
  },
  {
   "cell_type": "code",
   "execution_count": 75,
   "metadata": {},
   "outputs": [
    {
     "data": {
      "text/html": [
       "<div>\n",
       "<style scoped>\n",
       "    .dataframe tbody tr th:only-of-type {\n",
       "        vertical-align: middle;\n",
       "    }\n",
       "\n",
       "    .dataframe tbody tr th {\n",
       "        vertical-align: top;\n",
       "    }\n",
       "\n",
       "    .dataframe thead th {\n",
       "        text-align: right;\n",
       "    }\n",
       "</style>\n",
       "<table border=\"1\" class=\"dataframe\">\n",
       "  <thead>\n",
       "    <tr style=\"text-align: right;\">\n",
       "      <th></th>\n",
       "      <th>cityCenters_nearest</th>\n",
       "    </tr>\n",
       "    <tr>\n",
       "      <th>locality_name</th>\n",
       "      <th></th>\n",
       "    </tr>\n",
       "  </thead>\n",
       "  <tbody>\n",
       "    <tr>\n",
       "      <td>Зеленогорск</td>\n",
       "      <td>54617.583333</td>\n",
       "    </tr>\n",
       "    <tr>\n",
       "      <td>Колпино</td>\n",
       "      <td>32107.764881</td>\n",
       "    </tr>\n",
       "    <tr>\n",
       "      <td>Красное Село</td>\n",
       "      <td>30031.474286</td>\n",
       "    </tr>\n",
       "    <tr>\n",
       "      <td>Кронштадт</td>\n",
       "      <td>49176.956989</td>\n",
       "    </tr>\n",
       "    <tr>\n",
       "      <td>Ломоносов</td>\n",
       "      <td>50739.969697</td>\n",
       "    </tr>\n",
       "    <tr>\n",
       "      <td>Не указано</td>\n",
       "      <td>11278.902439</td>\n",
       "    </tr>\n",
       "    <tr>\n",
       "      <td>Павловск</td>\n",
       "      <td>33206.921053</td>\n",
       "    </tr>\n",
       "    <tr>\n",
       "      <td>Петергоф</td>\n",
       "      <td>35468.925373</td>\n",
       "    </tr>\n",
       "    <tr>\n",
       "      <td>Пушкин</td>\n",
       "      <td>28736.340599</td>\n",
       "    </tr>\n",
       "    <tr>\n",
       "      <td>Сестрорецк</td>\n",
       "      <td>34624.480874</td>\n",
       "    </tr>\n",
       "    <tr>\n",
       "      <td>п. Александровская</td>\n",
       "      <td>27468.000000</td>\n",
       "    </tr>\n",
       "    <tr>\n",
       "      <td>п. Белоостров</td>\n",
       "      <td>38868.000000</td>\n",
       "    </tr>\n",
       "    <tr>\n",
       "      <td>п. Левашово</td>\n",
       "      <td>25727.000000</td>\n",
       "    </tr>\n",
       "    <tr>\n",
       "      <td>п. Лисий Нос</td>\n",
       "      <td>27613.333333</td>\n",
       "    </tr>\n",
       "    <tr>\n",
       "      <td>п. Металлострой</td>\n",
       "      <td>27561.348485</td>\n",
       "    </tr>\n",
       "    <tr>\n",
       "      <td>п. Молодёжное</td>\n",
       "      <td>65529.200000</td>\n",
       "    </tr>\n",
       "    <tr>\n",
       "      <td>п. Мурино</td>\n",
       "      <td>21888.000000</td>\n",
       "    </tr>\n",
       "    <tr>\n",
       "      <td>п. Парголово</td>\n",
       "      <td>19924.776758</td>\n",
       "    </tr>\n",
       "    <tr>\n",
       "      <td>п. Песочный</td>\n",
       "      <td>26475.250000</td>\n",
       "    </tr>\n",
       "    <tr>\n",
       "      <td>п. Петро-Славянка</td>\n",
       "      <td>27165.000000</td>\n",
       "    </tr>\n",
       "    <tr>\n",
       "      <td>п. Понтонный</td>\n",
       "      <td>32293.450000</td>\n",
       "    </tr>\n",
       "    <tr>\n",
       "      <td>п. Репино</td>\n",
       "      <td>43392.250000</td>\n",
       "    </tr>\n",
       "    <tr>\n",
       "      <td>п. Сапёрный</td>\n",
       "      <td>35854.666667</td>\n",
       "    </tr>\n",
       "    <tr>\n",
       "      <td>п. Стрельна</td>\n",
       "      <td>23376.113636</td>\n",
       "    </tr>\n",
       "    <tr>\n",
       "      <td>п. Усть-Ижора</td>\n",
       "      <td>28222.500000</td>\n",
       "    </tr>\n",
       "    <tr>\n",
       "      <td>п. Шушары</td>\n",
       "      <td>24243.387615</td>\n",
       "    </tr>\n",
       "    <tr>\n",
       "      <td>п. Щеглово</td>\n",
       "      <td>34085.000000</td>\n",
       "    </tr>\n",
       "  </tbody>\n",
       "</table>\n",
       "</div>"
      ],
      "text/plain": [
       "                    cityCenters_nearest\n",
       "locality_name                          \n",
       "Зеленогорск                54617.583333\n",
       "Колпино                    32107.764881\n",
       "Красное Село               30031.474286\n",
       "Кронштадт                  49176.956989\n",
       "Ломоносов                  50739.969697\n",
       "Не указано                 11278.902439\n",
       "Павловск                   33206.921053\n",
       "Петергоф                   35468.925373\n",
       "Пушкин                     28736.340599\n",
       "Сестрорецк                 34624.480874\n",
       "п. Александровская         27468.000000\n",
       "п. Белоостров              38868.000000\n",
       "п. Левашово                25727.000000\n",
       "п. Лисий Нос               27613.333333\n",
       "п. Металлострой            27561.348485\n",
       "п. Молодёжное              65529.200000\n",
       "п. Мурино                  21888.000000\n",
       "п. Парголово               19924.776758\n",
       "п. Песочный                26475.250000\n",
       "п. Петро-Славянка          27165.000000\n",
       "п. Понтонный               32293.450000\n",
       "п. Репино                  43392.250000\n",
       "п. Сапёрный                35854.666667\n",
       "п. Стрельна                23376.113636\n",
       "п. Усть-Ижора              28222.500000\n",
       "п. Шушары                  24243.387615\n",
       "п. Щеглово                 34085.000000"
      ]
     },
     "execution_count": 75,
     "metadata": {},
     "output_type": "execute_result"
    }
   ],
   "source": [
    "data.loc[(data['cityCenters_nearest'].isnull() == False) & (data['locality_name'] != 'Санкт-Петербург')]\\\n",
    ".pivot_table(index='locality_name', values='cityCenters_nearest')"
   ]
  },
  {
   "cell_type": "markdown",
   "metadata": {},
   "source": [
    "Мы видим, что во всех случаях расстояния достаточно большие для того, чтобы мы предположили, что у всех строк значения указаны до центра Санкт-Петербурга. "
   ]
  },
  {
   "cell_type": "markdown",
   "metadata": {},
   "source": [
    "Построим матрицу корреляции между интересующими нас параметрами каждого объекта недвижимости:"
   ]
  },
  {
   "cell_type": "code",
   "execution_count": 76,
   "metadata": {},
   "outputs": [
    {
     "data": {
      "text/html": [
       "<div>\n",
       "<style scoped>\n",
       "    .dataframe tbody tr th:only-of-type {\n",
       "        vertical-align: middle;\n",
       "    }\n",
       "\n",
       "    .dataframe tbody tr th {\n",
       "        vertical-align: top;\n",
       "    }\n",
       "\n",
       "    .dataframe thead th {\n",
       "        text-align: right;\n",
       "    }\n",
       "</style>\n",
       "<table border=\"1\" class=\"dataframe\">\n",
       "  <thead>\n",
       "    <tr style=\"text-align: right;\">\n",
       "      <th></th>\n",
       "      <th>last_price</th>\n",
       "      <th>price_per_sqm</th>\n",
       "      <th>total_area</th>\n",
       "      <th>rooms</th>\n",
       "      <th>floor</th>\n",
       "      <th>cityCenters_nearest</th>\n",
       "    </tr>\n",
       "  </thead>\n",
       "  <tbody>\n",
       "    <tr>\n",
       "      <td>last_price</td>\n",
       "      <td>1.000000</td>\n",
       "      <td>0.819780</td>\n",
       "      <td>0.567750</td>\n",
       "      <td>0.297625</td>\n",
       "      <td>0.051864</td>\n",
       "      <td>-0.145012</td>\n",
       "    </tr>\n",
       "    <tr>\n",
       "      <td>price_per_sqm</td>\n",
       "      <td>0.819780</td>\n",
       "      <td>1.000000</td>\n",
       "      <td>0.311156</td>\n",
       "      <td>0.063825</td>\n",
       "      <td>0.104655</td>\n",
       "      <td>-0.270607</td>\n",
       "    </tr>\n",
       "    <tr>\n",
       "      <td>total_area</td>\n",
       "      <td>0.567750</td>\n",
       "      <td>0.311156</td>\n",
       "      <td>1.000000</td>\n",
       "      <td>0.716924</td>\n",
       "      <td>0.040057</td>\n",
       "      <td>-0.180914</td>\n",
       "    </tr>\n",
       "    <tr>\n",
       "      <td>rooms</td>\n",
       "      <td>0.297625</td>\n",
       "      <td>0.063825</td>\n",
       "      <td>0.716924</td>\n",
       "      <td>1.000000</td>\n",
       "      <td>-0.066332</td>\n",
       "      <td>-0.176306</td>\n",
       "    </tr>\n",
       "    <tr>\n",
       "      <td>floor</td>\n",
       "      <td>0.051864</td>\n",
       "      <td>0.104655</td>\n",
       "      <td>0.040057</td>\n",
       "      <td>-0.066332</td>\n",
       "      <td>1.000000</td>\n",
       "      <td>-0.045310</td>\n",
       "    </tr>\n",
       "    <tr>\n",
       "      <td>cityCenters_nearest</td>\n",
       "      <td>-0.145012</td>\n",
       "      <td>-0.270607</td>\n",
       "      <td>-0.180914</td>\n",
       "      <td>-0.176306</td>\n",
       "      <td>-0.045310</td>\n",
       "      <td>1.000000</td>\n",
       "    </tr>\n",
       "  </tbody>\n",
       "</table>\n",
       "</div>"
      ],
      "text/plain": [
       "                     last_price  price_per_sqm  total_area     rooms  \\\n",
       "last_price             1.000000       0.819780    0.567750  0.297625   \n",
       "price_per_sqm          0.819780       1.000000    0.311156  0.063825   \n",
       "total_area             0.567750       0.311156    1.000000  0.716924   \n",
       "rooms                  0.297625       0.063825    0.716924  1.000000   \n",
       "floor                  0.051864       0.104655    0.040057 -0.066332   \n",
       "cityCenters_nearest   -0.145012      -0.270607   -0.180914 -0.176306   \n",
       "\n",
       "                        floor  cityCenters_nearest  \n",
       "last_price           0.051864            -0.145012  \n",
       "price_per_sqm        0.104655            -0.270607  \n",
       "total_area           0.040057            -0.180914  \n",
       "rooms               -0.066332            -0.176306  \n",
       "floor                1.000000            -0.045310  \n",
       "cityCenters_nearest -0.045310             1.000000  "
      ]
     },
     "execution_count": 76,
     "metadata": {},
     "output_type": "execute_result"
    }
   ],
   "source": [
    "data.loc[(data['cityCenters_nearest'].isnull() == False) & (data['floor_quality'] != 'Другой')]\\\n",
    "[['last_price', 'price_per_sqm', 'total_area', 'rooms', 'floor', 'cityCenters_nearest']].corr()"
   ]
  },
  {
   "cell_type": "markdown",
   "metadata": {},
   "source": [
    "1) Видна довольна очевидная сильная корреляция между общей стоимостью объекта недвижимости и ценой 1 квадратного метра;\n",
    "\n",
    "2) Присутствует слабая корреляция между количеством комнат и стоимостью объекта недвижимости - это вполне объяснимый факт, так как количество комнат не позволяет в полной мере охарактеризовать качество объекта в целом (например, комнаты могут быть многочисленными, но малогабаритными)\n",
    "\n",
    "3) Наиболее интересная зависимость между расстоянием до центра города и стоимостью одного квадратного метра недвижимости - она слабая и отрицательная (то есть, уменьшение одного параметра влияет на рост другого), но довольно существенно выделяется на фоне остальных метрик, поэтому имеет смысл принимать ее во внимание при оценке недвижимости;\n",
    "\n",
    "4) Очень слабая отрицательная корреляция между ценой объекта в общем и расстоянием от этого объекта до центра города, а также между расстоянием и количеством комнат. "
   ]
  },
  {
   "cell_type": "code",
   "execution_count": 77,
   "metadata": {},
   "outputs": [
    {
     "name": "stdout",
     "output_type": "stream",
     "text": [
      "Коэффициент корреляции между ценой и днем недели: 0.02657767988832828\n",
      "Коэффициент корреляции между ценой и месяцем: -0.0033137185745025217\n",
      "Коэффициент корреляции между ценой и годом: -0.01440665125621007\n"
     ]
    }
   ],
   "source": [
    "print('Коэффициент корреляции между ценой и днем недели:', data.loc[(data['cityCenters_nearest'].isnull() == False) & (data['floor_quality'] != 'Другой'), 'last_price']\\\n",
    ".corr(pd.to_datetime(data.loc[(data['cityCenters_nearest'].isnull() == False) & (data['floor_quality'] != 'Другой'), \\\n",
    "'first_day_exposition']).dt.dayofweek))\n",
    "\n",
    "print('Коэффициент корреляции между ценой и месяцем:', data.loc[(data['cityCenters_nearest'].isnull() == False) & (data['floor_quality'] != 'Другой'), 'last_price']\\\n",
    ".corr(pd.to_datetime(data.loc[(data['cityCenters_nearest'].isnull() == False) & (data['floor_quality'] != 'Другой'), \\\n",
    "'first_day_exposition']).dt.month))\n",
    "\n",
    "print('Коэффициент корреляции между ценой и годом:', data.loc[(data['cityCenters_nearest'].isnull() == False) & (data['floor_quality'] != 'Другой'), 'last_price']\\\n",
    ".corr(pd.to_datetime(data.loc[(data['cityCenters_nearest'].isnull() == False) & (data['floor_quality'] != 'Другой'), \\\n",
    "'first_day_exposition']).dt.year))"
   ]
  },
  {
   "cell_type": "code",
   "execution_count": 78,
   "metadata": {},
   "outputs": [
    {
     "data": {
      "image/png": "[encoded data removed]",
      "text/plain": [
       "<Figure size 648x288 with 1 Axes>"
      ]
     },
     "metadata": {
      "needs_background": "light"
     },
     "output_type": "display_data"
    }
   ],
   "source": [
    "import matplotlib.pyplot as plt\n",
    "analysis = data.loc[(data['cityCenters_nearest'].isnull() == False)]\\\n",
    ".pivot_table(index='weekday_published', values='last_price_mlns').sort_values('weekday_published')\n",
    "analysis = analysis.reset_index()\n",
    "\n",
    "index = analysis['weekday_published']\n",
    "values = analysis['last_price_mlns']\n",
    "\n",
    "fig, ax = plt.subplots()\n",
    "plt.bar(index, values)\n",
    "fig.set_figwidth(9)\n",
    "ax.set_xlabel('День недели')\n",
    "ax.set_ylabel('Средняя цена в млн. руб.')\n",
    "plt.show()"
   ]
  },
  {
   "cell_type": "markdown",
   "metadata": {},
   "source": [
    "Мы видим, что средняя цена объекта недвижимости в субботу выделяется на фоне остальных. Вероятно в течение недели происхоидт сбор информации о более дорогих объектах недвижмости. Альтернативный вариант - риэлтор, ответственный за публикацию, может организовать просмотр и, как следствие, публикацию объявления только в выходные."
   ]
  },
  {
   "cell_type": "code",
   "execution_count": 79,
   "metadata": {},
   "outputs": [
    {
     "data": {
      "text/html": [
       "<div>\n",
       "<style scoped>\n",
       "    .dataframe tbody tr th:only-of-type {\n",
       "        vertical-align: middle;\n",
       "    }\n",
       "\n",
       "    .dataframe tbody tr th {\n",
       "        vertical-align: top;\n",
       "    }\n",
       "\n",
       "    .dataframe thead th {\n",
       "        text-align: right;\n",
       "    }\n",
       "</style>\n",
       "<table border=\"1\" class=\"dataframe\">\n",
       "  <thead>\n",
       "    <tr style=\"text-align: right;\">\n",
       "      <th></th>\n",
       "      <th>first_day_exposition</th>\n",
       "      <th>last_price_mlns</th>\n",
       "      <th>month_published</th>\n",
       "      <th>year_published</th>\n",
       "    </tr>\n",
       "  </thead>\n",
       "  <tbody>\n",
       "    <tr>\n",
       "      <td>19041</td>\n",
       "      <td>2017-06-20</td>\n",
       "      <td>3.20</td>\n",
       "      <td>6</td>\n",
       "      <td>2017</td>\n",
       "    </tr>\n",
       "    <tr>\n",
       "      <td>6730</td>\n",
       "      <td>2015-11-01</td>\n",
       "      <td>5.60</td>\n",
       "      <td>11</td>\n",
       "      <td>2015</td>\n",
       "    </tr>\n",
       "    <tr>\n",
       "      <td>18952</td>\n",
       "      <td>2016-01-25</td>\n",
       "      <td>4.65</td>\n",
       "      <td>1</td>\n",
       "      <td>2016</td>\n",
       "    </tr>\n",
       "    <tr>\n",
       "      <td>17792</td>\n",
       "      <td>2016-06-07</td>\n",
       "      <td>12.48</td>\n",
       "      <td>6</td>\n",
       "      <td>2016</td>\n",
       "    </tr>\n",
       "    <tr>\n",
       "      <td>2286</td>\n",
       "      <td>2018-03-01</td>\n",
       "      <td>4.00</td>\n",
       "      <td>3</td>\n",
       "      <td>2018</td>\n",
       "    </tr>\n",
       "    <tr>\n",
       "      <td>17410</td>\n",
       "      <td>2019-01-29</td>\n",
       "      <td>11.05</td>\n",
       "      <td>1</td>\n",
       "      <td>2019</td>\n",
       "    </tr>\n",
       "    <tr>\n",
       "      <td>11794</td>\n",
       "      <td>2017-05-29</td>\n",
       "      <td>7.70</td>\n",
       "      <td>5</td>\n",
       "      <td>2017</td>\n",
       "    </tr>\n",
       "    <tr>\n",
       "      <td>15595</td>\n",
       "      <td>2018-09-01</td>\n",
       "      <td>6.00</td>\n",
       "      <td>9</td>\n",
       "      <td>2018</td>\n",
       "    </tr>\n",
       "    <tr>\n",
       "      <td>20912</td>\n",
       "      <td>2016-03-19</td>\n",
       "      <td>3.70</td>\n",
       "      <td>3</td>\n",
       "      <td>2016</td>\n",
       "    </tr>\n",
       "    <tr>\n",
       "      <td>11360</td>\n",
       "      <td>2018-02-01</td>\n",
       "      <td>4.20</td>\n",
       "      <td>2</td>\n",
       "      <td>2018</td>\n",
       "    </tr>\n",
       "  </tbody>\n",
       "</table>\n",
       "</div>"
      ],
      "text/plain": [
       "      first_day_exposition  last_price_mlns  month_published  year_published\n",
       "19041           2017-06-20             3.20                6            2017\n",
       "6730            2015-11-01             5.60               11            2015\n",
       "18952           2016-01-25             4.65                1            2016\n",
       "17792           2016-06-07            12.48                6            2016\n",
       "2286            2018-03-01             4.00                3            2018\n",
       "17410           2019-01-29            11.05                1            2019\n",
       "11794           2017-05-29             7.70                5            2017\n",
       "15595           2018-09-01             6.00                9            2018\n",
       "20912           2016-03-19             3.70                3            2016\n",
       "11360           2018-02-01             4.20                2            2018"
      ]
     },
     "execution_count": 79,
     "metadata": {},
     "output_type": "execute_result"
    }
   ],
   "source": [
    "analysis = data.loc[(data['cityCenters_nearest'].isnull() == False),\\\n",
    "['first_day_exposition', 'last_price_mlns']]\n",
    "analysis['month_published'] = pd.to_datetime(data['first_day_exposition']).dt.month\n",
    "analysis['year_published'] = pd.to_datetime(data['first_day_exposition']).dt.year\n",
    "#если в первом случае мы воспользовались днем недели, который добавили в исходный датафрейм изначально, то для\n",
    "#построения графиков по месяцу и году используем отдельный небольшой датафрейм с нужными данными\n",
    "\n",
    "analysis.sample(10)"
   ]
  },
  {
   "cell_type": "code",
   "execution_count": 80,
   "metadata": {},
   "outputs": [
    {
     "data": {
      "image/png": "[encoded data removed]",
      "text/plain": [
       "<Figure size 1080x288 with 1 Axes>"
      ]
     },
     "metadata": {
      "needs_background": "light"
     },
     "output_type": "display_data"
    }
   ],
   "source": [
    "month_pivot = analysis.pivot_table(index='month_published', values='last_price_mlns').sort_values('month_published')\n",
    "month_pivot = month_pivot.reset_index()\n",
    "\n",
    "index = month_pivot['month_published']\n",
    "values = month_pivot['last_price_mlns']\n",
    "\n",
    "fig, ax = plt.subplots()\n",
    "plt.bar(index, values)\n",
    "ax.set_xlabel('Месяц публикации объявления')\n",
    "ax.set_ylabel('Средняя цена в млн. руб.')\n",
    "fig.set_figwidth(15)\n",
    "ax.grid()\n",
    "plt.show()"
   ]
  },
  {
   "cell_type": "markdown",
   "metadata": {},
   "source": [
    "Мы видим, что в течении года средняя цена квартиры тяготеет к отметке в 7 миллонов. Исколючение сентябрь - в этом месяца средняя стоимость квартиры немного выше 9 миллионов. "
   ]
  },
  {
   "cell_type": "code",
   "execution_count": 81,
   "metadata": {},
   "outputs": [
    {
     "data": {
      "image/png": "[encoded data removed]",
      "text/plain": [
       "<Figure size 1080x288 with 1 Axes>"
      ]
     },
     "metadata": {
      "needs_background": "light"
     },
     "output_type": "display_data"
    }
   ],
   "source": [
    "yr_pivot = analysis.pivot_table(index='year_published', values='last_price_mlns').sort_values('year_published')\n",
    "yr_pivot = yr_pivot.reset_index()\n",
    "\n",
    "index = yr_pivot['year_published']\n",
    "values = yr_pivot['last_price_mlns']\n",
    "\n",
    "fig, ax = plt.subplots()\n",
    "plt.bar(index, values)\n",
    "ax.set_xlabel('Год публикации объявления')\n",
    "ax.set_ylabel('Средняя цена в млн. руб.')\n",
    "fig.set_figwidth(15)\n",
    "ax.grid()\n",
    "plt.show()"
   ]
  },
  {
   "cell_type": "markdown",
   "metadata": {},
   "source": [
    "Наиболее выраженный перепад мы наблюдаем при анализе средней цены объекта недвижимости за год - мы видим двухкратное снижение в период между 2014 и 2015 годами. В 2016-2017 годах продолжается снижение, но минимальное. Можно предположить, что резкий спад обусловлен последствиями начавшегося экономического кризиса и резкого снижения доходов населения. Влоть до 2018 года средняя цена объекта недвижимости снижалась и только в 2019 году начала расти. \n",
    "\n",
    "Гипотеза: снижение стоимости на \"люксовую\" недвижимость вкупе с ростом спроса на бюджетные объекты - это два ключевых драйвера рыночной тенденции, представленной на графике. "
   ]
  },
  {
   "cell_type": "code",
   "execution_count": 82,
   "metadata": {},
   "outputs": [
    {
     "data": {
      "text/html": [
       "<div>\n",
       "<style scoped>\n",
       "    .dataframe tbody tr th:only-of-type {\n",
       "        vertical-align: middle;\n",
       "    }\n",
       "\n",
       "    .dataframe tbody tr th {\n",
       "        vertical-align: top;\n",
       "    }\n",
       "\n",
       "    .dataframe thead th {\n",
       "        text-align: right;\n",
       "    }\n",
       "</style>\n",
       "<table border=\"1\" class=\"dataframe\">\n",
       "  <thead>\n",
       "    <tr style=\"text-align: right;\">\n",
       "      <th></th>\n",
       "      <th>last_price_mlns</th>\n",
       "    </tr>\n",
       "    <tr>\n",
       "      <th>month_published</th>\n",
       "      <th></th>\n",
       "    </tr>\n",
       "  </thead>\n",
       "  <tbody>\n",
       "    <tr>\n",
       "      <td>11</td>\n",
       "      <td>13.538000</td>\n",
       "    </tr>\n",
       "    <tr>\n",
       "      <td>12</td>\n",
       "      <td>13.514362</td>\n",
       "    </tr>\n",
       "  </tbody>\n",
       "</table>\n",
       "</div>"
      ],
      "text/plain": [
       "                 last_price_mlns\n",
       "month_published                 \n",
       "11                     13.538000\n",
       "12                     13.514362"
      ]
     },
     "metadata": {},
     "output_type": "display_data"
    }
   ],
   "source": [
    "yr_pivot_2014 = analysis.loc[analysis['year_published'] == 2014].pivot_table(index='month_published',\\\n",
    "values='last_price_mlns')\n",
    "display(yr_pivot_2014)"
   ]
  },
  {
   "cell_type": "markdown",
   "metadata": {},
   "source": [
    "Мы видим, что располагаем информацией об опубликованных в 2014 году объявлениях только за два месяца: ноябрь и декабрь. Это менее 20% данных по году, поэтому выводы на базе этой информации будут еще менее точными. Однако, мы понимаем, что кризис в 2014 году начался ранее и такие цены на недвижимость в конце года - это попытка \"заморозить\" деньги, обсуловленная резким падением курса валюты. "
   ]
  },
  {
   "cell_type": "code",
   "execution_count": 83,
   "metadata": {},
   "outputs": [
    {
     "data": {
      "text/html": [
       "<div>\n",
       "<style scoped>\n",
       "    .dataframe tbody tr th:only-of-type {\n",
       "        vertical-align: middle;\n",
       "    }\n",
       "\n",
       "    .dataframe tbody tr th {\n",
       "        vertical-align: top;\n",
       "    }\n",
       "\n",
       "    .dataframe thead th {\n",
       "        text-align: right;\n",
       "    }\n",
       "</style>\n",
       "<table border=\"1\" class=\"dataframe\">\n",
       "  <thead>\n",
       "    <tr style=\"text-align: right;\">\n",
       "      <th></th>\n",
       "      <th>locality_name</th>\n",
       "      <th>rows</th>\n",
       "    </tr>\n",
       "  </thead>\n",
       "  <tbody>\n",
       "    <tr>\n",
       "      <td>0</td>\n",
       "      <td>Санкт-Петербург</td>\n",
       "      <td>15625</td>\n",
       "    </tr>\n",
       "    <tr>\n",
       "      <td>1</td>\n",
       "      <td>п. Мурино</td>\n",
       "      <td>554</td>\n",
       "    </tr>\n",
       "    <tr>\n",
       "      <td>2</td>\n",
       "      <td>п. Шушары</td>\n",
       "      <td>440</td>\n",
       "    </tr>\n",
       "    <tr>\n",
       "      <td>3</td>\n",
       "      <td>Всеволожск</td>\n",
       "      <td>397</td>\n",
       "    </tr>\n",
       "    <tr>\n",
       "      <td>4</td>\n",
       "      <td>Пушкин</td>\n",
       "      <td>368</td>\n",
       "    </tr>\n",
       "    <tr>\n",
       "      <td>5</td>\n",
       "      <td>Колпино</td>\n",
       "      <td>337</td>\n",
       "    </tr>\n",
       "    <tr>\n",
       "      <td>6</td>\n",
       "      <td>п. Парголово</td>\n",
       "      <td>327</td>\n",
       "    </tr>\n",
       "    <tr>\n",
       "      <td>7</td>\n",
       "      <td>Гатчина</td>\n",
       "      <td>306</td>\n",
       "    </tr>\n",
       "    <tr>\n",
       "      <td>8</td>\n",
       "      <td>д. Кудрово</td>\n",
       "      <td>299</td>\n",
       "    </tr>\n",
       "    <tr>\n",
       "      <td>9</td>\n",
       "      <td>Выборг</td>\n",
       "      <td>236</td>\n",
       "    </tr>\n",
       "  </tbody>\n",
       "</table>\n",
       "</div>"
      ],
      "text/plain": [
       "     locality_name   rows\n",
       "0  Санкт-Петербург  15625\n",
       "1        п. Мурино    554\n",
       "2        п. Шушары    440\n",
       "3       Всеволожск    397\n",
       "4           Пушкин    368\n",
       "5          Колпино    337\n",
       "6     п. Парголово    327\n",
       "7          Гатчина    306\n",
       "8       д. Кудрово    299\n",
       "9           Выборг    236"
      ]
     },
     "execution_count": 83,
     "metadata": {},
     "output_type": "execute_result"
    }
   ],
   "source": [
    "locality_top10 = pd.DataFrame.from_dict(data['locality_name'].value_counts().head(10).to_dict(), \\\n",
    "orient='index', columns=['rows'])\n",
    "#отбираем 10 населенных пунктов с наибольшим количеством объявлений и записываем их в словарь, который преобразуем в\n",
    "#датафрейм\n",
    "locality_top10.reset_index(inplace=True)\n",
    "locality_top10.columns=['locality_name', 'rows']\n",
    "\n",
    "locality_top10.head(10)"
   ]
  },
  {
   "cell_type": "code",
   "execution_count": 84,
   "metadata": {},
   "outputs": [],
   "source": [
    "data_grouped = data.groupby('locality_name')\n",
    "data_grouped = data_grouped['last_price', 'price_per_sqm'].mean().astype(int)\n",
    "#группируем исходный датафрейм по локации и считаем среднее по цене и цене за квадратный метр - на выходе получаем\n",
    "#новый датафрейм с нужными параметрами и полным списком локаций из выборки"
   ]
  },
  {
   "cell_type": "code",
   "execution_count": 85,
   "metadata": {},
   "outputs": [
    {
     "data": {
      "text/html": [
       "<div>\n",
       "<style scoped>\n",
       "    .dataframe tbody tr th:only-of-type {\n",
       "        vertical-align: middle;\n",
       "    }\n",
       "\n",
       "    .dataframe tbody tr th {\n",
       "        vertical-align: top;\n",
       "    }\n",
       "\n",
       "    .dataframe thead th {\n",
       "        text-align: right;\n",
       "    }\n",
       "</style>\n",
       "<table border=\"1\" class=\"dataframe\">\n",
       "  <thead>\n",
       "    <tr style=\"text-align: right;\">\n",
       "      <th></th>\n",
       "      <th>locality_name</th>\n",
       "      <th>rows</th>\n",
       "      <th>last_price</th>\n",
       "      <th>price_per_sqm</th>\n",
       "    </tr>\n",
       "  </thead>\n",
       "  <tbody>\n",
       "    <tr>\n",
       "      <td>0</td>\n",
       "      <td>Санкт-Петербург</td>\n",
       "      <td>15625</td>\n",
       "      <td>7903044</td>\n",
       "      <td>115061</td>\n",
       "    </tr>\n",
       "    <tr>\n",
       "      <td>1</td>\n",
       "      <td>п. Мурино</td>\n",
       "      <td>554</td>\n",
       "      <td>3653272</td>\n",
       "      <td>86288</td>\n",
       "    </tr>\n",
       "    <tr>\n",
       "      <td>2</td>\n",
       "      <td>п. Шушары</td>\n",
       "      <td>440</td>\n",
       "      <td>4108081</td>\n",
       "      <td>79068</td>\n",
       "    </tr>\n",
       "    <tr>\n",
       "      <td>3</td>\n",
       "      <td>Всеволожск</td>\n",
       "      <td>397</td>\n",
       "      <td>3790803</td>\n",
       "      <td>68935</td>\n",
       "    </tr>\n",
       "    <tr>\n",
       "      <td>4</td>\n",
       "      <td>Пушкин</td>\n",
       "      <td>368</td>\n",
       "      <td>6458625</td>\n",
       "      <td>103542</td>\n",
       "    </tr>\n",
       "    <tr>\n",
       "      <td>5</td>\n",
       "      <td>Колпино</td>\n",
       "      <td>337</td>\n",
       "      <td>3866288</td>\n",
       "      <td>75644</td>\n",
       "    </tr>\n",
       "    <tr>\n",
       "      <td>6</td>\n",
       "      <td>п. Парголово</td>\n",
       "      <td>327</td>\n",
       "      <td>4488074</td>\n",
       "      <td>90675</td>\n",
       "    </tr>\n",
       "    <tr>\n",
       "      <td>7</td>\n",
       "      <td>Гатчина</td>\n",
       "      <td>306</td>\n",
       "      <td>3487971</td>\n",
       "      <td>69056</td>\n",
       "    </tr>\n",
       "    <tr>\n",
       "      <td>8</td>\n",
       "      <td>д. Кудрово</td>\n",
       "      <td>299</td>\n",
       "      <td>4234157</td>\n",
       "      <td>93001</td>\n",
       "    </tr>\n",
       "    <tr>\n",
       "      <td>9</td>\n",
       "      <td>Выборг</td>\n",
       "      <td>236</td>\n",
       "      <td>3236792</td>\n",
       "      <td>58248</td>\n",
       "    </tr>\n",
       "  </tbody>\n",
       "</table>\n",
       "</div>"
      ],
      "text/plain": [
       "     locality_name   rows  last_price  price_per_sqm\n",
       "0  Санкт-Петербург  15625     7903044         115061\n",
       "1        п. Мурино    554     3653272          86288\n",
       "2        п. Шушары    440     4108081          79068\n",
       "3       Всеволожск    397     3790803          68935\n",
       "4           Пушкин    368     6458625         103542\n",
       "5          Колпино    337     3866288          75644\n",
       "6     п. Парголово    327     4488074          90675\n",
       "7          Гатчина    306     3487971          69056\n",
       "8       д. Кудрово    299     4234157          93001\n",
       "9           Выборг    236     3236792          58248"
      ]
     },
     "metadata": {},
     "output_type": "display_data"
    }
   ],
   "source": [
    "locality_top10 = locality_top10.join(data_grouped, on='locality_name')\n",
    "#соеднияем два полученных датафрейма и получаем топ10 населенных пунктов с количеством объявлений, средней ценой и \n",
    "#средней ценой за квадратный метр\n",
    "display(locality_top10)"
   ]
  },
  {
   "cell_type": "markdown",
   "metadata": {},
   "source": [
    "<span style=\"font-family:Arial Black\">Выводы по задаче:</span>\n",
    "\n",
    "1) Санкт-Петербург лидер по всем параметрам: больше всего объявлений, самая высокая средняя стоимость объекта недвижимости и самая высокая цена 1 квадратного метра;\n",
    "\n",
    "2) На втором месте по стоимости с незначительным отрывом - Пушкин.  Эти два населенных пункта можно назвать самыми дорогими в нашем датасете. \n",
    "\n",
    "3) Самые \"бюджетные\" варианты располагаются во Всеволожске и Выборге. "
   ]
  },
  {
   "cell_type": "markdown",
   "metadata": {},
   "source": [
    "<p style=\"font-size:20px\">4.8 Анализ расстояния до центра города</p> "
   ]
  },
  {
   "cell_type": "markdown",
   "metadata": {},
   "source": [
    "В соответствии с условиями поставленной задачи, нам необходимо добавить в таблицу новый столбец с расстоянием в километрах и округлить его до целых значений, однако ранее мы уже пересчитали значения исходного столбца в километры и округлили до 1 знака после точки из соображений упрощения восприятия значений в таблице, так как десятки и единицы метров в расстоянии до таких объектов вряд ли будут иметь принципиальное значение. Поэтому мы добавим новый столбец без пересчета, но с округлением до целого значения:"
   ]
  },
  {
   "cell_type": "code",
   "execution_count": 86,
   "metadata": {},
   "outputs": [
    {
     "data": {
      "text/html": [
       "<div>\n",
       "<style scoped>\n",
       "    .dataframe tbody tr th:only-of-type {\n",
       "        vertical-align: middle;\n",
       "    }\n",
       "\n",
       "    .dataframe tbody tr th {\n",
       "        vertical-align: top;\n",
       "    }\n",
       "\n",
       "    .dataframe thead th {\n",
       "        text-align: right;\n",
       "    }\n",
       "</style>\n",
       "<table border=\"1\" class=\"dataframe\">\n",
       "  <thead>\n",
       "    <tr style=\"text-align: right;\">\n",
       "      <th></th>\n",
       "      <th>last_price_mlns</th>\n",
       "    </tr>\n",
       "    <tr>\n",
       "      <th>cityCenters_nearest_km</th>\n",
       "      <th></th>\n",
       "    </tr>\n",
       "  </thead>\n",
       "  <tbody>\n",
       "    <tr>\n",
       "      <td>0.0</td>\n",
       "      <td>33.044800</td>\n",
       "    </tr>\n",
       "    <tr>\n",
       "      <td>1.0</td>\n",
       "      <td>20.706489</td>\n",
       "    </tr>\n",
       "    <tr>\n",
       "      <td>2.0</td>\n",
       "      <td>17.644452</td>\n",
       "    </tr>\n",
       "    <tr>\n",
       "      <td>3.0</td>\n",
       "      <td>10.922558</td>\n",
       "    </tr>\n",
       "    <tr>\n",
       "      <td>4.0</td>\n",
       "      <td>12.884711</td>\n",
       "    </tr>\n",
       "    <tr>\n",
       "      <td>5.0</td>\n",
       "      <td>14.164934</td>\n",
       "    </tr>\n",
       "    <tr>\n",
       "      <td>6.0</td>\n",
       "      <td>14.351351</td>\n",
       "    </tr>\n",
       "    <tr>\n",
       "      <td>7.0</td>\n",
       "      <td>14.474844</td>\n",
       "    </tr>\n",
       "    <tr>\n",
       "      <td>8.0</td>\n",
       "      <td>9.152640</td>\n",
       "    </tr>\n",
       "    <tr>\n",
       "      <td>9.0</td>\n",
       "      <td>6.962416</td>\n",
       "    </tr>\n",
       "    <tr>\n",
       "      <td>10.0</td>\n",
       "      <td>6.414783</td>\n",
       "    </tr>\n",
       "    <tr>\n",
       "      <td>11.0</td>\n",
       "      <td>6.253515</td>\n",
       "    </tr>\n",
       "    <tr>\n",
       "      <td>12.0</td>\n",
       "      <td>5.818228</td>\n",
       "    </tr>\n",
       "    <tr>\n",
       "      <td>13.0</td>\n",
       "      <td>6.085977</td>\n",
       "    </tr>\n",
       "    <tr>\n",
       "      <td>14.0</td>\n",
       "      <td>5.630219</td>\n",
       "    </tr>\n",
       "    <tr>\n",
       "      <td>15.0</td>\n",
       "      <td>5.884962</td>\n",
       "    </tr>\n",
       "    <tr>\n",
       "      <td>16.0</td>\n",
       "      <td>5.367813</td>\n",
       "    </tr>\n",
       "    <tr>\n",
       "      <td>17.0</td>\n",
       "      <td>5.241780</td>\n",
       "    </tr>\n",
       "    <tr>\n",
       "      <td>18.0</td>\n",
       "      <td>5.091341</td>\n",
       "    </tr>\n",
       "    <tr>\n",
       "      <td>19.0</td>\n",
       "      <td>5.037707</td>\n",
       "    </tr>\n",
       "    <tr>\n",
       "      <td>20.0</td>\n",
       "      <td>5.870889</td>\n",
       "    </tr>\n",
       "    <tr>\n",
       "      <td>21.0</td>\n",
       "      <td>5.493675</td>\n",
       "    </tr>\n",
       "    <tr>\n",
       "      <td>22.0</td>\n",
       "      <td>5.415644</td>\n",
       "    </tr>\n",
       "    <tr>\n",
       "      <td>23.0</td>\n",
       "      <td>4.985412</td>\n",
       "    </tr>\n",
       "    <tr>\n",
       "      <td>24.0</td>\n",
       "      <td>3.854615</td>\n",
       "    </tr>\n",
       "    <tr>\n",
       "      <td>25.0</td>\n",
       "      <td>4.053077</td>\n",
       "    </tr>\n",
       "    <tr>\n",
       "      <td>26.0</td>\n",
       "      <td>3.972642</td>\n",
       "    </tr>\n",
       "    <tr>\n",
       "      <td>27.0</td>\n",
       "      <td>8.300000</td>\n",
       "    </tr>\n",
       "    <tr>\n",
       "      <td>28.0</td>\n",
       "      <td>5.025714</td>\n",
       "    </tr>\n",
       "    <tr>\n",
       "      <td>29.0</td>\n",
       "      <td>4.236667</td>\n",
       "    </tr>\n",
       "  </tbody>\n",
       "</table>\n",
       "</div>"
      ],
      "text/plain": [
       "                        last_price_mlns\n",
       "cityCenters_nearest_km                 \n",
       "0.0                           33.044800\n",
       "1.0                           20.706489\n",
       "2.0                           17.644452\n",
       "3.0                           10.922558\n",
       "4.0                           12.884711\n",
       "5.0                           14.164934\n",
       "6.0                           14.351351\n",
       "7.0                           14.474844\n",
       "8.0                            9.152640\n",
       "9.0                            6.962416\n",
       "10.0                           6.414783\n",
       "11.0                           6.253515\n",
       "12.0                           5.818228\n",
       "13.0                           6.085977\n",
       "14.0                           5.630219\n",
       "15.0                           5.884962\n",
       "16.0                           5.367813\n",
       "17.0                           5.241780\n",
       "18.0                           5.091341\n",
       "19.0                           5.037707\n",
       "20.0                           5.870889\n",
       "21.0                           5.493675\n",
       "22.0                           5.415644\n",
       "23.0                           4.985412\n",
       "24.0                           3.854615\n",
       "25.0                           4.053077\n",
       "26.0                           3.972642\n",
       "27.0                           8.300000\n",
       "28.0                           5.025714\n",
       "29.0                           4.236667"
      ]
     },
     "execution_count": 86,
     "metadata": {},
     "output_type": "execute_result"
    }
   ],
   "source": [
    "data['cityCenters_nearest_km'] = round(data['cityCenters_nearest'] / 1000, 0)\n",
    "data.loc[data['locality_name'] == 'Санкт-Петербург']\\\n",
    ".pivot_table(index='cityCenters_nearest_km', values='last_price_mlns')\n",
    "#по значениям исходного датасета, где в качестве локации указан Санкт-Петербург, мы строим сводную таблицу\n",
    "#при этом, используем в качестве значений столбец с ценой объекта в миллионах - в противном случае\n",
    "#данные о средней цене будут представлены в научной нотации, что затрудняет восприятие"
   ]
  },
  {
   "cell_type": "code",
   "execution_count": 87,
   "metadata": {},
   "outputs": [
    {
     "data": {
      "text/plain": [
       "<matplotlib.axes._subplots.AxesSubplot at 0x7fb51968e810>"
      ]
     },
     "execution_count": 87,
     "metadata": {},
     "output_type": "execute_result"
    },
    {
     "data": {
      "image/png": "[encoded data removed]",
      "text/plain": [
       "<Figure size 432x288 with 1 Axes>"
      ]
     },
     "metadata": {
      "needs_background": "light"
     },
     "output_type": "display_data"
    }
   ],
   "source": [
    "data.loc[data['locality_name'] == 'Санкт-Петербург'].plot(alpha=0.03, \\\n",
    "grid=True, x='last_price_mlns', y='cityCenters_nearest_km', style='x', xlim=(0, 30), kind='scatter', \\\n",
    "title='Распределение квартир в группы по расстоянию до цента в зависимости от цены в млн. рублей')"
   ]
  },
  {
   "cell_type": "code",
   "execution_count": 88,
   "metadata": {},
   "outputs": [
    {
     "data": {
      "text/plain": [
       "<matplotlib.axes._subplots.AxesSubplot at 0x7fb519187f90>"
      ]
     },
     "execution_count": 88,
     "metadata": {},
     "output_type": "execute_result"
    },
    {
     "data": {
      "image/png": "[encoded data removed]",
      "text/plain": [
       "<Figure size 1080x1080 with 1 Axes>"
      ]
     },
     "metadata": {
      "needs_background": "light"
     },
     "output_type": "display_data"
    }
   ],
   "source": [
    "data.loc[data['locality_name'] == 'Санкт-Петербург'].plot(alpha=0.1, \\\n",
    "grid=True, x='last_price_mlns', y='cityCenters_nearest_km', style='x', figsize=(15, 15), xlim=(0, 30), kind='scatter',\\\n",
    "title='Распределение квартир в группы по расстоянию до цента в зависимости от цены в млн. рублей')"
   ]
  },
  {
   "cell_type": "code",
   "execution_count": 89,
   "metadata": {},
   "outputs": [
    {
     "data": {
      "text/plain": [
       "<matplotlib.axes._subplots.AxesSubplot at 0x7fb518d61150>"
      ]
     },
     "execution_count": 89,
     "metadata": {},
     "output_type": "execute_result"
    },
    {
     "data": {
      "image/png": "[encoded data removed]",
      "text/plain": [
       "<Figure size 1080x1080 with 1 Axes>"
      ]
     },
     "metadata": {
      "needs_background": "light"
     },
     "output_type": "display_data"
    }
   ],
   "source": [
    "pivot_for_scatter = data.loc[data['locality_name'] == 'Санкт-Петербург'].pivot_table(index='cityCenters_nearest_km', values='last_price_mlns')\n",
    "pivot_for_scatter = pivot_for_scatter.reset_index()\n",
    "pivot_for_scatter.plot(grid=True, x='last_price_mlns', y='cityCenters_nearest_km', style='x', figsize=(15, 15), xlim=(0, 30), kind='scatter',\\\n",
    "title='Распределение квартир в группы по расстоянию до цента в зависимости от цены в млн. рублей')"
   ]
  },
  {
   "cell_type": "markdown",
   "metadata": {},
   "source": [
    "<span style=\"font-family:Arial Black\">Выводы по заданию:</span>\n",
    "\n",
    "Судя по малому графику, \"спальные районы\" (то есть такие, в которых целенаправленно большую часть площади застраивают домами высокой плотности) начинаются примерно с 8 километра от центра. \n",
    "\n",
    "Однако на двух графиках видно, что \"первый круг\" центра - это отметка между 3 и 4 километром от центра (наиболее популярный сегмент жилья тут от 5 до 12-13 миллионов).\n",
    "\n",
    "\"Второй круг\" - это отметка 8-9 километров - здесь линии становятся максимально плотными (много вариантов жилья). Кроме того, здесь существенно смещается к оси Y средняя стоимость объектов недвижимости - диапазон от 2.5 до 7.5 миллионов. "
   ]
  },
  {
   "cell_type": "markdown",
   "metadata": {},
   "source": [
    "<p style=\"font-size:20px\">4.9 Анализ \"квартир в центре\"</p> "
   ]
  },
  {
   "cell_type": "markdown",
   "metadata": {},
   "source": [
    "Построим сводную таблицу для анализа целевых параметров по сегменту \"квартир в центре\" в Санкт-Петербурге:"
   ]
  },
  {
   "cell_type": "code",
   "execution_count": 90,
   "metadata": {},
   "outputs": [
    {
     "data": {
      "text/html": [
       "<div>\n",
       "<style scoped>\n",
       "    .dataframe tbody tr th:only-of-type {\n",
       "        vertical-align: middle;\n",
       "    }\n",
       "\n",
       "    .dataframe tbody tr th {\n",
       "        vertical-align: top;\n",
       "    }\n",
       "\n",
       "    .dataframe thead tr th {\n",
       "        text-align: left;\n",
       "    }\n",
       "\n",
       "    .dataframe thead tr:last-of-type th {\n",
       "        text-align: right;\n",
       "    }\n",
       "</style>\n",
       "<table border=\"1\" class=\"dataframe\">\n",
       "  <thead>\n",
       "    <tr>\n",
       "      <th></th>\n",
       "      <th colspan=\"4\" halign=\"left\">mean</th>\n",
       "      <th colspan=\"4\" halign=\"left\">median</th>\n",
       "      <th colspan=\"4\" halign=\"left\">count</th>\n",
       "    </tr>\n",
       "    <tr>\n",
       "      <th></th>\n",
       "      <th>ceiling_height</th>\n",
       "      <th>last_price_mlns</th>\n",
       "      <th>rooms</th>\n",
       "      <th>total_area</th>\n",
       "      <th>ceiling_height</th>\n",
       "      <th>last_price_mlns</th>\n",
       "      <th>rooms</th>\n",
       "      <th>total_area</th>\n",
       "      <th>ceiling_height</th>\n",
       "      <th>last_price_mlns</th>\n",
       "      <th>rooms</th>\n",
       "      <th>total_area</th>\n",
       "    </tr>\n",
       "    <tr>\n",
       "      <th>cityCenters_nearest_km</th>\n",
       "      <th></th>\n",
       "      <th></th>\n",
       "      <th></th>\n",
       "      <th></th>\n",
       "      <th></th>\n",
       "      <th></th>\n",
       "      <th></th>\n",
       "      <th></th>\n",
       "      <th></th>\n",
       "      <th></th>\n",
       "      <th></th>\n",
       "      <th></th>\n",
       "    </tr>\n",
       "  </thead>\n",
       "  <tbody>\n",
       "    <tr>\n",
       "      <td>0.0</td>\n",
       "      <td>3.166000</td>\n",
       "      <td>33.044800</td>\n",
       "      <td>3.160000</td>\n",
       "      <td>119.600000</td>\n",
       "      <td>3.07</td>\n",
       "      <td>27.000</td>\n",
       "      <td>3</td>\n",
       "      <td>100.0</td>\n",
       "      <td>25</td>\n",
       "      <td>25</td>\n",
       "      <td>25</td>\n",
       "      <td>25</td>\n",
       "    </tr>\n",
       "    <tr>\n",
       "      <td>1.0</td>\n",
       "      <td>3.059415</td>\n",
       "      <td>20.706489</td>\n",
       "      <td>3.207447</td>\n",
       "      <td>103.372340</td>\n",
       "      <td>3.00</td>\n",
       "      <td>11.275</td>\n",
       "      <td>3</td>\n",
       "      <td>86.0</td>\n",
       "      <td>188</td>\n",
       "      <td>188</td>\n",
       "      <td>188</td>\n",
       "      <td>188</td>\n",
       "    </tr>\n",
       "    <tr>\n",
       "      <td>2.0</td>\n",
       "      <td>3.091462</td>\n",
       "      <td>17.644452</td>\n",
       "      <td>3.073090</td>\n",
       "      <td>100.767442</td>\n",
       "      <td>3.00</td>\n",
       "      <td>9.900</td>\n",
       "      <td>3</td>\n",
       "      <td>86.0</td>\n",
       "      <td>301</td>\n",
       "      <td>301</td>\n",
       "      <td>301</td>\n",
       "      <td>301</td>\n",
       "    </tr>\n",
       "    <tr>\n",
       "      <td>3.0</td>\n",
       "      <td>3.044273</td>\n",
       "      <td>10.922558</td>\n",
       "      <td>2.970930</td>\n",
       "      <td>89.252907</td>\n",
       "      <td>3.00</td>\n",
       "      <td>8.410</td>\n",
       "      <td>3</td>\n",
       "      <td>79.0</td>\n",
       "      <td>344</td>\n",
       "      <td>344</td>\n",
       "      <td>344</td>\n",
       "      <td>344</td>\n",
       "    </tr>\n",
       "    <tr>\n",
       "      <td>4.0</td>\n",
       "      <td>2.981274</td>\n",
       "      <td>12.884711</td>\n",
       "      <td>2.911111</td>\n",
       "      <td>89.979259</td>\n",
       "      <td>3.00</td>\n",
       "      <td>9.150</td>\n",
       "      <td>3</td>\n",
       "      <td>80.0</td>\n",
       "      <td>675</td>\n",
       "      <td>675</td>\n",
       "      <td>675</td>\n",
       "      <td>675</td>\n",
       "    </tr>\n",
       "    <tr>\n",
       "      <td>5.0</td>\n",
       "      <td>2.959812</td>\n",
       "      <td>14.164934</td>\n",
       "      <td>2.774834</td>\n",
       "      <td>93.316777</td>\n",
       "      <td>3.00</td>\n",
       "      <td>9.400</td>\n",
       "      <td>3</td>\n",
       "      <td>79.5</td>\n",
       "      <td>906</td>\n",
       "      <td>906</td>\n",
       "      <td>906</td>\n",
       "      <td>906</td>\n",
       "    </tr>\n",
       "    <tr>\n",
       "      <td>6.0</td>\n",
       "      <td>2.863641</td>\n",
       "      <td>14.351351</td>\n",
       "      <td>2.551895</td>\n",
       "      <td>86.728171</td>\n",
       "      <td>2.80</td>\n",
       "      <td>8.780</td>\n",
       "      <td>2</td>\n",
       "      <td>71.0</td>\n",
       "      <td>607</td>\n",
       "      <td>607</td>\n",
       "      <td>607</td>\n",
       "      <td>607</td>\n",
       "    </tr>\n",
       "    <tr>\n",
       "      <td>7.0</td>\n",
       "      <td>2.822206</td>\n",
       "      <td>14.474844</td>\n",
       "      <td>2.424460</td>\n",
       "      <td>79.599520</td>\n",
       "      <td>2.75</td>\n",
       "      <td>7.800</td>\n",
       "      <td>2</td>\n",
       "      <td>69.0</td>\n",
       "      <td>417</td>\n",
       "      <td>417</td>\n",
       "      <td>417</td>\n",
       "      <td>417</td>\n",
       "    </tr>\n",
       "    <tr>\n",
       "      <td>8.0</td>\n",
       "      <td>2.792927</td>\n",
       "      <td>9.152640</td>\n",
       "      <td>2.279188</td>\n",
       "      <td>71.106599</td>\n",
       "      <td>2.70</td>\n",
       "      <td>7.440</td>\n",
       "      <td>2</td>\n",
       "      <td>62.0</td>\n",
       "      <td>591</td>\n",
       "      <td>591</td>\n",
       "      <td>591</td>\n",
       "      <td>591</td>\n",
       "    </tr>\n",
       "  </tbody>\n",
       "</table>\n",
       "</div>"
      ],
      "text/plain": [
       "                                 mean                                        \\\n",
       "                       ceiling_height last_price_mlns     rooms  total_area   \n",
       "cityCenters_nearest_km                                                        \n",
       "0.0                          3.166000       33.044800  3.160000  119.600000   \n",
       "1.0                          3.059415       20.706489  3.207447  103.372340   \n",
       "2.0                          3.091462       17.644452  3.073090  100.767442   \n",
       "3.0                          3.044273       10.922558  2.970930   89.252907   \n",
       "4.0                          2.981274       12.884711  2.911111   89.979259   \n",
       "5.0                          2.959812       14.164934  2.774834   93.316777   \n",
       "6.0                          2.863641       14.351351  2.551895   86.728171   \n",
       "7.0                          2.822206       14.474844  2.424460   79.599520   \n",
       "8.0                          2.792927        9.152640  2.279188   71.106599   \n",
       "\n",
       "                               median                                   \\\n",
       "                       ceiling_height last_price_mlns rooms total_area   \n",
       "cityCenters_nearest_km                                                   \n",
       "0.0                              3.07          27.000     3      100.0   \n",
       "1.0                              3.00          11.275     3       86.0   \n",
       "2.0                              3.00           9.900     3       86.0   \n",
       "3.0                              3.00           8.410     3       79.0   \n",
       "4.0                              3.00           9.150     3       80.0   \n",
       "5.0                              3.00           9.400     3       79.5   \n",
       "6.0                              2.80           8.780     2       71.0   \n",
       "7.0                              2.75           7.800     2       69.0   \n",
       "8.0                              2.70           7.440     2       62.0   \n",
       "\n",
       "                                count                                   \n",
       "                       ceiling_height last_price_mlns rooms total_area  \n",
       "cityCenters_nearest_km                                                  \n",
       "0.0                                25              25    25         25  \n",
       "1.0                               188             188   188        188  \n",
       "2.0                               301             301   301        301  \n",
       "3.0                               344             344   344        344  \n",
       "4.0                               675             675   675        675  \n",
       "5.0                               906             906   906        906  \n",
       "6.0                               607             607   607        607  \n",
       "7.0                               417             417   417        417  \n",
       "8.0                               591             591   591        591  "
      ]
     },
     "execution_count": 90,
     "metadata": {},
     "output_type": "execute_result"
    }
   ],
   "source": [
    "data.loc[(data['cityCenters_nearest_km'] <= 8) & (data['locality_name'] == 'Санкт-Петербург')].\\\n",
    "pivot_table(index='cityCenters_nearest_km', values=['total_area', 'last_price_mlns', 'rooms', 'ceiling_height'], \\\n",
    "aggfunc=['mean', 'median', 'count'])"
   ]
  },
  {
   "cell_type": "markdown",
   "metadata": {},
   "source": [
    "<span style=\"font-family:Arial Black\">Выводы:</span>\n",
    "\n",
    "1) Если в сегменте бюджетных квартир самая \"популярная\" высота потолка находится у отметки в 2.5 метра, а 2.65 - это медиана всей выборки, то в центральной части эта цифра стремится к 3 метрам с небольшим снижением по мере удаления от центра: вероятно, высокие потолки - это историческое наследие. Снижение высоты потолков объясняется типовой советской застройкой (предполагаю, активно она начинается с 5-6 километра от центра)\n",
    "\n",
    "2) В отличие от центрообразуещей отметки в 5 миллионов за квартиру в бюджетном сегменте и среднего значение всей выборки в 6.4 миллиона, стоимость жилья в центре по медиане выше до двух раз, а среднее значение в центре и вовсе выше в 2-3 раза, что говорит нам о существенном разрыве в стоимости двух сегментов и высоком престиже проживания в центре города \n",
    "\n",
    "3) Количество комнат у квартир в центре также больше, чем у бюджетных вариантов: ранее мы определили, что 2 комнаты - это одновременно и среднее и медианное значение для всей выборки. Такой формат наиболее популярен в бюджетном сегменте, хотя трехкомнатные квартиры также пользуются популярностью - вероятно, \"для расширения площади\" в силу житейских обстоятельств (например, с рождением детей). В центре же комнат обычно больше на 1 - и среднее и медианное значению тяготеют к отметке в 3 комнаты. Вероятно, это можно объяснить общей состоятельностью покупателей таких объектов недвижимости\n",
    "\n",
    "4) Ранее было установлено, что для бюджетных вариантов можно выделить 3 наиболее популярных типоразмера квартир по площади (цифры ориентировочные): 35, 42 и 50 квадратных метров. Медиана для выборки - 52 квадратных метра. В случае квартир в центре мы можем выделить два важных момента: медианная и средняя площадь \"квартир в центре\" тем больше, чем ближе квартире к центру города - это объяснимо снижением приоритета \"вопроса денег\" над уровнем комфорта для покупателей таких объектов недвижимости; медианная площадь квартиры примерно на 30-60% больше, чем в сегменте бюджетного жилья. "
   ]
  },
  {
   "cell_type": "code",
   "execution_count": 91,
   "metadata": {},
   "outputs": [
    {
     "data": {
      "text/html": [
       "<div>\n",
       "<style scoped>\n",
       "    .dataframe tbody tr th:only-of-type {\n",
       "        vertical-align: middle;\n",
       "    }\n",
       "\n",
       "    .dataframe tbody tr th {\n",
       "        vertical-align: top;\n",
       "    }\n",
       "\n",
       "    .dataframe thead th {\n",
       "        text-align: right;\n",
       "    }\n",
       "</style>\n",
       "<table border=\"1\" class=\"dataframe\">\n",
       "  <thead>\n",
       "    <tr style=\"text-align: right;\">\n",
       "      <th></th>\n",
       "      <th>last_price</th>\n",
       "      <th>price_per_sqm</th>\n",
       "      <th>total_area</th>\n",
       "      <th>rooms</th>\n",
       "      <th>floor</th>\n",
       "      <th>cityCenters_nearest</th>\n",
       "    </tr>\n",
       "  </thead>\n",
       "  <tbody>\n",
       "    <tr>\n",
       "      <td>last_price</td>\n",
       "      <td>1.000000</td>\n",
       "      <td>0.857486</td>\n",
       "      <td>0.592087</td>\n",
       "      <td>0.307349</td>\n",
       "      <td>0.161795</td>\n",
       "      <td>-0.057052</td>\n",
       "    </tr>\n",
       "    <tr>\n",
       "      <td>price_per_sqm</td>\n",
       "      <td>0.857486</td>\n",
       "      <td>1.000000</td>\n",
       "      <td>0.339688</td>\n",
       "      <td>0.088374</td>\n",
       "      <td>0.175048</td>\n",
       "      <td>-0.061043</td>\n",
       "    </tr>\n",
       "    <tr>\n",
       "      <td>total_area</td>\n",
       "      <td>0.592087</td>\n",
       "      <td>0.339688</td>\n",
       "      <td>1.000000</td>\n",
       "      <td>0.718735</td>\n",
       "      <td>0.230076</td>\n",
       "      <td>-0.113254</td>\n",
       "    </tr>\n",
       "    <tr>\n",
       "      <td>rooms</td>\n",
       "      <td>0.307349</td>\n",
       "      <td>0.088374</td>\n",
       "      <td>0.718735</td>\n",
       "      <td>1.000000</td>\n",
       "      <td>0.099589</td>\n",
       "      <td>-0.174884</td>\n",
       "    </tr>\n",
       "    <tr>\n",
       "      <td>floor</td>\n",
       "      <td>0.161795</td>\n",
       "      <td>0.175048</td>\n",
       "      <td>0.230076</td>\n",
       "      <td>0.099589</td>\n",
       "      <td>1.000000</td>\n",
       "      <td>0.154099</td>\n",
       "    </tr>\n",
       "    <tr>\n",
       "      <td>cityCenters_nearest</td>\n",
       "      <td>-0.057052</td>\n",
       "      <td>-0.061043</td>\n",
       "      <td>-0.113254</td>\n",
       "      <td>-0.174884</td>\n",
       "      <td>0.154099</td>\n",
       "      <td>1.000000</td>\n",
       "    </tr>\n",
       "  </tbody>\n",
       "</table>\n",
       "</div>"
      ],
      "text/plain": [
       "                     last_price  price_per_sqm  total_area     rooms  \\\n",
       "last_price             1.000000       0.857486    0.592087  0.307349   \n",
       "price_per_sqm          0.857486       1.000000    0.339688  0.088374   \n",
       "total_area             0.592087       0.339688    1.000000  0.718735   \n",
       "rooms                  0.307349       0.088374    0.718735  1.000000   \n",
       "floor                  0.161795       0.175048    0.230076  0.099589   \n",
       "cityCenters_nearest   -0.057052      -0.061043   -0.113254 -0.174884   \n",
       "\n",
       "                        floor  cityCenters_nearest  \n",
       "last_price           0.161795            -0.057052  \n",
       "price_per_sqm        0.175048            -0.061043  \n",
       "total_area           0.230076            -0.113254  \n",
       "rooms                0.099589            -0.174884  \n",
       "floor                1.000000             0.154099  \n",
       "cityCenters_nearest  0.154099             1.000000  "
      ]
     },
     "execution_count": 91,
     "metadata": {},
     "output_type": "execute_result"
    }
   ],
   "source": [
    "data.loc[(data['locality_name'] == 'Санкт-Петербург') & (data['floor_quality'] != 'Другой') &\\\n",
    "         (data['cityCenters_nearest_km'] <=8)]\\\n",
    "[['last_price', 'price_per_sqm', 'total_area', 'rooms', 'floor', 'cityCenters_nearest']].corr()\n",
    "#посмотрим на корреляцию для центра СПб"
   ]
  },
  {
   "cell_type": "code",
   "execution_count": 92,
   "metadata": {},
   "outputs": [
    {
     "data": {
      "text/html": [
       "<div>\n",
       "<style scoped>\n",
       "    .dataframe tbody tr th:only-of-type {\n",
       "        vertical-align: middle;\n",
       "    }\n",
       "\n",
       "    .dataframe tbody tr th {\n",
       "        vertical-align: top;\n",
       "    }\n",
       "\n",
       "    .dataframe thead th {\n",
       "        text-align: right;\n",
       "    }\n",
       "</style>\n",
       "<table border=\"1\" class=\"dataframe\">\n",
       "  <thead>\n",
       "    <tr style=\"text-align: right;\">\n",
       "      <th></th>\n",
       "      <th>last_price</th>\n",
       "      <th>price_per_sqm</th>\n",
       "      <th>total_area</th>\n",
       "      <th>rooms</th>\n",
       "      <th>floor</th>\n",
       "      <th>cityCenters_nearest</th>\n",
       "    </tr>\n",
       "  </thead>\n",
       "  <tbody>\n",
       "    <tr>\n",
       "      <td>last_price</td>\n",
       "      <td>1.000000</td>\n",
       "      <td>0.472280</td>\n",
       "      <td>0.841258</td>\n",
       "      <td>0.491855</td>\n",
       "      <td>0.115873</td>\n",
       "      <td>-0.059576</td>\n",
       "    </tr>\n",
       "    <tr>\n",
       "      <td>price_per_sqm</td>\n",
       "      <td>0.472280</td>\n",
       "      <td>1.000000</td>\n",
       "      <td>0.007329</td>\n",
       "      <td>-0.244443</td>\n",
       "      <td>0.242590</td>\n",
       "      <td>-0.213566</td>\n",
       "    </tr>\n",
       "    <tr>\n",
       "      <td>total_area</td>\n",
       "      <td>0.841258</td>\n",
       "      <td>0.007329</td>\n",
       "      <td>1.000000</td>\n",
       "      <td>0.684287</td>\n",
       "      <td>0.027941</td>\n",
       "      <td>0.037637</td>\n",
       "    </tr>\n",
       "    <tr>\n",
       "      <td>rooms</td>\n",
       "      <td>0.491855</td>\n",
       "      <td>-0.244443</td>\n",
       "      <td>0.684287</td>\n",
       "      <td>1.000000</td>\n",
       "      <td>-0.110057</td>\n",
       "      <td>-0.023067</td>\n",
       "    </tr>\n",
       "    <tr>\n",
       "      <td>floor</td>\n",
       "      <td>0.115873</td>\n",
       "      <td>0.242590</td>\n",
       "      <td>0.027941</td>\n",
       "      <td>-0.110057</td>\n",
       "      <td>1.000000</td>\n",
       "      <td>0.032547</td>\n",
       "    </tr>\n",
       "    <tr>\n",
       "      <td>cityCenters_nearest</td>\n",
       "      <td>-0.059576</td>\n",
       "      <td>-0.213566</td>\n",
       "      <td>0.037637</td>\n",
       "      <td>-0.023067</td>\n",
       "      <td>0.032547</td>\n",
       "      <td>1.000000</td>\n",
       "    </tr>\n",
       "  </tbody>\n",
       "</table>\n",
       "</div>"
      ],
      "text/plain": [
       "                     last_price  price_per_sqm  total_area     rooms  \\\n",
       "last_price             1.000000       0.472280    0.841258  0.491855   \n",
       "price_per_sqm          0.472280       1.000000    0.007329 -0.244443   \n",
       "total_area             0.841258       0.007329    1.000000  0.684287   \n",
       "rooms                  0.491855      -0.244443    0.684287  1.000000   \n",
       "floor                  0.115873       0.242590    0.027941 -0.110057   \n",
       "cityCenters_nearest   -0.059576      -0.213566    0.037637 -0.023067   \n",
       "\n",
       "                        floor  cityCenters_nearest  \n",
       "last_price           0.115873            -0.059576  \n",
       "price_per_sqm        0.242590            -0.213566  \n",
       "total_area           0.027941             0.037637  \n",
       "rooms               -0.110057            -0.023067  \n",
       "floor                1.000000             0.032547  \n",
       "cityCenters_nearest  0.032547             1.000000  "
      ]
     },
     "execution_count": 92,
     "metadata": {},
     "output_type": "execute_result"
    }
   ],
   "source": [
    "data.loc[(data['locality_name'] == 'Санкт-Петербург') & (data['floor_quality'] != 'Другой') &\\\n",
    "         (data['cityCenters_nearest_km'] > 8)]\\\n",
    "[['last_price', 'price_per_sqm', 'total_area', 'rooms', 'floor', 'cityCenters_nearest']].corr()\n",
    "#и такая же матрица корреляции, но для квартир за пределами \"центра\""
   ]
  },
  {
   "cell_type": "markdown",
   "metadata": {},
   "source": [
    "<span style=\"font-family:Arial Black\">Есть несколько заметных отличий:</span>\n",
    "\n",
    "1. Для центра СПб наблюдается сильная корреляция между стоимость 1 квадратного метра и общей стоимостью квартиры. Для квартир за пределами центра она падает ниже среднего. Это обусловлено меньшей площадью \"центра\" и более высокой концентрацией объектов недвижимости в нем - выше \"конкуренция\" за 1 кв. м.\n",
    "\n",
    "2. Но наблюдается противоположная тенденция - зависимость между общей площадью и ценой становится значительно более выраженной - в бюджетном сегменте люди предпочитают получить больше метров за свои деньги. Учитывае ранее сформулированный вывод о средней площади и количестве комнат в бюджетном и люксовом сегментах, это вполне объяснимо: покупка двухкомнатной квартиры в 45-50 квадратов существенно улучшает жилищные условия, если ранее речь шла о варианте в 1 комнату площадью 30-35 квадратных метров;\n",
    "\n",
    "3. От слабых значение к условно \"слабо-средним\" поднимается зависимость цены от количества комнат в бюджетном сегменте; "
   ]
  },
  {
   "cell_type": "code",
   "execution_count": 93,
   "metadata": {},
   "outputs": [],
   "source": [
    "analysis = data.loc[(data['cityCenters_nearest'].isnull() == False) & (data['cityCenters_nearest_km'] <= 8) ,['first_day_exposition', 'last_price_mlns']]\n",
    "analysis['weekday_published'] = pd.to_datetime(data['first_day_exposition']).dt.dayofweek\n",
    "analysis['month_published'] = pd.to_datetime(data['first_day_exposition']).dt.month\n",
    "analysis['year_published'] = pd.to_datetime(data['first_day_exposition']).dt.year"
   ]
  },
  {
   "cell_type": "code",
   "execution_count": 94,
   "metadata": {},
   "outputs": [
    {
     "data": {
      "image/png": "[encoded data removed]",
      "text/plain": [
       "<Figure size 1080x288 with 1 Axes>"
      ]
     },
     "metadata": {
      "needs_background": "light"
     },
     "output_type": "display_data"
    }
   ],
   "source": [
    "weekday_pivot = analysis.pivot_table(index='weekday_published', values='last_price_mlns')\n",
    "weekday_pivot = weekday_pivot.reset_index()\n",
    "\n",
    "index = weekday_pivot['weekday_published']\n",
    "values = weekday_pivot['last_price_mlns']\n",
    "\n",
    "fig, ax = plt.subplots()\n",
    "plt.bar(index, values)\n",
    "ax.set_xlabel('День недели публикации объявления')\n",
    "ax.set_ylabel('Средняя цена в млн. руб.')\n",
    "fig.set_figwidth(15)\n",
    "ax.grid()\n",
    "plt.show()"
   ]
  },
  {
   "cell_type": "markdown",
   "metadata": {},
   "source": [
    "Мы видим, что применительно к сегменту квартир в центре города сохраняется тенденция к более высокой среденей цене квартиры в объявлении. "
   ]
  },
  {
   "cell_type": "code",
   "execution_count": 95,
   "metadata": {},
   "outputs": [
    {
     "data": {
      "image/png": "[encoded data removed]",
      "text/plain": [
       "<Figure size 1080x288 with 1 Axes>"
      ]
     },
     "metadata": {
      "needs_background": "light"
     },
     "output_type": "display_data"
    }
   ],
   "source": [
    "month_pivot = analysis.pivot_table(index='month_published', values='last_price_mlns')\n",
    "month_pivot = month_pivot.reset_index()\n",
    "\n",
    "index = month_pivot['month_published']\n",
    "values = month_pivot['last_price_mlns']\n",
    "\n",
    "fig, ax = plt.subplots()\n",
    "plt.bar(index, values)\n",
    "ax.set_xlabel('Месяц публикации объявления')\n",
    "ax.set_ylabel('Средняя цена в млн. руб.')\n",
    "fig.set_figwidth(15)\n",
    "ax.grid()\n",
    "plt.show()"
   ]
  },
  {
   "cell_type": "markdown",
   "metadata": {},
   "source": [
    "В случае сегмента дорогих квартир в центре, средняя цена объекта по месяца более равномерно распределена в течение года. Единственный интересный момент это рост цены в сентябре и последующий спад в октябре. Возможно, это какой-то феномен сезонности. "
   ]
  },
  {
   "cell_type": "code",
   "execution_count": 96,
   "metadata": {},
   "outputs": [
    {
     "data": {
      "image/png": "[encoded data removed]",
      "text/plain": [
       "<Figure size 1080x288 with 1 Axes>"
      ]
     },
     "metadata": {
      "needs_background": "light"
     },
     "output_type": "display_data"
    }
   ],
   "source": [
    "yr_pivot = analysis.pivot_table(index='year_published', values='last_price_mlns')\n",
    "yr_pivot = yr_pivot.reset_index()\n",
    "\n",
    "index = yr_pivot['year_published']\n",
    "values = yr_pivot['last_price_mlns']\n",
    "\n",
    "fig, ax = plt.subplots()\n",
    "plt.bar(index, values)\n",
    "ax.set_xlabel('Год публикации объявления')\n",
    "ax.set_ylabel('Средняя цена в млн. руб.')\n",
    "fig.set_figwidth(15)\n",
    "ax.grid()\n",
    "plt.show()"
   ]
  },
  {
   "cell_type": "markdown",
   "metadata": {},
   "source": [
    "Тенденция к спаду в период 2014-2015 годов сохраняется для элитного жилья. Более того, учитывая влияние цен дорогих объектов недвижимости на общую величину среднего, можно сформулировать гипотезу: спад средней цены объекта недвижимости в 2014-2015 годах произошел в большей степени за счет снижения спроса на люксовые квартиры."
   ]
  },
  {
   "cell_type": "markdown",
   "metadata": {},
   "source": [
    "### Шаг 5. Общий вывод"
   ]
  },
  {
   "cell_type": "markdown",
   "metadata": {},
   "source": [
    "<span style=\"font-family:Arial Black\">Общие выводы по проекту:</span>\n",
    "\n",
    "1. Установлено, что квартиры, в целом, можно разделить на два вида: **дорогие** в центре города и **бюджетные**, расположенные в других районах города или пригороде;\n",
    "\n",
    "2. Условная средняя квартира бюджетного сегмента имеет ряд характерных признаков: площадь в диапазоне 30-50 квадратных метров; количество комнат 1-2, высота потолков около 2.5 метров;\n",
    "\n",
    "3. Условная средняя квартира в центре города также имеет ряд характерных признаков: площадь 70-100 квадратных метров, не менее 3 комнат, высота потолков 2.7 метра и выше;\n",
    "\n",
    "4. Самый \"дешевый\" этаж - 1 (медианная цена объекта недвижимости тут - 3.9 млн. рублей). Самый \"дорогой\" этаж - 30 (медианная цена объекта - 10.15 млн. рублей)\n",
    "\n",
    "4. Наиболее важные факторы для квартир бюджетного сегмента: цена объекта, цена квадратного метра, общая площадь объекта. Люди готовы жертвовать расстоянием до центра города и инфраструктурных объектов для получения большей площади за свои деньги;\n",
    "\n",
    "5. Наиболее важные факторы для \"дорогих\" квартир: площадь, количество комнат, высота потолков, удаленность от центра города и инфраструктурных объектов;\n",
    "\n",
    "6. Для дорогих и дешевых квартир наблюдается интересная зависимость: на цену объекта в бюджетном сегменте в большей степени влияет общее количество квадратных метров, в то время как в дорогом сегменте усиливается влияение стоимости 1 квадратного метра;\n",
    "\n",
    "7. Выявлено, что в сегмент \"дорогих\" квартир входят те, расстояние у которых до центра города равно или менее 8 километров. При этом, по расстоянию до центра города этот сегмент делится на две части 0-4 километра от центра города и 4-8 километров от центра города;\n",
    "\n",
    "8. По аналогии, в бюджетном сегменте также можно выделить две группы: областные города (города сателлиты) и селькая местность (различные поселки, деревни и села). В среднем, в сельской местности ниже время размещения объявления для квартир с более чем 4 комнатами. При наличии данных о типе объекта недвижимости можно было бы проверить гипотезу, являются ли \"многокомнатные\" объекты недвижимости домами;\n",
    "\n",
    "9. Если исключить из выборки Санкт-Петербург, то наиболее популярные населенные пункты: п. Мурино, п. Шушары, г. Всеволожск, г. Пушкин. При этом, Всеволожск среди приведенных отличается значительно меньшей средней стоимостью 1 квадратного метра жилья: порядка 70 тысяч против 80-100 в других населенных пунктах.\n"
   ]
  }
 ],
 "metadata": {
  "ExecuteTimeLog": [
   {
    "duration": 869,
    "start_time": "2021-06-20T09:53:06.558Z"
   },
   {
    "duration": 50,
    "start_time": "2021-06-20T09:53:07.430Z"
   },
   {
    "duration": 41,
    "start_time": "2021-06-20T09:53:07.483Z"
   },
   {
    "duration": 22,
    "start_time": "2021-06-20T09:53:07.527Z"
   },
   {
    "duration": 127,
    "start_time": "2021-06-20T09:53:07.552Z"
   },
   {
    "duration": 45,
    "start_time": "2021-06-20T09:53:07.681Z"
   },
   {
    "duration": 16,
    "start_time": "2021-06-20T09:53:07.729Z"
   },
   {
    "duration": 621,
    "start_time": "2021-06-20T09:53:07.751Z"
   },
   {
    "duration": 14,
    "start_time": "2021-06-20T09:53:08.376Z"
   },
   {
    "duration": 15,
    "start_time": "2021-06-20T09:53:08.410Z"
   },
   {
    "duration": 5140,
    "start_time": "2021-06-20T09:53:08.427Z"
   },
   {
    "duration": 11,
    "start_time": "2021-06-20T09:53:13.569Z"
   },
   {
    "duration": 26,
    "start_time": "2021-06-20T09:53:13.583Z"
   },
   {
    "duration": 10,
    "start_time": "2021-06-20T09:53:13.611Z"
   },
   {
    "duration": 11,
    "start_time": "2021-06-20T09:53:13.623Z"
   },
   {
    "duration": 13,
    "start_time": "2021-06-20T09:53:13.636Z"
   },
   {
    "duration": 19,
    "start_time": "2021-06-20T09:53:13.651Z"
   },
   {
    "duration": 18,
    "start_time": "2021-06-20T09:53:13.710Z"
   },
   {
    "duration": 4729,
    "start_time": "2021-06-20T09:53:13.730Z"
   },
   {
    "duration": 11,
    "start_time": "2021-06-20T09:53:18.462Z"
   },
   {
    "duration": 34,
    "start_time": "2021-06-20T09:53:18.476Z"
   },
   {
    "duration": 12,
    "start_time": "2021-06-20T09:53:18.513Z"
   },
   {
    "duration": 11,
    "start_time": "2021-06-20T09:53:18.531Z"
   },
   {
    "duration": 14,
    "start_time": "2021-06-20T09:53:18.547Z"
   },
   {
    "duration": 55,
    "start_time": "2021-06-20T09:53:18.563Z"
   },
   {
    "duration": 11,
    "start_time": "2021-06-20T09:53:18.620Z"
   },
   {
    "duration": 4352,
    "start_time": "2021-06-20T09:53:18.634Z"
   },
   {
    "duration": -31,
    "start_time": "2021-06-20T09:53:23.023Z"
   },
   {
    "duration": -33,
    "start_time": "2021-06-20T09:53:23.027Z"
   },
   {
    "duration": -36,
    "start_time": "2021-06-20T09:53:23.031Z"
   },
   {
    "duration": -38,
    "start_time": "2021-06-20T09:53:23.034Z"
   },
   {
    "duration": -41,
    "start_time": "2021-06-20T09:53:23.038Z"
   },
   {
    "duration": -43,
    "start_time": "2021-06-20T09:53:23.042Z"
   },
   {
    "duration": -46,
    "start_time": "2021-06-20T09:53:23.046Z"
   },
   {
    "duration": -49,
    "start_time": "2021-06-20T09:53:23.050Z"
   },
   {
    "duration": -52,
    "start_time": "2021-06-20T09:53:23.054Z"
   },
   {
    "duration": -54,
    "start_time": "2021-06-20T09:53:23.058Z"
   },
   {
    "duration": -57,
    "start_time": "2021-06-20T09:53:23.062Z"
   },
   {
    "duration": -61,
    "start_time": "2021-06-20T09:53:23.067Z"
   },
   {
    "duration": -63,
    "start_time": "2021-06-20T09:53:23.071Z"
   },
   {
    "duration": -66,
    "start_time": "2021-06-20T09:53:23.075Z"
   },
   {
    "duration": -70,
    "start_time": "2021-06-20T09:53:23.080Z"
   },
   {
    "duration": -71,
    "start_time": "2021-06-20T09:53:23.084Z"
   },
   {
    "duration": -72,
    "start_time": "2021-06-20T09:53:23.087Z"
   },
   {
    "duration": -74,
    "start_time": "2021-06-20T09:53:23.090Z"
   },
   {
    "duration": -84,
    "start_time": "2021-06-20T09:53:23.101Z"
   },
   {
    "duration": -86,
    "start_time": "2021-06-20T09:53:23.104Z"
   },
   {
    "duration": -88,
    "start_time": "2021-06-20T09:53:23.108Z"
   },
   {
    "duration": -90,
    "start_time": "2021-06-20T09:53:23.111Z"
   },
   {
    "duration": -92,
    "start_time": "2021-06-20T09:53:23.114Z"
   },
   {
    "duration": -94,
    "start_time": "2021-06-20T09:53:23.118Z"
   },
   {
    "duration": -97,
    "start_time": "2021-06-20T09:53:23.122Z"
   },
   {
    "duration": -2879,
    "start_time": "2021-06-20T09:53:25.906Z"
   },
   {
    "duration": -2881,
    "start_time": "2021-06-20T09:53:25.909Z"
   },
   {
    "duration": -2882,
    "start_time": "2021-06-20T09:53:25.911Z"
   },
   {
    "duration": -2883,
    "start_time": "2021-06-20T09:53:25.914Z"
   },
   {
    "duration": -2885,
    "start_time": "2021-06-20T09:53:25.917Z"
   },
   {
    "duration": -2886,
    "start_time": "2021-06-20T09:53:25.919Z"
   },
   {
    "duration": -2888,
    "start_time": "2021-06-20T09:53:25.922Z"
   },
   {
    "duration": -2889,
    "start_time": "2021-06-20T09:53:25.925Z"
   },
   {
    "duration": -2891,
    "start_time": "2021-06-20T09:53:25.928Z"
   },
   {
    "duration": -2893,
    "start_time": "2021-06-20T09:53:25.931Z"
   },
   {
    "duration": -3211,
    "start_time": "2021-06-20T09:53:26.250Z"
   },
   {
    "duration": -3258,
    "start_time": "2021-06-20T09:53:26.299Z"
   },
   {
    "duration": -3260,
    "start_time": "2021-06-20T09:53:26.302Z"
   },
   {
    "duration": -3271,
    "start_time": "2021-06-20T09:53:26.314Z"
   },
   {
    "duration": -3273,
    "start_time": "2021-06-20T09:53:26.317Z"
   },
   {
    "duration": -3274,
    "start_time": "2021-06-20T09:53:26.320Z"
   },
   {
    "duration": -3275,
    "start_time": "2021-06-20T09:53:26.322Z"
   },
   {
    "duration": -3277,
    "start_time": "2021-06-20T09:53:26.325Z"
   },
   {
    "duration": -3220,
    "start_time": "2021-06-20T09:53:26.328Z"
   },
   {
    "duration": -3221,
    "start_time": "2021-06-20T09:53:26.331Z"
   },
   {
    "duration": -3223,
    "start_time": "2021-06-20T09:53:26.334Z"
   },
   {
    "duration": -3223,
    "start_time": "2021-06-20T09:53:26.336Z"
   },
   {
    "duration": -3225,
    "start_time": "2021-06-20T09:53:26.339Z"
   },
   {
    "duration": -3226,
    "start_time": "2021-06-20T09:53:26.342Z"
   },
   {
    "duration": -3228,
    "start_time": "2021-06-20T09:53:26.345Z"
   },
   {
    "duration": -3231,
    "start_time": "2021-06-20T09:53:26.349Z"
   },
   {
    "duration": -3231,
    "start_time": "2021-06-20T09:53:26.351Z"
   },
   {
    "duration": -3233,
    "start_time": "2021-06-20T09:53:26.354Z"
   },
   {
    "duration": -3235,
    "start_time": "2021-06-20T09:53:26.357Z"
   },
   {
    "duration": -3236,
    "start_time": "2021-06-20T09:53:26.359Z"
   },
   {
    "duration": -3237,
    "start_time": "2021-06-20T09:53:26.362Z"
   },
   {
    "duration": -3239,
    "start_time": "2021-06-20T09:53:26.365Z"
   },
   {
    "duration": -3240,
    "start_time": "2021-06-20T09:53:26.367Z"
   },
   {
    "duration": -3241,
    "start_time": "2021-06-20T09:53:26.370Z"
   },
   {
    "duration": -3243,
    "start_time": "2021-06-20T09:53:26.373Z"
   },
   {
    "duration": -3245,
    "start_time": "2021-06-20T09:53:26.376Z"
   },
   {
    "duration": -3246,
    "start_time": "2021-06-20T09:53:26.378Z"
   },
   {
    "duration": -3247,
    "start_time": "2021-06-20T09:53:26.381Z"
   },
   {
    "duration": -3248,
    "start_time": "2021-06-20T09:53:26.383Z"
   },
   {
    "duration": -3250,
    "start_time": "2021-06-20T09:53:26.386Z"
   },
   {
    "duration": -3251,
    "start_time": "2021-06-20T09:53:26.388Z"
   },
   {
    "duration": -3252,
    "start_time": "2021-06-20T09:53:26.391Z"
   },
   {
    "duration": -3254,
    "start_time": "2021-06-20T09:53:26.394Z"
   },
   {
    "duration": -3255,
    "start_time": "2021-06-20T09:53:26.396Z"
   },
   {
    "duration": 887,
    "start_time": "2021-06-20T09:53:46.932Z"
   },
   {
    "duration": 51,
    "start_time": "2021-06-20T09:53:47.822Z"
   },
   {
    "duration": 35,
    "start_time": "2021-06-20T09:53:47.877Z"
   },
   {
    "duration": 18,
    "start_time": "2021-06-20T09:53:47.914Z"
   },
   {
    "duration": 117,
    "start_time": "2021-06-20T09:53:47.934Z"
   },
   {
    "duration": 31,
    "start_time": "2021-06-20T09:53:48.054Z"
   },
   {
    "duration": 30,
    "start_time": "2021-06-20T09:53:48.088Z"
   },
   {
    "duration": 599,
    "start_time": "2021-06-20T09:53:48.122Z"
   },
   {
    "duration": 11,
    "start_time": "2021-06-20T09:53:48.724Z"
   },
   {
    "duration": 14,
    "start_time": "2021-06-20T09:53:48.737Z"
   },
   {
    "duration": 5280,
    "start_time": "2021-06-20T09:53:48.753Z"
   },
   {
    "duration": 10,
    "start_time": "2021-06-20T09:53:54.036Z"
   },
   {
    "duration": 10,
    "start_time": "2021-06-20T09:53:54.049Z"
   },
   {
    "duration": 12,
    "start_time": "2021-06-20T09:53:54.062Z"
   },
   {
    "duration": 14,
    "start_time": "2021-06-20T09:53:54.109Z"
   },
   {
    "duration": 13,
    "start_time": "2021-06-20T09:53:54.126Z"
   },
   {
    "duration": 16,
    "start_time": "2021-06-20T09:53:54.142Z"
   },
   {
    "duration": 55,
    "start_time": "2021-06-20T09:53:54.160Z"
   },
   {
    "duration": 4879,
    "start_time": "2021-06-20T09:53:54.217Z"
   },
   {
    "duration": 14,
    "start_time": "2021-06-20T09:53:59.099Z"
   },
   {
    "duration": 24,
    "start_time": "2021-06-20T09:53:59.116Z"
   },
   {
    "duration": 11,
    "start_time": "2021-06-20T09:53:59.142Z"
   },
   {
    "duration": 10,
    "start_time": "2021-06-20T09:53:59.159Z"
   },
   {
    "duration": 46,
    "start_time": "2021-06-20T09:53:59.173Z"
   },
   {
    "duration": 13,
    "start_time": "2021-06-20T09:53:59.221Z"
   },
   {
    "duration": 9,
    "start_time": "2021-06-20T09:53:59.237Z"
   },
   {
    "duration": 4896,
    "start_time": "2021-06-20T09:53:59.248Z"
   },
   {
    "duration": 24,
    "start_time": "2021-06-20T09:54:04.147Z"
   },
   {
    "duration": 9,
    "start_time": "2021-06-20T09:54:04.174Z"
   },
   {
    "duration": 72,
    "start_time": "2021-06-20T09:54:04.185Z"
   },
   {
    "duration": 5016,
    "start_time": "2021-06-20T09:54:04.259Z"
   },
   {
    "duration": 10,
    "start_time": "2021-06-20T09:54:09.278Z"
   },
   {
    "duration": 26,
    "start_time": "2021-06-20T09:54:09.291Z"
   },
   {
    "duration": 20,
    "start_time": "2021-06-20T09:54:09.320Z"
   },
   {
    "duration": 6145,
    "start_time": "2021-06-20T09:54:09.342Z"
   },
   {
    "duration": 21,
    "start_time": "2021-06-20T09:54:15.490Z"
   },
   {
    "duration": 36,
    "start_time": "2021-06-20T09:54:15.514Z"
   },
   {
    "duration": 10,
    "start_time": "2021-06-20T09:54:15.552Z"
   },
   {
    "duration": 15,
    "start_time": "2021-06-20T09:54:15.565Z"
   },
   {
    "duration": 35,
    "start_time": "2021-06-20T09:54:15.582Z"
   },
   {
    "duration": 10,
    "start_time": "2021-06-20T09:54:15.619Z"
   },
   {
    "duration": 22,
    "start_time": "2021-06-20T09:54:15.632Z"
   },
   {
    "duration": 29892,
    "start_time": "2021-06-20T09:54:15.656Z"
   },
   {
    "duration": 7,
    "start_time": "2021-06-20T09:54:45.551Z"
   },
   {
    "duration": 27,
    "start_time": "2021-06-20T09:54:45.560Z"
   },
   {
    "duration": 68,
    "start_time": "2021-06-20T09:54:45.590Z"
   },
   {
    "duration": 11,
    "start_time": "2021-06-20T09:54:45.660Z"
   },
   {
    "duration": 90,
    "start_time": "2021-06-20T09:54:45.673Z"
   },
   {
    "duration": 14,
    "start_time": "2021-06-20T09:54:45.766Z"
   },
   {
    "duration": 359,
    "start_time": "2021-06-20T09:54:45.783Z"
   },
   {
    "duration": 564,
    "start_time": "2021-06-20T09:54:46.144Z"
   },
   {
    "duration": 5,
    "start_time": "2021-06-20T09:54:46.711Z"
   },
   {
    "duration": 13,
    "start_time": "2021-06-20T09:54:46.719Z"
   },
   {
    "duration": 28,
    "start_time": "2021-06-20T09:54:46.735Z"
   },
   {
    "duration": 29358,
    "start_time": "2021-06-20T09:54:46.766Z"
   },
   {
    "duration": 28,
    "start_time": "2021-06-20T09:55:16.127Z"
   },
   {
    "duration": 17,
    "start_time": "2021-06-20T09:55:16.157Z"
   },
   {
    "duration": 547,
    "start_time": "2021-06-20T09:55:16.177Z"
   },
   {
    "duration": 10,
    "start_time": "2021-06-20T09:55:16.727Z"
   },
   {
    "duration": 342,
    "start_time": "2021-06-20T09:55:16.740Z"
   },
   {
    "duration": 25,
    "start_time": "2021-06-20T09:55:17.084Z"
   },
   {
    "duration": 436,
    "start_time": "2021-06-20T09:55:17.112Z"
   },
   {
    "duration": 11,
    "start_time": "2021-06-20T09:55:17.551Z"
   },
   {
    "duration": 12,
    "start_time": "2021-06-20T09:55:17.565Z"
   },
   {
    "duration": 532,
    "start_time": "2021-06-20T09:55:17.580Z"
   },
   {
    "duration": 11,
    "start_time": "2021-06-20T09:55:18.114Z"
   },
   {
    "duration": 54,
    "start_time": "2021-06-20T09:55:18.128Z"
   },
   {
    "duration": 41,
    "start_time": "2021-06-20T09:55:18.213Z"
   },
   {
    "duration": 12,
    "start_time": "2021-06-20T09:55:18.257Z"
   },
   {
    "duration": 43,
    "start_time": "2021-06-20T09:55:18.271Z"
   },
   {
    "duration": 18521,
    "start_time": "2021-06-20T09:55:18.317Z"
   },
   {
    "duration": 42,
    "start_time": "2021-06-20T09:55:36.840Z"
   },
   {
    "duration": 29,
    "start_time": "2021-06-20T09:55:36.885Z"
   },
   {
    "duration": 13,
    "start_time": "2021-06-20T09:55:36.917Z"
   },
   {
    "duration": 29,
    "start_time": "2021-06-20T09:55:36.933Z"
   },
   {
    "duration": 55,
    "start_time": "2021-06-20T09:55:36.965Z"
   },
   {
    "duration": 41,
    "start_time": "2021-06-20T09:55:37.022Z"
   },
   {
    "duration": 359,
    "start_time": "2021-06-20T09:55:37.065Z"
   },
   {
    "duration": 35,
    "start_time": "2021-06-20T09:55:37.426Z"
   },
   {
    "duration": 408,
    "start_time": "2021-06-20T09:55:37.464Z"
   },
   {
    "duration": 369,
    "start_time": "2021-06-20T09:55:37.874Z"
   },
   {
    "duration": 20,
    "start_time": "2021-06-20T09:55:38.245Z"
   },
   {
    "duration": 21,
    "start_time": "2021-06-20T09:55:38.267Z"
   },
   {
    "duration": 24,
    "start_time": "2021-06-20T09:55:38.291Z"
   },
   {
    "duration": 15,
    "start_time": "2021-06-20T09:55:38.318Z"
   },
   {
    "duration": 31,
    "start_time": "2021-06-20T09:55:38.335Z"
   },
   {
    "duration": 961,
    "start_time": "2021-06-20T09:55:38.369Z"
   },
   {
    "duration": 1025,
    "start_time": "2021-06-20T09:55:39.333Z"
   },
   {
    "duration": 785,
    "start_time": "2021-06-20T09:55:40.361Z"
   },
   {
    "duration": 78,
    "start_time": "2021-06-20T09:55:41.150Z"
   },
   {
    "duration": 24,
    "start_time": "2021-06-20T09:55:41.230Z"
   },
   {
    "duration": 52,
    "start_time": "2021-06-20T09:55:41.257Z"
   },
   {
    "duration": 29,
    "start_time": "2021-06-20T09:55:41.311Z"
   },
   {
    "duration": 392,
    "start_time": "2021-06-20T09:55:41.342Z"
   },
   {
    "duration": 400,
    "start_time": "2021-06-20T09:55:41.737Z"
   },
   {
    "duration": 353,
    "start_time": "2021-06-20T09:55:42.141Z"
   }
  ],
  "kernelspec": {
   "display_name": "Python 3",
   "language": "python",
   "name": "python3"
  },
  "language_info": {
   "codemirror_mode": {
    "name": "ipython",
    "version": 3
   },
   "file_extension": ".py",
   "mimetype": "text/x-python",
   "name": "python",
   "nbconvert_exporter": "python",
   "pygments_lexer": "ipython3",
   "version": "3.8.3"
  },
  "toc": {
   "base_numbering": 1,
   "nav_menu": {},
   "number_sections": true,
   "sideBar": true,
   "skip_h1_title": true,
   "title_cell": "Table of Contents",
   "title_sidebar": "Contents",
   "toc_cell": false,
   "toc_position": {},
   "toc_section_display": true,
   "toc_window_display": true
  }
 },
 "nbformat": 4,
 "nbformat_minor": 2
}
