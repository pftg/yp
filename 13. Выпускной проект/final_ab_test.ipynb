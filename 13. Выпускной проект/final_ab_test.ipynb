{
 "cells": [
  {
   "cell_type": "markdown",
   "metadata": {},
   "source": [
    "# Проект - \"Оценка результатов А/В-тестирования новой механизма рекомендаций на сайте интернет-магазина\""
   ]
  },
  {
   "cell_type": "markdown",
   "metadata": {},
   "source": [
    "В период с 7 декабря 2020 года по 4 января 2021 года был проведен А/В-тест новой функциональности, а именно - нового механизма рекомендаций на сайте интернет-магазина.\n",
    "\n",
    "Поставлена задача - проанализировать результаты теста. В рамках задачи предполагается выполнение следующих работ: \n",
    "\n",
    "1. Проверка корректности данных, их предобработка\n",
    "2. Исследовательский анализ результатов теста\n",
    "3. Формулирование вывода о качестве и результатах исследования"
   ]
  },
  {
   "cell_type": "markdown",
   "metadata": {},
   "source": [
    "Для анализа результатов были предоставлены 4 датасета, содержащие следующие данные:\n",
    "\n",
    "+ **`ab_project_marketing_events.csv`** — календарь маркетинговых событий на 2020 год со следующей структурой:\n",
    "    - `name` — название маркетингового события;\n",
    "    - `regions` — регионы, в которых будет проводиться рекламная кампания;\n",
    "    - `start_dt` — дата начала кампании;\n",
    "    - `finish_dt` — дата завершения кампании.\n",
    "+ **`final_ab_new_users.csv`** — пользователи, зарегистрировавшиеся с 7 по 21 декабря 2020 года со следующей структурой:\n",
    "    - `user_id` — идентификатор пользователя;\n",
    "    - `first_date` — дата регистрации;\n",
    "    - `region` — регион пользователя;\n",
    "    - `device` — устройство, с которого происходила регистрация.\n",
    "+ **`final_ab_events.csv`** — действия новых пользователей в период с 7 декабря 2020 по 4 января 2021 года со следующей структурой:\n",
    "    - `user_id` — идентификатор пользователя;\n",
    "    - `event_dt` — дата и время покупки;\n",
    "    - `event_name` — тип события;\n",
    "    - `details` — дополнительные данные о событии. Например, для покупок, `purchase,` в этом поле хранится стоимость покупки в долларах.\n",
    "+ **`final_ab_participants.csv`** — таблица участников тестов со следующей структурой:\n",
    "    - `user_id` — идентификатор пользователя;\n",
    "    - `ab_test` — название теста;\n",
    "    - `group` — группа пользователя."
   ]
  },
  {
   "cell_type": "markdown",
   "metadata": {},
   "source": [
    "# Подготовка"
   ]
  },
  {
   "cell_type": "markdown",
   "metadata": {},
   "source": [
    "## Импорт библиотек и чтение данных"
   ]
  },
  {
   "cell_type": "code",
   "execution_count": 1,
   "metadata": {},
   "outputs": [],
   "source": [
    "import pandas as pd\n",
    "from io import BytesIO\n",
    "import requests\n",
    "import math as mth\n",
    "import scipy.stats as st\n",
    "from plotly import graph_objects as go\n",
    "import matplotlib.pyplot as plt\n",
    "import seaborn as sns\n",
    "from pandas.plotting import register_matplotlib_converters\n",
    "register_matplotlib_converters()\n",
    "\n",
    "import psutil\n",
    "import plotly.io as pio\n",
    "pio.renderers.default='notebook'\n",
    "\n",
    "from IPython.display import Image"
   ]
  },
  {
   "cell_type": "code",
   "execution_count": 2,
   "metadata": {},
   "outputs": [],
   "source": [
    "#импортируем таблицы\n",
    "spreadsheet_id = '17FYfKzEDrS0wbzzvB8UVuy_5Vgzld8R_R-2xZF2AJV0'\n",
    "file_name = 'https://docs.google.com/spreadsheets/d/{}/export?format=csv'.format(spreadsheet_id)\n",
    "r = requests.get(file_name)\n",
    "final_ab_participants = pd.read_csv(BytesIO(r.content))\n",
    "\n",
    "spreadsheet_id = '1ieuhv8ajykMdbc8WAcM1vvX-gpsE64loavBqyGcSopk'\n",
    "file_name = 'https://docs.google.com/spreadsheets/d/{}/export?format=csv'.format(spreadsheet_id)\n",
    "r = requests.get(file_name)\n",
    "final_ab_events = pd.read_csv(BytesIO(r.content))\n",
    "\n",
    "spreadsheet_id = '1AtN5QdkpmRMD1DYtzCgSIe0-QV_9XBHiPQDzrRr_vE0'\n",
    "file_name = 'https://docs.google.com/spreadsheets/d/{}/export?format=csv'.format(spreadsheet_id)\n",
    "r = requests.get(file_name)\n",
    "final_ab_new_users = pd.read_csv(BytesIO(r.content))\n",
    "\n",
    "spreadsheet_id = '1GY05m4U132se59Cn_4734p5u6L_OfJDA6_wbnxdEB7E'\n",
    "file_name = 'https://docs.google.com/spreadsheets/d/{}/export?format=csv'.format(spreadsheet_id)\n",
    "r = requests.get(file_name)\n",
    "ab_project_marketing_events = pd.read_csv(BytesIO(r.content))"
   ]
  },
  {
   "cell_type": "markdown",
   "metadata": {},
   "source": [
    "# Предобработка данных"
   ]
  },
  {
   "cell_type": "markdown",
   "metadata": {},
   "source": [
    "## Таблица `final_ab_participants`"
   ]
  },
  {
   "cell_type": "code",
   "execution_count": 3,
   "metadata": {},
   "outputs": [
    {
     "name": "stdout",
     "output_type": "stream",
     "text": [
      "<class 'pandas.core.frame.DataFrame'>\n",
      "RangeIndex: 18268 entries, 0 to 18267\n",
      "Data columns (total 3 columns):\n",
      " #   Column   Non-Null Count  Dtype \n",
      "---  ------   --------------  ----- \n",
      " 0   user_id  18268 non-null  object\n",
      " 1   group    18268 non-null  object\n",
      " 2   ab_test  18268 non-null  object\n",
      "dtypes: object(3)\n",
      "memory usage: 428.3+ KB\n"
     ]
    }
   ],
   "source": [
    "#посмотрим на размер таблицы и типы данных\n",
    "final_ab_participants.info()"
   ]
  },
  {
   "cell_type": "code",
   "execution_count": 4,
   "metadata": {},
   "outputs": [
    {
     "data": {
      "text/html": [
       "<div>\n",
       "<style scoped>\n",
       "    .dataframe tbody tr th:only-of-type {\n",
       "        vertical-align: middle;\n",
       "    }\n",
       "\n",
       "    .dataframe tbody tr th {\n",
       "        vertical-align: top;\n",
       "    }\n",
       "\n",
       "    .dataframe thead th {\n",
       "        text-align: right;\n",
       "    }\n",
       "</style>\n",
       "<table border=\"1\" class=\"dataframe\">\n",
       "  <thead>\n",
       "    <tr style=\"text-align: right;\">\n",
       "      <th></th>\n",
       "      <th>user_id</th>\n",
       "      <th>group</th>\n",
       "      <th>ab_test</th>\n",
       "    </tr>\n",
       "  </thead>\n",
       "  <tbody>\n",
       "    <tr>\n",
       "      <th>0</th>\n",
       "      <td>D1ABA3E2887B6A73</td>\n",
       "      <td>A</td>\n",
       "      <td>recommender_system_test</td>\n",
       "    </tr>\n",
       "    <tr>\n",
       "      <th>1</th>\n",
       "      <td>A7A3664BD6242119</td>\n",
       "      <td>A</td>\n",
       "      <td>recommender_system_test</td>\n",
       "    </tr>\n",
       "    <tr>\n",
       "      <th>2</th>\n",
       "      <td>DABC14FDDFADD29E</td>\n",
       "      <td>A</td>\n",
       "      <td>recommender_system_test</td>\n",
       "    </tr>\n",
       "    <tr>\n",
       "      <th>3</th>\n",
       "      <td>04988C5DF189632E</td>\n",
       "      <td>A</td>\n",
       "      <td>recommender_system_test</td>\n",
       "    </tr>\n",
       "    <tr>\n",
       "      <th>4</th>\n",
       "      <td>482F14783456D21B</td>\n",
       "      <td>B</td>\n",
       "      <td>recommender_system_test</td>\n",
       "    </tr>\n",
       "  </tbody>\n",
       "</table>\n",
       "</div>"
      ],
      "text/plain": [
       "            user_id group                  ab_test\n",
       "0  D1ABA3E2887B6A73     A  recommender_system_test\n",
       "1  A7A3664BD6242119     A  recommender_system_test\n",
       "2  DABC14FDDFADD29E     A  recommender_system_test\n",
       "3  04988C5DF189632E     A  recommender_system_test\n",
       "4  482F14783456D21B     B  recommender_system_test"
      ]
     },
     "execution_count": 4,
     "metadata": {},
     "output_type": "execute_result"
    }
   ],
   "source": [
    "#оценим непосредственно таблицу\n",
    "final_ab_participants.head()"
   ]
  },
  {
   "cell_type": "code",
   "execution_count": 5,
   "metadata": {},
   "outputs": [
    {
     "data": {
      "text/html": [
       "<div>\n",
       "<style scoped>\n",
       "    .dataframe tbody tr th:only-of-type {\n",
       "        vertical-align: middle;\n",
       "    }\n",
       "\n",
       "    .dataframe tbody tr th {\n",
       "        vertical-align: top;\n",
       "    }\n",
       "\n",
       "    .dataframe thead th {\n",
       "        text-align: right;\n",
       "    }\n",
       "</style>\n",
       "<table border=\"1\" class=\"dataframe\">\n",
       "  <thead>\n",
       "    <tr style=\"text-align: right;\">\n",
       "      <th></th>\n",
       "      <th></th>\n",
       "      <th>user_id</th>\n",
       "    </tr>\n",
       "    <tr>\n",
       "      <th>ab_test</th>\n",
       "      <th>group</th>\n",
       "      <th></th>\n",
       "    </tr>\n",
       "  </thead>\n",
       "  <tbody>\n",
       "    <tr>\n",
       "      <th rowspan=\"2\" valign=\"top\">interface_eu_test</th>\n",
       "      <th>A</th>\n",
       "      <td>5831</td>\n",
       "    </tr>\n",
       "    <tr>\n",
       "      <th>B</th>\n",
       "      <td>5736</td>\n",
       "    </tr>\n",
       "    <tr>\n",
       "      <th rowspan=\"2\" valign=\"top\">recommender_system_test</th>\n",
       "      <th>A</th>\n",
       "      <td>3824</td>\n",
       "    </tr>\n",
       "    <tr>\n",
       "      <th>B</th>\n",
       "      <td>2877</td>\n",
       "    </tr>\n",
       "  </tbody>\n",
       "</table>\n",
       "</div>"
      ],
      "text/plain": [
       "                               user_id\n",
       "ab_test                 group         \n",
       "interface_eu_test       A         5831\n",
       "                        B         5736\n",
       "recommender_system_test A         3824\n",
       "                        B         2877"
      ]
     },
     "execution_count": 5,
     "metadata": {},
     "output_type": "execute_result"
    }
   ],
   "source": [
    "#оценим группировку значений по тесту и группе теста\n",
    "final_ab_participants.groupby(['ab_test', 'group']).agg({'user_id': 'nunique'})"
   ]
  },
  {
   "cell_type": "code",
   "execution_count": 6,
   "metadata": {},
   "outputs": [
    {
     "name": "stdout",
     "output_type": "stream",
     "text": [
      "Количество полных дубликатов в данных: 0\n"
     ]
    }
   ],
   "source": [
    "print('Количество полных дубликатов в данных:', sum(final_ab_participants.duplicated()))"
   ]
  },
  {
   "cell_type": "markdown",
   "metadata": {},
   "source": [
    "1. Таблица содержит 18268 строк и 3 столбца\n",
    "2. В столбцах нет пропусков \n",
    "3. Автоматически присвоенные типы данных соответствуют действительности\n",
    "4. В таблице присутствуют данные по двум разным тестам - в рамках исследования предполагается работа только с одним тестом"
   ]
  },
  {
   "cell_type": "markdown",
   "metadata": {},
   "source": [
    "## Таблица `final_ab_new_users`"
   ]
  },
  {
   "cell_type": "code",
   "execution_count": 7,
   "metadata": {},
   "outputs": [
    {
     "name": "stdout",
     "output_type": "stream",
     "text": [
      "<class 'pandas.core.frame.DataFrame'>\n",
      "RangeIndex: 61733 entries, 0 to 61732\n",
      "Data columns (total 4 columns):\n",
      " #   Column      Non-Null Count  Dtype \n",
      "---  ------      --------------  ----- \n",
      " 0   user_id     61733 non-null  object\n",
      " 1   first_date  61733 non-null  object\n",
      " 2   region      61733 non-null  object\n",
      " 3   device      61733 non-null  object\n",
      "dtypes: object(4)\n",
      "memory usage: 1.9+ MB\n"
     ]
    }
   ],
   "source": [
    "final_ab_new_users.info()"
   ]
  },
  {
   "cell_type": "code",
   "execution_count": 8,
   "metadata": {},
   "outputs": [
    {
     "data": {
      "text/html": [
       "<div>\n",
       "<style scoped>\n",
       "    .dataframe tbody tr th:only-of-type {\n",
       "        vertical-align: middle;\n",
       "    }\n",
       "\n",
       "    .dataframe tbody tr th {\n",
       "        vertical-align: top;\n",
       "    }\n",
       "\n",
       "    .dataframe thead th {\n",
       "        text-align: right;\n",
       "    }\n",
       "</style>\n",
       "<table border=\"1\" class=\"dataframe\">\n",
       "  <thead>\n",
       "    <tr style=\"text-align: right;\">\n",
       "      <th></th>\n",
       "      <th>user_id</th>\n",
       "      <th>first_date</th>\n",
       "      <th>region</th>\n",
       "      <th>device</th>\n",
       "    </tr>\n",
       "  </thead>\n",
       "  <tbody>\n",
       "    <tr>\n",
       "      <th>0</th>\n",
       "      <td>D72A72121175D8BE</td>\n",
       "      <td>2020-12-07</td>\n",
       "      <td>EU</td>\n",
       "      <td>PC</td>\n",
       "    </tr>\n",
       "    <tr>\n",
       "      <th>1</th>\n",
       "      <td>F1C668619DFE6E65</td>\n",
       "      <td>2020-12-07</td>\n",
       "      <td>N.America</td>\n",
       "      <td>Android</td>\n",
       "    </tr>\n",
       "    <tr>\n",
       "      <th>2</th>\n",
       "      <td>2E1BF1D4C37EA01F</td>\n",
       "      <td>2020-12-07</td>\n",
       "      <td>EU</td>\n",
       "      <td>PC</td>\n",
       "    </tr>\n",
       "    <tr>\n",
       "      <th>3</th>\n",
       "      <td>50734A22C0C63768</td>\n",
       "      <td>2020-12-07</td>\n",
       "      <td>EU</td>\n",
       "      <td>iPhone</td>\n",
       "    </tr>\n",
       "    <tr>\n",
       "      <th>4</th>\n",
       "      <td>E1BDDCE0DAFA2679</td>\n",
       "      <td>2020-12-07</td>\n",
       "      <td>N.America</td>\n",
       "      <td>iPhone</td>\n",
       "    </tr>\n",
       "  </tbody>\n",
       "</table>\n",
       "</div>"
      ],
      "text/plain": [
       "            user_id  first_date     region   device\n",
       "0  D72A72121175D8BE  2020-12-07         EU       PC\n",
       "1  F1C668619DFE6E65  2020-12-07  N.America  Android\n",
       "2  2E1BF1D4C37EA01F  2020-12-07         EU       PC\n",
       "3  50734A22C0C63768  2020-12-07         EU   iPhone\n",
       "4  E1BDDCE0DAFA2679  2020-12-07  N.America   iPhone"
      ]
     },
     "execution_count": 8,
     "metadata": {},
     "output_type": "execute_result"
    }
   ],
   "source": [
    "final_ab_new_users.head()"
   ]
  },
  {
   "cell_type": "code",
   "execution_count": 9,
   "metadata": {},
   "outputs": [],
   "source": [
    "#В столбце first_data указана дата, но она определена как строковый тип данных, поэтому сделаем преобразования\n",
    "final_ab_new_users['first_date'] = pd.to_datetime(final_ab_new_users['first_date'])"
   ]
  },
  {
   "cell_type": "code",
   "execution_count": 10,
   "metadata": {},
   "outputs": [
    {
     "name": "stdout",
     "output_type": "stream",
     "text": [
      "Количество полных дубликатов в данных: 0\n"
     ]
    }
   ],
   "source": [
    "#Проверим на дубликаты\n",
    "print('Количество полных дубликатов в данных:', sum(final_ab_new_users.duplicated()))"
   ]
  },
  {
   "cell_type": "code",
   "execution_count": 11,
   "metadata": {},
   "outputs": [
    {
     "name": "stdout",
     "output_type": "stream",
     "text": [
      "Min дата: 2020-12-07 00:00:00\n",
      "Max дата: 2020-12-23 00:00:00\n"
     ]
    }
   ],
   "source": [
    "final_ab_new_users['first_date'].min()\n",
    "\n",
    "print('Min дата:',  final_ab_new_users['first_date'].min())\n",
    "print('Max дата:',  final_ab_new_users['first_date'].max())"
   ]
  },
  {
   "cell_type": "code",
   "execution_count": 12,
   "metadata": {},
   "outputs": [],
   "source": [
    "final_ab_new_users = final_ab_new_users[final_ab_new_users['first_date'] <= '2020-12-21']"
   ]
  },
  {
   "cell_type": "code",
   "execution_count": 13,
   "metadata": {},
   "outputs": [
    {
     "data": {
      "text/plain": [
       "EU           42340\n",
       "N.America     8347\n",
       "CIS           2900\n",
       "APAC          2883\n",
       "Name: region, dtype: int64"
      ]
     },
     "execution_count": 13,
     "metadata": {},
     "output_type": "execute_result"
    }
   ],
   "source": [
    "final_ab_new_users['region'].value_counts()"
   ]
  },
  {
   "cell_type": "code",
   "execution_count": 14,
   "metadata": {},
   "outputs": [
    {
     "data": {
      "text/plain": [
       "Android    25161\n",
       "PC         14310\n",
       "iPhone     11477\n",
       "Mac         5522\n",
       "Name: device, dtype: int64"
      ]
     },
     "execution_count": 14,
     "metadata": {},
     "output_type": "execute_result"
    }
   ],
   "source": [
    "final_ab_new_users['device'].value_counts()"
   ]
  },
  {
   "cell_type": "code",
   "execution_count": 15,
   "metadata": {},
   "outputs": [],
   "source": [
    "#оставляем в датасете только пользователей из Европы, как того требует ТЗ\n",
    "final_ab_new_users = final_ab_new_users[final_ab_new_users['region'] == 'EU']"
   ]
  },
  {
   "cell_type": "markdown",
   "metadata": {},
   "source": [
    "1. В исходной таблице 61733 строки и 4 столбца\n",
    "2. Пропусков нет\n",
    "3. Строковый тип данных в столбце `first_date` преобразован в дату\n",
    "4. В датасете обнаружены даты от 7 до 23 декабря 2020 года. По ТЗ дата остановки набора новых пользователей - 21 декабря 2020, поэтому из датасета удалены все строки с более поздней датой \n",
    "5. В датасете обнаружены регионы, отличные от региона \"Европа\", так как для проверки результатов теста нам они не понадобятся, данные по всем регионам кроме Европы были удалены"
   ]
  },
  {
   "cell_type": "markdown",
   "metadata": {},
   "source": [
    "## Таблица `final_ab_events`"
   ]
  },
  {
   "cell_type": "code",
   "execution_count": 16,
   "metadata": {},
   "outputs": [
    {
     "name": "stdout",
     "output_type": "stream",
     "text": [
      "<class 'pandas.core.frame.DataFrame'>\n",
      "RangeIndex: 440317 entries, 0 to 440316\n",
      "Data columns (total 4 columns):\n",
      " #   Column      Non-Null Count   Dtype  \n",
      "---  ------      --------------   -----  \n",
      " 0   user_id     440317 non-null  object \n",
      " 1   event_dt    440317 non-null  object \n",
      " 2   details     62740 non-null   float64\n",
      " 3   event_name  440317 non-null  object \n",
      "dtypes: float64(1), object(3)\n",
      "memory usage: 13.4+ MB\n"
     ]
    }
   ],
   "source": [
    "final_ab_events.info()"
   ]
  },
  {
   "cell_type": "code",
   "execution_count": 17,
   "metadata": {},
   "outputs": [
    {
     "data": {
      "text/html": [
       "<div>\n",
       "<style scoped>\n",
       "    .dataframe tbody tr th:only-of-type {\n",
       "        vertical-align: middle;\n",
       "    }\n",
       "\n",
       "    .dataframe tbody tr th {\n",
       "        vertical-align: top;\n",
       "    }\n",
       "\n",
       "    .dataframe thead th {\n",
       "        text-align: right;\n",
       "    }\n",
       "</style>\n",
       "<table border=\"1\" class=\"dataframe\">\n",
       "  <thead>\n",
       "    <tr style=\"text-align: right;\">\n",
       "      <th></th>\n",
       "      <th>user_id</th>\n",
       "      <th>event_dt</th>\n",
       "      <th>details</th>\n",
       "      <th>event_name</th>\n",
       "    </tr>\n",
       "  </thead>\n",
       "  <tbody>\n",
       "    <tr>\n",
       "      <th>0</th>\n",
       "      <td>E1BDDCE0DAFA2679</td>\n",
       "      <td>2020-12-07 20:22:03</td>\n",
       "      <td>99.99</td>\n",
       "      <td>purchase</td>\n",
       "    </tr>\n",
       "    <tr>\n",
       "      <th>1</th>\n",
       "      <td>7B6452F081F49504</td>\n",
       "      <td>2020-12-07 09:22:53</td>\n",
       "      <td>9.99</td>\n",
       "      <td>purchase</td>\n",
       "    </tr>\n",
       "    <tr>\n",
       "      <th>2</th>\n",
       "      <td>9CD9F34546DF254C</td>\n",
       "      <td>2020-12-07 12:59:29</td>\n",
       "      <td>4.99</td>\n",
       "      <td>purchase</td>\n",
       "    </tr>\n",
       "    <tr>\n",
       "      <th>3</th>\n",
       "      <td>96F27A054B191457</td>\n",
       "      <td>2020-12-07 04:02:40</td>\n",
       "      <td>4.99</td>\n",
       "      <td>purchase</td>\n",
       "    </tr>\n",
       "    <tr>\n",
       "      <th>4</th>\n",
       "      <td>1FD7660FDF94CA1F</td>\n",
       "      <td>2020-12-07 10:15:09</td>\n",
       "      <td>4.99</td>\n",
       "      <td>purchase</td>\n",
       "    </tr>\n",
       "  </tbody>\n",
       "</table>\n",
       "</div>"
      ],
      "text/plain": [
       "            user_id             event_dt  details event_name\n",
       "0  E1BDDCE0DAFA2679  2020-12-07 20:22:03    99.99   purchase\n",
       "1  7B6452F081F49504  2020-12-07 09:22:53     9.99   purchase\n",
       "2  9CD9F34546DF254C  2020-12-07 12:59:29     4.99   purchase\n",
       "3  96F27A054B191457  2020-12-07 04:02:40     4.99   purchase\n",
       "4  1FD7660FDF94CA1F  2020-12-07 10:15:09     4.99   purchase"
      ]
     },
     "execution_count": 17,
     "metadata": {},
     "output_type": "execute_result"
    }
   ],
   "source": [
    "final_ab_events.head()"
   ]
  },
  {
   "cell_type": "code",
   "execution_count": 18,
   "metadata": {},
   "outputs": [
    {
     "name": "stdout",
     "output_type": "stream",
     "text": [
      "Количество полных дубликатов в данных: 0\n"
     ]
    }
   ],
   "source": [
    "#Проверим на дубликаты\n",
    "print('Количество полных дубликатов в данных:', sum(final_ab_events.duplicated()))"
   ]
  },
  {
   "cell_type": "code",
   "execution_count": 19,
   "metadata": {},
   "outputs": [],
   "source": [
    "#преобразуем текст в дату\n",
    "final_ab_events['event_dt'] = pd.to_datetime(final_ab_events['event_dt'])"
   ]
  },
  {
   "cell_type": "code",
   "execution_count": 20,
   "metadata": {},
   "outputs": [
    {
     "name": "stdout",
     "output_type": "stream",
     "text": [
      "Min дата события: 2020-12-07 00:00:33\n",
      "Max дата события: 2020-12-30 23:36:33\n"
     ]
    }
   ],
   "source": [
    "print('Min дата события:',  final_ab_events['event_dt'].min())\n",
    "print('Max дата события:',  final_ab_events['event_dt'].max())"
   ]
  },
  {
   "cell_type": "code",
   "execution_count": 21,
   "metadata": {},
   "outputs": [
    {
     "data": {
      "text/html": [
       "<div>\n",
       "<style scoped>\n",
       "    .dataframe tbody tr th:only-of-type {\n",
       "        vertical-align: middle;\n",
       "    }\n",
       "\n",
       "    .dataframe tbody tr th {\n",
       "        vertical-align: top;\n",
       "    }\n",
       "\n",
       "    .dataframe thead th {\n",
       "        text-align: right;\n",
       "    }\n",
       "</style>\n",
       "<table border=\"1\" class=\"dataframe\">\n",
       "  <thead>\n",
       "    <tr style=\"text-align: right;\">\n",
       "      <th></th>\n",
       "      <th>event_name</th>\n",
       "      <th>details</th>\n",
       "    </tr>\n",
       "  </thead>\n",
       "  <tbody>\n",
       "    <tr>\n",
       "      <th>0</th>\n",
       "      <td>login</td>\n",
       "      <td>NaN</td>\n",
       "    </tr>\n",
       "    <tr>\n",
       "      <th>1</th>\n",
       "      <td>product_cart</td>\n",
       "      <td>NaN</td>\n",
       "    </tr>\n",
       "    <tr>\n",
       "      <th>2</th>\n",
       "      <td>product_page</td>\n",
       "      <td>NaN</td>\n",
       "    </tr>\n",
       "    <tr>\n",
       "      <th>3</th>\n",
       "      <td>purchase</td>\n",
       "      <td>4.99</td>\n",
       "    </tr>\n",
       "  </tbody>\n",
       "</table>\n",
       "</div>"
      ],
      "text/plain": [
       "     event_name  details\n",
       "0         login      NaN\n",
       "1  product_cart      NaN\n",
       "2  product_page      NaN\n",
       "3      purchase     4.99"
      ]
     },
     "execution_count": 21,
     "metadata": {},
     "output_type": "execute_result"
    }
   ],
   "source": [
    "#предположительно, данные в столбце details присутствуют только в строках события покупки, что логично\n",
    "#проверим это выводом минимальной суммы\n",
    "final_ab_events.groupby('event_name', as_index=False).agg({'details': 'min'})"
   ]
  },
  {
   "cell_type": "markdown",
   "metadata": {},
   "source": [
    "1. В таблице 440317 записей и 4 столбца\n",
    "2. Дубликатов нет\n",
    "3. В столбце `details` присутствуют не все значения, так как в нем указана сумма покупки, поэтому данные есть только в транзакциях, зафиксировавших факт покупки\n",
    "4. В столбце с `event_dt` потребовалось преобразование из строкого типа данных в дату\n",
    "5. Любпытное наблюдение: согласно ТЗ, тестирование было завершено 4 января 2021 года, хотя данные о события присутствуют только до 30 декабря включительно. **Есть вероятность, что какая-то часть данных была утеряна при выгрузке.**"
   ]
  },
  {
   "cell_type": "markdown",
   "metadata": {},
   "source": [
    "## Таблица  `ab_project_marketing_events`"
   ]
  },
  {
   "cell_type": "code",
   "execution_count": 22,
   "metadata": {},
   "outputs": [
    {
     "name": "stdout",
     "output_type": "stream",
     "text": [
      "<class 'pandas.core.frame.DataFrame'>\n",
      "RangeIndex: 14 entries, 0 to 13\n",
      "Data columns (total 4 columns):\n",
      " #   Column     Non-Null Count  Dtype \n",
      "---  ------     --------------  ----- \n",
      " 0   name       14 non-null     object\n",
      " 1   regions    14 non-null     object\n",
      " 2   start_dt   14 non-null     object\n",
      " 3   finish_dt  14 non-null     object\n",
      "dtypes: object(4)\n",
      "memory usage: 576.0+ bytes\n"
     ]
    }
   ],
   "source": [
    "ab_project_marketing_events.info()"
   ]
  },
  {
   "cell_type": "code",
   "execution_count": 23,
   "metadata": {},
   "outputs": [
    {
     "data": {
      "text/html": [
       "<div>\n",
       "<style scoped>\n",
       "    .dataframe tbody tr th:only-of-type {\n",
       "        vertical-align: middle;\n",
       "    }\n",
       "\n",
       "    .dataframe tbody tr th {\n",
       "        vertical-align: top;\n",
       "    }\n",
       "\n",
       "    .dataframe thead th {\n",
       "        text-align: right;\n",
       "    }\n",
       "</style>\n",
       "<table border=\"1\" class=\"dataframe\">\n",
       "  <thead>\n",
       "    <tr style=\"text-align: right;\">\n",
       "      <th></th>\n",
       "      <th>name</th>\n",
       "      <th>regions</th>\n",
       "      <th>start_dt</th>\n",
       "      <th>finish_dt</th>\n",
       "    </tr>\n",
       "  </thead>\n",
       "  <tbody>\n",
       "    <tr>\n",
       "      <th>0</th>\n",
       "      <td>Christmas&amp;New Year Promo</td>\n",
       "      <td>EU, N.America</td>\n",
       "      <td>2020-12-25</td>\n",
       "      <td>2021-01-03</td>\n",
       "    </tr>\n",
       "    <tr>\n",
       "      <th>1</th>\n",
       "      <td>St. Valentine's Day Giveaway</td>\n",
       "      <td>EU, CIS, APAC, N.America</td>\n",
       "      <td>2020-02-14</td>\n",
       "      <td>2020-02-16</td>\n",
       "    </tr>\n",
       "    <tr>\n",
       "      <th>2</th>\n",
       "      <td>St. Patric's Day Promo</td>\n",
       "      <td>EU, N.America</td>\n",
       "      <td>2020-03-17</td>\n",
       "      <td>2020-03-19</td>\n",
       "    </tr>\n",
       "    <tr>\n",
       "      <th>3</th>\n",
       "      <td>Easter Promo</td>\n",
       "      <td>EU, CIS, APAC, N.America</td>\n",
       "      <td>2020-04-12</td>\n",
       "      <td>2020-04-19</td>\n",
       "    </tr>\n",
       "    <tr>\n",
       "      <th>4</th>\n",
       "      <td>4th of July Promo</td>\n",
       "      <td>N.America</td>\n",
       "      <td>2020-07-04</td>\n",
       "      <td>2020-07-11</td>\n",
       "    </tr>\n",
       "  </tbody>\n",
       "</table>\n",
       "</div>"
      ],
      "text/plain": [
       "                           name                   regions    start_dt  \\\n",
       "0      Christmas&New Year Promo             EU, N.America  2020-12-25   \n",
       "1  St. Valentine's Day Giveaway  EU, CIS, APAC, N.America  2020-02-14   \n",
       "2        St. Patric's Day Promo             EU, N.America  2020-03-17   \n",
       "3                  Easter Promo  EU, CIS, APAC, N.America  2020-04-12   \n",
       "4             4th of July Promo                 N.America  2020-07-04   \n",
       "\n",
       "    finish_dt  \n",
       "0  2021-01-03  \n",
       "1  2020-02-16  \n",
       "2  2020-03-19  \n",
       "3  2020-04-19  \n",
       "4  2020-07-11  "
      ]
     },
     "execution_count": 23,
     "metadata": {},
     "output_type": "execute_result"
    }
   ],
   "source": [
    "ab_project_marketing_events.head()"
   ]
  },
  {
   "cell_type": "code",
   "execution_count": 24,
   "metadata": {},
   "outputs": [],
   "source": [
    "ab_project_marketing_events['start_dt'] = pd.to_datetime(ab_project_marketing_events['start_dt'])\n",
    "ab_project_marketing_events['finish_dt'] = pd.to_datetime(ab_project_marketing_events['finish_dt'])"
   ]
  },
  {
   "cell_type": "markdown",
   "metadata": {},
   "source": [
    "1. Произведено преобразование данных из строкового типа в формат даты"
   ]
  },
  {
   "cell_type": "markdown",
   "metadata": {},
   "source": [
    "# Анализ данных"
   ]
  },
  {
   "cell_type": "markdown",
   "metadata": {},
   "source": [
    "## Анализ выборки пользователей"
   ]
  },
  {
   "cell_type": "markdown",
   "metadata": {},
   "source": [
    "Так как основная задача - анализ событий, соберем один универсальный датафрейм, в рамках которого и будем работать. "
   ]
  },
  {
   "cell_type": "markdown",
   "metadata": {},
   "source": [
    "Так как в ТЗ указано, что нас интересуют: \n",
    "+ Новые пользователи, зарегистрировавшиеся до 21 декабря 2020 года\n",
    "+ Из региона EU\n",
    "\n",
    "Мы отберем пользователей из региона \"Европа\" из таблицы `final_ab_new_users` и присоединим к ней данные об участниках теста так, чтобы осталась только требуемая ЦА. "
   ]
  },
  {
   "cell_type": "code",
   "execution_count": 25,
   "metadata": {},
   "outputs": [],
   "source": [
    "#к таблице с \"новыми\" пользователями в регионе \"Европа\" присоединяем участников тестов и отбрасываем значения NaN\n",
    "users = final_ab_new_users.merge(\n",
    "    final_ab_participants, on='user_id', how='left'\n",
    ").dropna()"
   ]
  },
  {
   "cell_type": "code",
   "execution_count": 26,
   "metadata": {},
   "outputs": [
    {
     "data": {
      "text/html": [
       "<div>\n",
       "<style scoped>\n",
       "    .dataframe tbody tr th:only-of-type {\n",
       "        vertical-align: middle;\n",
       "    }\n",
       "\n",
       "    .dataframe tbody tr th {\n",
       "        vertical-align: top;\n",
       "    }\n",
       "\n",
       "    .dataframe thead th {\n",
       "        text-align: right;\n",
       "    }\n",
       "</style>\n",
       "<table border=\"1\" class=\"dataframe\">\n",
       "  <thead>\n",
       "    <tr style=\"text-align: right;\">\n",
       "      <th></th>\n",
       "      <th>user_id</th>\n",
       "      <th>first_date</th>\n",
       "      <th>region</th>\n",
       "      <th>device</th>\n",
       "      <th>group</th>\n",
       "      <th>ab_test</th>\n",
       "    </tr>\n",
       "  </thead>\n",
       "  <tbody>\n",
       "    <tr>\n",
       "      <th>0</th>\n",
       "      <td>D72A72121175D8BE</td>\n",
       "      <td>2020-12-07</td>\n",
       "      <td>EU</td>\n",
       "      <td>PC</td>\n",
       "      <td>A</td>\n",
       "      <td>recommender_system_test</td>\n",
       "    </tr>\n",
       "    <tr>\n",
       "      <th>1</th>\n",
       "      <td>2E1BF1D4C37EA01F</td>\n",
       "      <td>2020-12-07</td>\n",
       "      <td>EU</td>\n",
       "      <td>PC</td>\n",
       "      <td>A</td>\n",
       "      <td>interface_eu_test</td>\n",
       "    </tr>\n",
       "    <tr>\n",
       "      <th>2</th>\n",
       "      <td>50734A22C0C63768</td>\n",
       "      <td>2020-12-07</td>\n",
       "      <td>EU</td>\n",
       "      <td>iPhone</td>\n",
       "      <td>B</td>\n",
       "      <td>interface_eu_test</td>\n",
       "    </tr>\n",
       "    <tr>\n",
       "      <th>7</th>\n",
       "      <td>E6DE857AFBDC6102</td>\n",
       "      <td>2020-12-07</td>\n",
       "      <td>EU</td>\n",
       "      <td>PC</td>\n",
       "      <td>B</td>\n",
       "      <td>recommender_system_test</td>\n",
       "    </tr>\n",
       "    <tr>\n",
       "      <th>8</th>\n",
       "      <td>E6DE857AFBDC6102</td>\n",
       "      <td>2020-12-07</td>\n",
       "      <td>EU</td>\n",
       "      <td>PC</td>\n",
       "      <td>B</td>\n",
       "      <td>interface_eu_test</td>\n",
       "    </tr>\n",
       "  </tbody>\n",
       "</table>\n",
       "</div>"
      ],
      "text/plain": [
       "            user_id first_date region  device group                  ab_test\n",
       "0  D72A72121175D8BE 2020-12-07     EU      PC     A  recommender_system_test\n",
       "1  2E1BF1D4C37EA01F 2020-12-07     EU      PC     A        interface_eu_test\n",
       "2  50734A22C0C63768 2020-12-07     EU  iPhone     B        interface_eu_test\n",
       "7  E6DE857AFBDC6102 2020-12-07     EU      PC     B  recommender_system_test\n",
       "8  E6DE857AFBDC6102 2020-12-07     EU      PC     B        interface_eu_test"
      ]
     },
     "execution_count": 26,
     "metadata": {},
     "output_type": "execute_result"
    }
   ],
   "source": [
    "#таким образом мы получаем только необходимые данные\n",
    "users.head()"
   ]
  },
  {
   "cell_type": "code",
   "execution_count": 27,
   "metadata": {},
   "outputs": [
    {
     "data": {
      "text/plain": [
       "interface_eu_test          10565\n",
       "recommender_system_test     6351\n",
       "Name: ab_test, dtype: int64"
      ]
     },
     "execution_count": 27,
     "metadata": {},
     "output_type": "execute_result"
    }
   ],
   "source": [
    "#проверим, как распределились пользователи по тесту\n",
    "users['ab_test'].value_counts()"
   ]
  },
  {
   "cell_type": "markdown",
   "metadata": {},
   "source": [
    "Проверим список пользователей на предмет пересечения с участниками другого теста. "
   ]
  },
  {
   "cell_type": "code",
   "execution_count": 28,
   "metadata": {},
   "outputs": [
    {
     "data": {
      "text/html": [
       "<div>\n",
       "<style scoped>\n",
       "    .dataframe tbody tr th:only-of-type {\n",
       "        vertical-align: middle;\n",
       "    }\n",
       "\n",
       "    .dataframe tbody tr th {\n",
       "        vertical-align: top;\n",
       "    }\n",
       "\n",
       "    .dataframe thead th {\n",
       "        text-align: right;\n",
       "    }\n",
       "</style>\n",
       "<table border=\"1\" class=\"dataframe\">\n",
       "  <thead>\n",
       "    <tr style=\"text-align: right;\">\n",
       "      <th></th>\n",
       "      <th>user_id</th>\n",
       "      <th>number_of_tests</th>\n",
       "    </tr>\n",
       "  </thead>\n",
       "  <tbody>\n",
       "    <tr>\n",
       "      <th>0</th>\n",
       "      <td>0002CE61FF2C4011</td>\n",
       "      <td>1</td>\n",
       "    </tr>\n",
       "    <tr>\n",
       "      <th>1</th>\n",
       "      <td>000ABE35EE11412F</td>\n",
       "      <td>1</td>\n",
       "    </tr>\n",
       "    <tr>\n",
       "      <th>2</th>\n",
       "      <td>001064FEAAB631A1</td>\n",
       "      <td>2</td>\n",
       "    </tr>\n",
       "    <tr>\n",
       "      <th>3</th>\n",
       "      <td>0010A1C096941592</td>\n",
       "      <td>1</td>\n",
       "    </tr>\n",
       "    <tr>\n",
       "      <th>4</th>\n",
       "      <td>001C05E87D336C59</td>\n",
       "      <td>1</td>\n",
       "    </tr>\n",
       "  </tbody>\n",
       "</table>\n",
       "</div>"
      ],
      "text/plain": [
       "            user_id  number_of_tests\n",
       "0  0002CE61FF2C4011                1\n",
       "1  000ABE35EE11412F                1\n",
       "2  001064FEAAB631A1                2\n",
       "3  0010A1C096941592                1\n",
       "4  001C05E87D336C59                1"
      ]
     },
     "execution_count": 28,
     "metadata": {},
     "output_type": "execute_result"
    }
   ],
   "source": [
    "#соберем датафрейм, в котором сохраним количество различных тестов, в которых принимал участие каждый пользователь\n",
    "two_tests_users = users.groupby('user_id', as_index=False).agg({'ab_test': 'nunique'})\n",
    "two_tests_users = two_tests_users.rename(columns={'ab_test': 'number_of_tests'})\n",
    "two_tests_users.head()"
   ]
  },
  {
   "cell_type": "code",
   "execution_count": 29,
   "metadata": {},
   "outputs": [],
   "source": [
    "#далее отбираем пользователей, которые принимали участие в целевом AB-тесте\n",
    "recommender_system_test_users = users[users['ab_test'] == 'recommender_system_test']"
   ]
  },
  {
   "cell_type": "code",
   "execution_count": 30,
   "metadata": {},
   "outputs": [
    {
     "data": {
      "text/html": [
       "<div>\n",
       "<style scoped>\n",
       "    .dataframe tbody tr th:only-of-type {\n",
       "        vertical-align: middle;\n",
       "    }\n",
       "\n",
       "    .dataframe tbody tr th {\n",
       "        vertical-align: top;\n",
       "    }\n",
       "\n",
       "    .dataframe thead th {\n",
       "        text-align: right;\n",
       "    }\n",
       "</style>\n",
       "<table border=\"1\" class=\"dataframe\">\n",
       "  <thead>\n",
       "    <tr style=\"text-align: right;\">\n",
       "      <th></th>\n",
       "      <th>user_id</th>\n",
       "      <th>first_date</th>\n",
       "      <th>region</th>\n",
       "      <th>device</th>\n",
       "      <th>group</th>\n",
       "      <th>ab_test</th>\n",
       "      <th>number_of_tests</th>\n",
       "    </tr>\n",
       "  </thead>\n",
       "  <tbody>\n",
       "    <tr>\n",
       "      <th>0</th>\n",
       "      <td>D72A72121175D8BE</td>\n",
       "      <td>2020-12-07</td>\n",
       "      <td>EU</td>\n",
       "      <td>PC</td>\n",
       "      <td>A</td>\n",
       "      <td>recommender_system_test</td>\n",
       "      <td>1</td>\n",
       "    </tr>\n",
       "    <tr>\n",
       "      <th>1</th>\n",
       "      <td>E6DE857AFBDC6102</td>\n",
       "      <td>2020-12-07</td>\n",
       "      <td>EU</td>\n",
       "      <td>PC</td>\n",
       "      <td>B</td>\n",
       "      <td>recommender_system_test</td>\n",
       "      <td>2</td>\n",
       "    </tr>\n",
       "    <tr>\n",
       "      <th>2</th>\n",
       "      <td>DD4352CDCF8C3D57</td>\n",
       "      <td>2020-12-07</td>\n",
       "      <td>EU</td>\n",
       "      <td>Android</td>\n",
       "      <td>B</td>\n",
       "      <td>recommender_system_test</td>\n",
       "      <td>2</td>\n",
       "    </tr>\n",
       "    <tr>\n",
       "      <th>3</th>\n",
       "      <td>831887FE7F2D6CBA</td>\n",
       "      <td>2020-12-07</td>\n",
       "      <td>EU</td>\n",
       "      <td>Android</td>\n",
       "      <td>A</td>\n",
       "      <td>recommender_system_test</td>\n",
       "      <td>1</td>\n",
       "    </tr>\n",
       "    <tr>\n",
       "      <th>4</th>\n",
       "      <td>4CB179C7F847320B</td>\n",
       "      <td>2020-12-07</td>\n",
       "      <td>EU</td>\n",
       "      <td>iPhone</td>\n",
       "      <td>B</td>\n",
       "      <td>recommender_system_test</td>\n",
       "      <td>1</td>\n",
       "    </tr>\n",
       "  </tbody>\n",
       "</table>\n",
       "</div>"
      ],
      "text/plain": [
       "            user_id first_date region   device group                  ab_test  \\\n",
       "0  D72A72121175D8BE 2020-12-07     EU       PC     A  recommender_system_test   \n",
       "1  E6DE857AFBDC6102 2020-12-07     EU       PC     B  recommender_system_test   \n",
       "2  DD4352CDCF8C3D57 2020-12-07     EU  Android     B  recommender_system_test   \n",
       "3  831887FE7F2D6CBA 2020-12-07     EU  Android     A  recommender_system_test   \n",
       "4  4CB179C7F847320B 2020-12-07     EU   iPhone     B  recommender_system_test   \n",
       "\n",
       "   number_of_tests  \n",
       "0                1  \n",
       "1                2  \n",
       "2                2  \n",
       "3                1  \n",
       "4                1  "
      ]
     },
     "execution_count": 30,
     "metadata": {},
     "output_type": "execute_result"
    }
   ],
   "source": [
    "#присоединяем количество тестов каждого пользователя к датафрейму с участниками целевого теста\n",
    "recommender_system_test_users = recommender_system_test_users.merge(two_tests_users, on='user_id', how='left')\n",
    "recommender_system_test_users.head()"
   ]
  },
  {
   "cell_type": "code",
   "execution_count": 31,
   "metadata": {},
   "outputs": [
    {
     "name": "stdout",
     "output_type": "stream",
     "text": [
      "Участников двух тестов в выборке: 1602\n",
      "Размер выборки: 6351\n"
     ]
    }
   ],
   "source": [
    "print('Участников двух тестов в выборке:', len(recommender_system_test_users[recommender_system_test_users['number_of_tests'] == 2]))\n",
    "print('Размер выборки:', len(recommender_system_test_users))"
   ]
  },
  {
   "cell_type": "markdown",
   "metadata": {},
   "source": [
    "25.2% участников теста `recommender_system_test` также принимали участие во втором тесте `interface_eu_test`. Судя по названию второго теста, а также однообразию полей в выборке событий, ожидаемый эффект интерфейсного текста также направлен на повышение конверсии. Таким образом, обнаружен второй компрометирующий фактор. "
   ]
  },
  {
   "cell_type": "markdown",
   "metadata": {},
   "source": [
    "Так как нам известно, что группа А выступает контрольной группой в тестах, а значит использует не подвергнутую изменениям функциональность, можем предположить, что контрольная группа теста `interface_eu_test` может быть использована в нашем тесте условно \"безопасно\"."
   ]
  },
  {
   "cell_type": "code",
   "execution_count": 32,
   "metadata": {},
   "outputs": [
    {
     "data": {
      "text/html": [
       "<div>\n",
       "<style scoped>\n",
       "    .dataframe tbody tr th:only-of-type {\n",
       "        vertical-align: middle;\n",
       "    }\n",
       "\n",
       "    .dataframe tbody tr th {\n",
       "        vertical-align: top;\n",
       "    }\n",
       "\n",
       "    .dataframe thead th {\n",
       "        text-align: right;\n",
       "    }\n",
       "</style>\n",
       "<table border=\"1\" class=\"dataframe\">\n",
       "  <thead>\n",
       "    <tr style=\"text-align: right;\">\n",
       "      <th></th>\n",
       "      <th>user_id</th>\n",
       "      <th>number_of_tests</th>\n",
       "    </tr>\n",
       "  </thead>\n",
       "  <tbody>\n",
       "    <tr>\n",
       "      <th>0</th>\n",
       "      <td>0002CE61FF2C4011</td>\n",
       "      <td>1</td>\n",
       "    </tr>\n",
       "    <tr>\n",
       "      <th>1</th>\n",
       "      <td>000ABE35EE11412F</td>\n",
       "      <td>1</td>\n",
       "    </tr>\n",
       "    <tr>\n",
       "      <th>2</th>\n",
       "      <td>001064FEAAB631A1</td>\n",
       "      <td>2</td>\n",
       "    </tr>\n",
       "    <tr>\n",
       "      <th>3</th>\n",
       "      <td>0010A1C096941592</td>\n",
       "      <td>1</td>\n",
       "    </tr>\n",
       "    <tr>\n",
       "      <th>4</th>\n",
       "      <td>001C05E87D336C59</td>\n",
       "      <td>1</td>\n",
       "    </tr>\n",
       "  </tbody>\n",
       "</table>\n",
       "</div>"
      ],
      "text/plain": [
       "            user_id  number_of_tests\n",
       "0  0002CE61FF2C4011                1\n",
       "1  000ABE35EE11412F                1\n",
       "2  001064FEAAB631A1                2\n",
       "3  0010A1C096941592                1\n",
       "4  001C05E87D336C59                1"
      ]
     },
     "execution_count": 32,
     "metadata": {},
     "output_type": "execute_result"
    }
   ],
   "source": [
    "two_tests_users.head()"
   ]
  },
  {
   "cell_type": "code",
   "execution_count": 33,
   "metadata": {},
   "outputs": [],
   "source": [
    "#формируем два датасета в которых сохраним разные группы конкурирующего теста\n",
    "interface_eu_test_a = users[(users['ab_test'] == 'interface_eu_test') & (users['group'] == 'A')]\n",
    "interface_eu_test_b = users[(users['ab_test'] == 'interface_eu_test') & (users['group'] == 'B')]"
   ]
  },
  {
   "cell_type": "code",
   "execution_count": 34,
   "metadata": {},
   "outputs": [
    {
     "name": "stdout",
     "output_type": "stream",
     "text": [
      "Доля участников теста относительно общего количества новых пользователей из региона \"Европа\": 15.00%\n"
     ]
    }
   ],
   "source": [
    "#проверка доли участников теста\n",
    "print(\n",
    "    'Доля участников теста относительно общего количества новых пользователей из региона \"Европа\": {:.2f}%'.format(\n",
    "        len(recommender_system_test_users)/len(final_ab_new_users[final_ab_new_users['region'] == 'EU'])*100)\n",
    ")"
   ]
  },
  {
   "cell_type": "markdown",
   "metadata": {},
   "source": [
    "1. Произведена проверка - в тесте действительно участвуют 15% новых пользователей региона EU, как того и требовало ТЗ\n",
    "2. Сформина датасет с выборкой из 6351 пользователя, которые принимали участие в целевом тесте\n",
    "3. Также идентифицированы пользователи, принявшие участие одновременно в двух тестах"
   ]
  },
  {
   "cell_type": "markdown",
   "metadata": {},
   "source": [
    "## Анализ результатов А/В-теста"
   ]
  },
  {
   "cell_type": "code",
   "execution_count": 35,
   "metadata": {},
   "outputs": [
    {
     "name": "stdout",
     "output_type": "stream",
     "text": [
      "Количество событий, совершенных пользователями, входящими в выборку нашего теста: 23420\n"
     ]
    }
   ],
   "source": [
    "#формируем таблицу, в которой останутся только пользователи, вошедшие в пул участников теста\n",
    "ab_events = final_ab_events[final_ab_events['user_id'].isin(recommender_system_test_users['user_id'])]\n",
    "print('Количество событий, совершенных пользователями, входящими в выборку нашего теста:', len(ab_events))"
   ]
  },
  {
   "cell_type": "code",
   "execution_count": 36,
   "metadata": {},
   "outputs": [],
   "source": [
    "#далее соединяем события с пользователями и получаем один общий датасет, где можем наблюдать детализированные данные по пользователю\n",
    "ab_events = ab_events.merge(recommender_system_test_users, on='user_id', how='inner')"
   ]
  },
  {
   "cell_type": "markdown",
   "metadata": {},
   "source": [
    "Сделаем дополнительную проверку количества пользователей - для всех ли пользователей из выборки присутствуют события в таблице операций. "
   ]
  },
  {
   "cell_type": "code",
   "execution_count": 37,
   "metadata": {},
   "outputs": [
    {
     "name": "stdout",
     "output_type": "stream",
     "text": [
      "Количество уникальных идентификаторов пользователей в таблице событий: 3481\n"
     ]
    }
   ],
   "source": [
    "print('Количество уникальных идентификаторов пользователей в таблице событий:', len(ab_events['user_id'].unique()))"
   ]
  },
  {
   "cell_type": "markdown",
   "metadata": {},
   "source": [
    "Таким образом, только 54.8% пользователей сгенерировали события. "
   ]
  },
  {
   "cell_type": "markdown",
   "metadata": {},
   "source": [
    "### Проверка гипотезы о равенствен долей для полной выборки"
   ]
  },
  {
   "cell_type": "code",
   "execution_count": 38,
   "metadata": {},
   "outputs": [
    {
     "data": {
      "text/html": [
       "<div>\n",
       "<style scoped>\n",
       "    .dataframe tbody tr th:only-of-type {\n",
       "        vertical-align: middle;\n",
       "    }\n",
       "\n",
       "    .dataframe tbody tr th {\n",
       "        vertical-align: top;\n",
       "    }\n",
       "\n",
       "    .dataframe thead th {\n",
       "        text-align: right;\n",
       "    }\n",
       "</style>\n",
       "<table border=\"1\" class=\"dataframe\">\n",
       "  <thead>\n",
       "    <tr style=\"text-align: right;\">\n",
       "      <th>group</th>\n",
       "      <th>A</th>\n",
       "      <th>B</th>\n",
       "    </tr>\n",
       "    <tr>\n",
       "      <th>event_name</th>\n",
       "      <th></th>\n",
       "      <th></th>\n",
       "    </tr>\n",
       "  </thead>\n",
       "  <tbody>\n",
       "    <tr>\n",
       "      <th>login</th>\n",
       "      <td>2604</td>\n",
       "      <td>877</td>\n",
       "    </tr>\n",
       "    <tr>\n",
       "      <th>product_page</th>\n",
       "      <td>1685</td>\n",
       "      <td>493</td>\n",
       "    </tr>\n",
       "    <tr>\n",
       "      <th>product_cart</th>\n",
       "      <td>782</td>\n",
       "      <td>244</td>\n",
       "    </tr>\n",
       "    <tr>\n",
       "      <th>purchase</th>\n",
       "      <td>833</td>\n",
       "      <td>249</td>\n",
       "    </tr>\n",
       "  </tbody>\n",
       "</table>\n",
       "</div>"
      ],
      "text/plain": [
       "group            A    B\n",
       "event_name             \n",
       "login         2604  877\n",
       "product_page  1685  493\n",
       "product_cart   782  244\n",
       "purchase       833  249"
      ]
     },
     "execution_count": 38,
     "metadata": {},
     "output_type": "execute_result"
    }
   ],
   "source": [
    "#построим сводную таблицу и оценим цифры конверсии из события в событие\n",
    "events_users = ab_events.pivot_table(\n",
    "    index='event_name',\n",
    "    columns='group',\n",
    "    values='user_id',\n",
    "    aggfunc='nunique'\n",
    ").reindex([\"login\", \"product_page\", \"product_cart\", \"purchase\"]) #реиндексом расположим события в нужном порядке\n",
    "\n",
    "events_users"
   ]
  },
  {
   "cell_type": "code",
   "execution_count": 39,
   "metadata": {},
   "outputs": [
    {
     "data": {
      "text/html": [
       "<div>\n",
       "<style scoped>\n",
       "    .dataframe tbody tr th:only-of-type {\n",
       "        vertical-align: middle;\n",
       "    }\n",
       "\n",
       "    .dataframe tbody tr th {\n",
       "        vertical-align: top;\n",
       "    }\n",
       "\n",
       "    .dataframe thead th {\n",
       "        text-align: right;\n",
       "    }\n",
       "</style>\n",
       "<table border=\"1\" class=\"dataframe\">\n",
       "  <thead>\n",
       "    <tr style=\"text-align: right;\">\n",
       "      <th></th>\n",
       "      <th>user_id</th>\n",
       "    </tr>\n",
       "    <tr>\n",
       "      <th>group</th>\n",
       "      <th></th>\n",
       "    </tr>\n",
       "  </thead>\n",
       "  <tbody>\n",
       "    <tr>\n",
       "      <th>A</th>\n",
       "      <td>3634</td>\n",
       "    </tr>\n",
       "    <tr>\n",
       "      <th>B</th>\n",
       "      <td>2717</td>\n",
       "    </tr>\n",
       "    <tr>\n",
       "      <th>a_group_total</th>\n",
       "      <td>6351</td>\n",
       "    </tr>\n",
       "  </tbody>\n",
       "</table>\n",
       "</div>"
      ],
      "text/plain": [
       "               user_id\n",
       "group                 \n",
       "A                 3634\n",
       "B                 2717\n",
       "a_group_total     6351"
      ]
     },
     "execution_count": 39,
     "metadata": {},
     "output_type": "execute_result"
    }
   ],
   "source": [
    "#для упрощения получения доли по событию относительно количества пользователей на первом шаге, \n",
    "users = recommender_system_test_users.groupby('group')['user_id'].nunique().to_frame().reset_index()\n",
    "users.loc[3] = ['a_group_total', len(recommender_system_test_users['user_id'].unique())]\n",
    "users = users.set_index(users.columns[0])\n",
    "users"
   ]
  },
  {
   "cell_type": "code",
   "execution_count": 40,
   "metadata": {},
   "outputs": [],
   "source": [
    "#функция будет принимать значения для групп, доли по событиям внутри которых по хотим посчитать \n",
    "\n",
    "def group_z_test(group1, group2):\n",
    "    for event in events_users.index: #для каждого события в индексе датафрейма с событиями и количесвом юзеров мы начинаем цикл\n",
    "        successes = events_users.loc[event] #в эту переменную сохраняем строку с количеством \"успехов\" по текущему событию\n",
    "        trials = users.loc[[group1, group2]]['user_id'] #из датафрейма с \"исходным\" количеством получим данные по введенным группам\n",
    "        alpha = 0.05 #критический уровень стат. значимости определим \"жестко\" в коде на уровне \"стандарта\"\n",
    "        p1 = successes[group1]/trials[group1] #считаем пропорцию успехов для 1й группы\n",
    "        p2 = successes[group2]/trials[group2] #считаем пропорцию успехов для 2й группы\n",
    "        p_combined = (successes[group1] + successes[group2]) / (trials[group1] + trials[group2]) #комбинированная пропорция\n",
    "        difference = p1 - p2 #вычисляем разницу пропорций в датасетах\n",
    "        #вычисляем z-статистику \n",
    "        z_value = difference / mth.sqrt(p_combined * (1 - p_combined) * (1/trials[group1] + 1/trials[group2]))\n",
    "        #задаем нормальное распределение\n",
    "        distr = st.norm(0, 1)\n",
    "        #берем z-статистику по модулю и считаем вероятность получения расхождения\n",
    "        #далее умножаем на два, так как считаем, что распределение нормальное\n",
    "        p_value = (1 - distr.cdf(abs(z_value))) * 2\n",
    "        print('p-значение: ', p_value)\n",
    "        if p_value < alpha:\n",
    "            print('Отвергаем нулевую гипотезу: между долями есть значимая разница в рамках события', event)\n",
    "        else:\n",
    "            print('Не получилось отвергнуть нулевую гипотезу, нет оснований считать доли разными в рамках события', event) \n",
    "        print()"
   ]
  },
  {
   "cell_type": "code",
   "execution_count": 41,
   "metadata": {},
   "outputs": [
    {
     "name": "stdout",
     "output_type": "stream",
     "text": [
      "p-значение:  0.0\n",
      "Отвергаем нулевую гипотезу: между долями есть значимая разница в рамках события login\n",
      "\n",
      "p-значение:  0.0\n",
      "Отвергаем нулевую гипотезу: между долями есть значимая разница в рамках события product_page\n",
      "\n",
      "p-значение:  0.0\n",
      "Отвергаем нулевую гипотезу: между долями есть значимая разница в рамках события product_cart\n",
      "\n",
      "p-значение:  0.0\n",
      "Отвергаем нулевую гипотезу: между долями есть значимая разница в рамках события purchase\n",
      "\n"
     ]
    }
   ],
   "source": [
    "group_z_test('A', 'B')"
   ]
  },
  {
   "cell_type": "code",
   "execution_count": 42,
   "metadata": {},
   "outputs": [
    {
     "name": "stdout",
     "output_type": "stream",
     "text": [
      "Конверсия в покупку для группы А: 69.79%\n"
     ]
    }
   ],
   "source": [
    "print('Конверсия в покупку для группы А: {:.2f}%'.format(len(ab_events[(ab_events['group'] == 'A') & (ab_events['event_name'] == 'purchase')])  /\\\n",
    "len(recommender_system_test_users[recommender_system_test_users['group'] == 'A'])*100))"
   ]
  },
  {
   "cell_type": "code",
   "execution_count": 43,
   "metadata": {},
   "outputs": [
    {
     "name": "stdout",
     "output_type": "stream",
     "text": [
      "Конверсия в покупку для группы B: 24.29%\n"
     ]
    }
   ],
   "source": [
    "print('Конверсия в покупку для группы B: {:.2f}%'.format(len(ab_events[(ab_events['group'] == 'B') & (ab_events['event_name'] == 'purchase')])  /\n",
    "len(recommender_system_test_users[recommender_system_test_users['group'] == 'B'])*100))"
   ]
  },
  {
   "cell_type": "code",
   "execution_count": 44,
   "metadata": {},
   "outputs": [
    {
     "data": {
      "text/html": [
       "<div>\n",
       "<style scoped>\n",
       "    .dataframe tbody tr th:only-of-type {\n",
       "        vertical-align: middle;\n",
       "    }\n",
       "\n",
       "    .dataframe tbody tr th {\n",
       "        vertical-align: top;\n",
       "    }\n",
       "\n",
       "    .dataframe thead th {\n",
       "        text-align: right;\n",
       "    }\n",
       "</style>\n",
       "<table border=\"1\" class=\"dataframe\">\n",
       "  <thead>\n",
       "    <tr style=\"text-align: right;\">\n",
       "      <th></th>\n",
       "      <th>user_id</th>\n",
       "      <th>event_dt</th>\n",
       "      <th>details</th>\n",
       "      <th>event_name</th>\n",
       "      <th>first_date</th>\n",
       "      <th>region</th>\n",
       "      <th>device</th>\n",
       "      <th>group</th>\n",
       "      <th>ab_test</th>\n",
       "      <th>number_of_tests</th>\n",
       "    </tr>\n",
       "  </thead>\n",
       "  <tbody>\n",
       "    <tr>\n",
       "      <th>0</th>\n",
       "      <td>831887FE7F2D6CBA</td>\n",
       "      <td>2020-12-07 06:50:29</td>\n",
       "      <td>4.99</td>\n",
       "      <td>purchase</td>\n",
       "      <td>2020-12-07</td>\n",
       "      <td>EU</td>\n",
       "      <td>Android</td>\n",
       "      <td>A</td>\n",
       "      <td>recommender_system_test</td>\n",
       "      <td>1</td>\n",
       "    </tr>\n",
       "    <tr>\n",
       "      <th>1</th>\n",
       "      <td>831887FE7F2D6CBA</td>\n",
       "      <td>2020-12-09 02:19:17</td>\n",
       "      <td>99.99</td>\n",
       "      <td>purchase</td>\n",
       "      <td>2020-12-07</td>\n",
       "      <td>EU</td>\n",
       "      <td>Android</td>\n",
       "      <td>A</td>\n",
       "      <td>recommender_system_test</td>\n",
       "      <td>1</td>\n",
       "    </tr>\n",
       "    <tr>\n",
       "      <th>2</th>\n",
       "      <td>831887FE7F2D6CBA</td>\n",
       "      <td>2020-12-07 06:50:30</td>\n",
       "      <td>NaN</td>\n",
       "      <td>product_cart</td>\n",
       "      <td>2020-12-07</td>\n",
       "      <td>EU</td>\n",
       "      <td>Android</td>\n",
       "      <td>A</td>\n",
       "      <td>recommender_system_test</td>\n",
       "      <td>1</td>\n",
       "    </tr>\n",
       "    <tr>\n",
       "      <th>3</th>\n",
       "      <td>831887FE7F2D6CBA</td>\n",
       "      <td>2020-12-08 10:52:27</td>\n",
       "      <td>NaN</td>\n",
       "      <td>product_cart</td>\n",
       "      <td>2020-12-07</td>\n",
       "      <td>EU</td>\n",
       "      <td>Android</td>\n",
       "      <td>A</td>\n",
       "      <td>recommender_system_test</td>\n",
       "      <td>1</td>\n",
       "    </tr>\n",
       "    <tr>\n",
       "      <th>4</th>\n",
       "      <td>831887FE7F2D6CBA</td>\n",
       "      <td>2020-12-09 02:19:17</td>\n",
       "      <td>NaN</td>\n",
       "      <td>product_cart</td>\n",
       "      <td>2020-12-07</td>\n",
       "      <td>EU</td>\n",
       "      <td>Android</td>\n",
       "      <td>A</td>\n",
       "      <td>recommender_system_test</td>\n",
       "      <td>1</td>\n",
       "    </tr>\n",
       "    <tr>\n",
       "      <th>...</th>\n",
       "      <td>...</td>\n",
       "      <td>...</td>\n",
       "      <td>...</td>\n",
       "      <td>...</td>\n",
       "      <td>...</td>\n",
       "      <td>...</td>\n",
       "      <td>...</td>\n",
       "      <td>...</td>\n",
       "      <td>...</td>\n",
       "      <td>...</td>\n",
       "    </tr>\n",
       "    <tr>\n",
       "      <th>23415</th>\n",
       "      <td>1484BBF124DB1B18</td>\n",
       "      <td>2020-12-27 10:53:34</td>\n",
       "      <td>NaN</td>\n",
       "      <td>login</td>\n",
       "      <td>2020-12-21</td>\n",
       "      <td>EU</td>\n",
       "      <td>PC</td>\n",
       "      <td>A</td>\n",
       "      <td>recommender_system_test</td>\n",
       "      <td>1</td>\n",
       "    </tr>\n",
       "    <tr>\n",
       "      <th>23416</th>\n",
       "      <td>BEF16764A13AEC34</td>\n",
       "      <td>2020-12-21 03:49:49</td>\n",
       "      <td>NaN</td>\n",
       "      <td>login</td>\n",
       "      <td>2020-12-21</td>\n",
       "      <td>EU</td>\n",
       "      <td>PC</td>\n",
       "      <td>B</td>\n",
       "      <td>recommender_system_test</td>\n",
       "      <td>2</td>\n",
       "    </tr>\n",
       "    <tr>\n",
       "      <th>23417</th>\n",
       "      <td>BEF16764A13AEC34</td>\n",
       "      <td>2020-12-22 18:52:25</td>\n",
       "      <td>NaN</td>\n",
       "      <td>login</td>\n",
       "      <td>2020-12-21</td>\n",
       "      <td>EU</td>\n",
       "      <td>PC</td>\n",
       "      <td>B</td>\n",
       "      <td>recommender_system_test</td>\n",
       "      <td>2</td>\n",
       "    </tr>\n",
       "    <tr>\n",
       "      <th>23418</th>\n",
       "      <td>BEF16764A13AEC34</td>\n",
       "      <td>2020-12-24 22:11:00</td>\n",
       "      <td>NaN</td>\n",
       "      <td>login</td>\n",
       "      <td>2020-12-21</td>\n",
       "      <td>EU</td>\n",
       "      <td>PC</td>\n",
       "      <td>B</td>\n",
       "      <td>recommender_system_test</td>\n",
       "      <td>2</td>\n",
       "    </tr>\n",
       "    <tr>\n",
       "      <th>23419</th>\n",
       "      <td>23DDD27AC3FEFA63</td>\n",
       "      <td>2020-12-21 02:51:45</td>\n",
       "      <td>NaN</td>\n",
       "      <td>login</td>\n",
       "      <td>2020-12-21</td>\n",
       "      <td>EU</td>\n",
       "      <td>PC</td>\n",
       "      <td>A</td>\n",
       "      <td>recommender_system_test</td>\n",
       "      <td>1</td>\n",
       "    </tr>\n",
       "  </tbody>\n",
       "</table>\n",
       "<p>23420 rows × 10 columns</p>\n",
       "</div>"
      ],
      "text/plain": [
       "                user_id            event_dt  details    event_name first_date  \\\n",
       "0      831887FE7F2D6CBA 2020-12-07 06:50:29     4.99      purchase 2020-12-07   \n",
       "1      831887FE7F2D6CBA 2020-12-09 02:19:17    99.99      purchase 2020-12-07   \n",
       "2      831887FE7F2D6CBA 2020-12-07 06:50:30      NaN  product_cart 2020-12-07   \n",
       "3      831887FE7F2D6CBA 2020-12-08 10:52:27      NaN  product_cart 2020-12-07   \n",
       "4      831887FE7F2D6CBA 2020-12-09 02:19:17      NaN  product_cart 2020-12-07   \n",
       "...                 ...                 ...      ...           ...        ...   \n",
       "23415  1484BBF124DB1B18 2020-12-27 10:53:34      NaN         login 2020-12-21   \n",
       "23416  BEF16764A13AEC34 2020-12-21 03:49:49      NaN         login 2020-12-21   \n",
       "23417  BEF16764A13AEC34 2020-12-22 18:52:25      NaN         login 2020-12-21   \n",
       "23418  BEF16764A13AEC34 2020-12-24 22:11:00      NaN         login 2020-12-21   \n",
       "23419  23DDD27AC3FEFA63 2020-12-21 02:51:45      NaN         login 2020-12-21   \n",
       "\n",
       "      region   device group                  ab_test  number_of_tests  \n",
       "0         EU  Android     A  recommender_system_test                1  \n",
       "1         EU  Android     A  recommender_system_test                1  \n",
       "2         EU  Android     A  recommender_system_test                1  \n",
       "3         EU  Android     A  recommender_system_test                1  \n",
       "4         EU  Android     A  recommender_system_test                1  \n",
       "...      ...      ...   ...                      ...              ...  \n",
       "23415     EU       PC     A  recommender_system_test                1  \n",
       "23416     EU       PC     B  recommender_system_test                2  \n",
       "23417     EU       PC     B  recommender_system_test                2  \n",
       "23418     EU       PC     B  recommender_system_test                2  \n",
       "23419     EU       PC     A  recommender_system_test                1  \n",
       "\n",
       "[23420 rows x 10 columns]"
      ]
     },
     "execution_count": 44,
     "metadata": {},
     "output_type": "execute_result"
    }
   ],
   "source": [
    "ab_events"
   ]
  },
  {
   "cell_type": "code",
   "execution_count": 45,
   "metadata": {},
   "outputs": [
    {
     "data": {
      "text/plain": [
       "A    3634\n",
       "B    2717\n",
       "Name: group, dtype: int64"
      ]
     },
     "execution_count": 45,
     "metadata": {},
     "output_type": "execute_result"
    }
   ],
   "source": [
    "# Код ревьюера\n",
    "recommender_system_test_users['group'].value_counts()#, recommender_system_test_users_cut['group'].value_counts()"
   ]
  },
  {
   "cell_type": "markdown",
   "metadata": {},
   "source": [
    "### Проверка гипотезы о равенствен долей для пользователей, участвовавших только в 1 тесте (целевом)"
   ]
  },
  {
   "cell_type": "code",
   "execution_count": 46,
   "metadata": {},
   "outputs": [],
   "source": [
    "ab_events_second_test = ab_events[ab_events['number_of_tests'] == 1]\n",
    "recommender_system_test_users_cut = recommender_system_test_users[recommender_system_test_users['number_of_tests'] == 1]"
   ]
  },
  {
   "cell_type": "code",
   "execution_count": 47,
   "metadata": {},
   "outputs": [
    {
     "data": {
      "text/html": [
       "<div>\n",
       "<style scoped>\n",
       "    .dataframe tbody tr th:only-of-type {\n",
       "        vertical-align: middle;\n",
       "    }\n",
       "\n",
       "    .dataframe tbody tr th {\n",
       "        vertical-align: top;\n",
       "    }\n",
       "\n",
       "    .dataframe thead th {\n",
       "        text-align: right;\n",
       "    }\n",
       "</style>\n",
       "<table border=\"1\" class=\"dataframe\">\n",
       "  <thead>\n",
       "    <tr style=\"text-align: right;\">\n",
       "      <th>group</th>\n",
       "      <th>A</th>\n",
       "      <th>B</th>\n",
       "    </tr>\n",
       "    <tr>\n",
       "      <th>event_name</th>\n",
       "      <th></th>\n",
       "      <th></th>\n",
       "    </tr>\n",
       "  </thead>\n",
       "  <tbody>\n",
       "    <tr>\n",
       "      <th>login</th>\n",
       "      <td>1939</td>\n",
       "      <td>655</td>\n",
       "    </tr>\n",
       "    <tr>\n",
       "      <th>product_page</th>\n",
       "      <td>1265</td>\n",
       "      <td>367</td>\n",
       "    </tr>\n",
       "    <tr>\n",
       "      <th>product_cart</th>\n",
       "      <td>589</td>\n",
       "      <td>184</td>\n",
       "    </tr>\n",
       "    <tr>\n",
       "      <th>purchase</th>\n",
       "      <td>613</td>\n",
       "      <td>191</td>\n",
       "    </tr>\n",
       "  </tbody>\n",
       "</table>\n",
       "</div>"
      ],
      "text/plain": [
       "group            A    B\n",
       "event_name             \n",
       "login         1939  655\n",
       "product_page  1265  367\n",
       "product_cart   589  184\n",
       "purchase       613  191"
      ]
     },
     "execution_count": 47,
     "metadata": {},
     "output_type": "execute_result"
    }
   ],
   "source": [
    "#построим сводную таблицу и оценим цифры конверсии из события в событие\n",
    "events_users = ab_events_second_test.pivot_table(\n",
    "    index='event_name',\n",
    "    columns='group',\n",
    "    values='user_id',\n",
    "    aggfunc='nunique'\n",
    ").reindex([\"login\", \"product_page\", \"product_cart\", \"purchase\"]) #реиндексом расположим события в нужном порядке\n",
    "\n",
    "events_users"
   ]
  },
  {
   "cell_type": "code",
   "execution_count": 48,
   "metadata": {},
   "outputs": [
    {
     "data": {
      "text/html": [
       "<div>\n",
       "<style scoped>\n",
       "    .dataframe tbody tr th:only-of-type {\n",
       "        vertical-align: middle;\n",
       "    }\n",
       "\n",
       "    .dataframe tbody tr th {\n",
       "        vertical-align: top;\n",
       "    }\n",
       "\n",
       "    .dataframe thead th {\n",
       "        text-align: right;\n",
       "    }\n",
       "</style>\n",
       "<table border=\"1\" class=\"dataframe\">\n",
       "  <thead>\n",
       "    <tr style=\"text-align: right;\">\n",
       "      <th></th>\n",
       "      <th>user_id</th>\n",
       "    </tr>\n",
       "    <tr>\n",
       "      <th>group</th>\n",
       "      <th></th>\n",
       "    </tr>\n",
       "  </thead>\n",
       "  <tbody>\n",
       "    <tr>\n",
       "      <th>A</th>\n",
       "      <td>3634</td>\n",
       "    </tr>\n",
       "    <tr>\n",
       "      <th>B</th>\n",
       "      <td>2717</td>\n",
       "    </tr>\n",
       "    <tr>\n",
       "      <th>a_group_total</th>\n",
       "      <td>6351</td>\n",
       "    </tr>\n",
       "  </tbody>\n",
       "</table>\n",
       "</div>"
      ],
      "text/plain": [
       "               user_id\n",
       "group                 \n",
       "A                 3634\n",
       "B                 2717\n",
       "a_group_total     6351"
      ]
     },
     "execution_count": 48,
     "metadata": {},
     "output_type": "execute_result"
    }
   ],
   "source": [
    "#для упрощения получения доли по событию относительно количества пользователей на первом шаге, \n",
    "users = recommender_system_test_users.groupby('group')['user_id'].nunique().to_frame().reset_index()\n",
    "users.loc[3] = ['a_group_total', len(recommender_system_test_users['user_id'].unique())]\n",
    "users = users.set_index(users.columns[0])\n",
    "users"
   ]
  },
  {
   "cell_type": "code",
   "execution_count": 49,
   "metadata": {},
   "outputs": [
    {
     "name": "stdout",
     "output_type": "stream",
     "text": [
      "p-значение:  0.0\n",
      "Отвергаем нулевую гипотезу: между долями есть значимая разница в рамках события login\n",
      "\n",
      "p-значение:  0.0\n",
      "Отвергаем нулевую гипотезу: между долями есть значимая разница в рамках события product_page\n",
      "\n",
      "p-значение:  0.0\n",
      "Отвергаем нулевую гипотезу: между долями есть значимая разница в рамках события product_cart\n",
      "\n",
      "p-значение:  0.0\n",
      "Отвергаем нулевую гипотезу: между долями есть значимая разница в рамках события purchase\n",
      "\n"
     ]
    }
   ],
   "source": [
    "group_z_test('A', 'B')"
   ]
  },
  {
   "cell_type": "code",
   "execution_count": 50,
   "metadata": {},
   "outputs": [
    {
     "name": "stdout",
     "output_type": "stream",
     "text": [
      "Конверсия в покупку для группы А: 68.34%\n"
     ]
    }
   ],
   "source": [
    "print('Конверсия в покупку для группы А: {:.2f}%'.format(len(ab_events_second_test[(ab_events_second_test['group'] == 'A') & (ab_events_second_test['event_name'] == 'purchase')])  /\\\n",
    "len(recommender_system_test_users_cut[recommender_system_test_users_cut['group'] == 'A'])*100))"
   ]
  },
  {
   "cell_type": "code",
   "execution_count": 51,
   "metadata": {},
   "outputs": [
    {
     "name": "stdout",
     "output_type": "stream",
     "text": [
      "Конверсия в покупку для группы B: 24.26%\n"
     ]
    }
   ],
   "source": [
    "print('Конверсия в покупку для группы B: {:.2f}%'.format(len(ab_events_second_test[(ab_events_second_test['group'] == 'B') & (ab_events_second_test['event_name'] == 'purchase')])  /\\\n",
    "len(recommender_system_test_users_cut[recommender_system_test_users_cut['group'] == 'B'])*100))"
   ]
  },
  {
   "cell_type": "markdown",
   "metadata": {},
   "source": [
    "По результатам Z-теста наблюдается следующее: \n",
    "\n",
    "1. В группе А конверсию в покупку выше в 2.5 раза\n",
    "2. Независимо от присутствия/отсутствия группы \"двойных\" пользователей в выборке, значения конверсии остаются сопоставимыми"
   ]
  },
  {
   "cell_type": "markdown",
   "metadata": {},
   "source": [
    "## Распределение событий по датам"
   ]
  },
  {
   "cell_type": "markdown",
   "metadata": {},
   "source": [
    "Посмотрим на календарь маркетинговых активностей и отберем те, что пересекаются с периодом теста. "
   ]
  },
  {
   "cell_type": "code",
   "execution_count": 52,
   "metadata": {},
   "outputs": [
    {
     "data": {
      "text/html": [
       "<div>\n",
       "<style scoped>\n",
       "    .dataframe tbody tr th:only-of-type {\n",
       "        vertical-align: middle;\n",
       "    }\n",
       "\n",
       "    .dataframe tbody tr th {\n",
       "        vertical-align: top;\n",
       "    }\n",
       "\n",
       "    .dataframe thead th {\n",
       "        text-align: right;\n",
       "    }\n",
       "</style>\n",
       "<table border=\"1\" class=\"dataframe\">\n",
       "  <thead>\n",
       "    <tr style=\"text-align: right;\">\n",
       "      <th></th>\n",
       "      <th>name</th>\n",
       "      <th>regions</th>\n",
       "      <th>start_dt</th>\n",
       "      <th>finish_dt</th>\n",
       "    </tr>\n",
       "  </thead>\n",
       "  <tbody>\n",
       "    <tr>\n",
       "      <th>0</th>\n",
       "      <td>Christmas&amp;New Year Promo</td>\n",
       "      <td>EU, N.America</td>\n",
       "      <td>2020-12-25</td>\n",
       "      <td>2021-01-03</td>\n",
       "    </tr>\n",
       "    <tr>\n",
       "      <th>1</th>\n",
       "      <td>St. Valentine's Day Giveaway</td>\n",
       "      <td>EU, CIS, APAC, N.America</td>\n",
       "      <td>2020-02-14</td>\n",
       "      <td>2020-02-16</td>\n",
       "    </tr>\n",
       "    <tr>\n",
       "      <th>2</th>\n",
       "      <td>St. Patric's Day Promo</td>\n",
       "      <td>EU, N.America</td>\n",
       "      <td>2020-03-17</td>\n",
       "      <td>2020-03-19</td>\n",
       "    </tr>\n",
       "    <tr>\n",
       "      <th>3</th>\n",
       "      <td>Easter Promo</td>\n",
       "      <td>EU, CIS, APAC, N.America</td>\n",
       "      <td>2020-04-12</td>\n",
       "      <td>2020-04-19</td>\n",
       "    </tr>\n",
       "    <tr>\n",
       "      <th>4</th>\n",
       "      <td>4th of July Promo</td>\n",
       "      <td>N.America</td>\n",
       "      <td>2020-07-04</td>\n",
       "      <td>2020-07-11</td>\n",
       "    </tr>\n",
       "    <tr>\n",
       "      <th>5</th>\n",
       "      <td>Black Friday Ads Campaign</td>\n",
       "      <td>EU, CIS, APAC, N.America</td>\n",
       "      <td>2020-11-26</td>\n",
       "      <td>2020-12-01</td>\n",
       "    </tr>\n",
       "    <tr>\n",
       "      <th>6</th>\n",
       "      <td>Chinese New Year Promo</td>\n",
       "      <td>APAC</td>\n",
       "      <td>2020-01-25</td>\n",
       "      <td>2020-02-07</td>\n",
       "    </tr>\n",
       "    <tr>\n",
       "      <th>7</th>\n",
       "      <td>Labor day (May 1st) Ads Campaign</td>\n",
       "      <td>EU, CIS, APAC</td>\n",
       "      <td>2020-05-01</td>\n",
       "      <td>2020-05-03</td>\n",
       "    </tr>\n",
       "    <tr>\n",
       "      <th>8</th>\n",
       "      <td>International Women's Day Promo</td>\n",
       "      <td>EU, CIS, APAC</td>\n",
       "      <td>2020-03-08</td>\n",
       "      <td>2020-03-10</td>\n",
       "    </tr>\n",
       "    <tr>\n",
       "      <th>9</th>\n",
       "      <td>Victory Day CIS (May 9th) Event</td>\n",
       "      <td>CIS</td>\n",
       "      <td>2020-05-09</td>\n",
       "      <td>2020-05-11</td>\n",
       "    </tr>\n",
       "    <tr>\n",
       "      <th>10</th>\n",
       "      <td>CIS New Year Gift Lottery</td>\n",
       "      <td>CIS</td>\n",
       "      <td>2020-12-30</td>\n",
       "      <td>2021-01-07</td>\n",
       "    </tr>\n",
       "    <tr>\n",
       "      <th>11</th>\n",
       "      <td>Dragon Boat Festival Giveaway</td>\n",
       "      <td>APAC</td>\n",
       "      <td>2020-06-25</td>\n",
       "      <td>2020-07-01</td>\n",
       "    </tr>\n",
       "    <tr>\n",
       "      <th>12</th>\n",
       "      <td>Single's Day Gift Promo</td>\n",
       "      <td>APAC</td>\n",
       "      <td>2020-11-11</td>\n",
       "      <td>2020-11-12</td>\n",
       "    </tr>\n",
       "    <tr>\n",
       "      <th>13</th>\n",
       "      <td>Chinese Moon Festival</td>\n",
       "      <td>APAC</td>\n",
       "      <td>2020-10-01</td>\n",
       "      <td>2020-10-07</td>\n",
       "    </tr>\n",
       "  </tbody>\n",
       "</table>\n",
       "</div>"
      ],
      "text/plain": [
       "                                name                   regions   start_dt  \\\n",
       "0           Christmas&New Year Promo             EU, N.America 2020-12-25   \n",
       "1       St. Valentine's Day Giveaway  EU, CIS, APAC, N.America 2020-02-14   \n",
       "2             St. Patric's Day Promo             EU, N.America 2020-03-17   \n",
       "3                       Easter Promo  EU, CIS, APAC, N.America 2020-04-12   \n",
       "4                  4th of July Promo                 N.America 2020-07-04   \n",
       "5          Black Friday Ads Campaign  EU, CIS, APAC, N.America 2020-11-26   \n",
       "6             Chinese New Year Promo                      APAC 2020-01-25   \n",
       "7   Labor day (May 1st) Ads Campaign             EU, CIS, APAC 2020-05-01   \n",
       "8    International Women's Day Promo             EU, CIS, APAC 2020-03-08   \n",
       "9    Victory Day CIS (May 9th) Event                       CIS 2020-05-09   \n",
       "10         CIS New Year Gift Lottery                       CIS 2020-12-30   \n",
       "11     Dragon Boat Festival Giveaway                      APAC 2020-06-25   \n",
       "12           Single's Day Gift Promo                      APAC 2020-11-11   \n",
       "13             Chinese Moon Festival                      APAC 2020-10-01   \n",
       "\n",
       "    finish_dt  \n",
       "0  2021-01-03  \n",
       "1  2020-02-16  \n",
       "2  2020-03-19  \n",
       "3  2020-04-19  \n",
       "4  2020-07-11  \n",
       "5  2020-12-01  \n",
       "6  2020-02-07  \n",
       "7  2020-05-03  \n",
       "8  2020-03-10  \n",
       "9  2020-05-11  \n",
       "10 2021-01-07  \n",
       "11 2020-07-01  \n",
       "12 2020-11-12  \n",
       "13 2020-10-07  "
      ]
     },
     "execution_count": 52,
     "metadata": {},
     "output_type": "execute_result"
    }
   ],
   "source": [
    "ab_project_marketing_events"
   ]
  },
  {
   "cell_type": "code",
   "execution_count": 53,
   "metadata": {},
   "outputs": [
    {
     "data": {
      "text/html": [
       "<div>\n",
       "<style scoped>\n",
       "    .dataframe tbody tr th:only-of-type {\n",
       "        vertical-align: middle;\n",
       "    }\n",
       "\n",
       "    .dataframe tbody tr th {\n",
       "        vertical-align: top;\n",
       "    }\n",
       "\n",
       "    .dataframe thead th {\n",
       "        text-align: right;\n",
       "    }\n",
       "</style>\n",
       "<table border=\"1\" class=\"dataframe\">\n",
       "  <thead>\n",
       "    <tr style=\"text-align: right;\">\n",
       "      <th></th>\n",
       "      <th>name</th>\n",
       "      <th>regions</th>\n",
       "      <th>start_dt</th>\n",
       "      <th>finish_dt</th>\n",
       "    </tr>\n",
       "  </thead>\n",
       "  <tbody>\n",
       "    <tr>\n",
       "      <th>0</th>\n",
       "      <td>Christmas&amp;New Year Promo</td>\n",
       "      <td>EU, N.America</td>\n",
       "      <td>2020-12-25</td>\n",
       "      <td>2021-01-03</td>\n",
       "    </tr>\n",
       "    <tr>\n",
       "      <th>10</th>\n",
       "      <td>CIS New Year Gift Lottery</td>\n",
       "      <td>CIS</td>\n",
       "      <td>2020-12-30</td>\n",
       "      <td>2021-01-07</td>\n",
       "    </tr>\n",
       "  </tbody>\n",
       "</table>\n",
       "</div>"
      ],
      "text/plain": [
       "                         name        regions   start_dt  finish_dt\n",
       "0    Christmas&New Year Promo  EU, N.America 2020-12-25 2021-01-03\n",
       "10  CIS New Year Gift Lottery            CIS 2020-12-30 2021-01-07"
      ]
     },
     "execution_count": 53,
     "metadata": {},
     "output_type": "execute_result"
    }
   ],
   "source": [
    "ab_project_marketing_events[\n",
    "    (ab_project_marketing_events['start_dt'] >= '2020-11-30') & (\n",
    "        ab_project_marketing_events['start_dt'] <= '2021-01-04')]"
   ]
  },
  {
   "cell_type": "code",
   "execution_count": 54,
   "metadata": {},
   "outputs": [
    {
     "data": {
      "image/png": "[encoded data removed]",
      "text/plain": [
       "<Figure size 1080x720 with 1 Axes>"
      ]
     },
     "metadata": {},
     "output_type": "display_data"
    }
   ],
   "source": [
    "#визуализируем события\n",
    "x = ab_events['event_dt']\n",
    "sns.set_style('darkgrid')\n",
    "\n",
    "fig, ax = plt.subplots(figsize=(15, 10))\n",
    "plt.grid(axis='both')\n",
    "plt.xticks(rotation=45)\n",
    "plt.title('Распределение наблюдений по датам')\n",
    "plt.grid(axis='both')\n",
    "plt.xlabel('Дата', fontsize=12)\n",
    "plt.ylabel('Количество событий', fontsize=12)\n",
    "\n",
    "ax.hist(x,\n",
    "        bins=30\n",
    "       )\n",
    "\n",
    "plt.axvline(x='2020-12-25', color='green', linestyle='--', label='Christmas&New Year Promo Start')\n",
    "plt.axvline(x='2021-01-03', color='black', linestyle='--', label='Christmas&New Year Promo End')\n",
    "plt.axvline(x='2020-12-18', color='red', linestyle='--', label='1 Week Before Christmas&New Year Promo')\n",
    "\n",
    "plt.legend()\n",
    "plt.show()"
   ]
  },
  {
   "cell_type": "markdown",
   "metadata": {},
   "source": [
    "Как мы можем видеть на графике, события в рамках тест имеют сильное пересечение с рождественской маркетинговой активностью. Кроме того, следуеют учитывать, что факт рождества (зеленая линия) сам-по-себе потенциально может быть признаком рост продаж, так как люди покупают подарки. \n",
    "\n",
    "Этот факт дополнительно компрометирует результаты теста. "
   ]
  },
  {
   "cell_type": "markdown",
   "metadata": {},
   "source": [
    "## Воронка конверсии"
   ]
  },
  {
   "cell_type": "code",
   "execution_count": 55,
   "metadata": {},
   "outputs": [
    {
     "data": {
      "text/html": [
       "<div>\n",
       "<style scoped>\n",
       "    .dataframe tbody tr th:only-of-type {\n",
       "        vertical-align: middle;\n",
       "    }\n",
       "\n",
       "    .dataframe tbody tr th {\n",
       "        vertical-align: top;\n",
       "    }\n",
       "\n",
       "    .dataframe thead th {\n",
       "        text-align: right;\n",
       "    }\n",
       "</style>\n",
       "<table border=\"1\" class=\"dataframe\">\n",
       "  <thead>\n",
       "    <tr style=\"text-align: right;\">\n",
       "      <th></th>\n",
       "      <th>group</th>\n",
       "      <th>event_name</th>\n",
       "      <th>event_dt</th>\n",
       "      <th>user_id</th>\n",
       "    </tr>\n",
       "  </thead>\n",
       "  <tbody>\n",
       "    <tr>\n",
       "      <th>0</th>\n",
       "      <td>A</td>\n",
       "      <td>login</td>\n",
       "      <td>8124</td>\n",
       "      <td>2604</td>\n",
       "    </tr>\n",
       "    <tr>\n",
       "      <th>2</th>\n",
       "      <td>A</td>\n",
       "      <td>product_page</td>\n",
       "      <td>5227</td>\n",
       "      <td>1685</td>\n",
       "    </tr>\n",
       "    <tr>\n",
       "      <th>1</th>\n",
       "      <td>A</td>\n",
       "      <td>product_cart</td>\n",
       "      <td>2422</td>\n",
       "      <td>782</td>\n",
       "    </tr>\n",
       "    <tr>\n",
       "      <th>3</th>\n",
       "      <td>A</td>\n",
       "      <td>purchase</td>\n",
       "      <td>2536</td>\n",
       "      <td>833</td>\n",
       "    </tr>\n",
       "    <tr>\n",
       "      <th>4</th>\n",
       "      <td>B</td>\n",
       "      <td>login</td>\n",
       "      <td>2471</td>\n",
       "      <td>877</td>\n",
       "    </tr>\n",
       "    <tr>\n",
       "      <th>6</th>\n",
       "      <td>B</td>\n",
       "      <td>product_page</td>\n",
       "      <td>1327</td>\n",
       "      <td>493</td>\n",
       "    </tr>\n",
       "    <tr>\n",
       "      <th>5</th>\n",
       "      <td>B</td>\n",
       "      <td>product_cart</td>\n",
       "      <td>653</td>\n",
       "      <td>244</td>\n",
       "    </tr>\n",
       "    <tr>\n",
       "      <th>7</th>\n",
       "      <td>B</td>\n",
       "      <td>purchase</td>\n",
       "      <td>660</td>\n",
       "      <td>249</td>\n",
       "    </tr>\n",
       "  </tbody>\n",
       "</table>\n",
       "</div>"
      ],
      "text/plain": [
       "  group    event_name  event_dt  user_id\n",
       "0     A         login      8124     2604\n",
       "2     A  product_page      5227     1685\n",
       "1     A  product_cart      2422      782\n",
       "3     A      purchase      2536      833\n",
       "4     B         login      2471      877\n",
       "6     B  product_page      1327      493\n",
       "5     B  product_cart       653      244\n",
       "7     B      purchase       660      249"
      ]
     },
     "execution_count": 55,
     "metadata": {},
     "output_type": "execute_result"
    }
   ],
   "source": [
    "funnel_data = ab_events.groupby(['group', 'event_name'], as_index=False).agg(\n",
    "    {'event_dt': 'count', 'user_id': 'nunique'}\n",
    ").reindex([0, 2, 1, 3, 4, 6, 5, 7])\n",
    "funnel_data"
   ]
  },
  {
   "cell_type": "code",
   "execution_count": 58,
   "metadata": {},
   "outputs": [
    {
     "data": {
      "image/png": "[encoded data removed]",
      "text/plain": [
       "<IPython.core.display.Image object>"
      ]
     },
     "execution_count": 58,
     "metadata": {},
     "output_type": "execute_result"
    }
   ],
   "source": [
    "fig = go.Figure()\n",
    "\n",
    "fig.add_trace(go.Funnel(\n",
    "    name='Group \"A\"',\n",
    "    y = funnel_data[funnel_data['group'] == 'A'].sort_values(by='user_id', ascending=False)['event_name'],\n",
    "    x = funnel_data[funnel_data['group'] == 'A'].sort_values(by='user_id', ascending=False)['user_id']))\n",
    "\n",
    "\n",
    "fig.add_trace(go.Funnel(\n",
    "    name='Group \"B\"',\n",
    "    y = funnel_data[funnel_data['group'] == 'B'].sort_values(by='user_id', ascending=False)['event_name'],\n",
    "    x = funnel_data[funnel_data['group'] == 'B'].sort_values(by='user_id', ascending=False)['user_id']))\n",
    "\n",
    "fig.update_layout(title_text=\"Воронка событий для всего датасета с разделением по группам\")\n",
    "#fig.show()\n",
    "\n",
    "fig.write_image(\"/Users/rodion/Documents/plotly_export/funnel3.png\")\n",
    "img_bytes = fig.to_image(format=\"png\")\n",
    "Image(img_bytes)"
   ]
  },
  {
   "cell_type": "code",
   "execution_count": 57,
   "metadata": {},
   "outputs": [
    {
     "name": "stdout",
     "output_type": "stream",
     "text": [
      "Конверсия залогинившихся пользователей в покупки в группе А составляет: 31.61%\n",
      "Конверсия залогинившихся пользователей в покупки в группе B составляет: 29.16%\n",
      "Отношение конверсии в покупки в группе В к группе А: 92.24%\n"
     ]
    }
   ],
   "source": [
    "print('Конверсия залогинившихся пользователей в покупки в группе А составляет: {:.2f}%'.format(events_users.loc['purchase']['A']/events_users.loc['login']['A']*100))\n",
    "print('Конверсия залогинившихся пользователей в покупки в группе B составляет: {:.2f}%'.format(events_users.loc['purchase']['B']/events_users.loc['login']['B']*100))\n",
    "print('Отношение конверсии в покупки в группе В к группе А: {:.2f}%'.format((events_users.loc['purchase']['B']/events_users.loc['login']['B'])/(events_users.loc['purchase']['A']/events_users.loc['login']['A'])*100))"
   ]
  },
  {
   "cell_type": "markdown",
   "metadata": {},
   "source": [
    "Мы наблюдаем снижение конверсии в покупки почти на 12% в испытуемой группе. В соответствии с ранее проверенной гипотезой о равенстве долей, такое отличие статистически значимо. Таким образом, мы можем говорить о провале теста. "
   ]
  },
  {
   "cell_type": "markdown",
   "metadata": {},
   "source": [
    "# Выводы"
   ]
  },
  {
   "cell_type": "markdown",
   "metadata": {},
   "source": [
    "1. В процессе обработки данных был выявлен ряд проблем, компрометирующих данные, использованные для оценки результатов А/Б теста: \n",
    "    + В соответствии с ТЗ, дата окончания теста - 4 января 2021 года, однако в датасете отражены события только до конца 2020 года, что наводит на мысль о потере части данных в процессе обработки, либо выгрузки\n",
    "    + Установлено, что в рамках теста происходит пересечение участников двух тестов \n",
    "    + Установлено, что события в рамках теста имеют значительное пересечение с рождественскими маркетинговыми активностями\n",
    "    + Установлено, что только 55% пользователей очищенной выборки генерировали события в заданный период. Есть вероятность, что произошла ошибка учета активности пользователей, либо возникла проблема в процессе выгрузки данных\n",
    "2. Результаты А/Б теста были подвергнуты анализу: \n",
    "    + В группе А конверсию в покупку выше в 2.5 раза\n",
    "    + Независимо от присутствия/отсутствия группы \"двойных\" пользователей в выборке, значения конверсии остаются сопоставимыми\n",
    "3. Установлено, что конверсия из события логина на сайте в событие покупки в группе В снизилась на 12%, что говорит о неуспехе тестирования новой функциональности\n",
    "\n",
    "**Рекомендация -** слишком много различных факторов компрометируют результативность теста, поэтому воспринимать его результаты как максимально объективные не стоит. Если относительно тестируюемой инициативы были \"большие\" ожидания, стоит обдумать повторное тестирование в более изолированных условиях и уделить особое внимание сбору данных о проведенном тесте. "
   ]
  }
 ],
 "metadata": {
  "ExecuteTimeLog": [
   {
    "duration": 2133,
    "start_time": "2021-06-20T10:33:32.826Z"
   },
   {
    "duration": 14858,
    "start_time": "2021-06-20T10:33:34.961Z"
   },
   {
    "duration": 11,
    "start_time": "2021-06-20T10:33:49.821Z"
   },
   {
    "duration": 21,
    "start_time": "2021-06-20T10:33:49.835Z"
   },
   {
    "duration": 52,
    "start_time": "2021-06-20T10:33:49.859Z"
   },
   {
    "duration": 15,
    "start_time": "2021-06-20T10:33:49.914Z"
   },
   {
    "duration": 22,
    "start_time": "2021-06-20T10:33:49.932Z"
   },
   {
    "duration": 13,
    "start_time": "2021-06-20T10:33:49.957Z"
   },
   {
    "duration": 16,
    "start_time": "2021-06-20T10:33:50.009Z"
   },
   {
    "duration": 50,
    "start_time": "2021-06-20T10:33:50.027Z"
   },
   {
    "duration": 33,
    "start_time": "2021-06-20T10:33:50.079Z"
   },
   {
    "duration": 10,
    "start_time": "2021-06-20T10:33:50.114Z"
   },
   {
    "duration": 16,
    "start_time": "2021-06-20T10:33:50.126Z"
   },
   {
    "duration": 21,
    "start_time": "2021-06-20T10:33:50.144Z"
   },
   {
    "duration": 42,
    "start_time": "2021-06-20T10:33:50.167Z"
   },
   {
    "duration": 70,
    "start_time": "2021-06-20T10:33:50.211Z"
   },
   {
    "duration": 28,
    "start_time": "2021-06-20T10:33:50.283Z"
   },
   {
    "duration": 378,
    "start_time": "2021-06-20T10:33:50.313Z"
   },
   {
    "duration": 133,
    "start_time": "2021-06-20T10:33:50.694Z"
   },
   {
    "duration": 8,
    "start_time": "2021-06-20T10:33:50.829Z"
   },
   {
    "duration": 46,
    "start_time": "2021-06-20T10:33:50.840Z"
   },
   {
    "duration": 7,
    "start_time": "2021-06-20T10:33:50.909Z"
   },
   {
    "duration": 17,
    "start_time": "2021-06-20T10:33:50.922Z"
   },
   {
    "duration": 18,
    "start_time": "2021-06-20T10:33:50.942Z"
   },
   {
    "duration": 80,
    "start_time": "2021-06-20T10:33:50.963Z"
   },
   {
    "duration": 14,
    "start_time": "2021-06-20T10:33:51.045Z"
   },
   {
    "duration": 27,
    "start_time": "2021-06-20T10:33:51.062Z"
   },
   {
    "duration": 54,
    "start_time": "2021-06-20T10:33:51.092Z"
   },
   {
    "duration": 6,
    "start_time": "2021-06-20T10:33:51.149Z"
   },
   {
    "duration": 52,
    "start_time": "2021-06-20T10:33:51.158Z"
   },
   {
    "duration": 9,
    "start_time": "2021-06-20T10:33:51.212Z"
   },
   {
    "duration": 16,
    "start_time": "2021-06-20T10:33:51.224Z"
   },
   {
    "duration": 27,
    "start_time": "2021-06-20T10:33:51.242Z"
   },
   {
    "duration": 20,
    "start_time": "2021-06-20T10:33:51.271Z"
   },
   {
    "duration": 62,
    "start_time": "2021-06-20T10:33:51.293Z"
   },
   {
    "duration": 44,
    "start_time": "2021-06-20T10:33:51.357Z"
   },
   {
    "duration": 13,
    "start_time": "2021-06-20T10:33:51.404Z"
   },
   {
    "duration": 80,
    "start_time": "2021-06-20T10:33:51.419Z"
   },
   {
    "duration": 29,
    "start_time": "2021-06-20T10:33:51.501Z"
   },
   {
    "duration": 8,
    "start_time": "2021-06-20T10:33:51.532Z"
   },
   {
    "duration": 31,
    "start_time": "2021-06-20T10:33:51.542Z"
   },
   {
    "duration": 32,
    "start_time": "2021-06-20T10:33:51.576Z"
   },
   {
    "duration": 15,
    "start_time": "2021-06-20T10:33:51.611Z"
   },
   {
    "duration": 34,
    "start_time": "2021-06-20T10:33:51.629Z"
   },
   {
    "duration": 10,
    "start_time": "2021-06-20T10:33:51.666Z"
   },
   {
    "duration": 31,
    "start_time": "2021-06-20T10:33:51.679Z"
   },
   {
    "duration": 64,
    "start_time": "2021-06-20T10:33:51.713Z"
   },
   {
    "duration": 37,
    "start_time": "2021-06-20T10:33:51.780Z"
   },
   {
    "duration": 15,
    "start_time": "2021-06-20T10:33:51.820Z"
   },
   {
    "duration": 24,
    "start_time": "2021-06-20T10:33:51.837Z"
   },
   {
    "duration": 17,
    "start_time": "2021-06-20T10:33:51.863Z"
   },
   {
    "duration": 34,
    "start_time": "2021-06-20T10:33:51.882Z"
   },
   {
    "duration": 26,
    "start_time": "2021-06-20T10:33:51.918Z"
   },
   {
    "duration": 1001,
    "start_time": "2021-06-20T10:33:51.947Z"
   },
   {
    "duration": 43,
    "start_time": "2021-06-20T10:33:52.950Z"
   },
   {
    "duration": 882,
    "start_time": "2021-06-20T10:33:53.008Z"
   },
   {
    "duration": 11,
    "start_time": "2021-06-20T10:33:53.908Z"
   }
  ],
  "kernelspec": {
   "display_name": "Python 3",
   "language": "python",
   "name": "python3"
  },
  "language_info": {
   "codemirror_mode": {
    "name": "ipython",
    "version": 3
   },
   "file_extension": ".py",
   "mimetype": "text/x-python",
   "name": "python",
   "nbconvert_exporter": "python",
   "pygments_lexer": "ipython3",
   "version": "3.8.3"
  },
  "toc": {
   "base_numbering": 1,
   "nav_menu": {},
   "number_sections": true,
   "sideBar": true,
   "skip_h1_title": false,
   "title_cell": "Table of Contents",
   "title_sidebar": "Contents",
   "toc_cell": false,
   "toc_position": {
    "height": "calc(100% - 180px)",
    "left": "10px",
    "top": "150px",
    "width": "557.797px"
   },
   "toc_section_display": true,
   "toc_window_display": false
  }
 },
 "nbformat": 4,
 "nbformat_minor": 2
}
