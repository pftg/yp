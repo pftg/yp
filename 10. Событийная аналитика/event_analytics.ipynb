{
 "cells": [
  {
   "cell_type": "markdown",
   "metadata": {},
   "source": [
    "# Описание проекта"
   ]
  },
  {
   "cell_type": "markdown",
   "metadata": {},
   "source": [
    "**Проект \"Сборный проект 2\"** \n",
    "\n",
    "Компания - стартап по продаже продуктов питания.\n",
    "\n",
    "Задачи: \n",
    "\n",
    "1. Проанализировать воронку продаж и определить шаги, на которых у пользователей возникают какие-то сложности\n",
    "2. Провести анализ результатов А/В-тестирования использования новых шрифтов в приложении"
   ]
  },
  {
   "cell_type": "markdown",
   "metadata": {},
   "source": [
    "# Подготовка"
   ]
  },
  {
   "cell_type": "markdown",
   "metadata": {},
   "source": [
    "## Импорт библиотек и чтение данных"
   ]
  },
  {
   "cell_type": "code",
   "execution_count": 1,
   "metadata": {},
   "outputs": [],
   "source": [
    "import pandas as pd\n",
    "from datetime import datetime\n",
    "import numpy as np\n",
    "import matplotlib.pyplot as plt\n",
    "import scipy.stats as st\n",
    "from plotly import graph_objects as go\n",
    "import math as mth\n",
    "import seaborn as sns\n",
    "from io import BytesIO\n",
    "import requests\n",
    "from pandas.plotting import register_matplotlib_converters\n",
    "register_matplotlib_converters()\n",
    "\n",
    "import warnings\n",
    "warnings.simplefilter('ignore') \n",
    "\n",
    "\n",
    "import psutil\n",
    "import plotly.io as pio\n",
    "pio.renderers.default='notebook'\n",
    "\n",
    "from IPython.display import Image"
   ]
  },
  {
   "cell_type": "code",
   "execution_count": 2,
   "metadata": {},
   "outputs": [],
   "source": [
    "spreadsheet_id = '1oZ2EFULzlsvh3777kya0G3Vbwapu2SYlJa1DKggm3Go'\n",
    "file_name = 'https://docs.google.com/spreadsheets/d/{}/export?format=csv'.format(spreadsheet_id)\n",
    "r = requests.get(file_name)\n",
    "data = pd.read_csv(BytesIO(r.content))"
   ]
  },
  {
   "cell_type": "markdown",
   "metadata": {},
   "source": [
    "## Предобработка данных"
   ]
  },
  {
   "cell_type": "markdown",
   "metadata": {},
   "source": [
    "### Проверка данных"
   ]
  },
  {
   "cell_type": "code",
   "execution_count": 3,
   "metadata": {},
   "outputs": [
    {
     "data": {
      "text/html": [
       "<div>\n",
       "<style scoped>\n",
       "    .dataframe tbody tr th:only-of-type {\n",
       "        vertical-align: middle;\n",
       "    }\n",
       "\n",
       "    .dataframe tbody tr th {\n",
       "        vertical-align: top;\n",
       "    }\n",
       "\n",
       "    .dataframe thead th {\n",
       "        text-align: right;\n",
       "    }\n",
       "</style>\n",
       "<table border=\"1\" class=\"dataframe\">\n",
       "  <thead>\n",
       "    <tr style=\"text-align: right;\">\n",
       "      <th></th>\n",
       "      <th>EventName</th>\n",
       "      <th>DeviceIDHash</th>\n",
       "      <th>EventTimestamp</th>\n",
       "      <th>ExpId</th>\n",
       "    </tr>\n",
       "  </thead>\n",
       "  <tbody>\n",
       "    <tr>\n",
       "      <th>0</th>\n",
       "      <td>MainScreenAppear</td>\n",
       "      <td>4575588528974610257</td>\n",
       "      <td>1564029816</td>\n",
       "      <td>246</td>\n",
       "    </tr>\n",
       "    <tr>\n",
       "      <th>1</th>\n",
       "      <td>MainScreenAppear</td>\n",
       "      <td>7416695313311560658</td>\n",
       "      <td>1564053102</td>\n",
       "      <td>246</td>\n",
       "    </tr>\n",
       "    <tr>\n",
       "      <th>2</th>\n",
       "      <td>PaymentScreenSuccessful</td>\n",
       "      <td>3518123091307005509</td>\n",
       "      <td>1564054127</td>\n",
       "      <td>248</td>\n",
       "    </tr>\n",
       "    <tr>\n",
       "      <th>3</th>\n",
       "      <td>CartScreenAppear</td>\n",
       "      <td>3518123091307005509</td>\n",
       "      <td>1564054127</td>\n",
       "      <td>248</td>\n",
       "    </tr>\n",
       "    <tr>\n",
       "      <th>4</th>\n",
       "      <td>PaymentScreenSuccessful</td>\n",
       "      <td>6217807653094995999</td>\n",
       "      <td>1564055322</td>\n",
       "      <td>248</td>\n",
       "    </tr>\n",
       "  </tbody>\n",
       "</table>\n",
       "</div>"
      ],
      "text/plain": [
       "                 EventName         DeviceIDHash  EventTimestamp  ExpId\n",
       "0         MainScreenAppear  4575588528974610257      1564029816    246\n",
       "1         MainScreenAppear  7416695313311560658      1564053102    246\n",
       "2  PaymentScreenSuccessful  3518123091307005509      1564054127    248\n",
       "3         CartScreenAppear  3518123091307005509      1564054127    248\n",
       "4  PaymentScreenSuccessful  6217807653094995999      1564055322    248"
      ]
     },
     "execution_count": 3,
     "metadata": {},
     "output_type": "execute_result"
    }
   ],
   "source": [
    "#посмотрим на данные\n",
    "data.head()"
   ]
  },
  {
   "cell_type": "code",
   "execution_count": 4,
   "metadata": {},
   "outputs": [
    {
     "name": "stdout",
     "output_type": "stream",
     "text": [
      "<class 'pandas.core.frame.DataFrame'>\n",
      "RangeIndex: 244126 entries, 0 to 244125\n",
      "Data columns (total 4 columns):\n",
      " #   Column          Non-Null Count   Dtype \n",
      "---  ------          --------------   ----- \n",
      " 0   EventName       244126 non-null  object\n",
      " 1   DeviceIDHash    244126 non-null  int64 \n",
      " 2   EventTimestamp  244126 non-null  int64 \n",
      " 3   ExpId           244126 non-null  int64 \n",
      "dtypes: int64(3), object(1)\n",
      "memory usage: 7.5+ MB\n"
     ]
    }
   ],
   "source": [
    "data.info()"
   ]
  },
  {
   "cell_type": "markdown",
   "metadata": {},
   "source": [
    "1. Пропуски в данных отсутствуют\n",
    "2. В датасете только 1 столбец с не номинативными переменными (над которыми мы можем проводить арифметические операции для достижения какого-либо осмысленного результата) - это столбец `EventTimestamp`\n",
    "3. Судя по значениям в столбце `EventTimestamp`, дата в данном случае записана в формате UNIX-времени, то есть количества секунд с 1 января 1970 года - для корректного анализа потребуется преобразование в \"классический\" формат, удобный для считывания человеком"
   ]
  },
  {
   "cell_type": "code",
   "execution_count": 5,
   "metadata": {},
   "outputs": [],
   "source": [
    "#поменяем дату в столбце лямбда-функцией, в которой применим метод извлечения из unix time модуля datetime\n",
    "data['EventTimestamp'] = data['EventTimestamp'].apply(lambda x: datetime.fromtimestamp(x))"
   ]
  },
  {
   "cell_type": "code",
   "execution_count": 6,
   "metadata": {},
   "outputs": [
    {
     "data": {
      "text/html": [
       "<div>\n",
       "<style scoped>\n",
       "    .dataframe tbody tr th:only-of-type {\n",
       "        vertical-align: middle;\n",
       "    }\n",
       "\n",
       "    .dataframe tbody tr th {\n",
       "        vertical-align: top;\n",
       "    }\n",
       "\n",
       "    .dataframe thead th {\n",
       "        text-align: right;\n",
       "    }\n",
       "</style>\n",
       "<table border=\"1\" class=\"dataframe\">\n",
       "  <thead>\n",
       "    <tr style=\"text-align: right;\">\n",
       "      <th></th>\n",
       "      <th>EventName</th>\n",
       "      <th>DeviceIDHash</th>\n",
       "      <th>EventTimestamp</th>\n",
       "      <th>ExpId</th>\n",
       "    </tr>\n",
       "  </thead>\n",
       "  <tbody>\n",
       "    <tr>\n",
       "      <th>0</th>\n",
       "      <td>MainScreenAppear</td>\n",
       "      <td>4575588528974610257</td>\n",
       "      <td>2019-07-25 07:43:36</td>\n",
       "      <td>246</td>\n",
       "    </tr>\n",
       "    <tr>\n",
       "      <th>1</th>\n",
       "      <td>MainScreenAppear</td>\n",
       "      <td>7416695313311560658</td>\n",
       "      <td>2019-07-25 14:11:42</td>\n",
       "      <td>246</td>\n",
       "    </tr>\n",
       "    <tr>\n",
       "      <th>2</th>\n",
       "      <td>PaymentScreenSuccessful</td>\n",
       "      <td>3518123091307005509</td>\n",
       "      <td>2019-07-25 14:28:47</td>\n",
       "      <td>248</td>\n",
       "    </tr>\n",
       "    <tr>\n",
       "      <th>3</th>\n",
       "      <td>CartScreenAppear</td>\n",
       "      <td>3518123091307005509</td>\n",
       "      <td>2019-07-25 14:28:47</td>\n",
       "      <td>248</td>\n",
       "    </tr>\n",
       "    <tr>\n",
       "      <th>4</th>\n",
       "      <td>PaymentScreenSuccessful</td>\n",
       "      <td>6217807653094995999</td>\n",
       "      <td>2019-07-25 14:48:42</td>\n",
       "      <td>248</td>\n",
       "    </tr>\n",
       "  </tbody>\n",
       "</table>\n",
       "</div>"
      ],
      "text/plain": [
       "                 EventName         DeviceIDHash      EventTimestamp  ExpId\n",
       "0         MainScreenAppear  4575588528974610257 2019-07-25 07:43:36    246\n",
       "1         MainScreenAppear  7416695313311560658 2019-07-25 14:11:42    246\n",
       "2  PaymentScreenSuccessful  3518123091307005509 2019-07-25 14:28:47    248\n",
       "3         CartScreenAppear  3518123091307005509 2019-07-25 14:28:47    248\n",
       "4  PaymentScreenSuccessful  6217807653094995999 2019-07-25 14:48:42    248"
      ]
     },
     "execution_count": 6,
     "metadata": {},
     "output_type": "execute_result"
    }
   ],
   "source": [
    "data.head()"
   ]
  },
  {
   "cell_type": "code",
   "execution_count": 7,
   "metadata": {},
   "outputs": [
    {
     "data": {
      "text/plain": [
       "count                  244126\n",
       "unique                 176654\n",
       "top       2019-08-01 17:40:35\n",
       "freq                        9\n",
       "first     2019-07-25 07:43:36\n",
       "last      2019-08-08 00:15:17\n",
       "Name: EventTimestamp, dtype: object"
      ]
     },
     "execution_count": 7,
     "metadata": {},
     "output_type": "execute_result"
    }
   ],
   "source": [
    "#после преобразования оценим значения в столбце с датами\n",
    "data['EventTimestamp'].describe()"
   ]
  },
  {
   "cell_type": "markdown",
   "metadata": {},
   "source": [
    "Мы видим, что даты лежат в пределах периода, равного одному месяцу (30 дней). Другими словами, некорректных дат в датасете нет.\n",
    "\n",
    "Также имеет смысл оценить, что содержится в столбце `EventName` на предмет некорректных значений, хотя это маловероятно, учитывая явно \"машиногенерируемый\" характер данных. "
   ]
  },
  {
   "cell_type": "code",
   "execution_count": 8,
   "metadata": {},
   "outputs": [
    {
     "data": {
      "text/plain": [
       "MainScreenAppear           119205\n",
       "OffersScreenAppear          46825\n",
       "CartScreenAppear            42731\n",
       "PaymentScreenSuccessful     34313\n",
       "Tutorial                     1052\n",
       "Name: EventName, dtype: int64"
      ]
     },
     "execution_count": 8,
     "metadata": {},
     "output_type": "execute_result"
    }
   ],
   "source": [
    "data['EventName'].value_counts()"
   ]
  },
  {
   "cell_type": "code",
   "execution_count": 9,
   "metadata": {},
   "outputs": [
    {
     "data": {
      "text/plain": [
       "248    85747\n",
       "246    80304\n",
       "247    78075\n",
       "Name: ExpId, dtype: int64"
      ]
     },
     "execution_count": 9,
     "metadata": {},
     "output_type": "execute_result"
    }
   ],
   "source": [
    "data['ExpId'].value_counts()"
   ]
  },
  {
   "cell_type": "code",
   "execution_count": 10,
   "metadata": {},
   "outputs": [
    {
     "data": {
      "text/html": [
       "<div>\n",
       "<style scoped>\n",
       "    .dataframe tbody tr th:only-of-type {\n",
       "        vertical-align: middle;\n",
       "    }\n",
       "\n",
       "    .dataframe tbody tr th {\n",
       "        vertical-align: top;\n",
       "    }\n",
       "\n",
       "    .dataframe thead th {\n",
       "        text-align: right;\n",
       "    }\n",
       "</style>\n",
       "<table border=\"1\" class=\"dataframe\">\n",
       "  <thead>\n",
       "    <tr style=\"text-align: right;\">\n",
       "      <th></th>\n",
       "      <th>event</th>\n",
       "      <th>id</th>\n",
       "      <th>timestamp</th>\n",
       "      <th>test_group</th>\n",
       "    </tr>\n",
       "  </thead>\n",
       "  <tbody>\n",
       "    <tr>\n",
       "      <th>0</th>\n",
       "      <td>MainScreenAppear</td>\n",
       "      <td>4575588528974610257</td>\n",
       "      <td>2019-07-25 07:43:36</td>\n",
       "      <td>246</td>\n",
       "    </tr>\n",
       "    <tr>\n",
       "      <th>1</th>\n",
       "      <td>MainScreenAppear</td>\n",
       "      <td>7416695313311560658</td>\n",
       "      <td>2019-07-25 14:11:42</td>\n",
       "      <td>246</td>\n",
       "    </tr>\n",
       "    <tr>\n",
       "      <th>2</th>\n",
       "      <td>PaymentScreenSuccessful</td>\n",
       "      <td>3518123091307005509</td>\n",
       "      <td>2019-07-25 14:28:47</td>\n",
       "      <td>248</td>\n",
       "    </tr>\n",
       "    <tr>\n",
       "      <th>3</th>\n",
       "      <td>CartScreenAppear</td>\n",
       "      <td>3518123091307005509</td>\n",
       "      <td>2019-07-25 14:28:47</td>\n",
       "      <td>248</td>\n",
       "    </tr>\n",
       "    <tr>\n",
       "      <th>4</th>\n",
       "      <td>PaymentScreenSuccessful</td>\n",
       "      <td>6217807653094995999</td>\n",
       "      <td>2019-07-25 14:48:42</td>\n",
       "      <td>248</td>\n",
       "    </tr>\n",
       "  </tbody>\n",
       "</table>\n",
       "</div>"
      ],
      "text/plain": [
       "                     event                   id           timestamp  \\\n",
       "0         MainScreenAppear  4575588528974610257 2019-07-25 07:43:36   \n",
       "1         MainScreenAppear  7416695313311560658 2019-07-25 14:11:42   \n",
       "2  PaymentScreenSuccessful  3518123091307005509 2019-07-25 14:28:47   \n",
       "3         CartScreenAppear  3518123091307005509 2019-07-25 14:28:47   \n",
       "4  PaymentScreenSuccessful  6217807653094995999 2019-07-25 14:48:42   \n",
       "\n",
       "   test_group  \n",
       "0         246  \n",
       "1         246  \n",
       "2         248  \n",
       "3         248  \n",
       "4         248  "
      ]
     },
     "execution_count": 10,
     "metadata": {},
     "output_type": "execute_result"
    }
   ],
   "source": [
    "#поменяем наименования столбцов для более простого восприятия\n",
    "\n",
    "data = data.rename(columns={\n",
    "    'EventName': 'event',\n",
    "    'DeviceIDHash': 'id',\n",
    "    'EventTimestamp': 'timestamp',\n",
    "    'ExpId': 'test_group'})\n",
    "\n",
    "data.head()"
   ]
  },
  {
   "cell_type": "code",
   "execution_count": 11,
   "metadata": {},
   "outputs": [
    {
     "name": "stdout",
     "output_type": "stream",
     "text": [
      "Количество полных дубликатов в данных: 413\n"
     ]
    }
   ],
   "source": [
    "#Проверим данные на наличие полных дубликатов \n",
    "print('Количество полных дубликатов в данных:', sum(data.duplicated()))"
   ]
  },
  {
   "cell_type": "code",
   "execution_count": 12,
   "metadata": {},
   "outputs": [],
   "source": [
    "#так как в данных есть дубликаты, мы применим к дата-сету методу drop_duplicates\n",
    "data = data.drop_duplicates().reset_index(drop=True)"
   ]
  },
  {
   "cell_type": "code",
   "execution_count": 13,
   "metadata": {},
   "outputs": [
    {
     "data": {
      "text/plain": [
       "243713"
      ]
     },
     "execution_count": 13,
     "metadata": {},
     "output_type": "execute_result"
    }
   ],
   "source": [
    "len(data)"
   ]
  },
  {
   "cell_type": "markdown",
   "metadata": {},
   "source": [
    "Проблем нет. Таким образом, мы имеем: \n",
    "\n",
    "1. Таблицу из 4 столбцов, содержащую 244126 наблюдений (243713 после удаления дубликатов)\n",
    "2. В данных отсутствуют пропуски \n",
    "3. Потребовалось только преобразование даты из UNIX-формата в человекочитаемый вариант\n",
    "4. Ошибочных дат, типов событий или идентификаторов групп в данных также не наблюдается\n",
    "5. В таблице обнаружено 413 полных дубликатов строк "
   ]
  },
  {
   "cell_type": "markdown",
   "metadata": {},
   "source": [
    "# Анализ данных"
   ]
  },
  {
   "cell_type": "markdown",
   "metadata": {},
   "source": [
    "## Изучение данных"
   ]
  },
  {
   "cell_type": "code",
   "execution_count": 14,
   "metadata": {},
   "outputs": [],
   "source": [
    "#добавим в датасет столбцы с датой и временем по отдельности для более простого последующего анализа воронки\n",
    "data['date'] = pd.to_datetime(data['timestamp'].dt.date)\n",
    "data['time'] = data['timestamp'].dt.time"
   ]
  },
  {
   "cell_type": "code",
   "execution_count": 15,
   "metadata": {},
   "outputs": [
    {
     "data": {
      "text/html": [
       "<div>\n",
       "<style scoped>\n",
       "    .dataframe tbody tr th:only-of-type {\n",
       "        vertical-align: middle;\n",
       "    }\n",
       "\n",
       "    .dataframe tbody tr th {\n",
       "        vertical-align: top;\n",
       "    }\n",
       "\n",
       "    .dataframe thead th {\n",
       "        text-align: right;\n",
       "    }\n",
       "</style>\n",
       "<table border=\"1\" class=\"dataframe\">\n",
       "  <thead>\n",
       "    <tr style=\"text-align: right;\">\n",
       "      <th></th>\n",
       "      <th>event</th>\n",
       "      <th>id</th>\n",
       "      <th>timestamp</th>\n",
       "      <th>test_group</th>\n",
       "      <th>date</th>\n",
       "      <th>time</th>\n",
       "    </tr>\n",
       "  </thead>\n",
       "  <tbody>\n",
       "    <tr>\n",
       "      <th>0</th>\n",
       "      <td>MainScreenAppear</td>\n",
       "      <td>4575588528974610257</td>\n",
       "      <td>2019-07-25 07:43:36</td>\n",
       "      <td>246</td>\n",
       "      <td>2019-07-25</td>\n",
       "      <td>07:43:36</td>\n",
       "    </tr>\n",
       "    <tr>\n",
       "      <th>1</th>\n",
       "      <td>MainScreenAppear</td>\n",
       "      <td>7416695313311560658</td>\n",
       "      <td>2019-07-25 14:11:42</td>\n",
       "      <td>246</td>\n",
       "      <td>2019-07-25</td>\n",
       "      <td>14:11:42</td>\n",
       "    </tr>\n",
       "    <tr>\n",
       "      <th>2</th>\n",
       "      <td>PaymentScreenSuccessful</td>\n",
       "      <td>3518123091307005509</td>\n",
       "      <td>2019-07-25 14:28:47</td>\n",
       "      <td>248</td>\n",
       "      <td>2019-07-25</td>\n",
       "      <td>14:28:47</td>\n",
       "    </tr>\n",
       "    <tr>\n",
       "      <th>3</th>\n",
       "      <td>CartScreenAppear</td>\n",
       "      <td>3518123091307005509</td>\n",
       "      <td>2019-07-25 14:28:47</td>\n",
       "      <td>248</td>\n",
       "      <td>2019-07-25</td>\n",
       "      <td>14:28:47</td>\n",
       "    </tr>\n",
       "    <tr>\n",
       "      <th>4</th>\n",
       "      <td>PaymentScreenSuccessful</td>\n",
       "      <td>6217807653094995999</td>\n",
       "      <td>2019-07-25 14:48:42</td>\n",
       "      <td>248</td>\n",
       "      <td>2019-07-25</td>\n",
       "      <td>14:48:42</td>\n",
       "    </tr>\n",
       "  </tbody>\n",
       "</table>\n",
       "</div>"
      ],
      "text/plain": [
       "                     event                   id           timestamp  \\\n",
       "0         MainScreenAppear  4575588528974610257 2019-07-25 07:43:36   \n",
       "1         MainScreenAppear  7416695313311560658 2019-07-25 14:11:42   \n",
       "2  PaymentScreenSuccessful  3518123091307005509 2019-07-25 14:28:47   \n",
       "3         CartScreenAppear  3518123091307005509 2019-07-25 14:28:47   \n",
       "4  PaymentScreenSuccessful  6217807653094995999 2019-07-25 14:48:42   \n",
       "\n",
       "   test_group       date      time  \n",
       "0         246 2019-07-25  07:43:36  \n",
       "1         246 2019-07-25  14:11:42  \n",
       "2         248 2019-07-25  14:28:47  \n",
       "3         248 2019-07-25  14:28:47  \n",
       "4         248 2019-07-25  14:48:42  "
      ]
     },
     "execution_count": 15,
     "metadata": {},
     "output_type": "execute_result"
    }
   ],
   "source": [
    "data.head()"
   ]
  },
  {
   "cell_type": "code",
   "execution_count": 16,
   "metadata": {},
   "outputs": [
    {
     "name": "stdout",
     "output_type": "stream",
     "text": [
      "Количество уникальных событий в датасете: 5\n",
      "Количество уникальных пользователей в датасете: 7551\n"
     ]
    }
   ],
   "source": [
    "print('Количество уникальных событий в датасете:', len(data['event'].unique()))\n",
    "print('Количество уникальных пользователей в датасете:', len(data['id'].unique()))"
   ]
  },
  {
   "cell_type": "code",
   "execution_count": 17,
   "metadata": {},
   "outputs": [
    {
     "name": "stdout",
     "output_type": "stream",
     "text": [
      "Среднее количество событий на пользователя: 32.28\n"
     ]
    }
   ],
   "source": [
    "print('Среднее количество событий на пользователя:', data.groupby(\n",
    "    'id', as_index=False\n",
    ").agg({'date': 'count'})['date'].mean().round(2))"
   ]
  },
  {
   "cell_type": "code",
   "execution_count": 18,
   "metadata": {},
   "outputs": [
    {
     "name": "stdout",
     "output_type": "stream",
     "text": [
      "Самая ранняя дата в датасете: 2019-07-25 07:43:36\n",
      "Самая поздняя дата в датасете: 2019-08-08 00:15:17\n",
      "Длина периода наблюдений: 13 дней\n"
     ]
    }
   ],
   "source": [
    "print('Самая ранняя дата в датасете:', data['timestamp'].min())\n",
    "print('Самая поздняя дата в датасете:', data['timestamp'].max())\n",
    "print(\n",
    "    'Длина периода наблюдений:',\n",
    "    int((data['timestamp'].max() - data['timestamp'].min())/np.timedelta64(1, 'D')),\n",
    "    'дней'\n",
    ")"
   ]
  },
  {
   "cell_type": "code",
   "execution_count": 19,
   "metadata": {},
   "outputs": [
    {
     "name": "stdout",
     "output_type": "stream",
     "text": [
      "<class 'pandas.core.frame.DataFrame'>\n",
      "RangeIndex: 243713 entries, 0 to 243712\n",
      "Data columns (total 6 columns):\n",
      " #   Column      Non-Null Count   Dtype         \n",
      "---  ------      --------------   -----         \n",
      " 0   event       243713 non-null  object        \n",
      " 1   id          243713 non-null  int64         \n",
      " 2   timestamp   243713 non-null  datetime64[ns]\n",
      " 3   test_group  243713 non-null  int64         \n",
      " 4   date        243713 non-null  datetime64[ns]\n",
      " 5   time        243713 non-null  object        \n",
      "dtypes: datetime64[ns](2), int64(2), object(2)\n",
      "memory usage: 11.2+ MB\n"
     ]
    }
   ],
   "source": [
    "data.info()"
   ]
  },
  {
   "cell_type": "code",
   "execution_count": 20,
   "metadata": {},
   "outputs": [
    {
     "data": {
      "image/png": "[encoded data removed]",
      "text/plain": [
       "<Figure size 1080x720 with 1 Axes>"
      ]
     },
     "metadata": {},
     "output_type": "display_data"
    }
   ],
   "source": [
    "x = data['date']\n",
    "sns.set_style('darkgrid')\n",
    "\n",
    "fig, ax = plt.subplots(figsize=(15, 10))\n",
    "plt.grid(axis='both')\n",
    "plt.xticks(rotation=45)\n",
    "plt.title('Распределение наблюдений по датам')\n",
    "plt.grid(axis='both')\n",
    "plt.xlabel('Дата', fontsize=12)\n",
    "plt.ylabel('Количество событий', fontsize=12)\n",
    "\n",
    "ax.hist(x,\n",
    "        bins=13\n",
    "       )\n",
    "\n",
    "plt.show()"
   ]
  },
  {
   "cell_type": "code",
   "execution_count": 21,
   "metadata": {},
   "outputs": [
    {
     "data": {
      "text/html": [
       "<div>\n",
       "<style scoped>\n",
       "    .dataframe tbody tr th:only-of-type {\n",
       "        vertical-align: middle;\n",
       "    }\n",
       "\n",
       "    .dataframe tbody tr th {\n",
       "        vertical-align: top;\n",
       "    }\n",
       "\n",
       "    .dataframe thead th {\n",
       "        text-align: right;\n",
       "    }\n",
       "</style>\n",
       "<table border=\"1\" class=\"dataframe\">\n",
       "  <thead>\n",
       "    <tr style=\"text-align: right;\">\n",
       "      <th></th>\n",
       "      <th>event</th>\n",
       "      <th>id</th>\n",
       "      <th>timestamp</th>\n",
       "      <th>test_group</th>\n",
       "      <th>date</th>\n",
       "      <th>time</th>\n",
       "    </tr>\n",
       "  </thead>\n",
       "  <tbody>\n",
       "    <tr>\n",
       "      <th>0</th>\n",
       "      <td>MainScreenAppear</td>\n",
       "      <td>4575588528974610257</td>\n",
       "      <td>2019-07-25 07:43:36</td>\n",
       "      <td>246</td>\n",
       "      <td>2019-07-25</td>\n",
       "      <td>07:43:36</td>\n",
       "    </tr>\n",
       "    <tr>\n",
       "      <th>1</th>\n",
       "      <td>MainScreenAppear</td>\n",
       "      <td>7416695313311560658</td>\n",
       "      <td>2019-07-25 14:11:42</td>\n",
       "      <td>246</td>\n",
       "      <td>2019-07-25</td>\n",
       "      <td>14:11:42</td>\n",
       "    </tr>\n",
       "    <tr>\n",
       "      <th>2</th>\n",
       "      <td>PaymentScreenSuccessful</td>\n",
       "      <td>3518123091307005509</td>\n",
       "      <td>2019-07-25 14:28:47</td>\n",
       "      <td>248</td>\n",
       "      <td>2019-07-25</td>\n",
       "      <td>14:28:47</td>\n",
       "    </tr>\n",
       "    <tr>\n",
       "      <th>3</th>\n",
       "      <td>CartScreenAppear</td>\n",
       "      <td>3518123091307005509</td>\n",
       "      <td>2019-07-25 14:28:47</td>\n",
       "      <td>248</td>\n",
       "      <td>2019-07-25</td>\n",
       "      <td>14:28:47</td>\n",
       "    </tr>\n",
       "    <tr>\n",
       "      <th>4</th>\n",
       "      <td>PaymentScreenSuccessful</td>\n",
       "      <td>6217807653094995999</td>\n",
       "      <td>2019-07-25 14:48:42</td>\n",
       "      <td>248</td>\n",
       "      <td>2019-07-25</td>\n",
       "      <td>14:48:42</td>\n",
       "    </tr>\n",
       "  </tbody>\n",
       "</table>\n",
       "</div>"
      ],
      "text/plain": [
       "                     event                   id           timestamp  \\\n",
       "0         MainScreenAppear  4575588528974610257 2019-07-25 07:43:36   \n",
       "1         MainScreenAppear  7416695313311560658 2019-07-25 14:11:42   \n",
       "2  PaymentScreenSuccessful  3518123091307005509 2019-07-25 14:28:47   \n",
       "3         CartScreenAppear  3518123091307005509 2019-07-25 14:28:47   \n",
       "4  PaymentScreenSuccessful  6217807653094995999 2019-07-25 14:48:42   \n",
       "\n",
       "   test_group       date      time  \n",
       "0         246 2019-07-25  07:43:36  \n",
       "1         246 2019-07-25  14:11:42  \n",
       "2         248 2019-07-25  14:28:47  \n",
       "3         248 2019-07-25  14:28:47  \n",
       "4         248 2019-07-25  14:48:42  "
      ]
     },
     "execution_count": 21,
     "metadata": {},
     "output_type": "execute_result"
    }
   ],
   "source": [
    "data.head(5)"
   ]
  },
  {
   "cell_type": "markdown",
   "metadata": {},
   "source": [
    "На гистограмме мы можем наблюдать интересное явление:\n",
    "\n",
    "1. До 31 июля частота значение близка к нулевой относительно данных за последующие дни\n",
    "2. 31 июля количество наблюдений выше в 4-5 раз относительно предыдущей даты, но все еще гораздо меньше того, что мы наблюдаем в данных, начиная с 1 августа (около 200 наблюдений против порядка 3.5-3.6 тысяч)\n",
    "\n",
    "Вероятно, в данных есть некие \"остаточные\" значения, которые могут исказить результаты последующего анализа воронки и результатов А/В теста. \n",
    "\n",
    "Для корректной обработки данных мы: \n",
    "\n",
    "1. Отсортируем записи в таблице по возрастанию даты и времени наблюдения - даже если это было сделано ранее, мы все равно произведем операцию для уверенности в результате \n",
    "2. Получим самое раннее время для самого первого типа событий в разрезе пользователей\n",
    "3. На основе этой информации откинем из исходного датасета те события, тип которых отличен от самого первого в цепочке при более ранней дате фиксации"
   ]
  },
  {
   "cell_type": "markdown",
   "metadata": {},
   "source": [
    "Мы располагаем пятью видами событий:\n",
    "\n",
    "- MainScreenAppear - вероятно, появление главного экрана приложения           \n",
    "- OffersScreenAppear - вероятно, появление экрана с предложениями (предположительно, пользователи переходили к экрану просмотра товаров)          \n",
    "- CartScreenAppear - вероятно, появление корзины на экране            \n",
    "- PaymentScreenSuccessful - вероятно, появление окна успешной оплаты товаров в корзине     \n",
    "- Tutorial - руководство пользователя (обучение)\n",
    "\n",
    "Судя по количеству наблюдений с различными типами событий, воронка движентся сверху вниз от события MainScreenAppear до PaymentScreenSuccessful. Исключение - Tutorial. Скорее всего, этот экран появляется сразу же после открытия главного экрана приложения и предлагает пройти краткое знакомство с интерфейсом приложения, но не все пользователи соглашаются на это обучение, поэтому цифры появления экрана туториала невелики"
   ]
  },
  {
   "cell_type": "code",
   "execution_count": 22,
   "metadata": {},
   "outputs": [
    {
     "data": {
      "text/plain": [
       "MainScreenAppear           119101\n",
       "OffersScreenAppear          46808\n",
       "CartScreenAppear            42668\n",
       "PaymentScreenSuccessful     34118\n",
       "Tutorial                     1018\n",
       "Name: event, dtype: int64"
      ]
     },
     "execution_count": 22,
     "metadata": {},
     "output_type": "execute_result"
    }
   ],
   "source": [
    "data['event'].value_counts()"
   ]
  },
  {
   "cell_type": "code",
   "execution_count": 23,
   "metadata": {},
   "outputs": [
    {
     "data": {
      "text/html": [
       "<div>\n",
       "<style scoped>\n",
       "    .dataframe tbody tr th:only-of-type {\n",
       "        vertical-align: middle;\n",
       "    }\n",
       "\n",
       "    .dataframe tbody tr th {\n",
       "        vertical-align: top;\n",
       "    }\n",
       "\n",
       "    .dataframe thead th {\n",
       "        text-align: right;\n",
       "    }\n",
       "</style>\n",
       "<table border=\"1\" class=\"dataframe\">\n",
       "  <thead>\n",
       "    <tr style=\"text-align: right;\">\n",
       "      <th></th>\n",
       "      <th>event</th>\n",
       "      <th>id</th>\n",
       "      <th>timestamp</th>\n",
       "      <th>test_group</th>\n",
       "      <th>date</th>\n",
       "      <th>time</th>\n",
       "    </tr>\n",
       "  </thead>\n",
       "  <tbody>\n",
       "    <tr>\n",
       "      <th>0</th>\n",
       "      <td>MainScreenAppear</td>\n",
       "      <td>4575588528974610257</td>\n",
       "      <td>2019-07-25 07:43:36</td>\n",
       "      <td>246</td>\n",
       "      <td>2019-07-25</td>\n",
       "      <td>07:43:36</td>\n",
       "    </tr>\n",
       "    <tr>\n",
       "      <th>1</th>\n",
       "      <td>MainScreenAppear</td>\n",
       "      <td>7416695313311560658</td>\n",
       "      <td>2019-07-25 14:11:42</td>\n",
       "      <td>246</td>\n",
       "      <td>2019-07-25</td>\n",
       "      <td>14:11:42</td>\n",
       "    </tr>\n",
       "    <tr>\n",
       "      <th>2</th>\n",
       "      <td>PaymentScreenSuccessful</td>\n",
       "      <td>3518123091307005509</td>\n",
       "      <td>2019-07-25 14:28:47</td>\n",
       "      <td>248</td>\n",
       "      <td>2019-07-25</td>\n",
       "      <td>14:28:47</td>\n",
       "    </tr>\n",
       "    <tr>\n",
       "      <th>3</th>\n",
       "      <td>CartScreenAppear</td>\n",
       "      <td>3518123091307005509</td>\n",
       "      <td>2019-07-25 14:28:47</td>\n",
       "      <td>248</td>\n",
       "      <td>2019-07-25</td>\n",
       "      <td>14:28:47</td>\n",
       "    </tr>\n",
       "    <tr>\n",
       "      <th>4</th>\n",
       "      <td>PaymentScreenSuccessful</td>\n",
       "      <td>6217807653094995999</td>\n",
       "      <td>2019-07-25 14:48:42</td>\n",
       "      <td>248</td>\n",
       "      <td>2019-07-25</td>\n",
       "      <td>14:48:42</td>\n",
       "    </tr>\n",
       "  </tbody>\n",
       "</table>\n",
       "</div>"
      ],
      "text/plain": [
       "                     event                   id           timestamp  \\\n",
       "0         MainScreenAppear  4575588528974610257 2019-07-25 07:43:36   \n",
       "1         MainScreenAppear  7416695313311560658 2019-07-25 14:11:42   \n",
       "2  PaymentScreenSuccessful  3518123091307005509 2019-07-25 14:28:47   \n",
       "3         CartScreenAppear  3518123091307005509 2019-07-25 14:28:47   \n",
       "4  PaymentScreenSuccessful  6217807653094995999 2019-07-25 14:48:42   \n",
       "\n",
       "   test_group       date      time  \n",
       "0         246 2019-07-25  07:43:36  \n",
       "1         246 2019-07-25  14:11:42  \n",
       "2         248 2019-07-25  14:28:47  \n",
       "3         248 2019-07-25  14:28:47  \n",
       "4         248 2019-07-25  14:48:42  "
      ]
     },
     "execution_count": 23,
     "metadata": {},
     "output_type": "execute_result"
    }
   ],
   "source": [
    "data = data.sort_values(by='timestamp')\n",
    "data.head()"
   ]
  },
  {
   "cell_type": "code",
   "execution_count": 24,
   "metadata": {},
   "outputs": [
    {
     "data": {
      "text/html": [
       "<div>\n",
       "<style scoped>\n",
       "    .dataframe tbody tr th:only-of-type {\n",
       "        vertical-align: middle;\n",
       "    }\n",
       "\n",
       "    .dataframe tbody tr th {\n",
       "        vertical-align: top;\n",
       "    }\n",
       "\n",
       "    .dataframe thead th {\n",
       "        text-align: right;\n",
       "    }\n",
       "</style>\n",
       "<table border=\"1\" class=\"dataframe\">\n",
       "  <thead>\n",
       "    <tr style=\"text-align: right;\">\n",
       "      <th></th>\n",
       "      <th>id</th>\n",
       "      <th>first_main_screen</th>\n",
       "    </tr>\n",
       "  </thead>\n",
       "  <tbody>\n",
       "    <tr>\n",
       "      <th>3613</th>\n",
       "      <td>4575588528974610257</td>\n",
       "      <td>2019-07-25 07:43:36</td>\n",
       "    </tr>\n",
       "    <tr>\n",
       "      <th>5934</th>\n",
       "      <td>7416695313311560658</td>\n",
       "      <td>2019-07-25 14:11:42</td>\n",
       "    </tr>\n",
       "    <tr>\n",
       "      <th>4519</th>\n",
       "      <td>5682100281902512875</td>\n",
       "      <td>2019-07-25 23:14:37</td>\n",
       "    </tr>\n",
       "    <tr>\n",
       "      <th>1438</th>\n",
       "      <td>1850981295691852772</td>\n",
       "      <td>2019-07-25 23:31:42</td>\n",
       "    </tr>\n",
       "    <tr>\n",
       "      <th>4289</th>\n",
       "      <td>5407636962369102641</td>\n",
       "      <td>2019-07-26 06:35:12</td>\n",
       "    </tr>\n",
       "  </tbody>\n",
       "</table>\n",
       "</div>"
      ],
      "text/plain": [
       "                       id   first_main_screen\n",
       "3613  4575588528974610257 2019-07-25 07:43:36\n",
       "5934  7416695313311560658 2019-07-25 14:11:42\n",
       "4519  5682100281902512875 2019-07-25 23:14:37\n",
       "1438  1850981295691852772 2019-07-25 23:31:42\n",
       "4289  5407636962369102641 2019-07-26 06:35:12"
      ]
     },
     "execution_count": 24,
     "metadata": {},
     "output_type": "execute_result"
    }
   ],
   "source": [
    "#исходя из утверждения о том, что событие MainScreenAppear - первое в цепочке, мы сформируем датафрейм\n",
    "#куда запишем минимальное значение штампа времени для такого события\n",
    "first_main_screen_occassion = data[\n",
    "    data['event'] == 'MainScreenAppear'].groupby('id', as_index=False).agg({'timestamp': 'min'}\n",
    "                                                                          ).sort_values(by='timestamp')\n",
    "first_main_screen_occassion.columns=['id', 'first_main_screen']\n",
    "first_main_screen_occassion.head()"
   ]
  },
  {
   "cell_type": "code",
   "execution_count": 25,
   "metadata": {},
   "outputs": [
    {
     "data": {
      "text/html": [
       "<div>\n",
       "<style scoped>\n",
       "    .dataframe tbody tr th:only-of-type {\n",
       "        vertical-align: middle;\n",
       "    }\n",
       "\n",
       "    .dataframe tbody tr th {\n",
       "        vertical-align: top;\n",
       "    }\n",
       "\n",
       "    .dataframe thead th {\n",
       "        text-align: right;\n",
       "    }\n",
       "</style>\n",
       "<table border=\"1\" class=\"dataframe\">\n",
       "  <thead>\n",
       "    <tr style=\"text-align: right;\">\n",
       "      <th></th>\n",
       "      <th>event</th>\n",
       "      <th>id</th>\n",
       "      <th>timestamp</th>\n",
       "      <th>test_group</th>\n",
       "      <th>date</th>\n",
       "      <th>time</th>\n",
       "      <th>first_main_screen</th>\n",
       "    </tr>\n",
       "  </thead>\n",
       "  <tbody>\n",
       "    <tr>\n",
       "      <th>0</th>\n",
       "      <td>MainScreenAppear</td>\n",
       "      <td>4575588528974610257</td>\n",
       "      <td>2019-07-25 07:43:36</td>\n",
       "      <td>246</td>\n",
       "      <td>2019-07-25</td>\n",
       "      <td>07:43:36</td>\n",
       "      <td>2019-07-25 07:43:36</td>\n",
       "    </tr>\n",
       "    <tr>\n",
       "      <th>1</th>\n",
       "      <td>MainScreenAppear</td>\n",
       "      <td>7416695313311560658</td>\n",
       "      <td>2019-07-25 14:11:42</td>\n",
       "      <td>246</td>\n",
       "      <td>2019-07-25</td>\n",
       "      <td>14:11:42</td>\n",
       "      <td>2019-07-25 14:11:42</td>\n",
       "    </tr>\n",
       "    <tr>\n",
       "      <th>2</th>\n",
       "      <td>PaymentScreenSuccessful</td>\n",
       "      <td>3518123091307005509</td>\n",
       "      <td>2019-07-25 14:28:47</td>\n",
       "      <td>248</td>\n",
       "      <td>2019-07-25</td>\n",
       "      <td>14:28:47</td>\n",
       "      <td>2019-08-01 13:03:22</td>\n",
       "    </tr>\n",
       "    <tr>\n",
       "      <th>3</th>\n",
       "      <td>CartScreenAppear</td>\n",
       "      <td>3518123091307005509</td>\n",
       "      <td>2019-07-25 14:28:47</td>\n",
       "      <td>248</td>\n",
       "      <td>2019-07-25</td>\n",
       "      <td>14:28:47</td>\n",
       "      <td>2019-08-01 13:03:22</td>\n",
       "    </tr>\n",
       "    <tr>\n",
       "      <th>4</th>\n",
       "      <td>PaymentScreenSuccessful</td>\n",
       "      <td>6217807653094995999</td>\n",
       "      <td>2019-07-25 14:48:42</td>\n",
       "      <td>248</td>\n",
       "      <td>2019-07-25</td>\n",
       "      <td>14:48:42</td>\n",
       "      <td>2019-08-01 05:14:29</td>\n",
       "    </tr>\n",
       "  </tbody>\n",
       "</table>\n",
       "</div>"
      ],
      "text/plain": [
       "                     event                   id           timestamp  \\\n",
       "0         MainScreenAppear  4575588528974610257 2019-07-25 07:43:36   \n",
       "1         MainScreenAppear  7416695313311560658 2019-07-25 14:11:42   \n",
       "2  PaymentScreenSuccessful  3518123091307005509 2019-07-25 14:28:47   \n",
       "3         CartScreenAppear  3518123091307005509 2019-07-25 14:28:47   \n",
       "4  PaymentScreenSuccessful  6217807653094995999 2019-07-25 14:48:42   \n",
       "\n",
       "   test_group       date      time   first_main_screen  \n",
       "0         246 2019-07-25  07:43:36 2019-07-25 07:43:36  \n",
       "1         246 2019-07-25  14:11:42 2019-07-25 14:11:42  \n",
       "2         248 2019-07-25  14:28:47 2019-08-01 13:03:22  \n",
       "3         248 2019-07-25  14:28:47 2019-08-01 13:03:22  \n",
       "4         248 2019-07-25  14:48:42 2019-08-01 05:14:29  "
      ]
     },
     "execution_count": 25,
     "metadata": {},
     "output_type": "execute_result"
    }
   ],
   "source": [
    "#присоединим значения минимального штампа для события MainScreenAppear\n",
    "data = data.merge(first_main_screen_occassion, on='id', how='left')\n",
    "data.head()"
   ]
  },
  {
   "cell_type": "markdown",
   "metadata": {},
   "source": [
    "Можем наблюдать даже в первых 5 строках события, зафиксированные раньше, чем событие `MainScreenAppear`. Так как мы хотим получить достоверные данные, мы сделаев отсев таких значений из датафрейма. "
   ]
  },
  {
   "cell_type": "code",
   "execution_count": 26,
   "metadata": {},
   "outputs": [
    {
     "data": {
      "text/html": [
       "<div>\n",
       "<style scoped>\n",
       "    .dataframe tbody tr th:only-of-type {\n",
       "        vertical-align: middle;\n",
       "    }\n",
       "\n",
       "    .dataframe tbody tr th {\n",
       "        vertical-align: top;\n",
       "    }\n",
       "\n",
       "    .dataframe thead th {\n",
       "        text-align: right;\n",
       "    }\n",
       "</style>\n",
       "<table border=\"1\" class=\"dataframe\">\n",
       "  <thead>\n",
       "    <tr style=\"text-align: right;\">\n",
       "      <th></th>\n",
       "      <th>event</th>\n",
       "      <th>id</th>\n",
       "      <th>timestamp</th>\n",
       "      <th>test_group</th>\n",
       "      <th>date</th>\n",
       "      <th>time</th>\n",
       "      <th>first_main_screen</th>\n",
       "    </tr>\n",
       "  </thead>\n",
       "  <tbody>\n",
       "    <tr>\n",
       "      <th>0</th>\n",
       "      <td>MainScreenAppear</td>\n",
       "      <td>4575588528974610257</td>\n",
       "      <td>2019-07-25 07:43:36</td>\n",
       "      <td>246</td>\n",
       "      <td>2019-07-25</td>\n",
       "      <td>07:43:36</td>\n",
       "      <td>2019-07-25 07:43:36</td>\n",
       "    </tr>\n",
       "    <tr>\n",
       "      <th>1</th>\n",
       "      <td>MainScreenAppear</td>\n",
       "      <td>7416695313311560658</td>\n",
       "      <td>2019-07-25 14:11:42</td>\n",
       "      <td>246</td>\n",
       "      <td>2019-07-25</td>\n",
       "      <td>14:11:42</td>\n",
       "      <td>2019-07-25 14:11:42</td>\n",
       "    </tr>\n",
       "    <tr>\n",
       "      <th>7</th>\n",
       "      <td>MainScreenAppear</td>\n",
       "      <td>5682100281902512875</td>\n",
       "      <td>2019-07-25 23:14:37</td>\n",
       "      <td>246</td>\n",
       "      <td>2019-07-25</td>\n",
       "      <td>23:14:37</td>\n",
       "      <td>2019-07-25 23:14:37</td>\n",
       "    </tr>\n",
       "    <tr>\n",
       "      <th>8</th>\n",
       "      <td>MainScreenAppear</td>\n",
       "      <td>1850981295691852772</td>\n",
       "      <td>2019-07-25 23:31:42</td>\n",
       "      <td>247</td>\n",
       "      <td>2019-07-25</td>\n",
       "      <td>23:31:42</td>\n",
       "      <td>2019-07-25 23:31:42</td>\n",
       "    </tr>\n",
       "    <tr>\n",
       "      <th>9</th>\n",
       "      <td>MainScreenAppear</td>\n",
       "      <td>5407636962369102641</td>\n",
       "      <td>2019-07-26 06:35:12</td>\n",
       "      <td>246</td>\n",
       "      <td>2019-07-26</td>\n",
       "      <td>06:35:12</td>\n",
       "      <td>2019-07-26 06:35:12</td>\n",
       "    </tr>\n",
       "  </tbody>\n",
       "</table>\n",
       "</div>"
      ],
      "text/plain": [
       "              event                   id           timestamp  test_group  \\\n",
       "0  MainScreenAppear  4575588528974610257 2019-07-25 07:43:36         246   \n",
       "1  MainScreenAppear  7416695313311560658 2019-07-25 14:11:42         246   \n",
       "7  MainScreenAppear  5682100281902512875 2019-07-25 23:14:37         246   \n",
       "8  MainScreenAppear  1850981295691852772 2019-07-25 23:31:42         247   \n",
       "9  MainScreenAppear  5407636962369102641 2019-07-26 06:35:12         246   \n",
       "\n",
       "        date      time   first_main_screen  \n",
       "0 2019-07-25  07:43:36 2019-07-25 07:43:36  \n",
       "1 2019-07-25  14:11:42 2019-07-25 14:11:42  \n",
       "7 2019-07-25  23:14:37 2019-07-25 23:14:37  \n",
       "8 2019-07-25  23:31:42 2019-07-25 23:31:42  \n",
       "9 2019-07-26  06:35:12 2019-07-26 06:35:12  "
      ]
     },
     "execution_count": 26,
     "metadata": {},
     "output_type": "execute_result"
    }
   ],
   "source": [
    "#отберем только те строки, дата фиксации события в которых меньше или равна дате первого в сете события MainScreenAppear\n",
    "data = data[data['timestamp'] >= data['first_main_screen']]\n",
    "data.head()"
   ]
  },
  {
   "cell_type": "code",
   "execution_count": 27,
   "metadata": {},
   "outputs": [
    {
     "name": "stdout",
     "output_type": "stream",
     "text": [
      "Удалено 8055 \"лишних\" событий\n",
      "Выборка сократилась на 3.30%\n",
      "Удалено 112 \"лишних\" пользователей, что составляет 1.48% от исходного исходного количества в датасете\n"
     ]
    }
   ],
   "source": [
    "print('Удалено {:.0f} \"лишних\" событий'.format(244126-len(data)))\n",
    "print('Выборка сократилась на {:.2f}%'.format((1-(len(data)/244126))*100))\n",
    "print('Удалено {:.0f} \"лишних\" пользователей,'.format(7551-len(data['id'].unique())),\\\n",
    "      'что составляет {:.2f}% от исходного исходного количества в датасете'.format((1-(len(data['id'].unique())/7551))*100))"
   ]
  },
  {
   "cell_type": "code",
   "execution_count": 28,
   "metadata": {},
   "outputs": [
    {
     "name": "stdout",
     "output_type": "stream",
     "text": [
      "Самая ранняя дата в датасете: 2019-07-25 07:43:36\n",
      "Самая поздняя дата в датасете: 2019-08-08 00:15:17\n",
      "Длина периода наблюдений: 13 дней\n"
     ]
    }
   ],
   "source": [
    "print('Самая ранняя дата в датасете:', data['timestamp'].min())\n",
    "print('Самая поздняя дата в датасете:', data['timestamp'].max())\n",
    "print(\n",
    "    'Длина периода наблюдений:',\n",
    "    int((data['timestamp'].max() - data['timestamp'].min())/np.timedelta64(1, 'D')),\n",
    "    'дней'\n",
    ")"
   ]
  },
  {
   "cell_type": "markdown",
   "metadata": {},
   "source": [
    "Мы видим, что выборка довольно существенно сократилась. При этом период наблюдений не изменился - он по-прежнему составляет 13 дней. Также существенных изменений не претерпела и гистограмма.\n",
    "\n",
    "1. Мы сократили объем выборки примерно на 3%\n",
    "2. Из выборки удалено около 1.5% пользователей"
   ]
  },
  {
   "cell_type": "code",
   "execution_count": 29,
   "metadata": {},
   "outputs": [
    {
     "data": {
      "text/plain": [
       "248    83014\n",
       "246    77844\n",
       "247    75213\n",
       "Name: test_group, dtype: int64"
      ]
     },
     "execution_count": 29,
     "metadata": {},
     "output_type": "execute_result"
    }
   ],
   "source": [
    "#проверим наличие пользователей во всех трех экспериментальных группах\n",
    "data['test_group'].value_counts()"
   ]
  },
  {
   "cell_type": "code",
   "execution_count": 30,
   "metadata": {},
   "outputs": [
    {
     "name": "stdout",
     "output_type": "stream",
     "text": [
      "<class 'pandas.core.frame.DataFrame'>\n",
      "Int64Index: 236071 entries, 0 to 243712\n",
      "Data columns (total 7 columns):\n",
      " #   Column             Non-Null Count   Dtype         \n",
      "---  ------             --------------   -----         \n",
      " 0   event              236071 non-null  object        \n",
      " 1   id                 236071 non-null  int64         \n",
      " 2   timestamp          236071 non-null  datetime64[ns]\n",
      " 3   test_group         236071 non-null  int64         \n",
      " 4   date               236071 non-null  datetime64[ns]\n",
      " 5   time               236071 non-null  object        \n",
      " 6   first_main_screen  236071 non-null  datetime64[ns]\n",
      "dtypes: datetime64[ns](3), int64(2), object(2)\n",
      "memory usage: 14.4+ MB\n"
     ]
    }
   ],
   "source": [
    "data.info()"
   ]
  },
  {
   "cell_type": "markdown",
   "metadata": {},
   "source": [
    "7.6 тысяч удаленных записей практически равномерно распределились по выборке. "
   ]
  },
  {
   "cell_type": "markdown",
   "metadata": {},
   "source": [
    "## Анализ воронки событий"
   ]
  },
  {
   "cell_type": "markdown",
   "metadata": {},
   "source": [
    "Ранее мы уже приводили перечень событий с их количеством. Основываясь на частоте наблюдений в каждом событии и контексте имени события мы сделали очистку исходного датафрейма от \"старых\" значений. Приведем этот перечень еще раз. "
   ]
  },
  {
   "cell_type": "code",
   "execution_count": 31,
   "metadata": {},
   "outputs": [
    {
     "data": {
      "text/html": [
       "<div>\n",
       "<style scoped>\n",
       "    .dataframe tbody tr th:only-of-type {\n",
       "        vertical-align: middle;\n",
       "    }\n",
       "\n",
       "    .dataframe tbody tr th {\n",
       "        vertical-align: top;\n",
       "    }\n",
       "\n",
       "    .dataframe thead th {\n",
       "        text-align: right;\n",
       "    }\n",
       "</style>\n",
       "<table border=\"1\" class=\"dataframe\">\n",
       "  <thead>\n",
       "    <tr style=\"text-align: right;\">\n",
       "      <th></th>\n",
       "      <th>event</th>\n",
       "      <th>id</th>\n",
       "      <th>timestamp</th>\n",
       "      <th>test_group</th>\n",
       "      <th>date</th>\n",
       "      <th>time</th>\n",
       "      <th>first_main_screen</th>\n",
       "    </tr>\n",
       "  </thead>\n",
       "  <tbody>\n",
       "    <tr>\n",
       "      <th>0</th>\n",
       "      <td>MainScreenAppear</td>\n",
       "      <td>4575588528974610257</td>\n",
       "      <td>2019-07-25 07:43:36</td>\n",
       "      <td>246</td>\n",
       "      <td>2019-07-25</td>\n",
       "      <td>07:43:36</td>\n",
       "      <td>2019-07-25 07:43:36</td>\n",
       "    </tr>\n",
       "    <tr>\n",
       "      <th>1</th>\n",
       "      <td>MainScreenAppear</td>\n",
       "      <td>7416695313311560658</td>\n",
       "      <td>2019-07-25 14:11:42</td>\n",
       "      <td>246</td>\n",
       "      <td>2019-07-25</td>\n",
       "      <td>14:11:42</td>\n",
       "      <td>2019-07-25 14:11:42</td>\n",
       "    </tr>\n",
       "    <tr>\n",
       "      <th>7</th>\n",
       "      <td>MainScreenAppear</td>\n",
       "      <td>5682100281902512875</td>\n",
       "      <td>2019-07-25 23:14:37</td>\n",
       "      <td>246</td>\n",
       "      <td>2019-07-25</td>\n",
       "      <td>23:14:37</td>\n",
       "      <td>2019-07-25 23:14:37</td>\n",
       "    </tr>\n",
       "    <tr>\n",
       "      <th>8</th>\n",
       "      <td>MainScreenAppear</td>\n",
       "      <td>1850981295691852772</td>\n",
       "      <td>2019-07-25 23:31:42</td>\n",
       "      <td>247</td>\n",
       "      <td>2019-07-25</td>\n",
       "      <td>23:31:42</td>\n",
       "      <td>2019-07-25 23:31:42</td>\n",
       "    </tr>\n",
       "    <tr>\n",
       "      <th>9</th>\n",
       "      <td>MainScreenAppear</td>\n",
       "      <td>5407636962369102641</td>\n",
       "      <td>2019-07-26 06:35:12</td>\n",
       "      <td>246</td>\n",
       "      <td>2019-07-26</td>\n",
       "      <td>06:35:12</td>\n",
       "      <td>2019-07-26 06:35:12</td>\n",
       "    </tr>\n",
       "  </tbody>\n",
       "</table>\n",
       "</div>"
      ],
      "text/plain": [
       "              event                   id           timestamp  test_group  \\\n",
       "0  MainScreenAppear  4575588528974610257 2019-07-25 07:43:36         246   \n",
       "1  MainScreenAppear  7416695313311560658 2019-07-25 14:11:42         246   \n",
       "7  MainScreenAppear  5682100281902512875 2019-07-25 23:14:37         246   \n",
       "8  MainScreenAppear  1850981295691852772 2019-07-25 23:31:42         247   \n",
       "9  MainScreenAppear  5407636962369102641 2019-07-26 06:35:12         246   \n",
       "\n",
       "        date      time   first_main_screen  \n",
       "0 2019-07-25  07:43:36 2019-07-25 07:43:36  \n",
       "1 2019-07-25  14:11:42 2019-07-25 14:11:42  \n",
       "7 2019-07-25  23:14:37 2019-07-25 23:14:37  \n",
       "8 2019-07-25  23:31:42 2019-07-25 23:31:42  \n",
       "9 2019-07-26  06:35:12 2019-07-26 06:35:12  "
      ]
     },
     "execution_count": 31,
     "metadata": {},
     "output_type": "execute_result"
    }
   ],
   "source": [
    "data.head()"
   ]
  },
  {
   "cell_type": "code",
   "execution_count": 32,
   "metadata": {},
   "outputs": [
    {
     "data": {
      "text/html": [
       "<div>\n",
       "<style scoped>\n",
       "    .dataframe tbody tr th:only-of-type {\n",
       "        vertical-align: middle;\n",
       "    }\n",
       "\n",
       "    .dataframe tbody tr th {\n",
       "        vertical-align: top;\n",
       "    }\n",
       "\n",
       "    .dataframe thead th {\n",
       "        text-align: right;\n",
       "    }\n",
       "</style>\n",
       "<table border=\"1\" class=\"dataframe\">\n",
       "  <thead>\n",
       "    <tr style=\"text-align: right;\">\n",
       "      <th></th>\n",
       "      <th>event</th>\n",
       "      <th>event_quantity</th>\n",
       "      <th>users</th>\n",
       "      <th>portion</th>\n",
       "    </tr>\n",
       "  </thead>\n",
       "  <tbody>\n",
       "    <tr>\n",
       "      <th>0</th>\n",
       "      <td>MainScreenAppear</td>\n",
       "      <td>119101</td>\n",
       "      <td>7439</td>\n",
       "      <td>1.000000</td>\n",
       "    </tr>\n",
       "    <tr>\n",
       "      <th>1</th>\n",
       "      <td>OffersScreenAppear</td>\n",
       "      <td>44522</td>\n",
       "      <td>4473</td>\n",
       "      <td>0.601290</td>\n",
       "    </tr>\n",
       "    <tr>\n",
       "      <th>2</th>\n",
       "      <td>CartScreenAppear</td>\n",
       "      <td>40206</td>\n",
       "      <td>3618</td>\n",
       "      <td>0.486356</td>\n",
       "    </tr>\n",
       "    <tr>\n",
       "      <th>3</th>\n",
       "      <td>PaymentScreenSuccessful</td>\n",
       "      <td>32105</td>\n",
       "      <td>3420</td>\n",
       "      <td>0.459739</td>\n",
       "    </tr>\n",
       "  </tbody>\n",
       "</table>\n",
       "</div>"
      ],
      "text/plain": [
       "                     event  event_quantity  users   portion\n",
       "0         MainScreenAppear          119101   7439  1.000000\n",
       "1       OffersScreenAppear           44522   4473  0.601290\n",
       "2         CartScreenAppear           40206   3618  0.486356\n",
       "3  PaymentScreenSuccessful           32105   3420  0.459739"
      ]
     },
     "execution_count": 32,
     "metadata": {},
     "output_type": "execute_result"
    }
   ],
   "source": [
    "#соберем датафрейм, в который запишем количество наблюдений для каждого события\n",
    "#и число уникальных пользователей на каждом шаге \n",
    "funnel_data = data.groupby('event', as_index=False).agg({'timestamp': 'count', 'id': 'nunique'}\n",
    "                                         ).sort_values(by='timestamp', ascending=False)\n",
    "funnel_data.columns=['event', 'event_quantity', 'users']\n",
    "\n",
    "#добавим столбец, в который запишем долю пользователей на каждом шаге\n",
    "funnel_data['portion'] = funnel_data['users'] / len(data['id'].unique())\n",
    "\n",
    "#также, вероятно Tutorial - это некое факультативное событие, поэтому для построения воронки от него можно отказаться\n",
    "funnel_data = funnel_data[funnel_data['event'] != 'Tutorial'].reset_index(drop=True)\n",
    "\n",
    "funnel_data"
   ]
  },
  {
   "cell_type": "code",
   "execution_count": 33,
   "metadata": {},
   "outputs": [],
   "source": [
    "funnel_data['step_portion'] = np.nan\n",
    "\n",
    "#посчитаем долю пользователей на текущем шаге от числа пользователей предыдущего шага\n",
    "prev_users = funnel_data['users'][0]\n",
    "\n",
    "for i in range(len(funnel_data)):\n",
    "    funnel_data.loc[i, 'step_portion'] = funnel_data.loc[i, 'users'] / prev_users\n",
    "    prev_users = funnel_data['users'][i]"
   ]
  },
  {
   "cell_type": "code",
   "execution_count": 34,
   "metadata": {},
   "outputs": [
    {
     "data": {
      "text/html": [
       "<div>\n",
       "<style scoped>\n",
       "    .dataframe tbody tr th:only-of-type {\n",
       "        vertical-align: middle;\n",
       "    }\n",
       "\n",
       "    .dataframe tbody tr th {\n",
       "        vertical-align: top;\n",
       "    }\n",
       "\n",
       "    .dataframe thead th {\n",
       "        text-align: right;\n",
       "    }\n",
       "</style>\n",
       "<table border=\"1\" class=\"dataframe\">\n",
       "  <thead>\n",
       "    <tr style=\"text-align: right;\">\n",
       "      <th></th>\n",
       "      <th>event</th>\n",
       "      <th>event_quantity</th>\n",
       "      <th>users</th>\n",
       "      <th>portion</th>\n",
       "      <th>step_portion</th>\n",
       "    </tr>\n",
       "  </thead>\n",
       "  <tbody>\n",
       "    <tr>\n",
       "      <th>0</th>\n",
       "      <td>MainScreenAppear</td>\n",
       "      <td>119101</td>\n",
       "      <td>7439</td>\n",
       "      <td>1.000000</td>\n",
       "      <td>1.000000</td>\n",
       "    </tr>\n",
       "    <tr>\n",
       "      <th>1</th>\n",
       "      <td>OffersScreenAppear</td>\n",
       "      <td>44522</td>\n",
       "      <td>4473</td>\n",
       "      <td>0.601290</td>\n",
       "      <td>0.601290</td>\n",
       "    </tr>\n",
       "    <tr>\n",
       "      <th>2</th>\n",
       "      <td>CartScreenAppear</td>\n",
       "      <td>40206</td>\n",
       "      <td>3618</td>\n",
       "      <td>0.486356</td>\n",
       "      <td>0.808853</td>\n",
       "    </tr>\n",
       "    <tr>\n",
       "      <th>3</th>\n",
       "      <td>PaymentScreenSuccessful</td>\n",
       "      <td>32105</td>\n",
       "      <td>3420</td>\n",
       "      <td>0.459739</td>\n",
       "      <td>0.945274</td>\n",
       "    </tr>\n",
       "  </tbody>\n",
       "</table>\n",
       "</div>"
      ],
      "text/plain": [
       "                     event  event_quantity  users   portion  step_portion\n",
       "0         MainScreenAppear          119101   7439  1.000000      1.000000\n",
       "1       OffersScreenAppear           44522   4473  0.601290      0.601290\n",
       "2         CartScreenAppear           40206   3618  0.486356      0.808853\n",
       "3  PaymentScreenSuccessful           32105   3420  0.459739      0.945274"
      ]
     },
     "execution_count": 34,
     "metadata": {},
     "output_type": "execute_result"
    }
   ],
   "source": [
    "funnel_data.head()"
   ]
  },
  {
   "cell_type": "markdown",
   "metadata": {},
   "source": [
    "1. Субъективно, по всему датасету у нас неплохие значения конверсии\n",
    "2. Наибольшее падение наблюдается при переходе с главного экрана на экран с предложениями, что достаточно странно, так как пользователь, вероятно, еще не успел ознакомиться с нашими предложениями, но уже отказался от использования - тут какая-то проблема"
   ]
  },
  {
   "cell_type": "code",
   "execution_count": 35,
   "metadata": {
    "scrolled": false
   },
   "outputs": [
    {
     "data": {
      "image/png": "[encoded data removed]",
      "text/plain": [
       "<IPython.core.display.Image object>"
      ]
     },
     "execution_count": 35,
     "metadata": {},
     "output_type": "execute_result"
    }
   ],
   "source": [
    "fig = go.Figure(go.Funnel(\n",
    "    y = funnel_data['event'],\n",
    "    x = funnel_data['users']\n",
    "))\n",
    "\n",
    "fig.update_layout(title_text=\"Воронка событий для всего датасета\")\n",
    "\n",
    "#fig.show()\n",
    "\n",
    "fig.write_image(\"/Users/rodion/Documents/plotly_export/funnel.png\")\n",
    "img_bytes = fig.to_image(format=\"png\")\n",
    "Image(img_bytes)"
   ]
  },
  {
   "cell_type": "code",
   "execution_count": 36,
   "metadata": {},
   "outputs": [],
   "source": [
    "#пересоберем датафрейм для воронки в ту же переменную так, что можно было построить одну воронку для трех групп\n",
    "funnel_data = data.groupby(['event', 'test_group'], as_index=False).agg({'timestamp': 'count', 'id': 'nunique'}\n",
    "                                         ).sort_values(by='timestamp', ascending=False)\n",
    "funnel_data.columns=['event', 'test_group', 'event_quantity', 'users']\n",
    "funnel_data = funnel_data[funnel_data['event'] != 'Tutorial'].reset_index(drop=True)"
   ]
  },
  {
   "cell_type": "code",
   "execution_count": 37,
   "metadata": {},
   "outputs": [
    {
     "data": {
      "text/html": [
       "<div>\n",
       "<style scoped>\n",
       "    .dataframe tbody tr th:only-of-type {\n",
       "        vertical-align: middle;\n",
       "    }\n",
       "\n",
       "    .dataframe tbody tr th {\n",
       "        vertical-align: top;\n",
       "    }\n",
       "\n",
       "    .dataframe thead th {\n",
       "        text-align: right;\n",
       "    }\n",
       "</style>\n",
       "<table border=\"1\" class=\"dataframe\">\n",
       "  <thead>\n",
       "    <tr style=\"text-align: right;\">\n",
       "      <th></th>\n",
       "      <th>event</th>\n",
       "      <th>test_group</th>\n",
       "      <th>event_quantity</th>\n",
       "      <th>users</th>\n",
       "    </tr>\n",
       "  </thead>\n",
       "  <tbody>\n",
       "    <tr>\n",
       "      <th>0</th>\n",
       "      <td>MainScreenAppear</td>\n",
       "      <td>248</td>\n",
       "      <td>41175</td>\n",
       "      <td>2501</td>\n",
       "    </tr>\n",
       "    <tr>\n",
       "      <th>1</th>\n",
       "      <td>MainScreenAppear</td>\n",
       "      <td>247</td>\n",
       "      <td>39677</td>\n",
       "      <td>2482</td>\n",
       "    </tr>\n",
       "    <tr>\n",
       "      <th>2</th>\n",
       "      <td>MainScreenAppear</td>\n",
       "      <td>246</td>\n",
       "      <td>38249</td>\n",
       "      <td>2456</td>\n",
       "    </tr>\n",
       "    <tr>\n",
       "      <th>3</th>\n",
       "      <td>OffersScreenAppear</td>\n",
       "      <td>248</td>\n",
       "      <td>15975</td>\n",
       "      <td>1488</td>\n",
       "    </tr>\n",
       "    <tr>\n",
       "      <th>4</th>\n",
       "      <td>CartScreenAppear</td>\n",
       "      <td>248</td>\n",
       "      <td>14404</td>\n",
       "      <td>1191</td>\n",
       "    </tr>\n",
       "    <tr>\n",
       "      <th>5</th>\n",
       "      <td>OffersScreenAppear</td>\n",
       "      <td>247</td>\n",
       "      <td>14389</td>\n",
       "      <td>1483</td>\n",
       "    </tr>\n",
       "    <tr>\n",
       "      <th>6</th>\n",
       "      <td>OffersScreenAppear</td>\n",
       "      <td>246</td>\n",
       "      <td>14158</td>\n",
       "      <td>1502</td>\n",
       "    </tr>\n",
       "    <tr>\n",
       "      <th>7</th>\n",
       "      <td>CartScreenAppear</td>\n",
       "      <td>246</td>\n",
       "      <td>14095</td>\n",
       "      <td>1225</td>\n",
       "    </tr>\n",
       "    <tr>\n",
       "      <th>8</th>\n",
       "      <td>CartScreenAppear</td>\n",
       "      <td>247</td>\n",
       "      <td>11707</td>\n",
       "      <td>1202</td>\n",
       "    </tr>\n",
       "    <tr>\n",
       "      <th>9</th>\n",
       "      <td>PaymentScreenSuccessful</td>\n",
       "      <td>248</td>\n",
       "      <td>11406</td>\n",
       "      <td>1139</td>\n",
       "    </tr>\n",
       "    <tr>\n",
       "      <th>10</th>\n",
       "      <td>PaymentScreenSuccessful</td>\n",
       "      <td>246</td>\n",
       "      <td>11310</td>\n",
       "      <td>1159</td>\n",
       "    </tr>\n",
       "    <tr>\n",
       "      <th>11</th>\n",
       "      <td>PaymentScreenSuccessful</td>\n",
       "      <td>247</td>\n",
       "      <td>9389</td>\n",
       "      <td>1122</td>\n",
       "    </tr>\n",
       "  </tbody>\n",
       "</table>\n",
       "</div>"
      ],
      "text/plain": [
       "                      event  test_group  event_quantity  users\n",
       "0          MainScreenAppear         248           41175   2501\n",
       "1          MainScreenAppear         247           39677   2482\n",
       "2          MainScreenAppear         246           38249   2456\n",
       "3        OffersScreenAppear         248           15975   1488\n",
       "4          CartScreenAppear         248           14404   1191\n",
       "5        OffersScreenAppear         247           14389   1483\n",
       "6        OffersScreenAppear         246           14158   1502\n",
       "7          CartScreenAppear         246           14095   1225\n",
       "8          CartScreenAppear         247           11707   1202\n",
       "9   PaymentScreenSuccessful         248           11406   1139\n",
       "10  PaymentScreenSuccessful         246           11310   1159\n",
       "11  PaymentScreenSuccessful         247            9389   1122"
      ]
     },
     "execution_count": 37,
     "metadata": {},
     "output_type": "execute_result"
    }
   ],
   "source": [
    "funnel_data"
   ]
  },
  {
   "cell_type": "code",
   "execution_count": 74,
   "metadata": {},
   "outputs": [
    {
     "data": {
      "image/png": "[encoded data removed]",
      "text/plain": [
       "<IPython.core.display.Image object>"
      ]
     },
     "execution_count": 74,
     "metadata": {},
     "output_type": "execute_result"
    }
   ],
   "source": [
    "fig = go.Figure()\n",
    "\n",
    "fig.add_trace(go.Funnel(\n",
    "    name='Group 246',\n",
    "    y = funnel_data[funnel_data['test_group'] == 246].sort_values(by='users', ascending=False)['event'],\n",
    "    x = funnel_data[funnel_data['test_group'] == 246].sort_values(by='users', ascending=False)['users']))\n",
    "\n",
    "\n",
    "fig.add_trace(go.Funnel(\n",
    "    name='Group 247',\n",
    "    y = funnel_data[funnel_data['test_group'] == 247].sort_values(by='users', ascending=False)['event'],\n",
    "    x = funnel_data[funnel_data['test_group'] == 247].sort_values(by='users', ascending=False)['users']))\n",
    "\n",
    "fig.add_trace(go.Funnel(\n",
    "    name='Group 248',\n",
    "    y = funnel_data[funnel_data['test_group'] == 248].sort_values(by='users', ascending=False)['event'],\n",
    "    x = funnel_data[funnel_data['test_group'] == 248].sort_values(by='users', ascending=False)['users']))\n",
    "\n",
    "fig.update_layout(title_text=\"Воронка событий для всего датасета с разделением по группам\")\n",
    "#fig.show()\n",
    "\n",
    "fig.write_image(\"/Users/rodion/Documents/plotly_export/funnel2.png\")\n",
    "img_bytes = fig.to_image(format=\"png\")\n",
    "Image(img_bytes)"
   ]
  },
  {
   "cell_type": "markdown",
   "metadata": {},
   "source": [
    "Мы визуализировали воронку с учетом разделения количества уникальных пользователей в зависимости от двух факторов: \n",
    "\n",
    "- Зарегистрированное событие\n",
    "- Экспериментальная группа\n",
    "\n",
    "Визуально, конверсия в следующий шаг происходит без каких-либо заметных отличий:\n",
    "\n",
    "1. В группах 247 и 248, до последнего шага (успешная оплата) доходят 45.2% и 45.5% соответственно. Отличие в 0.3 процентных пункта\n",
    "2. В группе 246 до финального шага доходят 47.2% всех пользователей (для всех выборок в среднем, мы имеем 46% пользователей на шаге успешной оплаты)\n",
    "3. Следует отметить, что устойчивое различие наблюдается при переходе с шага на шаг для всех групп\n",
    "\n",
    "\n",
    "Поэтому следующим шагом мы должны провести анализ статистической значимости различий между данными в приведенных выборках.\n",
    "\n"
   ]
  },
  {
   "cell_type": "markdown",
   "metadata": {},
   "source": [
    "## Анализ результатов эксперимента"
   ]
  },
  {
   "cell_type": "markdown",
   "metadata": {},
   "source": [
    "### Проверка результатов А/А эксперимента"
   ]
  },
  {
   "cell_type": "markdown",
   "metadata": {},
   "source": [
    "#### Проверка гипотезы о равенстве долей"
   ]
  },
  {
   "cell_type": "code",
   "execution_count": 39,
   "metadata": {},
   "outputs": [
    {
     "data": {
      "text/html": [
       "<div>\n",
       "<style scoped>\n",
       "    .dataframe tbody tr th:only-of-type {\n",
       "        vertical-align: middle;\n",
       "    }\n",
       "\n",
       "    .dataframe tbody tr th {\n",
       "        vertical-align: top;\n",
       "    }\n",
       "\n",
       "    .dataframe thead th {\n",
       "        text-align: right;\n",
       "    }\n",
       "</style>\n",
       "<table border=\"1\" class=\"dataframe\">\n",
       "  <thead>\n",
       "    <tr style=\"text-align: right;\">\n",
       "      <th>test_group</th>\n",
       "      <th>246</th>\n",
       "      <th>247</th>\n",
       "      <th>248</th>\n",
       "      <th>a_group_total</th>\n",
       "    </tr>\n",
       "    <tr>\n",
       "      <th>event</th>\n",
       "      <th></th>\n",
       "      <th></th>\n",
       "      <th></th>\n",
       "      <th></th>\n",
       "    </tr>\n",
       "  </thead>\n",
       "  <tbody>\n",
       "    <tr>\n",
       "      <th>OffersScreenAppear</th>\n",
       "      <td>1502</td>\n",
       "      <td>1483</td>\n",
       "      <td>1488</td>\n",
       "      <td>2985</td>\n",
       "    </tr>\n",
       "    <tr>\n",
       "      <th>CartScreenAppear</th>\n",
       "      <td>1225</td>\n",
       "      <td>1202</td>\n",
       "      <td>1191</td>\n",
       "      <td>2427</td>\n",
       "    </tr>\n",
       "    <tr>\n",
       "      <th>PaymentScreenSuccessful</th>\n",
       "      <td>1159</td>\n",
       "      <td>1122</td>\n",
       "      <td>1139</td>\n",
       "      <td>2281</td>\n",
       "    </tr>\n",
       "    <tr>\n",
       "      <th>Tutorial</th>\n",
       "      <td>24</td>\n",
       "      <td>28</td>\n",
       "      <td>23</td>\n",
       "      <td>52</td>\n",
       "    </tr>\n",
       "  </tbody>\n",
       "</table>\n",
       "</div>"
      ],
      "text/plain": [
       "test_group                246   247   248  a_group_total\n",
       "event                                                   \n",
       "OffersScreenAppear       1502  1483  1488           2985\n",
       "CartScreenAppear         1225  1202  1191           2427\n",
       "PaymentScreenSuccessful  1159  1122  1139           2281\n",
       "Tutorial                   24    28    23             52"
      ]
     },
     "execution_count": 39,
     "metadata": {},
     "output_type": "execute_result"
    }
   ],
   "source": [
    "#соберем сводную таблицу, в которую запишем количество пользователей в группах на каждом шаге \n",
    "events_users = data.loc[data['event'] != 'MainScreenAppear'].pivot_table(index='event', columns='test_group', values='id', aggfunc='nunique'\n",
    "                ).sort_values(by=246, ascending=False)\n",
    "\n",
    "events_users['a_group_total'] = events_users[246] + events_users[247]\n",
    "events_users.set_index(events_users.columns[0])\n",
    "events_users"
   ]
  },
  {
   "cell_type": "code",
   "execution_count": 40,
   "metadata": {},
   "outputs": [
    {
     "data": {
      "text/html": [
       "<div>\n",
       "<style scoped>\n",
       "    .dataframe tbody tr th:only-of-type {\n",
       "        vertical-align: middle;\n",
       "    }\n",
       "\n",
       "    .dataframe tbody tr th {\n",
       "        vertical-align: top;\n",
       "    }\n",
       "\n",
       "    .dataframe thead th {\n",
       "        text-align: right;\n",
       "    }\n",
       "</style>\n",
       "<table border=\"1\" class=\"dataframe\">\n",
       "  <thead>\n",
       "    <tr style=\"text-align: right;\">\n",
       "      <th></th>\n",
       "      <th>id</th>\n",
       "    </tr>\n",
       "  </thead>\n",
       "  <tbody>\n",
       "    <tr>\n",
       "      <th>0</th>\n",
       "      <td>7439</td>\n",
       "    </tr>\n",
       "  </tbody>\n",
       "</table>\n",
       "</div>"
      ],
      "text/plain": [
       "     id\n",
       "0  7439"
      ]
     },
     "execution_count": 40,
     "metadata": {},
     "output_type": "execute_result"
    }
   ],
   "source": [
    "#получаем сумму по событию mainscreen appear\n",
    "users_all_groups = data[data['event'] == 'MainScreenAppear'].groupby('event')['id'].nunique().to_frame().sort_values(by='id', ascending=False).reset_index(drop=True)\n",
    "users_all_groups"
   ]
  },
  {
   "cell_type": "code",
   "execution_count": 41,
   "metadata": {},
   "outputs": [
    {
     "data": {
      "text/html": [
       "<div>\n",
       "<style scoped>\n",
       "    .dataframe tbody tr th:only-of-type {\n",
       "        vertical-align: middle;\n",
       "    }\n",
       "\n",
       "    .dataframe tbody tr th {\n",
       "        vertical-align: top;\n",
       "    }\n",
       "\n",
       "    .dataframe thead th {\n",
       "        text-align: right;\n",
       "    }\n",
       "</style>\n",
       "<table border=\"1\" class=\"dataframe\">\n",
       "  <thead>\n",
       "    <tr style=\"text-align: right;\">\n",
       "      <th>test_group</th>\n",
       "      <th>246</th>\n",
       "      <th>247</th>\n",
       "      <th>248</th>\n",
       "      <th>a_group_total</th>\n",
       "    </tr>\n",
       "    <tr>\n",
       "      <th>event</th>\n",
       "      <th></th>\n",
       "      <th></th>\n",
       "      <th></th>\n",
       "      <th></th>\n",
       "    </tr>\n",
       "  </thead>\n",
       "  <tbody>\n",
       "    <tr>\n",
       "      <th>OffersScreenAppear</th>\n",
       "      <td>1502</td>\n",
       "      <td>1483</td>\n",
       "      <td>1488</td>\n",
       "      <td>2985</td>\n",
       "    </tr>\n",
       "    <tr>\n",
       "      <th>CartScreenAppear</th>\n",
       "      <td>1225</td>\n",
       "      <td>1202</td>\n",
       "      <td>1191</td>\n",
       "      <td>2427</td>\n",
       "    </tr>\n",
       "    <tr>\n",
       "      <th>PaymentScreenSuccessful</th>\n",
       "      <td>1159</td>\n",
       "      <td>1122</td>\n",
       "      <td>1139</td>\n",
       "      <td>2281</td>\n",
       "    </tr>\n",
       "    <tr>\n",
       "      <th>Tutorial</th>\n",
       "      <td>24</td>\n",
       "      <td>28</td>\n",
       "      <td>23</td>\n",
       "      <td>52</td>\n",
       "    </tr>\n",
       "  </tbody>\n",
       "</table>\n",
       "</div>"
      ],
      "text/plain": [
       "test_group                246   247   248  a_group_total\n",
       "event                                                   \n",
       "OffersScreenAppear       1502  1483  1488           2985\n",
       "CartScreenAppear         1225  1202  1191           2427\n",
       "PaymentScreenSuccessful  1159  1122  1139           2281\n",
       "Tutorial                   24    28    23             52"
      ]
     },
     "execution_count": 41,
     "metadata": {},
     "output_type": "execute_result"
    }
   ],
   "source": [
    "events_users"
   ]
  },
  {
   "cell_type": "code",
   "execution_count": 42,
   "metadata": {},
   "outputs": [
    {
     "data": {
      "text/plain": [
       "Index(['OffersScreenAppear', 'CartScreenAppear', 'PaymentScreenSuccessful',\n",
       "       'Tutorial'],\n",
       "      dtype='object', name='event')"
      ]
     },
     "execution_count": 42,
     "metadata": {},
     "output_type": "execute_result"
    }
   ],
   "source": [
    "events_users.index"
   ]
  },
  {
   "cell_type": "code",
   "execution_count": 43,
   "metadata": {},
   "outputs": [
    {
     "data": {
      "text/html": [
       "<div>\n",
       "<style scoped>\n",
       "    .dataframe tbody tr th:only-of-type {\n",
       "        vertical-align: middle;\n",
       "    }\n",
       "\n",
       "    .dataframe tbody tr th {\n",
       "        vertical-align: top;\n",
       "    }\n",
       "\n",
       "    .dataframe thead th {\n",
       "        text-align: right;\n",
       "    }\n",
       "</style>\n",
       "<table border=\"1\" class=\"dataframe\">\n",
       "  <thead>\n",
       "    <tr style=\"text-align: right;\">\n",
       "      <th></th>\n",
       "      <th>event</th>\n",
       "      <th>id</th>\n",
       "      <th>timestamp</th>\n",
       "      <th>test_group</th>\n",
       "      <th>date</th>\n",
       "      <th>time</th>\n",
       "      <th>first_main_screen</th>\n",
       "    </tr>\n",
       "  </thead>\n",
       "  <tbody>\n",
       "    <tr>\n",
       "      <th>0</th>\n",
       "      <td>MainScreenAppear</td>\n",
       "      <td>4575588528974610257</td>\n",
       "      <td>2019-07-25 07:43:36</td>\n",
       "      <td>246</td>\n",
       "      <td>2019-07-25</td>\n",
       "      <td>07:43:36</td>\n",
       "      <td>2019-07-25 07:43:36</td>\n",
       "    </tr>\n",
       "    <tr>\n",
       "      <th>1</th>\n",
       "      <td>MainScreenAppear</td>\n",
       "      <td>7416695313311560658</td>\n",
       "      <td>2019-07-25 14:11:42</td>\n",
       "      <td>246</td>\n",
       "      <td>2019-07-25</td>\n",
       "      <td>14:11:42</td>\n",
       "      <td>2019-07-25 14:11:42</td>\n",
       "    </tr>\n",
       "    <tr>\n",
       "      <th>7</th>\n",
       "      <td>MainScreenAppear</td>\n",
       "      <td>5682100281902512875</td>\n",
       "      <td>2019-07-25 23:14:37</td>\n",
       "      <td>246</td>\n",
       "      <td>2019-07-25</td>\n",
       "      <td>23:14:37</td>\n",
       "      <td>2019-07-25 23:14:37</td>\n",
       "    </tr>\n",
       "    <tr>\n",
       "      <th>8</th>\n",
       "      <td>MainScreenAppear</td>\n",
       "      <td>1850981295691852772</td>\n",
       "      <td>2019-07-25 23:31:42</td>\n",
       "      <td>247</td>\n",
       "      <td>2019-07-25</td>\n",
       "      <td>23:31:42</td>\n",
       "      <td>2019-07-25 23:31:42</td>\n",
       "    </tr>\n",
       "    <tr>\n",
       "      <th>9</th>\n",
       "      <td>MainScreenAppear</td>\n",
       "      <td>5407636962369102641</td>\n",
       "      <td>2019-07-26 06:35:12</td>\n",
       "      <td>246</td>\n",
       "      <td>2019-07-26</td>\n",
       "      <td>06:35:12</td>\n",
       "      <td>2019-07-26 06:35:12</td>\n",
       "    </tr>\n",
       "  </tbody>\n",
       "</table>\n",
       "</div>"
      ],
      "text/plain": [
       "              event                   id           timestamp  test_group  \\\n",
       "0  MainScreenAppear  4575588528974610257 2019-07-25 07:43:36         246   \n",
       "1  MainScreenAppear  7416695313311560658 2019-07-25 14:11:42         246   \n",
       "7  MainScreenAppear  5682100281902512875 2019-07-25 23:14:37         246   \n",
       "8  MainScreenAppear  1850981295691852772 2019-07-25 23:31:42         247   \n",
       "9  MainScreenAppear  5407636962369102641 2019-07-26 06:35:12         246   \n",
       "\n",
       "        date      time   first_main_screen  \n",
       "0 2019-07-25  07:43:36 2019-07-25 07:43:36  \n",
       "1 2019-07-25  14:11:42 2019-07-25 14:11:42  \n",
       "7 2019-07-25  23:14:37 2019-07-25 23:14:37  \n",
       "8 2019-07-25  23:31:42 2019-07-25 23:31:42  \n",
       "9 2019-07-26  06:35:12 2019-07-26 06:35:12  "
      ]
     },
     "execution_count": 43,
     "metadata": {},
     "output_type": "execute_result"
    }
   ],
   "source": [
    "data.head()"
   ]
  },
  {
   "cell_type": "code",
   "execution_count": 44,
   "metadata": {},
   "outputs": [
    {
     "data": {
      "text/html": [
       "<div>\n",
       "<style scoped>\n",
       "    .dataframe tbody tr th:only-of-type {\n",
       "        vertical-align: middle;\n",
       "    }\n",
       "\n",
       "    .dataframe tbody tr th {\n",
       "        vertical-align: top;\n",
       "    }\n",
       "\n",
       "    .dataframe thead th {\n",
       "        text-align: right;\n",
       "    }\n",
       "</style>\n",
       "<table border=\"1\" class=\"dataframe\">\n",
       "  <thead>\n",
       "    <tr style=\"text-align: right;\">\n",
       "      <th></th>\n",
       "      <th>id</th>\n",
       "    </tr>\n",
       "    <tr>\n",
       "      <th>test_group</th>\n",
       "      <th></th>\n",
       "    </tr>\n",
       "  </thead>\n",
       "  <tbody>\n",
       "    <tr>\n",
       "      <th>246</th>\n",
       "      <td>2456</td>\n",
       "    </tr>\n",
       "    <tr>\n",
       "      <th>247</th>\n",
       "      <td>2482</td>\n",
       "    </tr>\n",
       "    <tr>\n",
       "      <th>248</th>\n",
       "      <td>2501</td>\n",
       "    </tr>\n",
       "    <tr>\n",
       "      <th>a_group_total</th>\n",
       "      <td>4938</td>\n",
       "    </tr>\n",
       "  </tbody>\n",
       "</table>\n",
       "</div>"
      ],
      "text/plain": [
       "                 id\n",
       "test_group         \n",
       "246            2456\n",
       "247            2482\n",
       "248            2501\n",
       "a_group_total  4938"
      ]
     },
     "execution_count": 44,
     "metadata": {},
     "output_type": "execute_result"
    }
   ],
   "source": [
    "#для упрощения получения доли по событию относительно количества пользователей на первом шаге, \n",
    "users = data.groupby('test_group')['id'].nunique().to_frame().reset_index()\n",
    "users.loc[3] = ['a_group_total', 4938]\n",
    "users = users.set_index(users.columns[0])\n",
    "users"
   ]
  },
  {
   "cell_type": "code",
   "execution_count": 45,
   "metadata": {},
   "outputs": [
    {
     "data": {
      "text/plain": [
       "test_group\n",
       "246    2456\n",
       "247    2482\n",
       "Name: id, dtype: int64"
      ]
     },
     "execution_count": 45,
     "metadata": {},
     "output_type": "execute_result"
    }
   ],
   "source": [
    "users.loc[[246, 247]]['id']"
   ]
  },
  {
   "cell_type": "code",
   "execution_count": 46,
   "metadata": {},
   "outputs": [],
   "source": [
    "#функция будет принимать значения для групп, доли по событиям внутри которых по хотим посчитать \n",
    "\n",
    "def group_z_test(group1, group2):\n",
    "    for event in events_users.index: #для каждого события в индексе датафрейма с событиями и количесвом юзеров мы начинаем цикл\n",
    "        successes = events_users.loc[event] #в эту переменную сохраняем строку с количеством \"успехов\" по текущему событию\n",
    "        trials = users.loc[[group1, group2]]['id'] #из датафрейма с \"исходным\" количеством получим данные по введенным группам\n",
    "        alpha = 0.05 #критический уровень стат. значимости определим \"жестко\" в коде на уровне \"стандарта\"\n",
    "        p1 = successes[group1]/trials[group1] #считаем пропорцию успехов для 1й группы\n",
    "        p2 = successes[group2]/trials[group2] #считаем пропорцию успехов для 2й группы\n",
    "        p_combined = (successes[group1] + successes[group2]) / (trials[group1] + trials[group2]) #комбинированная пропорция\n",
    "        difference = p1 - p2 #вычисляем разницу пропорций в датасетах\n",
    "        #вычисляем z-статистику \n",
    "        z_value = difference / mth.sqrt(p_combined * (1 - p_combined) * (1/trials[group1] + 1/trials[group2]))\n",
    "        #задаем нормальное распределение\n",
    "        distr = st.norm(0, 1)\n",
    "        #берем z-статистику по модулю и считаем вероятность получения расхождения\n",
    "        #далее умножаем на два, так как считаем, что распределение нормальное\n",
    "        p_value = (1 - distr.cdf(abs(z_value))) * 2\n",
    "        print('p-значение: ', p_value)\n",
    "        if p_value < alpha:\n",
    "            print('Отвергаем нулевую гипотезу: между долями есть значимая разница в рамках события', event)\n",
    "        else:\n",
    "            print('Не получилось отвергнуть нулевую гипотезу, нет оснований считать доли разными в рамках события', event) \n",
    "        print()"
   ]
  },
  {
   "cell_type": "markdown",
   "metadata": {},
   "source": [
    "+ Гипотеза Н0: Между долями групп нет статистически значимых различий \n",
    "+ Гипотеза Н1: Между долями групп есть статистически значимые различия"
   ]
  },
  {
   "cell_type": "code",
   "execution_count": 47,
   "metadata": {},
   "outputs": [
    {
     "name": "stdout",
     "output_type": "stream",
     "text": [
      "p-значение:  0.31229728990501116\n",
      "Не получилось отвергнуть нулевую гипотезу, нет оснований считать доли разными в рамках события OffersScreenAppear\n",
      "\n",
      "p-значение:  0.30845292417227954\n",
      "Не получилось отвергнуть нулевую гипотезу, нет оснований считать доли разными в рамках события CartScreenAppear\n",
      "\n",
      "p-значение:  0.16182144165264623\n",
      "Не получилось отвергнуть нулевую гипотезу, нет оснований считать доли разными в рамках события PaymentScreenSuccessful\n",
      "\n",
      "p-значение:  0.6034251678927933\n",
      "Не получилось отвергнуть нулевую гипотезу, нет оснований считать доли разными в рамках события Tutorial\n",
      "\n"
     ]
    }
   ],
   "source": [
    "#сравним контрольные группы между собой\n",
    "group_z_test(246, 247)"
   ]
  },
  {
   "cell_type": "code",
   "execution_count": 48,
   "metadata": {},
   "outputs": [
    {
     "name": "stdout",
     "output_type": "stream",
     "text": [
      "РЕЗУЛЬТАТЫ Z-ТЕСТА ДЛЯ КОНТРОЛЬНОЙ ГРУППЫ 246 И ТЕСТОВОЙ ГРУППЫ\n",
      "\n",
      "p-значение:  0.2322781835028187\n",
      "Не получилось отвергнуть нулевую гипотезу, нет оснований считать доли разными в рамках события OffersScreenAppear\n",
      "\n",
      "p-значение:  0.11196308234944707\n",
      "Не получилось отвергнуть нулевую гипотезу, нет оснований считать доли разными в рамках события CartScreenAppear\n",
      "\n",
      "p-значение:  0.2444744944801056\n",
      "Не получилось отвергнуть нулевую гипотезу, нет оснований считать доли разными в рамках события PaymentScreenSuccessful\n",
      "\n",
      "p-значение:  0.8343675509271138\n",
      "Не получилось отвергнуть нулевую гипотезу, нет оснований считать доли разными в рамках события Tutorial\n",
      "\n",
      "\n",
      "РЕЗУЛЬТАТЫ Z-ТЕСТА ДЛЯ КОНТРОЛЬНОЙ ГРУППЫ 247 И ТЕСТОВОЙ ГРУППЫ\n",
      "\n",
      "p-значение:  0.8550225500028032\n",
      "Не получилось отвергнуть нулевую гипотезу, нет оснований считать доли разными в рамках события OffersScreenAppear\n",
      "\n",
      "p-значение:  0.5682538570608564\n",
      "Не получилось отвергнуть нулевую гипотезу, нет оснований считать доли разными в рамках события CartScreenAppear\n",
      "\n",
      "p-значение:  0.811556220250425\n",
      "Не получилось отвергнуть нулевую гипотезу, нет оснований считать доли разными в рамках события PaymentScreenSuccessful\n",
      "\n",
      "p-значение:  0.46470193321409736\n",
      "Не получилось отвергнуть нулевую гипотезу, нет оснований считать доли разными в рамках события Tutorial\n",
      "\n"
     ]
    }
   ],
   "source": [
    "#сравним каждую из контрольных групп с тестовой по отдельности\n",
    "print('РЕЗУЛЬТАТЫ Z-ТЕСТА ДЛЯ КОНТРОЛЬНОЙ ГРУППЫ 246 И ТЕСТОВОЙ ГРУППЫ')\n",
    "print()\n",
    "group_z_test(246, 248)\n",
    "\n",
    "print()\n",
    "\n",
    "print('РЕЗУЛЬТАТЫ Z-ТЕСТА ДЛЯ КОНТРОЛЬНОЙ ГРУППЫ 247 И ТЕСТОВОЙ ГРУППЫ')\n",
    "print()\n",
    "group_z_test(247, 248)"
   ]
  },
  {
   "cell_type": "code",
   "execution_count": 49,
   "metadata": {},
   "outputs": [
    {
     "name": "stdout",
     "output_type": "stream",
     "text": [
      "p-значение:  0.4275709941566088\n",
      "Не получилось отвергнуть нулевую гипотезу, нет оснований считать доли разными в рамках события OffersScreenAppear\n",
      "\n",
      "p-значение:  0.21274888724893737\n",
      "Не получилось отвергнуть нулевую гипотезу, нет оснований считать доли разными в рамках события CartScreenAppear\n",
      "\n",
      "p-значение:  0.5945632014562305\n",
      "Не получилось отвергнуть нулевую гипотезу, нет оснований считать доли разными в рамках события PaymentScreenSuccessful\n",
      "\n",
      "p-значение:  0.5863182242928775\n",
      "Не получилось отвергнуть нулевую гипотезу, нет оснований считать доли разными в рамках события Tutorial\n",
      "\n"
     ]
    }
   ],
   "source": [
    "#сравним объединенную контрольную группу  с тестовой\n",
    "group_z_test('a_group_total', 248)"
   ]
  },
  {
   "cell_type": "code",
   "execution_count": 50,
   "metadata": {},
   "outputs": [
    {
     "name": "stdout",
     "output_type": "stream",
     "text": [
      "p-значение:  0.5233995066511095\n",
      "Не получилось отвергнуть нулевую гипотезу, нет оснований считать доли разными в рамках события MainScreenAppearдля групп 246 и 247\n",
      "\n",
      "p-значение:  0.26850131718484627\n",
      "Не получилось отвергнуть нулевую гипотезу, нет оснований считать доли разными в рамках события MainScreenAppearдля групп 246 и 248\n",
      "\n",
      "p-значение:  0.6394720639886717\n",
      "Не получилось отвергнуть нулевую гипотезу, нет оснований считать доли разными в рамках события MainScreenAppearдля групп 247 и 248\n",
      "\n"
     ]
    }
   ],
   "source": [
    "#тут доработанная функция z-теста\n",
    "#полагаю, что trials, выступая фиксированным значением, позволяет нам упростить некоторые вычисления \n",
    "def z_test_main_screen(group1, group2):\n",
    "    total_main_screen = users_all_groups.loc[0, 'id']\n",
    "    successes = events_users.loc['MainScreenAppear']\n",
    "    trials = total_main_screen\n",
    "    alpha = 0.05\n",
    "    p1 = successes[group1]/trials\n",
    "    p2 = successes[group2]/trials\n",
    "    p_combined = (successes[group1] + successes[group2]) / trials\n",
    "    difference = p1 - p2\n",
    "    z_value = difference / mth.sqrt(p_combined * (1 - p_combined) * (1/trials))\n",
    "    distr = st.norm(0, 1)\n",
    "    p_value = (1 - distr.cdf(abs(z_value))) * 2\n",
    "    print('p-значение: ', p_value)\n",
    "    if p_value < alpha:\n",
    "        print('Отвергаем нулевую гипотезу: между долями есть значимая разница в рамках события MainScreenAppear для групп', group1, 'и', group2)\n",
    "    else:\n",
    "        print('Не получилось отвергнуть нулевую гипотезу, нет оснований считать доли разными в рамках события MainScreenAppearдля групп', group1, 'и', group2) \n",
    "    print()\n",
    "    \n",
    "#соберем сводную таблицу, в которую запишем количество пользователей в группах на каждом шаге \n",
    "events_users = data.loc[data['event'] == 'MainScreenAppear'].pivot_table(index='event', columns='test_group', values='id', aggfunc='nunique'\n",
    "                ).sort_values(by=246, ascending=False)\n",
    "\n",
    "events_users['a_group_total'] = events_users[246] + events_users[247]\n",
    "events_users.set_index(events_users.columns[0])\n",
    "events_users\n",
    "\n",
    "#сравним контрольные группы между собой и каждую группу с тестовой группой\n",
    "z_test_main_screen(246, 247)\n",
    "z_test_main_screen(246, 248)\n",
    "z_test_main_screen(247, 248)"
   ]
  },
  {
   "cell_type": "markdown",
   "metadata": {},
   "source": [
    "Мы наблюдаем отсутствие статистически значимых отличий между долями групп в воронке конверсии. Таким образом, мы можем предположит, что изменения, проверяемые в ходе теста, не оказали влияние на конверсию."
   ]
  },
  {
   "cell_type": "markdown",
   "metadata": {},
   "source": [
    "#### Проверка по количеству событий в группах"
   ]
  },
  {
   "cell_type": "code",
   "execution_count": 51,
   "metadata": {},
   "outputs": [
    {
     "data": {
      "image/png": "[encoded data removed]",
      "text/plain": [
       "<Figure size 1080x576 with 1 Axes>"
      ]
     },
     "metadata": {},
     "output_type": "display_data"
    }
   ],
   "source": [
    "#построим гистограмму, посчитав количество событий, совершенных каждым пользователем\n",
    "data.groupby('id', as_index=False).agg({'timestamp': 'count'})['timestamp'].hist(bins=30, range=(0, 300), figsize=(15, 8))\n",
    "plt.title('Распределение количества событий по пользователям')\n",
    "plt.show()"
   ]
  },
  {
   "cell_type": "markdown",
   "metadata": {},
   "source": [
    "Группы 246 и 247 в рамках  эксперимента выступали контрольными. Для начала проверим, нет ли в них статистически значимых различий.\n",
    "\n",
    "Так как: \n",
    "\n",
    "1. Данные количественные\n",
    "2. Даже визуальное распределение исходных данных крайне далеко от нормального\n",
    "3. Группы независимы друг от друга (в идеале, что соответствует идее А/В теста) \n",
    "4. Мы сравниваем 2 группы\n",
    "\n",
    "Мы выберем критерий Манна-Уитни"
   ]
  },
  {
   "cell_type": "code",
   "execution_count": 52,
   "metadata": {},
   "outputs": [],
   "source": [
    "#сформируем списки числовых значений, каждая цифра в которых будет равна сумме событий по уникальному ID посетителя\n",
    "a = data[data['test_group'] == 246].groupby('id', as_index=False).agg({'timestamp': 'count'})['timestamp']\n",
    "b = data[data['test_group'] == 247].groupby('id', as_index=False).agg({'timestamp': 'count'})['timestamp']"
   ]
  },
  {
   "cell_type": "markdown",
   "metadata": {},
   "source": [
    "**Гипотезы**\n",
    "\n",
    "- Н0: Группы 246 и 247 не имеют статистически значимых отличий между собой \n",
    "- Н1: Группы 246 и 247 имеют статистически значимые отличия"
   ]
  },
  {
   "cell_type": "code",
   "execution_count": 53,
   "metadata": {},
   "outputs": [
    {
     "name": "stdout",
     "output_type": "stream",
     "text": [
      "Такое же или большее отличие между группами может быть получено случайно с вероятностью 48.20%\n",
      "Не получилось отвергнуть нулевую гипотезу\n"
     ]
    }
   ],
   "source": [
    "#проводим тест Манна-Уитни и получаем p-значение на выходе\n",
    "stat, p = st.mannwhitneyu(a, b)\n",
    "\n",
    "#задаем критический уровень статистической значимости \n",
    "alpha = 0.05\n",
    "\n",
    "print('Такое же или большее отличие между группами может быть получено случайно с вероятностью {:.2f}%'.format(p*100))\n",
    "\n",
    "if p < alpha:\n",
    "    print('Отвергаем нулевую гипотезу')\n",
    "else:\n",
    "    print('Не получилось отвергнуть нулевую гипотезу')"
   ]
  },
  {
   "cell_type": "markdown",
   "metadata": {},
   "source": [
    "Таким образом, мы можем утверждать, что группы контрольные группы 246 и 247 не имеют между собой статистически значимых отличий, а значит любая из них может быть использована для А/В тест с экспериментальной группой."
   ]
  },
  {
   "cell_type": "markdown",
   "metadata": {},
   "source": [
    "### Анализ событий"
   ]
  },
  {
   "cell_type": "code",
   "execution_count": 54,
   "metadata": {},
   "outputs": [],
   "source": [
    "#так как мы убедились, что контрольные группы не имеют между собой статистически значимых различий, то мы \n",
    "#объединим их в 1 контрольную группу\n",
    "a_group = data[data['test_group'] < 248]\n",
    "\n",
    "#формируем второй датафрейм, в который запишем данные тестовой группы\n",
    "test_group = data[data['test_group'] == 248]"
   ]
  },
  {
   "cell_type": "code",
   "execution_count": 55,
   "metadata": {},
   "outputs": [
    {
     "data": {
      "text/html": [
       "<div>\n",
       "<style scoped>\n",
       "    .dataframe tbody tr th:only-of-type {\n",
       "        vertical-align: middle;\n",
       "    }\n",
       "\n",
       "    .dataframe tbody tr th {\n",
       "        vertical-align: top;\n",
       "    }\n",
       "\n",
       "    .dataframe thead th {\n",
       "        text-align: right;\n",
       "    }\n",
       "</style>\n",
       "<table border=\"1\" class=\"dataframe\">\n",
       "  <thead>\n",
       "    <tr style=\"text-align: right;\">\n",
       "      <th>test_group</th>\n",
       "      <th>246</th>\n",
       "      <th>247</th>\n",
       "      <th>248</th>\n",
       "      <th>a_group_total</th>\n",
       "    </tr>\n",
       "    <tr>\n",
       "      <th>event</th>\n",
       "      <th></th>\n",
       "      <th></th>\n",
       "      <th></th>\n",
       "      <th></th>\n",
       "    </tr>\n",
       "  </thead>\n",
       "  <tbody>\n",
       "    <tr>\n",
       "      <th>MainScreenAppear</th>\n",
       "      <td>2456</td>\n",
       "      <td>2482</td>\n",
       "      <td>2501</td>\n",
       "      <td>4938</td>\n",
       "    </tr>\n",
       "  </tbody>\n",
       "</table>\n",
       "</div>"
      ],
      "text/plain": [
       "test_group         246   247   248  a_group_total\n",
       "event                                            \n",
       "MainScreenAppear  2456  2482  2501           4938"
      ]
     },
     "execution_count": 55,
     "metadata": {},
     "output_type": "execute_result"
    }
   ],
   "source": [
    "#вызовем повторно сводную таблицу с данными о событиях\n",
    "events_users"
   ]
  },
  {
   "cell_type": "code",
   "execution_count": 56,
   "metadata": {},
   "outputs": [],
   "source": [
    "g246 = data[data['test_group'] == 246]\n",
    "g247 = data[data['test_group'] == 247]"
   ]
  },
  {
   "cell_type": "code",
   "execution_count": 57,
   "metadata": {},
   "outputs": [
    {
     "data": {
      "text/html": [
       "<div>\n",
       "<style scoped>\n",
       "    .dataframe tbody tr th:only-of-type {\n",
       "        vertical-align: middle;\n",
       "    }\n",
       "\n",
       "    .dataframe tbody tr th {\n",
       "        vertical-align: top;\n",
       "    }\n",
       "\n",
       "    .dataframe thead th {\n",
       "        text-align: right;\n",
       "    }\n",
       "</style>\n",
       "<table border=\"1\" class=\"dataframe\">\n",
       "  <thead>\n",
       "    <tr style=\"text-align: right;\">\n",
       "      <th>test_group</th>\n",
       "      <th>event</th>\n",
       "      <th>246</th>\n",
       "      <th>247</th>\n",
       "      <th>248</th>\n",
       "    </tr>\n",
       "  </thead>\n",
       "  <tbody>\n",
       "    <tr>\n",
       "      <th>1</th>\n",
       "      <td>MainScreenAppear</td>\n",
       "      <td>2456</td>\n",
       "      <td>2482</td>\n",
       "      <td>2501</td>\n",
       "    </tr>\n",
       "    <tr>\n",
       "      <th>2</th>\n",
       "      <td>OffersScreenAppear</td>\n",
       "      <td>1502</td>\n",
       "      <td>1483</td>\n",
       "      <td>1488</td>\n",
       "    </tr>\n",
       "    <tr>\n",
       "      <th>0</th>\n",
       "      <td>CartScreenAppear</td>\n",
       "      <td>1225</td>\n",
       "      <td>1202</td>\n",
       "      <td>1191</td>\n",
       "    </tr>\n",
       "    <tr>\n",
       "      <th>3</th>\n",
       "      <td>PaymentScreenSuccessful</td>\n",
       "      <td>1159</td>\n",
       "      <td>1122</td>\n",
       "      <td>1139</td>\n",
       "    </tr>\n",
       "    <tr>\n",
       "      <th>4</th>\n",
       "      <td>Tutorial</td>\n",
       "      <td>24</td>\n",
       "      <td>28</td>\n",
       "      <td>23</td>\n",
       "    </tr>\n",
       "  </tbody>\n",
       "</table>\n",
       "</div>"
      ],
      "text/plain": [
       "test_group                    event   246   247   248\n",
       "1                  MainScreenAppear  2456  2482  2501\n",
       "2                OffersScreenAppear  1502  1483  1488\n",
       "0                  CartScreenAppear  1225  1202  1191\n",
       "3           PaymentScreenSuccessful  1159  1122  1139\n",
       "4                          Tutorial    24    28    23"
      ]
     },
     "execution_count": 57,
     "metadata": {},
     "output_type": "execute_result"
    }
   ],
   "source": [
    "#количество уникальных пользователей по группам/событиям\n",
    "data.pivot_table(index='event', columns='test_group', values='id', aggfunc='nunique'\n",
    "                ).reset_index().sort_values(by=246, ascending=False)"
   ]
  },
  {
   "cell_type": "code",
   "execution_count": 58,
   "metadata": {},
   "outputs": [],
   "source": [
    "#по аналогии с вышеприведенным анализом двух контрольных выборок при помощи непараметрического критерия, \n",
    "#мы препарируем кажду группу и сделаем отдельный тест для каждого события\n",
    "def groups_checker(group1, group2):\n",
    "    events = list(group1['event'].unique())\n",
    "    for event in events:\n",
    "        a = group1[group1['event'] == event].groupby('id', as_index=False).agg({'timestamp': 'count'})['timestamp']\n",
    "        b = group2[group2['event'] == event].groupby('id', as_index=False).agg({'timestamp': 'count'})['timestamp']\n",
    "        stat, p = st.mannwhitneyu(a, b)\n",
    "        alpha = 0.05\n",
    "        if p < alpha:\n",
    "            print('Отвергаем гипотезу об отсутствии различий между группами по событию', event)\n",
    "        else:\n",
    "            print('Не получилось отвергнуть нулевую гипотезу об отсутствии различий между группами по событию', event)\n",
    "        print('Такое же или большее отличие между группами может быть получено случайно с вероятностью {:.2f}%'.format(p*100))\n",
    "        print()"
   ]
  },
  {
   "cell_type": "code",
   "execution_count": 59,
   "metadata": {},
   "outputs": [
    {
     "name": "stdout",
     "output_type": "stream",
     "text": [
      "Не получилось отвергнуть нулевую гипотезу об отсутствии различий между группами по событию MainScreenAppear\n",
      "Такое же или большее отличие между группами может быть получено случайно с вероятностью 30.63%\n",
      "\n",
      "Не получилось отвергнуть нулевую гипотезу об отсутствии различий между группами по событию OffersScreenAppear\n",
      "Такое же или большее отличие между группами может быть получено случайно с вероятностью 37.08%\n",
      "\n",
      "Не получилось отвергнуть нулевую гипотезу об отсутствии различий между группами по событию CartScreenAppear\n",
      "Такое же или большее отличие между группами может быть получено случайно с вероятностью 19.05%\n",
      "\n",
      "Отвергаем гипотезу об отсутствии различий между группами по событию Tutorial\n",
      "Такое же или большее отличие между группами может быть получено случайно с вероятностью 3.99%\n",
      "\n",
      "Не получилось отвергнуть нулевую гипотезу об отсутствии различий между группами по событию PaymentScreenSuccessful\n",
      "Такое же или большее отличие между группами может быть получено случайно с вероятностью 18.35%\n",
      "\n"
     ]
    }
   ],
   "source": [
    "#запускаем функцию в работу и получаем результат\n",
    "groups_checker(g246, g247)"
   ]
  },
  {
   "cell_type": "markdown",
   "metadata": {},
   "source": [
    "Мы видим, что статистически значимых различий в количестве различных событий на пользователя в обеих контрольных группах нет - это значит, что конверсия с предыдущего на последующий шаг воронки в этих группах сопоставима и мы можем смело объединять их в 1 контрольную группу для проверки, есть ли значимые различия между контрольными группами и тестовой группой. \n",
    "\n",
    "Следует обратить внимание на различие по событию `Tutorial`. Однако ранее мы установили, что это событие, судя по контексту и количество его появлений в выборках, принадлежит к ветвлению процесса и является факультативным. Другими словами, для проверки гипотез относительно коммерческой эффективности нововведений имеет смысл использовать выборки с исключенным этим событием. "
   ]
  },
  {
   "cell_type": "markdown",
   "metadata": {},
   "source": [
    "Теперь, в соответствии с поставленной задачей, мы проведем проверки тестовой группы с каждой из контрольных групп по отдельности в разрезе событий. "
   ]
  },
  {
   "cell_type": "code",
   "execution_count": 60,
   "metadata": {},
   "outputs": [],
   "source": [
    "#пересоберем все группы без события Tutorial\n",
    "a_group = data[(data['test_group'] < 248) & (data['event'] != 'Tutorial')]\n",
    "test_group = data[(data['test_group'] == 248) & (data['event'] != 'Tutorial')]\n",
    "g246 = data[(data['test_group'] == 246) & (data['event'] != 'Tutorial')]\n",
    "g247 = data[(data['test_group'] == 247) & (data['event'] != 'Tutorial')]"
   ]
  },
  {
   "cell_type": "code",
   "execution_count": 61,
   "metadata": {},
   "outputs": [
    {
     "name": "stdout",
     "output_type": "stream",
     "text": [
      "Не получилось отвергнуть нулевую гипотезу об отсутствии различий между группами по событию MainScreenAppear\n",
      "Такое же или большее отличие между группами может быть получено случайно с вероятностью 5.18%\n",
      "\n",
      "Не получилось отвергнуть нулевую гипотезу об отсутствии различий между группами по событию OffersScreenAppear\n",
      "Такое же или большее отличие между группами может быть получено случайно с вероятностью 47.25%\n",
      "\n",
      "Не получилось отвергнуть нулевую гипотезу об отсутствии различий между группами по событию CartScreenAppear\n",
      "Такое же или большее отличие между группами может быть получено случайно с вероятностью 5.29%\n",
      "\n",
      "Не получилось отвергнуть нулевую гипотезу об отсутствии различий между группами по событию PaymentScreenSuccessful\n",
      "Такое же или большее отличие между группами может быть получено случайно с вероятностью 25.76%\n",
      "\n"
     ]
    }
   ],
   "source": [
    "groups_checker(g246, test_group)"
   ]
  },
  {
   "cell_type": "code",
   "execution_count": 62,
   "metadata": {},
   "outputs": [
    {
     "name": "stdout",
     "output_type": "stream",
     "text": [
      "Не получилось отвергнуть нулевую гипотезу об отсутствии различий между группами по событию MainScreenAppear\n",
      "Такое же или большее отличие между группами может быть получено случайно с вероятностью 13.42%\n",
      "\n",
      "Отвергаем гипотезу об отсутствии различий между группами по событию CartScreenAppear\n",
      "Такое же или большее отличие между группами может быть получено случайно с вероятностью 0.56%\n",
      "\n",
      "Не получилось отвергнуть нулевую гипотезу об отсутствии различий между группами по событию OffersScreenAppear\n",
      "Такое же или большее отличие между группами может быть получено случайно с вероятностью 39.78%\n",
      "\n",
      "Не получилось отвергнуть нулевую гипотезу об отсутствии различий между группами по событию PaymentScreenSuccessful\n",
      "Такое же или большее отличие между группами может быть получено случайно с вероятностью 5.95%\n",
      "\n"
     ]
    }
   ],
   "source": [
    "groups_checker(g247, test_group)"
   ]
  },
  {
   "cell_type": "code",
   "execution_count": 63,
   "metadata": {},
   "outputs": [
    {
     "name": "stdout",
     "output_type": "stream",
     "text": [
      "Не получилось отвергнуть нулевую гипотезу об отсутствии различий между группами по событию MainScreenAppear\n",
      "Такое же или большее отличие между группами может быть получено случайно с вероятностью 5.71%\n",
      "\n",
      "Не получилось отвергнуть нулевую гипотезу об отсутствии различий между группами по событию OffersScreenAppear\n",
      "Такое же или большее отличие между группами может быть получено случайно с вероятностью 45.67%\n",
      "\n",
      "Отвергаем гипотезу об отсутствии различий между группами по событию CartScreenAppear\n",
      "Такое же или большее отличие между группами может быть получено случайно с вероятностью 0.84%\n",
      "\n",
      "Не получилось отвергнуть нулевую гипотезу об отсутствии различий между группами по событию PaymentScreenSuccessful\n",
      "Такое же или большее отличие между группами может быть получено случайно с вероятностью 10.22%\n",
      "\n"
     ]
    }
   ],
   "source": [
    "groups_checker(a_group, test_group)"
   ]
  },
  {
   "cell_type": "markdown",
   "metadata": {},
   "source": [
    "**Мы получили любопытные результаты:**\n",
    "\n",
    "1. Между контрольными группами 246 и 247 нет статистически значимых отличий при движении по \"прямой\" линии бизнес-процесса\n",
    "2. Между контрольными группами 246 и 247 **ЕСТЬ** статистически значимое отличие в событии `Tutorial`\n",
    "3. Также мы наблюдаем отсутствие статистически значимых отличий между тестовой группой и контрольной группой 246. Тем не менее, мы наблюдаем вероятность наличия различий в количестве событий на пользователя, близкую к критическому уровню статистической значимости (в нашем случае 5%):\n",
    "    - Событие `MainScreenAppear` с вероятностью 5.18%\n",
    "    - Событие `CartScreenAppear` с вероятностью 5.29%\n",
    "4. Сравнение тестовой группы и контрольной группы 247 говорит нам о том, что по событию `CartScreenAppear` наблюдаются явные статистически значимые отличия (вероятность случайного получения отличий 0.56%). Интересно, что мы продолжим отвергать нулевую гипотезу даже при использовании более строго уровня статистической значимости. \n",
    "5. При сравнении тестовой группы с объединенной контрольной группой, мы продолжаем наблюдать статистически значимое отличие в событии `CartScreenAppear` с вероятностью в 0.84%\n",
    "\n",
    "**Таким образом:**\n",
    "\n",
    "1. Рекомендуется изучить контрольные выборки и процедуры их формирования/сбора данных, так как в некоторых событиях между ними были зафиксированы отличия\n",
    "2. Новый шрифт, вероятно, влияет в первую очередь на частоту события `CartScreenAppear`, так как мы наблюдаем статистически значимые отличия\n",
    "3. Также мы наблюдаем вероятность получения таких же или больших отклонений по событию `MainScreenAppear` в  5.71%, что лежит довольно близко к критическому уровню статистической значимости - рекомендуется обратить внимание"
   ]
  },
  {
   "cell_type": "code",
   "execution_count": 64,
   "metadata": {},
   "outputs": [],
   "source": [
    "#теперь попробуем понять, в какую сторону наблюдается отклонение\n",
    "#для этого отберем данные по событию CartScreenAppear из тестовой группы и объединенной контрольной группы\n",
    "\n",
    "test_cart = test_group[test_group['event'] == 'CartScreenAppear'\n",
    "                      ].groupby('id', as_index=False).agg({'timestamp': 'count'})\n",
    "a_group_cart = a_group[(a_group['event'] == 'CartScreenAppear')  & (a_group['test_group'] == 247)\n",
    "                      ].groupby('id', as_index=False).agg({'timestamp': 'count'})"
   ]
  },
  {
   "cell_type": "code",
   "execution_count": 65,
   "metadata": {},
   "outputs": [
    {
     "data": {
      "image/png": "[encoded data removed]",
      "text/plain": [
       "<Figure size 1080x576 with 1 Axes>"
      ]
     },
     "metadata": {},
     "output_type": "display_data"
    }
   ],
   "source": [
    "test_cart['timestamp'].hist(bins=50, range=(0, 50), figsize=(15, 8), alpha=0.3, label='Test Group - CartScreenAppear')\n",
    "a_group_cart['timestamp'].hist(bins=50, range=(0, 50), figsize=(15, 8), alpha=0.3, label='Control Group - CartScreenAppear')\n",
    "plt.title('Распределений события CartScreenAppear по пользователям для тестовой и контрольных групп')\n",
    "plt.xlabel('Количество событий', fontsize=12)\n",
    "plt.legend()\n",
    "plt.show()"
   ]
  },
  {
   "cell_type": "markdown",
   "metadata": {},
   "source": [
    "Мы наблюдаем снижение количества событий `CartScreenAppear` для отдельного пользователя в тестовой группе для высокочастотных значений, но начиная с отметки в 8 событий на пользователя напротив наблюдается эпизодический рост. Можем предположить, что изменилось поведение пользователя при переходе в корзину. Необходимо: \n",
    "\n",
    "1. Произвести расчеты\n",
    "2. Посмотреть, что произошло со следующим в цепочке событием"
   ]
  },
  {
   "cell_type": "code",
   "execution_count": 66,
   "metadata": {},
   "outputs": [],
   "source": [
    "#соберем датафрейм с данными групп 247 и 248, по которым мы нашли статистически значимые отличия для события\n",
    "#CartScreenAppear\n",
    "a = data[(data['test_group'] == 247) & (data['event'] == 'CartScreenAppear')].groupby('date', as_index=False).agg({'timestamp': 'count', 'id': 'nunique'})\n",
    "b = data[(data['test_group'] == 248) & (data['event'] == 'CartScreenAppear')].groupby('date', as_index=False).agg({'timestamp': 'count', 'id': 'nunique'})\n",
    "a.columns=['date', 'number_of_events_247', 'users_247']\n",
    "b.columns=['date', 'number_of_events_248', 'users_248']\n",
    "graph_data = a.merge(b, on='date', how='outer').fillna(0).astype('int')\n",
    "graph_data = graph_data.merge(a, left_on='number_of_events_247', right_on='number_of_events_247', how='left')\n",
    "graph_data = graph_data[['date_y', 'number_of_events_247', 'users_247_x', 'number_of_events_248', 'users_248']]\n",
    "graph_data.columns=['date', 'events_247', 'users_247', 'events_248', 'users_248']\n",
    "graph_data = graph_data.dropna()\n",
    "graph_data = graph_data[graph_data['events_248'] != 1]"
   ]
  },
  {
   "cell_type": "code",
   "execution_count": 67,
   "metadata": {},
   "outputs": [
    {
     "data": {
      "text/html": [
       "<div>\n",
       "<style scoped>\n",
       "    .dataframe tbody tr th:only-of-type {\n",
       "        vertical-align: middle;\n",
       "    }\n",
       "\n",
       "    .dataframe tbody tr th {\n",
       "        vertical-align: top;\n",
       "    }\n",
       "\n",
       "    .dataframe thead th {\n",
       "        text-align: right;\n",
       "    }\n",
       "</style>\n",
       "<table border=\"1\" class=\"dataframe\">\n",
       "  <thead>\n",
       "    <tr style=\"text-align: right;\">\n",
       "      <th></th>\n",
       "      <th>date</th>\n",
       "      <th>events_247</th>\n",
       "      <th>users_247</th>\n",
       "      <th>events_248</th>\n",
       "      <th>users_248</th>\n",
       "    </tr>\n",
       "  </thead>\n",
       "  <tbody>\n",
       "    <tr>\n",
       "      <th>0</th>\n",
       "      <td>2019-07-27</td>\n",
       "      <td>1</td>\n",
       "      <td>1</td>\n",
       "      <td>0</td>\n",
       "      <td>0</td>\n",
       "    </tr>\n",
       "    <tr>\n",
       "      <th>1</th>\n",
       "      <td>2019-07-29</td>\n",
       "      <td>1</td>\n",
       "      <td>1</td>\n",
       "      <td>0</td>\n",
       "      <td>0</td>\n",
       "    </tr>\n",
       "    <tr>\n",
       "      <th>4</th>\n",
       "      <td>2019-07-31</td>\n",
       "      <td>13</td>\n",
       "      <td>9</td>\n",
       "      <td>19</td>\n",
       "      <td>11</td>\n",
       "    </tr>\n",
       "    <tr>\n",
       "      <th>5</th>\n",
       "      <td>2019-08-01</td>\n",
       "      <td>1622</td>\n",
       "      <td>462</td>\n",
       "      <td>1726</td>\n",
       "      <td>469</td>\n",
       "    </tr>\n",
       "    <tr>\n",
       "      <th>6</th>\n",
       "      <td>2019-08-02</td>\n",
       "      <td>1838</td>\n",
       "      <td>458</td>\n",
       "      <td>2692</td>\n",
       "      <td>486</td>\n",
       "    </tr>\n",
       "    <tr>\n",
       "      <th>7</th>\n",
       "      <td>2019-08-03</td>\n",
       "      <td>2060</td>\n",
       "      <td>471</td>\n",
       "      <td>2194</td>\n",
       "      <td>479</td>\n",
       "    </tr>\n",
       "    <tr>\n",
       "      <th>8</th>\n",
       "      <td>2019-08-04</td>\n",
       "      <td>1495</td>\n",
       "      <td>497</td>\n",
       "      <td>2004</td>\n",
       "      <td>482</td>\n",
       "    </tr>\n",
       "    <tr>\n",
       "      <th>9</th>\n",
       "      <td>2019-08-05</td>\n",
       "      <td>1382</td>\n",
       "      <td>494</td>\n",
       "      <td>2400</td>\n",
       "      <td>490</td>\n",
       "    </tr>\n",
       "    <tr>\n",
       "      <th>10</th>\n",
       "      <td>2019-08-06</td>\n",
       "      <td>1733</td>\n",
       "      <td>483</td>\n",
       "      <td>1887</td>\n",
       "      <td>505</td>\n",
       "    </tr>\n",
       "    <tr>\n",
       "      <th>11</th>\n",
       "      <td>2019-08-07</td>\n",
       "      <td>1562</td>\n",
       "      <td>465</td>\n",
       "      <td>1473</td>\n",
       "      <td>461</td>\n",
       "    </tr>\n",
       "  </tbody>\n",
       "</table>\n",
       "</div>"
      ],
      "text/plain": [
       "         date  events_247  users_247  events_248  users_248\n",
       "0  2019-07-27           1          1           0          0\n",
       "1  2019-07-29           1          1           0          0\n",
       "4  2019-07-31          13          9          19         11\n",
       "5  2019-08-01        1622        462        1726        469\n",
       "6  2019-08-02        1838        458        2692        486\n",
       "7  2019-08-03        2060        471        2194        479\n",
       "8  2019-08-04        1495        497        2004        482\n",
       "9  2019-08-05        1382        494        2400        490\n",
       "10 2019-08-06        1733        483        1887        505\n",
       "11 2019-08-07        1562        465        1473        461"
      ]
     },
     "execution_count": 67,
     "metadata": {},
     "output_type": "execute_result"
    }
   ],
   "source": [
    "graph_data"
   ]
  },
  {
   "cell_type": "markdown",
   "metadata": {},
   "source": [
    "Мы наблюдаем, что примерно со 2 августа наблюдается интересная устойчивая тенденция - количество событий `CartScreenAppear` существенно выросло при сопоставимом, а иногда меньшем количестве уникальных идентификаторов пользователей. Другими словами, каждый отдельно взятый пользователь стал чаще переходить в корзину. Посчитаем среднее количество переходов на пользователя для каждой группы."
   ]
  },
  {
   "cell_type": "code",
   "execution_count": 68,
   "metadata": {},
   "outputs": [],
   "source": [
    "#считаем среднее количество событий CartScreenAppear на пользователя \n",
    "graph_data['avg_events_per_user_247'] = (graph_data['events_247'] / graph_data['users_247']).round(2)\n",
    "graph_data['avg_events_per_user_248'] = (graph_data['events_248'] / graph_data['users_248']).fillna(0).round(2)\n",
    "\n",
    "#считаем соотношение среднего количества визитов на пользователя в тестовой группе к контрольной группе\n",
    "graph_data['avg_visits_coefficient'] = ((graph_data['avg_events_per_user_248'] / graph_data['avg_events_per_user_247'])-1).round(2)\n",
    "\n",
    "#посчитаем также соотношение пользователей\n",
    "graph_data['unique_users_coeff'] = ((graph_data['users_248'] / graph_data['users_247']) - 1).round(2)"
   ]
  },
  {
   "cell_type": "code",
   "execution_count": 69,
   "metadata": {},
   "outputs": [
    {
     "data": {
      "image/png": "[encoded data removed]",
      "text/plain": [
       "<Figure size 1296x648 with 1 Axes>"
      ]
     },
     "metadata": {},
     "output_type": "display_data"
    }
   ],
   "source": [
    "sns.set_style('darkgrid')\n",
    "\n",
    "plt.figure(figsize=(18, 9))\n",
    "plt.plot(graph_data['date'], graph_data['avg_visits_coefficient'], label='Mean Visits Coefficient')\n",
    "plt.plot(graph_data['date'], graph_data['unique_users_coeff'], label='Unique Users Coefficient')\n",
    "plt.xticks(rotation=45)\n",
    "plt.axhline(y=0, color='red', linestyle='--')\n",
    "plt.title('Соотношение ср. кол-ва визитов и количества уникальных пользователей в группах', fontsize=12)\n",
    "plt.legend()\n",
    "\n",
    "plt.show()"
   ]
  },
  {
   "cell_type": "markdown",
   "metadata": {},
   "source": [
    "**На наблюдаем следующее:**\n",
    "\n",
    "1. \"Стартовые колебания\" эксперимента прекратились примерно к 1 августа\n",
    "2. На графика три пиковых значения: 31 июля, 2 августа и 5 августа. В эти дни соотношение среднего количества зарегистрированных событий на 1 пользователя в тестовой группе превышало аналогичное значение в контрольной группе на 50-75%\n",
    "3. С 1 августа, несмотря на колебания среднего числа переходов в корзину, количество уникальных пользователей в группах варьировалась в пределах -4/+6 процентов\n",
    "\n",
    "Предположительно, по какой-то причине у пользователей в связи с изменением шрифта возникла потребность чаще переходить в корзину. "
   ]
  },
  {
   "cell_type": "code",
   "execution_count": 70,
   "metadata": {},
   "outputs": [],
   "source": [
    "#соберем датафрейм с данными групп 247 и 248, по которым мы нашли статистически значимые отличия для события\n",
    "#CartScreenAppear\n",
    "a = data[(data['test_group'] == 247) & (data['event'] == 'PaymentScreenSuccessful')].groupby('date', as_index=False).agg({'timestamp': 'count', 'id': 'nunique'})\n",
    "b = data[(data['test_group'] == 248) & (data['event'] == 'PaymentScreenSuccessful')].groupby('date', as_index=False).agg({'timestamp': 'count', 'id': 'nunique'})\n",
    "a.columns=['date', 'number_of_events_247', 'users_247']\n",
    "b.columns=['date', 'number_of_events_248', 'users_248']\n",
    "graph_data = a.merge(b, on='date', how='outer').fillna(0).astype('int')\n",
    "graph_data = graph_data.merge(a, left_on='number_of_events_247', right_on='number_of_events_247', how='left')\n",
    "graph_data = graph_data[['date_y', 'number_of_events_247', 'users_247_x', 'number_of_events_248', 'users_248']]\n",
    "graph_data.columns=['date', 'events_247', 'users_247', 'events_248', 'users_248']\n",
    "graph_data = graph_data.dropna()\n",
    "graph_data = graph_data[graph_data['events_248'] != 1]"
   ]
  },
  {
   "cell_type": "code",
   "execution_count": 71,
   "metadata": {},
   "outputs": [
    {
     "data": {
      "text/html": [
       "<div>\n",
       "<style scoped>\n",
       "    .dataframe tbody tr th:only-of-type {\n",
       "        vertical-align: middle;\n",
       "    }\n",
       "\n",
       "    .dataframe tbody tr th {\n",
       "        vertical-align: top;\n",
       "    }\n",
       "\n",
       "    .dataframe thead th {\n",
       "        text-align: right;\n",
       "    }\n",
       "</style>\n",
       "<table border=\"1\" class=\"dataframe\">\n",
       "  <thead>\n",
       "    <tr style=\"text-align: right;\">\n",
       "      <th></th>\n",
       "      <th>date</th>\n",
       "      <th>events_247</th>\n",
       "      <th>users_247</th>\n",
       "      <th>events_248</th>\n",
       "      <th>users_248</th>\n",
       "    </tr>\n",
       "  </thead>\n",
       "  <tbody>\n",
       "    <tr>\n",
       "      <th>0</th>\n",
       "      <td>2019-07-31</td>\n",
       "      <td>2</td>\n",
       "      <td>1</td>\n",
       "      <td>3</td>\n",
       "      <td>3</td>\n",
       "    </tr>\n",
       "    <tr>\n",
       "      <th>1</th>\n",
       "      <td>2019-08-01</td>\n",
       "      <td>1246</td>\n",
       "      <td>406</td>\n",
       "      <td>1245</td>\n",
       "      <td>435</td>\n",
       "    </tr>\n",
       "    <tr>\n",
       "      <th>2</th>\n",
       "      <td>2019-08-02</td>\n",
       "      <td>1491</td>\n",
       "      <td>424</td>\n",
       "      <td>2231</td>\n",
       "      <td>441</td>\n",
       "    </tr>\n",
       "    <tr>\n",
       "      <th>3</th>\n",
       "      <td>2019-08-03</td>\n",
       "      <td>1694</td>\n",
       "      <td>433</td>\n",
       "      <td>1723</td>\n",
       "      <td>449</td>\n",
       "    </tr>\n",
       "    <tr>\n",
       "      <th>4</th>\n",
       "      <td>2019-08-04</td>\n",
       "      <td>1187</td>\n",
       "      <td>463</td>\n",
       "      <td>1589</td>\n",
       "      <td>451</td>\n",
       "    </tr>\n",
       "    <tr>\n",
       "      <th>5</th>\n",
       "      <td>2019-08-05</td>\n",
       "      <td>1076</td>\n",
       "      <td>459</td>\n",
       "      <td>1942</td>\n",
       "      <td>462</td>\n",
       "    </tr>\n",
       "    <tr>\n",
       "      <th>6</th>\n",
       "      <td>2019-08-06</td>\n",
       "      <td>1390</td>\n",
       "      <td>456</td>\n",
       "      <td>1483</td>\n",
       "      <td>485</td>\n",
       "    </tr>\n",
       "    <tr>\n",
       "      <th>7</th>\n",
       "      <td>2019-08-07</td>\n",
       "      <td>1303</td>\n",
       "      <td>448</td>\n",
       "      <td>1188</td>\n",
       "      <td>432</td>\n",
       "    </tr>\n",
       "  </tbody>\n",
       "</table>\n",
       "</div>"
      ],
      "text/plain": [
       "        date  events_247  users_247  events_248  users_248\n",
       "0 2019-07-31           2          1           3          3\n",
       "1 2019-08-01        1246        406        1245        435\n",
       "2 2019-08-02        1491        424        2231        441\n",
       "3 2019-08-03        1694        433        1723        449\n",
       "4 2019-08-04        1187        463        1589        451\n",
       "5 2019-08-05        1076        459        1942        462\n",
       "6 2019-08-06        1390        456        1483        485\n",
       "7 2019-08-07        1303        448        1188        432"
      ]
     },
     "execution_count": 71,
     "metadata": {},
     "output_type": "execute_result"
    }
   ],
   "source": [
    "graph_data"
   ]
  },
  {
   "cell_type": "code",
   "execution_count": 72,
   "metadata": {},
   "outputs": [],
   "source": [
    "#считаем среднее количество событий CartScreenAppear на пользователя \n",
    "graph_data['avg_events_per_user_247'] = (graph_data['events_247'] / graph_data['users_247']).round(2)\n",
    "graph_data['avg_events_per_user_248'] = (graph_data['events_248'] / graph_data['users_248']).fillna(0).round(2)\n",
    "\n",
    "#считаем соотношение среднего количества визитов на пользователя в тестовой группе к контрольной группе\n",
    "graph_data['avg_visits_coefficient'] = ((graph_data['avg_events_per_user_248'] / graph_data['avg_events_per_user_247'])-1).round(2)\n",
    "\n",
    "#посчитаем также соотношение пользователей\n",
    "graph_data['unique_users_coeff'] = ((graph_data['users_248'] / graph_data['users_247']) - 1).round(2)"
   ]
  },
  {
   "cell_type": "code",
   "execution_count": 73,
   "metadata": {},
   "outputs": [
    {
     "data": {
      "image/png": "[encoded data removed]",
      "text/plain": [
       "<Figure size 1296x648 with 1 Axes>"
      ]
     },
     "metadata": {},
     "output_type": "display_data"
    }
   ],
   "source": [
    "sns.set_style('darkgrid')\n",
    "\n",
    "plt.figure(figsize=(18, 9))\n",
    "plt.plot(graph_data['date'], graph_data['avg_visits_coefficient'], label='Mean Purchases Coefficient')\n",
    "plt.plot(graph_data['date'], graph_data['unique_users_coeff'], label='Unique Buyers Coefficient')\n",
    "plt.xticks(rotation=45)\n",
    "plt.axhline(y=0, color='red', linestyle='--')\n",
    "plt.title('Соотношение ср. кол-ва визитов и количества уникальных пользователей в группах', fontsize=12)\n",
    "plt.legend()\n",
    "\n",
    "plt.show()"
   ]
  },
  {
   "cell_type": "markdown",
   "metadata": {},
   "source": [
    "**Мы наблюдаем:**\n",
    "\n",
    "1. Сохранились пики 31 июля, 2 августа и 5 августа - в эти дни помимо большего числа переходов в корзину также наблюдалось большее количество покупок\n",
    "2. По-прежнему количество уникальных покупателей не сильно варьируется в группах -3/+7 процентов\n",
    "3. Для 247й контрольной группы вероятность получения таких или больших различий по количеству событий на пользователя составляет 7.76%, что довольно близко к заданному критическому уровню статистической значимости (при менее строгом уровне, мы бы отвергли гипотезу о равенстве выборок). С другой стороны, для общей контрольной группы и тестовой группы это значение уже составляет 12.62%"
   ]
  },
  {
   "cell_type": "markdown",
   "metadata": {},
   "source": [
    "# Вывод"
   ]
  },
  {
   "cell_type": "markdown",
   "metadata": {},
   "source": [
    "**Вывод:**\n",
    "\n",
    "1. Проверка долей показала отсутствие статистически различий между пропорциями по событиями воронки конверсии. Таким образом, мы можем утверждать, что нововведение не влияет на результаты конверсии по результатам теста\n",
    "1. Обработана выборка по трем группам (две контрольные и одна тестовая) за период 25.07.2019-07.08.2019\n",
    "2. В процессе предобработки:\n",
    "    - Удалено 7658 \"лишних\" событий\n",
    "    - Датасет сократился на 3.14%\n",
    "    - Удалено 112 \"лишних\" пользователей, что составляет 1.48% от исходного исходного количества в датасете\n",
    "3. Для всей совокупности данных конверсия от исходного количества пользователей составляет: \n",
    "    - 60.1% для шага OffersScreenAppear (60.1% от предыдущего шага)\n",
    "    - 47.6% для шага CartScreenAppear (80.9% от предыдущего шага)\n",
    "    - 46 для экрана PaymentScreenSuccessful (94.5% от предыдущего шага)\n",
    "4. Для проверки наличия статистически значимых различий использован непараметрический критерий Манна-Уитни, так как данные явно распределены не нормально (что довольно стандартно для социального явления) коим является процесс покупки\n",
    "5. Установлено, что при пособытийной проверке в контрольных группах наблюдается статистически значимое отличие по событию Tutorial. Вероятно, для цепочки в целом это событие не является определяющих, но сам факт различий в контрольных группах ставит вопрос к качеству подготовки групп для А/В теста\n",
    "6. Установлено, что в контрольной и тестовой группе наблюдается статистически значимое отличие для события `CartScreenAppear` - вероятность получения таких же или больших различий для объединенной контрольной группы 0.85%, что позволяет нам отвергнуть нулевую гипотезу даже при использовании более строгого уровня статистической значимости\n",
    "7. При сравнении тестовой группы с каждой из контрольных групп, в явном виде различие регистрируется только для группы 247, что также вызывает вопросы к качеству подготовки А/В теста (либо процедуре его проведения)\n",
    "8. Более детальный анализ показывает, что как выросло среднее количество переходов в корзину на 1 пользователя, так и среднее количество покупок на 1 пользователя, но на графиках мы видим 3 явно выраженных пика: 31 июля, 2 августа и 5 августа\n",
    "\n",
    "**Рекомендации**\n",
    "\n",
    "1. Проверить качество подготовки тест и процедуру его проведения на предмет возможных ошибок\n",
    "2. Изучить поведение пользователя в процессе совершения покупки - рост числа переходов в корзину связан с более удобной организацией интерфейса предложений, либо изменный шрифт заставляет пользователей делать лишние клики/тапы\n",
    "3. Изучить средний чек пользователей в разных группах на предмет наличия статистически значимых отличий в нем (возможно, имеет смысл сделать изучение с погружением до уровня товарных категорий)\n",
    "4. Если с изначальной организацией теста все в порядке, стоит продлить тестирование для исключения фактора \"смещения\" фокуса за счет пиковых значений, видимых на графиках - по представленным данным нельзя ясно утверждать, какой событие является причиной, а какое следствием: либо шрифт повлиял на поведение, либо что-то произошло с поведением и мы увидели отличия, будто дело в шрифте"
   ]
  }
 ],
 "metadata": {
  "ExecuteTimeLog": [
   {
    "duration": 2092,
    "start_time": "2021-06-14T06:34:50.713Z"
   },
   {
    "duration": 182,
    "start_time": "2021-06-14T06:34:52.808Z"
   },
   {
    "duration": 16,
    "start_time": "2021-06-14T06:34:52.993Z"
   },
   {
    "duration": 25,
    "start_time": "2021-06-14T06:34:53.025Z"
   },
   {
    "duration": 277,
    "start_time": "2021-06-14T06:34:53.053Z"
   },
   {
    "duration": 14,
    "start_time": "2021-06-14T06:34:53.332Z"
   },
   {
    "duration": 75,
    "start_time": "2021-06-14T06:34:53.349Z"
   },
   {
    "duration": 36,
    "start_time": "2021-06-14T06:34:53.428Z"
   },
   {
    "duration": 12,
    "start_time": "2021-06-14T06:34:53.467Z"
   },
   {
    "duration": 57,
    "start_time": "2021-06-14T06:34:53.481Z"
   },
   {
    "duration": 129,
    "start_time": "2021-06-14T06:34:53.541Z"
   },
   {
    "duration": 107,
    "start_time": "2021-06-14T06:34:53.672Z"
   },
   {
    "duration": 6,
    "start_time": "2021-06-14T06:34:53.781Z"
   },
   {
    "duration": 290,
    "start_time": "2021-06-14T06:34:53.790Z"
   },
   {
    "duration": 15,
    "start_time": "2021-06-14T06:34:54.082Z"
   },
   {
    "duration": 46,
    "start_time": "2021-06-14T06:34:54.099Z"
   },
   {
    "duration": 36,
    "start_time": "2021-06-14T06:34:54.148Z"
   },
   {
    "duration": 12,
    "start_time": "2021-06-14T06:34:54.186Z"
   },
   {
    "duration": 36,
    "start_time": "2021-06-14T06:34:54.224Z"
   },
   {
    "duration": 840,
    "start_time": "2021-06-14T06:34:54.262Z"
   },
   {
    "duration": 22,
    "start_time": "2021-06-14T06:34:55.104Z"
   },
   {
    "duration": 35,
    "start_time": "2021-06-14T06:34:55.142Z"
   },
   {
    "duration": 59,
    "start_time": "2021-06-14T06:34:55.183Z"
   },
   {
    "duration": 53,
    "start_time": "2021-06-14T06:34:55.247Z"
   },
   {
    "duration": 98,
    "start_time": "2021-06-14T06:34:55.303Z"
   },
   {
    "duration": 75,
    "start_time": "2021-06-14T06:34:55.404Z"
   },
   {
    "duration": 11,
    "start_time": "2021-06-14T06:34:55.482Z"
   },
   {
    "duration": 37,
    "start_time": "2021-06-14T06:34:55.496Z"
   },
   {
    "duration": 12,
    "start_time": "2021-06-14T06:34:55.535Z"
   },
   {
    "duration": 33,
    "start_time": "2021-06-14T06:34:55.550Z"
   },
   {
    "duration": 47,
    "start_time": "2021-06-14T06:34:55.585Z"
   },
   {
    "duration": 102,
    "start_time": "2021-06-14T06:34:55.634Z"
   },
   {
    "duration": 12,
    "start_time": "2021-06-14T06:34:55.738Z"
   },
   {
    "duration": 20,
    "start_time": "2021-06-14T06:34:55.753Z"
   },
   {
    "duration": 802,
    "start_time": "2021-06-14T06:34:55.775Z"
   },
   {
    "duration": 165,
    "start_time": "2021-06-14T06:34:56.579Z"
   },
   {
    "duration": 11,
    "start_time": "2021-06-14T06:34:56.747Z"
   },
   {
    "duration": 420,
    "start_time": "2021-06-14T06:34:56.761Z"
   },
   {
    "duration": 203,
    "start_time": "2021-06-14T06:34:57.183Z"
   },
   {
    "duration": 77,
    "start_time": "2021-06-14T06:34:57.388Z"
   },
   {
    "duration": 11,
    "start_time": "2021-06-14T06:34:57.468Z"
   },
   {
    "duration": 11,
    "start_time": "2021-06-14T06:34:57.483Z"
   },
   {
    "duration": 40,
    "start_time": "2021-06-14T06:34:57.497Z"
   },
   {
    "duration": 47,
    "start_time": "2021-06-14T06:34:57.540Z"
   },
   {
    "duration": 7,
    "start_time": "2021-06-14T06:34:57.590Z"
   },
   {
    "duration": 8,
    "start_time": "2021-06-14T06:34:57.624Z"
   },
   {
    "duration": 36,
    "start_time": "2021-06-14T06:34:57.634Z"
   },
   {
    "duration": 57,
    "start_time": "2021-06-14T06:34:57.672Z"
   },
   {
    "duration": 20,
    "start_time": "2021-06-14T06:34:57.732Z"
   },
   {
    "duration": 155,
    "start_time": "2021-06-14T06:34:57.754Z"
   },
   {
    "duration": 702,
    "start_time": "2021-06-14T06:34:57.913Z"
   },
   {
    "duration": 45,
    "start_time": "2021-06-14T06:34:58.618Z"
   },
   {
    "duration": 7,
    "start_time": "2021-06-14T06:34:58.665Z"
   },
   {
    "duration": 55,
    "start_time": "2021-06-14T06:34:58.675Z"
   },
   {
    "duration": 17,
    "start_time": "2021-06-14T06:34:58.733Z"
   },
   {
    "duration": 28,
    "start_time": "2021-06-14T06:34:58.753Z"
   },
   {
    "duration": 334,
    "start_time": "2021-06-14T06:34:58.783Z"
   },
   {
    "duration": 11,
    "start_time": "2021-06-14T06:34:59.123Z"
   },
   {
    "duration": 153,
    "start_time": "2021-06-14T06:34:59.136Z"
   },
   {
    "duration": 118,
    "start_time": "2021-06-14T06:34:59.291Z"
   },
   {
    "duration": 143,
    "start_time": "2021-06-14T06:34:59.412Z"
   },
   {
    "duration": 128,
    "start_time": "2021-06-14T06:34:59.557Z"
   },
   {
    "duration": 184,
    "start_time": "2021-06-14T06:34:59.688Z"
   },
   {
    "duration": 54,
    "start_time": "2021-06-14T06:34:59.875Z"
   },
   {
    "duration": 1033,
    "start_time": "2021-06-14T06:34:59.932Z"
   },
   {
    "duration": 103,
    "start_time": "2021-06-14T06:35:00.967Z"
   },
   {
    "duration": 12,
    "start_time": "2021-06-14T06:35:01.073Z"
   },
   {
    "duration": 25,
    "start_time": "2021-06-14T06:35:01.092Z"
   },
   {
    "duration": 841,
    "start_time": "2021-06-14T06:35:01.125Z"
   },
   {
    "duration": 99,
    "start_time": "2021-06-14T06:35:01.968Z"
   },
   {
    "duration": 12,
    "start_time": "2021-06-14T06:35:02.069Z"
   },
   {
    "duration": 26,
    "start_time": "2021-06-14T06:35:02.084Z"
   },
   {
    "duration": 824,
    "start_time": "2021-06-14T06:35:02.113Z"
   },
   {
    "duration": 832,
    "start_time": "2021-06-14T06:44:38.452Z"
   },
   {
    "duration": 130,
    "start_time": "2021-06-14T06:45:29.961Z"
   },
   {
    "duration": 1909,
    "start_time": "2021-06-14T06:48:05.494Z"
   },
   {
    "duration": 171,
    "start_time": "2021-06-14T06:48:07.405Z"
   },
   {
    "duration": 15,
    "start_time": "2021-06-14T06:48:07.579Z"
   },
   {
    "duration": 43,
    "start_time": "2021-06-14T06:48:07.597Z"
   },
   {
    "duration": 241,
    "start_time": "2021-06-14T06:48:07.642Z"
   },
   {
    "duration": 11,
    "start_time": "2021-06-14T06:48:07.886Z"
   },
   {
    "duration": 60,
    "start_time": "2021-06-14T06:48:07.900Z"
   },
   {
    "duration": 31,
    "start_time": "2021-06-14T06:48:07.964Z"
   },
   {
    "duration": 32,
    "start_time": "2021-06-14T06:48:07.998Z"
   },
   {
    "duration": 26,
    "start_time": "2021-06-14T06:48:08.032Z"
   },
   {
    "duration": 135,
    "start_time": "2021-06-14T06:48:08.061Z"
   },
   {
    "duration": 95,
    "start_time": "2021-06-14T06:48:08.199Z"
   },
   {
    "duration": 5,
    "start_time": "2021-06-14T06:48:08.297Z"
   },
   {
    "duration": 276,
    "start_time": "2021-06-14T06:48:08.304Z"
   },
   {
    "duration": 14,
    "start_time": "2021-06-14T06:48:08.582Z"
   },
   {
    "duration": 43,
    "start_time": "2021-06-14T06:48:08.598Z"
   },
   {
    "duration": 35,
    "start_time": "2021-06-14T06:48:08.643Z"
   },
   {
    "duration": 11,
    "start_time": "2021-06-14T06:48:08.681Z"
   },
   {
    "duration": 55,
    "start_time": "2021-06-14T06:48:08.695Z"
   },
   {
    "duration": 702,
    "start_time": "2021-06-14T06:48:08.752Z"
   },
   {
    "duration": 14,
    "start_time": "2021-06-14T06:48:09.456Z"
   },
   {
    "duration": 53,
    "start_time": "2021-06-14T06:48:09.472Z"
   },
   {
    "duration": 39,
    "start_time": "2021-06-14T06:48:09.531Z"
   },
   {
    "duration": 68,
    "start_time": "2021-06-14T06:48:09.574Z"
   },
   {
    "duration": 97,
    "start_time": "2021-06-14T06:48:09.644Z"
   },
   {
    "duration": 59,
    "start_time": "2021-06-14T06:48:09.744Z"
   },
   {
    "duration": 26,
    "start_time": "2021-06-14T06:48:09.805Z"
   },
   {
    "duration": 13,
    "start_time": "2021-06-14T06:48:09.833Z"
   },
   {
    "duration": 11,
    "start_time": "2021-06-14T06:48:09.849Z"
   },
   {
    "duration": 74,
    "start_time": "2021-06-14T06:48:09.862Z"
   },
   {
    "duration": 15,
    "start_time": "2021-06-14T06:48:09.939Z"
   },
   {
    "duration": 103,
    "start_time": "2021-06-14T06:48:09.957Z"
   },
   {
    "duration": 10,
    "start_time": "2021-06-14T06:48:10.062Z"
   },
   {
    "duration": 17,
    "start_time": "2021-06-14T06:48:10.075Z"
   },
   {
    "duration": 1635,
    "start_time": "2021-06-14T06:48:10.094Z"
   },
   {
    "duration": 107,
    "start_time": "2021-06-14T06:48:11.625Z"
   },
   {
    "duration": 107,
    "start_time": "2021-06-14T06:48:11.627Z"
   },
   {
    "duration": 105,
    "start_time": "2021-06-14T06:48:11.630Z"
   },
   {
    "duration": 93,
    "start_time": "2021-06-14T06:48:11.644Z"
   },
   {
    "duration": 92,
    "start_time": "2021-06-14T06:48:11.646Z"
   },
   {
    "duration": 81,
    "start_time": "2021-06-14T06:48:11.659Z"
   },
   {
    "duration": 81,
    "start_time": "2021-06-14T06:48:11.661Z"
   },
   {
    "duration": 80,
    "start_time": "2021-06-14T06:48:11.663Z"
   },
   {
    "duration": 69,
    "start_time": "2021-06-14T06:48:11.676Z"
   },
   {
    "duration": 68,
    "start_time": "2021-06-14T06:48:11.678Z"
   },
   {
    "duration": 55,
    "start_time": "2021-06-14T06:48:11.692Z"
   },
   {
    "duration": 55,
    "start_time": "2021-06-14T06:48:11.694Z"
   },
   {
    "duration": 55,
    "start_time": "2021-06-14T06:48:11.696Z"
   },
   {
    "duration": 43,
    "start_time": "2021-06-14T06:48:11.710Z"
   },
   {
    "duration": 31,
    "start_time": "2021-06-14T06:48:11.723Z"
   },
   {
    "duration": 31,
    "start_time": "2021-06-14T06:48:11.725Z"
   },
   {
    "duration": 30,
    "start_time": "2021-06-14T06:48:11.727Z"
   },
   {
    "duration": 29,
    "start_time": "2021-06-14T06:48:11.729Z"
   },
   {
    "duration": 18,
    "start_time": "2021-06-14T06:48:11.742Z"
   },
   {
    "duration": 17,
    "start_time": "2021-06-14T06:48:11.744Z"
   },
   {
    "duration": 16,
    "start_time": "2021-06-14T06:48:11.746Z"
   },
   {
    "duration": 2,
    "start_time": "2021-06-14T06:48:11.761Z"
   },
   {
    "duration": -12,
    "start_time": "2021-06-14T06:48:11.776Z"
   },
   {
    "duration": -12,
    "start_time": "2021-06-14T06:48:11.778Z"
   },
   {
    "duration": -24,
    "start_time": "2021-06-14T06:48:11.791Z"
   },
   {
    "duration": 31,
    "start_time": "2021-06-14T06:48:11.793Z"
   },
   {
    "duration": 30,
    "start_time": "2021-06-14T06:48:11.795Z"
   },
   {
    "duration": 30,
    "start_time": "2021-06-14T06:48:11.797Z"
   },
   {
    "duration": 29,
    "start_time": "2021-06-14T06:48:11.799Z"
   },
   {
    "duration": 28,
    "start_time": "2021-06-14T06:48:11.801Z"
   },
   {
    "duration": 27,
    "start_time": "2021-06-14T06:48:11.803Z"
   },
   {
    "duration": 27,
    "start_time": "2021-06-14T06:48:11.805Z"
   },
   {
    "duration": 26,
    "start_time": "2021-06-14T06:48:11.807Z"
   },
   {
    "duration": 25,
    "start_time": "2021-06-14T06:48:11.809Z"
   },
   {
    "duration": 24,
    "start_time": "2021-06-14T06:48:11.811Z"
   },
   {
    "duration": 23,
    "start_time": "2021-06-14T06:48:11.813Z"
   },
   {
    "duration": 23,
    "start_time": "2021-06-14T06:48:11.815Z"
   },
   {
    "duration": 22,
    "start_time": "2021-06-14T06:48:11.817Z"
   },
   {
    "duration": 452,
    "start_time": "2021-06-14T06:48:45.630Z"
   },
   {
    "duration": 179,
    "start_time": "2021-06-14T06:55:56.861Z"
   },
   {
    "duration": 1959,
    "start_time": "2021-06-14T06:56:11.803Z"
   },
   {
    "duration": 166,
    "start_time": "2021-06-14T06:56:13.764Z"
   },
   {
    "duration": 16,
    "start_time": "2021-06-14T06:56:13.933Z"
   },
   {
    "duration": 21,
    "start_time": "2021-06-14T06:56:13.952Z"
   },
   {
    "duration": 258,
    "start_time": "2021-06-14T06:56:13.976Z"
   },
   {
    "duration": 11,
    "start_time": "2021-06-14T06:56:14.237Z"
   },
   {
    "duration": 45,
    "start_time": "2021-06-14T06:56:14.250Z"
   },
   {
    "duration": 47,
    "start_time": "2021-06-14T06:56:14.299Z"
   },
   {
    "duration": 11,
    "start_time": "2021-06-14T06:56:14.349Z"
   },
   {
    "duration": 26,
    "start_time": "2021-06-14T06:56:14.362Z"
   },
   {
    "duration": 145,
    "start_time": "2021-06-14T06:56:14.390Z"
   },
   {
    "duration": 92,
    "start_time": "2021-06-14T06:56:14.538Z"
   },
   {
    "duration": 4,
    "start_time": "2021-06-14T06:56:14.633Z"
   },
   {
    "duration": 265,
    "start_time": "2021-06-14T06:56:14.640Z"
   },
   {
    "duration": 18,
    "start_time": "2021-06-14T06:56:14.907Z"
   },
   {
    "duration": 32,
    "start_time": "2021-06-14T06:56:14.927Z"
   },
   {
    "duration": 41,
    "start_time": "2021-06-14T06:56:14.962Z"
   },
   {
    "duration": 13,
    "start_time": "2021-06-14T06:56:15.025Z"
   },
   {
    "duration": 41,
    "start_time": "2021-06-14T06:56:15.041Z"
   },
   {
    "duration": 722,
    "start_time": "2021-06-14T06:56:15.085Z"
   },
   {
    "duration": 24,
    "start_time": "2021-06-14T06:56:15.810Z"
   },
   {
    "duration": 41,
    "start_time": "2021-06-14T06:56:15.836Z"
   },
   {
    "duration": 58,
    "start_time": "2021-06-14T06:56:15.883Z"
   },
   {
    "duration": 49,
    "start_time": "2021-06-14T06:56:15.944Z"
   },
   {
    "duration": 104,
    "start_time": "2021-06-14T06:56:15.995Z"
   },
   {
    "duration": 64,
    "start_time": "2021-06-14T06:56:16.101Z"
   },
   {
    "duration": 11,
    "start_time": "2021-06-14T06:56:16.167Z"
   },
   {
    "duration": 14,
    "start_time": "2021-06-14T06:56:16.180Z"
   },
   {
    "duration": 36,
    "start_time": "2021-06-14T06:56:16.196Z"
   },
   {
    "duration": 37,
    "start_time": "2021-06-14T06:56:16.234Z"
   },
   {
    "duration": 15,
    "start_time": "2021-06-14T06:56:16.273Z"
   },
   {
    "duration": 112,
    "start_time": "2021-06-14T06:56:16.291Z"
   },
   {
    "duration": 19,
    "start_time": "2021-06-14T06:56:16.405Z"
   },
   {
    "duration": 15,
    "start_time": "2021-06-14T06:56:16.427Z"
   },
   {
    "duration": 731,
    "start_time": "2021-06-14T06:56:16.444Z"
   },
   {
    "duration": 161,
    "start_time": "2021-06-14T06:56:17.178Z"
   },
   {
    "duration": 10,
    "start_time": "2021-06-14T06:56:17.341Z"
   },
   {
    "duration": 401,
    "start_time": "2021-06-14T06:56:17.353Z"
   },
   {
    "duration": 191,
    "start_time": "2021-06-14T06:56:17.756Z"
   },
   {
    "duration": 76,
    "start_time": "2021-06-14T06:56:17.949Z"
   },
   {
    "duration": 9,
    "start_time": "2021-06-14T06:56:18.027Z"
   },
   {
    "duration": 11,
    "start_time": "2021-06-14T06:56:18.038Z"
   },
   {
    "duration": 18,
    "start_time": "2021-06-14T06:56:18.052Z"
   },
   {
    "duration": 73,
    "start_time": "2021-06-14T06:56:18.072Z"
   },
   {
    "duration": 7,
    "start_time": "2021-06-14T06:56:18.147Z"
   },
   {
    "duration": 8,
    "start_time": "2021-06-14T06:56:18.157Z"
   },
   {
    "duration": 28,
    "start_time": "2021-06-14T06:56:18.167Z"
   },
   {
    "duration": 36,
    "start_time": "2021-06-14T06:56:18.225Z"
   },
   {
    "duration": 22,
    "start_time": "2021-06-14T06:56:18.263Z"
   },
   {
    "duration": 158,
    "start_time": "2021-06-14T06:56:18.288Z"
   },
   {
    "duration": 976,
    "start_time": "2021-06-14T06:56:18.448Z"
   },
   {
    "duration": 38,
    "start_time": "2021-06-14T06:56:19.426Z"
   },
   {
    "duration": 7,
    "start_time": "2021-06-14T06:56:19.466Z"
   },
   {
    "duration": 42,
    "start_time": "2021-06-14T06:56:19.476Z"
   },
   {
    "duration": 10,
    "start_time": "2021-06-14T06:56:19.520Z"
   },
   {
    "duration": 30,
    "start_time": "2021-06-14T06:56:19.532Z"
   },
   {
    "duration": 310,
    "start_time": "2021-06-14T06:56:19.564Z"
   },
   {
    "duration": 6,
    "start_time": "2021-06-14T06:56:19.877Z"
   },
   {
    "duration": 147,
    "start_time": "2021-06-14T06:56:19.885Z"
   },
   {
    "duration": 131,
    "start_time": "2021-06-14T06:56:20.034Z"
   },
   {
    "duration": 258,
    "start_time": "2021-06-14T06:56:20.167Z"
   },
   {
    "duration": 115,
    "start_time": "2021-06-14T06:56:20.428Z"
   },
   {
    "duration": 195,
    "start_time": "2021-06-14T06:56:20.545Z"
   },
   {
    "duration": 40,
    "start_time": "2021-06-14T06:56:20.742Z"
   },
   {
    "duration": 1074,
    "start_time": "2021-06-14T06:56:20.785Z"
   },
   {
    "duration": 92,
    "start_time": "2021-06-14T06:56:21.861Z"
   },
   {
    "duration": 12,
    "start_time": "2021-06-14T06:56:21.955Z"
   },
   {
    "duration": 12,
    "start_time": "2021-06-14T06:56:21.974Z"
   },
   {
    "duration": 812,
    "start_time": "2021-06-14T06:56:21.989Z"
   },
   {
    "duration": 80,
    "start_time": "2021-06-14T06:56:22.804Z"
   },
   {
    "duration": 11,
    "start_time": "2021-06-14T06:56:22.886Z"
   },
   {
    "duration": 31,
    "start_time": "2021-06-14T06:56:22.899Z"
   },
   {
    "duration": 753,
    "start_time": "2021-06-14T06:56:22.933Z"
   },
   {
    "duration": 1894,
    "start_time": "2021-06-14T06:58:35.155Z"
   },
   {
    "duration": 168,
    "start_time": "2021-06-14T06:58:37.051Z"
   },
   {
    "duration": 16,
    "start_time": "2021-06-14T06:58:37.225Z"
   },
   {
    "duration": 22,
    "start_time": "2021-06-14T06:58:37.243Z"
   },
   {
    "duration": 259,
    "start_time": "2021-06-14T06:58:37.267Z"
   },
   {
    "duration": 11,
    "start_time": "2021-06-14T06:58:37.528Z"
   },
   {
    "duration": 41,
    "start_time": "2021-06-14T06:58:37.541Z"
   },
   {
    "duration": 46,
    "start_time": "2021-06-14T06:58:37.586Z"
   },
   {
    "duration": 15,
    "start_time": "2021-06-14T06:58:37.635Z"
   },
   {
    "duration": 30,
    "start_time": "2021-06-14T06:58:37.652Z"
   },
   {
    "duration": 126,
    "start_time": "2021-06-14T06:58:37.685Z"
   },
   {
    "duration": 97,
    "start_time": "2021-06-14T06:58:37.814Z"
   },
   {
    "duration": 12,
    "start_time": "2021-06-14T06:58:37.914Z"
   },
   {
    "duration": 455,
    "start_time": "2021-06-14T06:58:37.930Z"
   },
   {
    "duration": 20,
    "start_time": "2021-06-14T06:58:38.388Z"
   },
   {
    "duration": 37,
    "start_time": "2021-06-14T06:58:38.423Z"
   },
   {
    "duration": 65,
    "start_time": "2021-06-14T06:58:38.463Z"
   },
   {
    "duration": 15,
    "start_time": "2021-06-14T06:58:38.531Z"
   },
   {
    "duration": 49,
    "start_time": "2021-06-14T06:58:38.549Z"
   },
   {
    "duration": 1038,
    "start_time": "2021-06-14T06:58:38.601Z"
   },
   {
    "duration": 20,
    "start_time": "2021-06-14T06:58:39.642Z"
   },
   {
    "duration": 72,
    "start_time": "2021-06-14T06:58:39.665Z"
   },
   {
    "duration": 53,
    "start_time": "2021-06-14T06:58:39.746Z"
   },
   {
    "duration": 66,
    "start_time": "2021-06-14T06:58:39.802Z"
   },
   {
    "duration": 101,
    "start_time": "2021-06-14T06:58:39.871Z"
   },
   {
    "duration": 69,
    "start_time": "2021-06-14T06:58:39.975Z"
   },
   {
    "duration": 11,
    "start_time": "2021-06-14T06:58:40.046Z"
   },
   {
    "duration": 17,
    "start_time": "2021-06-14T06:58:40.059Z"
   },
   {
    "duration": 10,
    "start_time": "2021-06-14T06:58:40.078Z"
   },
   {
    "duration": 33,
    "start_time": "2021-06-14T06:58:40.124Z"
   },
   {
    "duration": 14,
    "start_time": "2021-06-14T06:58:40.159Z"
   },
   {
    "duration": 119,
    "start_time": "2021-06-14T06:58:40.176Z"
   },
   {
    "duration": 11,
    "start_time": "2021-06-14T06:58:40.297Z"
   },
   {
    "duration": 25,
    "start_time": "2021-06-14T06:58:40.310Z"
   },
   {
    "duration": 747,
    "start_time": "2021-06-14T06:58:40.338Z"
   },
   {
    "duration": 151,
    "start_time": "2021-06-14T06:58:41.087Z"
   },
   {
    "duration": 10,
    "start_time": "2021-06-14T06:58:41.241Z"
   },
   {
    "duration": 501,
    "start_time": "2021-06-14T06:58:41.253Z"
   },
   {
    "duration": 196,
    "start_time": "2021-06-14T06:58:41.756Z"
   },
   {
    "duration": 84,
    "start_time": "2021-06-14T06:58:41.955Z"
   },
   {
    "duration": 11,
    "start_time": "2021-06-14T06:58:42.041Z"
   },
   {
    "duration": 9,
    "start_time": "2021-06-14T06:58:42.055Z"
   },
   {
    "duration": 18,
    "start_time": "2021-06-14T06:58:42.066Z"
   },
   {
    "duration": 78,
    "start_time": "2021-06-14T06:58:42.087Z"
   },
   {
    "duration": 8,
    "start_time": "2021-06-14T06:58:42.168Z"
   },
   {
    "duration": 8,
    "start_time": "2021-06-14T06:58:42.178Z"
   },
   {
    "duration": 51,
    "start_time": "2021-06-14T06:58:42.189Z"
   },
   {
    "duration": 35,
    "start_time": "2021-06-14T06:58:42.242Z"
   },
   {
    "duration": 46,
    "start_time": "2021-06-14T06:58:42.279Z"
   },
   {
    "duration": 132,
    "start_time": "2021-06-14T06:58:42.327Z"
   },
   {
    "duration": 679,
    "start_time": "2021-06-14T06:58:42.461Z"
   },
   {
    "duration": 37,
    "start_time": "2021-06-14T06:58:43.142Z"
   },
   {
    "duration": 7,
    "start_time": "2021-06-14T06:58:43.181Z"
   },
   {
    "duration": 53,
    "start_time": "2021-06-14T06:58:43.191Z"
   },
   {
    "duration": 9,
    "start_time": "2021-06-14T06:58:43.247Z"
   },
   {
    "duration": 37,
    "start_time": "2021-06-14T06:58:43.258Z"
   },
   {
    "duration": 341,
    "start_time": "2021-06-14T06:58:43.298Z"
   },
   {
    "duration": 6,
    "start_time": "2021-06-14T06:58:43.642Z"
   },
   {
    "duration": 147,
    "start_time": "2021-06-14T06:58:43.650Z"
   },
   {
    "duration": 108,
    "start_time": "2021-06-14T06:58:43.800Z"
   },
   {
    "duration": 140,
    "start_time": "2021-06-14T06:58:43.910Z"
   },
   {
    "duration": 129,
    "start_time": "2021-06-14T06:58:44.052Z"
   },
   {
    "duration": 176,
    "start_time": "2021-06-14T06:58:44.184Z"
   },
   {
    "duration": 37,
    "start_time": "2021-06-14T06:58:44.362Z"
   },
   {
    "duration": 1088,
    "start_time": "2021-06-14T06:58:44.402Z"
   },
   {
    "duration": 101,
    "start_time": "2021-06-14T06:58:45.493Z"
   },
   {
    "duration": 12,
    "start_time": "2021-06-14T06:58:45.597Z"
   },
   {
    "duration": 14,
    "start_time": "2021-06-14T06:58:45.624Z"
   },
   {
    "duration": 787,
    "start_time": "2021-06-14T06:58:45.641Z"
   },
   {
    "duration": 132,
    "start_time": "2021-06-14T06:58:46.431Z"
   },
   {
    "duration": 18,
    "start_time": "2021-06-14T06:58:46.566Z"
   },
   {
    "duration": 37,
    "start_time": "2021-06-14T06:58:46.587Z"
   },
   {
    "duration": 1030,
    "start_time": "2021-06-14T06:58:46.627Z"
   },
   {
    "duration": 630,
    "start_time": "2021-06-14T07:01:55.298Z"
   },
   {
    "duration": 5,
    "start_time": "2021-06-14T07:02:07.546Z"
   },
   {
    "duration": 172,
    "start_time": "2021-06-14T07:13:58.303Z"
   },
   {
    "duration": 451,
    "start_time": "2021-06-14T07:14:08.857Z"
   },
   {
    "duration": 167,
    "start_time": "2021-06-14T07:14:41.068Z"
   },
   {
    "duration": 175,
    "start_time": "2021-06-14T07:15:03.075Z"
   }
  ],
  "kernelspec": {
   "display_name": "Python 3",
   "language": "python",
   "name": "python3"
  },
  "language_info": {
   "codemirror_mode": {
    "name": "ipython",
    "version": 3
   },
   "file_extension": ".py",
   "mimetype": "text/x-python",
   "name": "python",
   "nbconvert_exporter": "python",
   "pygments_lexer": "ipython3",
   "version": "3.8.3"
  },
  "toc": {
   "base_numbering": 1,
   "nav_menu": {},
   "number_sections": true,
   "sideBar": true,
   "skip_h1_title": false,
   "title_cell": "Table of Contents",
   "title_sidebar": "Contents",
   "toc_cell": false,
   "toc_position": {
    "height": "calc(100% - 180px)",
    "left": "10px",
    "top": "150px",
    "width": "237px"
   },
   "toc_section_display": true,
   "toc_window_display": true
  }
 },
 "nbformat": 4,
 "nbformat_minor": 2
}
