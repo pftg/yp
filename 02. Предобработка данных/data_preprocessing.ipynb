{
 "cells": [
  {
   "cell_type": "markdown",
   "metadata": {},
   "source": [
    "## Исследование надёжности заёмщиков\n",
    "\n",
    "Заказчик — кредитный отдел банка. Нужно разобраться, влияет ли семейное положение и количество детей клиента на факт погашения кредита в срок. Входные данные от банка — статистика о платёжеспособности клиентов.\n",
    "\n",
    "Результаты исследования будут учтены при построении модели **кредитного скоринга** — специальной системы, которая оценивает способность потенциального заёмщика вернуть кредит банку."
   ]
  },
  {
   "cell_type": "markdown",
   "metadata": {},
   "source": [
    "### Шаг 1. Откройте файл с данными и изучите общую информацию. "
   ]
  },
  {
   "cell_type": "code",
   "execution_count": 1,
   "metadata": {},
   "outputs": [
    {
     "name": "stdout",
     "output_type": "stream",
     "text": [
      "<class 'pandas.core.frame.DataFrame'>\n",
      "RangeIndex: 21525 entries, 0 to 21524\n",
      "Data columns (total 12 columns):\n",
      "children            21525 non-null int64\n",
      "days_employed       19351 non-null float64\n",
      "dob_years           21525 non-null int64\n",
      "education           21525 non-null object\n",
      "education_id        21525 non-null int64\n",
      "family_status       21525 non-null object\n",
      "family_status_id    21525 non-null int64\n",
      "gender              21525 non-null object\n",
      "income_type         21525 non-null object\n",
      "debt                21525 non-null int64\n",
      "total_income        19351 non-null float64\n",
      "purpose             21525 non-null object\n",
      "dtypes: float64(2), int64(5), object(5)\n",
      "memory usage: 2.0+ MB\n"
     ]
    },
    {
     "data": {
      "text/html": [
       "<div>\n",
       "<style scoped>\n",
       "    .dataframe tbody tr th:only-of-type {\n",
       "        vertical-align: middle;\n",
       "    }\n",
       "\n",
       "    .dataframe tbody tr th {\n",
       "        vertical-align: top;\n",
       "    }\n",
       "\n",
       "    .dataframe thead th {\n",
       "        text-align: right;\n",
       "    }\n",
       "</style>\n",
       "<table border=\"1\" class=\"dataframe\">\n",
       "  <thead>\n",
       "    <tr style=\"text-align: right;\">\n",
       "      <th></th>\n",
       "      <th>children</th>\n",
       "      <th>days_employed</th>\n",
       "      <th>dob_years</th>\n",
       "      <th>education</th>\n",
       "      <th>education_id</th>\n",
       "      <th>family_status</th>\n",
       "      <th>family_status_id</th>\n",
       "      <th>gender</th>\n",
       "      <th>income_type</th>\n",
       "      <th>debt</th>\n",
       "      <th>total_income</th>\n",
       "      <th>purpose</th>\n",
       "    </tr>\n",
       "  </thead>\n",
       "  <tbody>\n",
       "    <tr>\n",
       "      <td>0</td>\n",
       "      <td>1</td>\n",
       "      <td>-8437.673028</td>\n",
       "      <td>42</td>\n",
       "      <td>высшее</td>\n",
       "      <td>0</td>\n",
       "      <td>женат / замужем</td>\n",
       "      <td>0</td>\n",
       "      <td>F</td>\n",
       "      <td>сотрудник</td>\n",
       "      <td>0</td>\n",
       "      <td>253875.639453</td>\n",
       "      <td>покупка жилья</td>\n",
       "    </tr>\n",
       "    <tr>\n",
       "      <td>1</td>\n",
       "      <td>1</td>\n",
       "      <td>-4024.803754</td>\n",
       "      <td>36</td>\n",
       "      <td>среднее</td>\n",
       "      <td>1</td>\n",
       "      <td>женат / замужем</td>\n",
       "      <td>0</td>\n",
       "      <td>F</td>\n",
       "      <td>сотрудник</td>\n",
       "      <td>0</td>\n",
       "      <td>112080.014102</td>\n",
       "      <td>приобретение автомобиля</td>\n",
       "    </tr>\n",
       "    <tr>\n",
       "      <td>2</td>\n",
       "      <td>0</td>\n",
       "      <td>-5623.422610</td>\n",
       "      <td>33</td>\n",
       "      <td>Среднее</td>\n",
       "      <td>1</td>\n",
       "      <td>женат / замужем</td>\n",
       "      <td>0</td>\n",
       "      <td>M</td>\n",
       "      <td>сотрудник</td>\n",
       "      <td>0</td>\n",
       "      <td>145885.952297</td>\n",
       "      <td>покупка жилья</td>\n",
       "    </tr>\n",
       "    <tr>\n",
       "      <td>3</td>\n",
       "      <td>3</td>\n",
       "      <td>-4124.747207</td>\n",
       "      <td>32</td>\n",
       "      <td>среднее</td>\n",
       "      <td>1</td>\n",
       "      <td>женат / замужем</td>\n",
       "      <td>0</td>\n",
       "      <td>M</td>\n",
       "      <td>сотрудник</td>\n",
       "      <td>0</td>\n",
       "      <td>267628.550329</td>\n",
       "      <td>дополнительное образование</td>\n",
       "    </tr>\n",
       "    <tr>\n",
       "      <td>4</td>\n",
       "      <td>0</td>\n",
       "      <td>340266.072047</td>\n",
       "      <td>53</td>\n",
       "      <td>среднее</td>\n",
       "      <td>1</td>\n",
       "      <td>гражданский брак</td>\n",
       "      <td>1</td>\n",
       "      <td>F</td>\n",
       "      <td>пенсионер</td>\n",
       "      <td>0</td>\n",
       "      <td>158616.077870</td>\n",
       "      <td>сыграть свадьбу</td>\n",
       "    </tr>\n",
       "    <tr>\n",
       "      <td>...</td>\n",
       "      <td>...</td>\n",
       "      <td>...</td>\n",
       "      <td>...</td>\n",
       "      <td>...</td>\n",
       "      <td>...</td>\n",
       "      <td>...</td>\n",
       "      <td>...</td>\n",
       "      <td>...</td>\n",
       "      <td>...</td>\n",
       "      <td>...</td>\n",
       "      <td>...</td>\n",
       "      <td>...</td>\n",
       "    </tr>\n",
       "    <tr>\n",
       "      <td>21520</td>\n",
       "      <td>1</td>\n",
       "      <td>-4529.316663</td>\n",
       "      <td>43</td>\n",
       "      <td>среднее</td>\n",
       "      <td>1</td>\n",
       "      <td>гражданский брак</td>\n",
       "      <td>1</td>\n",
       "      <td>F</td>\n",
       "      <td>компаньон</td>\n",
       "      <td>0</td>\n",
       "      <td>224791.862382</td>\n",
       "      <td>операции с жильем</td>\n",
       "    </tr>\n",
       "    <tr>\n",
       "      <td>21521</td>\n",
       "      <td>0</td>\n",
       "      <td>343937.404131</td>\n",
       "      <td>67</td>\n",
       "      <td>среднее</td>\n",
       "      <td>1</td>\n",
       "      <td>женат / замужем</td>\n",
       "      <td>0</td>\n",
       "      <td>F</td>\n",
       "      <td>пенсионер</td>\n",
       "      <td>0</td>\n",
       "      <td>155999.806512</td>\n",
       "      <td>сделка с автомобилем</td>\n",
       "    </tr>\n",
       "    <tr>\n",
       "      <td>21522</td>\n",
       "      <td>1</td>\n",
       "      <td>-2113.346888</td>\n",
       "      <td>38</td>\n",
       "      <td>среднее</td>\n",
       "      <td>1</td>\n",
       "      <td>гражданский брак</td>\n",
       "      <td>1</td>\n",
       "      <td>M</td>\n",
       "      <td>сотрудник</td>\n",
       "      <td>1</td>\n",
       "      <td>89672.561153</td>\n",
       "      <td>недвижимость</td>\n",
       "    </tr>\n",
       "    <tr>\n",
       "      <td>21523</td>\n",
       "      <td>3</td>\n",
       "      <td>-3112.481705</td>\n",
       "      <td>38</td>\n",
       "      <td>среднее</td>\n",
       "      <td>1</td>\n",
       "      <td>женат / замужем</td>\n",
       "      <td>0</td>\n",
       "      <td>M</td>\n",
       "      <td>сотрудник</td>\n",
       "      <td>1</td>\n",
       "      <td>244093.050500</td>\n",
       "      <td>на покупку своего автомобиля</td>\n",
       "    </tr>\n",
       "    <tr>\n",
       "      <td>21524</td>\n",
       "      <td>2</td>\n",
       "      <td>-1984.507589</td>\n",
       "      <td>40</td>\n",
       "      <td>среднее</td>\n",
       "      <td>1</td>\n",
       "      <td>женат / замужем</td>\n",
       "      <td>0</td>\n",
       "      <td>F</td>\n",
       "      <td>сотрудник</td>\n",
       "      <td>0</td>\n",
       "      <td>82047.418899</td>\n",
       "      <td>на покупку автомобиля</td>\n",
       "    </tr>\n",
       "  </tbody>\n",
       "</table>\n",
       "<p>21525 rows × 12 columns</p>\n",
       "</div>"
      ],
      "text/plain": [
       "       children  days_employed  dob_years education  education_id  \\\n",
       "0             1   -8437.673028         42    высшее             0   \n",
       "1             1   -4024.803754         36   среднее             1   \n",
       "2             0   -5623.422610         33   Среднее             1   \n",
       "3             3   -4124.747207         32   среднее             1   \n",
       "4             0  340266.072047         53   среднее             1   \n",
       "...         ...            ...        ...       ...           ...   \n",
       "21520         1   -4529.316663         43   среднее             1   \n",
       "21521         0  343937.404131         67   среднее             1   \n",
       "21522         1   -2113.346888         38   среднее             1   \n",
       "21523         3   -3112.481705         38   среднее             1   \n",
       "21524         2   -1984.507589         40   среднее             1   \n",
       "\n",
       "          family_status  family_status_id gender income_type  debt  \\\n",
       "0       женат / замужем                 0      F   сотрудник     0   \n",
       "1       женат / замужем                 0      F   сотрудник     0   \n",
       "2       женат / замужем                 0      M   сотрудник     0   \n",
       "3       женат / замужем                 0      M   сотрудник     0   \n",
       "4      гражданский брак                 1      F   пенсионер     0   \n",
       "...                 ...               ...    ...         ...   ...   \n",
       "21520  гражданский брак                 1      F   компаньон     0   \n",
       "21521   женат / замужем                 0      F   пенсионер     0   \n",
       "21522  гражданский брак                 1      M   сотрудник     1   \n",
       "21523   женат / замужем                 0      M   сотрудник     1   \n",
       "21524   женат / замужем                 0      F   сотрудник     0   \n",
       "\n",
       "        total_income                       purpose  \n",
       "0      253875.639453                 покупка жилья  \n",
       "1      112080.014102       приобретение автомобиля  \n",
       "2      145885.952297                 покупка жилья  \n",
       "3      267628.550329    дополнительное образование  \n",
       "4      158616.077870               сыграть свадьбу  \n",
       "...              ...                           ...  \n",
       "21520  224791.862382             операции с жильем  \n",
       "21521  155999.806512          сделка с автомобилем  \n",
       "21522   89672.561153                  недвижимость  \n",
       "21523  244093.050500  на покупку своего автомобиля  \n",
       "21524   82047.418899         на покупку автомобиля  \n",
       "\n",
       "[21525 rows x 12 columns]"
      ]
     },
     "execution_count": 1,
     "metadata": {},
     "output_type": "execute_result"
    }
   ],
   "source": [
    "import pandas as pd #импорт библиотеки для чтения файла и загрузки данных в проект\n",
    "data = pd.read_csv('/datasets/data.csv') #читаем таблицу\n",
    "data.info() #смотрим, из чего таблица состоит"
   ]
  },
  {
   "cell_type": "markdown",
   "metadata": {},
   "source": [
    "### Вывод"
   ]
  },
  {
   "cell_type": "markdown",
   "metadata": {},
   "source": [
    "С точки зрения корректности определения типов данных их полноты, качество выгрузки неплохое. В первые несколько минут изучения можно сделать следующие выводы: \n",
    "\n",
    "1. Визуально в таблице 5 столбцов, содержащих явно текстовые данные и метод info(), примененный к полученному датафрейму говорит об этом же => заполнение столбцов типами корректное;\n",
    "2. В срезе 21525 наблюдений и 10/12 столбцов имеют такое же количество записей. Так как тип данных по столбцам определился корректно, можно предположить, что во всех строках столбцов указаны более-менее приближенные к действительности значения;\n",
    "3. В таблице 2 столбца, в которых менее 21525 наблюдений: days_emloyed и total_income. Вероятно также важен факт точного соответствия количества записей в этих столбцах;\n",
    "4. Визуальный просмотр файла также показывает, что текстовая запись категорийных значений (образование, семейный статус и т.п.) сделана в разных регистрах, хотя идентификаторы корректные. Вероятно, на уровне источника данных нет проверки данных при заполнении, либо заполнения текстового значения из отдельного справочника вида \"ID-Категория\". \n",
    "\n",
    "Первичные гипотезы:\n",
    "\n",
    "1. Между значением количества дней трудового стажа и общего дохода, вероятно, есть взаимосвязь. По некой неустановленной причине люди не хотят или не могут заполнять эти значения - стоит посмотреть, что объединяет клиентов в этой группе;\n",
    "2. Стоит проверить корректность заполнения идентификаторов и привести текстовые значения категорий в единообразное состояние;"
   ]
  },
  {
   "cell_type": "markdown",
   "metadata": {},
   "source": [
    "### Шаг 2. Предобработка данных"
   ]
  },
  {
   "cell_type": "markdown",
   "metadata": {},
   "source": [
    "### Обработка пропусков"
   ]
  },
  {
   "cell_type": "markdown",
   "metadata": {},
   "source": [
    "При первичном изучении среза мы увидели, что в столбцах 'days_employed' и 'total_income' столбцов меньше, чем в остальных. Это значит, что в них содержатся пропуски. \n",
    "\n",
    "Мы видим, что в каждом из столбцов 19351 заполненное значение, то есть по 2174 пропущенных значения. Для проверки гипотезы о наличии некой взаимосвязи между значениями, необходимо убедиться, что строк с пропущенными значениями не более 2174. "
   ]
  },
  {
   "cell_type": "code",
   "execution_count": 2,
   "metadata": {},
   "outputs": [
    {
     "name": "stdout",
     "output_type": "stream",
     "text": [
      "2174\n"
     ]
    }
   ],
   "source": [
    "#при помощи логической индексации мы отбираем строки у которых не заполнены значения в столбцах 'days_employed'\n",
    "#и 'total_income', считаем количество строк в полученной выборке и выводим на экран число\n",
    "print(len(data.loc[(data['days_employed'].isnull()) & (data['total_income'].isnull())]))\n",
    "\n"
   ]
  },
  {
   "cell_type": "markdown",
   "metadata": {},
   "source": [
    "Мы видим, что пропущенные значения пропущены одновременно для каждого клиента (если не указан стаж, то не указан и общий доход). Таким объемом данных мы не можем пренедречь, так как строки с пропусками - это примерно 10% от общего количества наблюдений. \n",
    "\n",
    "На верхнем уровне причины отсутствия данных можно разделить на две группы: \n",
    "\n",
    "1. Случайные (забыли заполнить и система приняла форму без заполненных данных, данные о размере дохода и стаже импортируются из внешней системы и потерялись в процессе)\n",
    "2. Намеренные (клиент не имеет официального места работы, поэтому у него нет стажа, а доход не указал из соображений скрытности)\n",
    "\n",
    "Пропущенные значения необходимо заполнить. Начнем с заполнения столбца 'days_employed'. Заполнить его необходимо следующим образом:\n",
    "\n",
    "1. Проанализировать заполненные значения столбца на предмет корректности;\n",
    "2. Проверить данные в столбце 'dob_years';\n",
    "3. Разделить клиентов на возрастные категории, так как между стажем и возрастом есть явная корреляция;\n",
    "4. Для каждой категории вычислить среднее значение и использовать его для строк, возраст клиентов в которых соответствует той или иной рассчитанной нами возрастной группе. \n",
    "\n",
    "Перейдем к проверке:"
   ]
  },
  {
   "cell_type": "markdown",
   "metadata": {},
   "source": [
    "Визуальный осмотр таблицы показал: в столбце 'days_employed' присутствуют отрицательные значения.\n",
    "Для расчета среднего или медианного значения нам необходимо от них избавиться. \n",
    "\n",
    "Оценим их количество: "
   ]
  },
  {
   "cell_type": "code",
   "execution_count": 3,
   "metadata": {},
   "outputs": [
    {
     "name": "stdout",
     "output_type": "stream",
     "text": [
      "15906\n"
     ]
    }
   ],
   "source": [
    "print(len(data.loc[data['days_employed'] < 0])) #отбираем строки, в которых значение дней трудового стажа отрицательно и считаем их количество."
   ]
  },
  {
   "cell_type": "markdown",
   "metadata": {},
   "source": [
    "Более 70% записей таблицы имеют отрицательные значения в количестве дней стажа. Вероятно, проблема изменения знака массовая и как-то связана с экспортом данных, либо методикой расчета.\n",
    "\n",
    "Гипотеза: так как стаж - это разность между текущей датой и датой начала трудовой деятельности, то можно предположить, что при расчете значения был нарушен порядок вычислений. Для нормализации значений достаточно для всех значений использовать модуль числа. \n",
    "\n",
    "Для этого мы напишем функцию и применим ее к таблице:"
   ]
  },
  {
   "cell_type": "code",
   "execution_count": 4,
   "metadata": {},
   "outputs": [
    {
     "name": "stdout",
     "output_type": "stream",
     "text": [
      "0\n"
     ]
    }
   ],
   "source": [
    "def modul_transition(row):\n",
    "    days_employed = row['days_employed']\n",
    "    if days_employed < 0: #если значение дней трудового стажа отрицательное, то необходимо умножить его на -1 и вернуть в строку\n",
    "        return days_employed * -1\n",
    "    if days_employed == 0 or days_employed > 0: #если значение нулевое, либо более 0, то просто умножаем на 1\n",
    "        return days_employed * 1\n",
    "\n",
    "data['days_employed'] = data.apply(modul_transition, axis=1) #применяем функцию к таблице\n",
    "print(len(data.loc[data['days_employed'] < 0])) #повторно проверяем таблицу на отрицательные значения"
   ]
  },
  {
   "cell_type": "markdown",
   "metadata": {},
   "source": [
    "Теперь, когда отрицательные значения преобразованы в положительные, необходимо оценить корретность данных в столбце с данными о трудовом стаже. Наиболее простым способом оценки корректности данных о продолжительности трудового стажа будет сравнение его с возрастом потенциально клиента. Так как возраст клиента указан в годах, то мы произведем расчета стажа в годах и добавим его в виде отдельного столбца в таблицу - 'years_employed':"
   ]
  },
  {
   "cell_type": "code",
   "execution_count": 5,
   "metadata": {},
   "outputs": [],
   "source": [
    "data['years_employed'] = data['days_employed'] / 365 #добавляем новый вычисляемый столбец с данными путем деления дней трудового стажа на 365 дней\n",
    "#print(data.head()) #оцениваем полученный результат"
   ]
  },
  {
   "cell_type": "markdown",
   "metadata": {},
   "source": [
    "В 5 строке у одного из клиентов трудовой стаж в годах превышает 932 года, что явно говорит нам о какой-то аномалии в данных о трудовом стаже. Предположим, что минимальный возраст от которого возможно отсчитывать трудовой стаж - 14 лет. Тогда нам необходимо найти самого пожилого клиента в нашем списке и использовать разность между его возрастом и минимальным возрастом начала трудового стажа в качестве критерия для отбора диапазона строк с некорректным значением трудового стажа. "
   ]
  },
  {
   "cell_type": "code",
   "execution_count": 6,
   "metadata": {},
   "outputs": [
    {
     "name": "stdout",
     "output_type": "stream",
     "text": [
      "\n",
      "328728.72060451825\n",
      "401755.40047533\n"
     ]
    }
   ],
   "source": [
    "maximum_yrs_employed = data['dob_years'].max() - 14 #ограничиваем максимальную продолжительность трудового стажа\n",
    "incorrect_days_employed = data.loc[data['years_employed'] > maximum_yrs_employed] #отбираем строки, в которых количество лет трудового стажа превышает максимальное значение\n",
    "#print(incorrect_days_employed.sort_values('years_employed').head(10)) #выводим отсортированный результат для оценки\n",
    "incorrect_days_employed_min = incorrect_days_employed['days_employed'].min() #фиксируем минимальное значение дней стажа\n",
    "incorrect_days_employed_max = incorrect_days_employed['days_employed'].max() #фиксируем максимальное значение дней стажа\n",
    "print()\n",
    "print(incorrect_days_employed_min)\n",
    "print(incorrect_days_employed_max)"
   ]
  },
  {
   "cell_type": "markdown",
   "metadata": {},
   "source": [
    "Мы видим, что некорректный стаж варьируется в диапазоне 900-1100 лет. Две наиболее очевидные причины ошибки:\n",
    "\n",
    "1. Неправильно введен, либо не введен год при заполнении персональных данных клиента;\n",
    "2. Информация о годе начала стажа клиента была потеряна при экспорте данных.\n",
    "\n",
    "Так данные о трудовом стаже в 900+ лет нам не могут быть полезны, для вычисления среднего значения количества дней стажа мы отберем строки с корректными значениями. Так как количество трудового стажа связано с возрастом клиента, сгруппируем их в 4 группы по возрасту: до 20 лет, 20-40 лет, 40-60 лет, старше 60 лет. Для удобства создадим 4 переменные, в которые запишем средние значения трудового стажа для каждой группы: "
   ]
  },
  {
   "cell_type": "code",
   "execution_count": 7,
   "metadata": {},
   "outputs": [
    {
     "name": "stdout",
     "output_type": "stream",
     "text": [
      "<class 'pandas.core.frame.DataFrame'>\n",
      "RangeIndex: 21525 entries, 0 to 21524\n",
      "Data columns (total 12 columns):\n",
      "children            21525 non-null int64\n",
      "days_employed       21525 non-null float64\n",
      "dob_years           21525 non-null int64\n",
      "education           21525 non-null object\n",
      "education_id        21525 non-null int64\n",
      "family_status       21525 non-null object\n",
      "family_status_id    21525 non-null int64\n",
      "gender              21525 non-null object\n",
      "income_type         21525 non-null object\n",
      "debt                21525 non-null int64\n",
      "total_income        19351 non-null float64\n",
      "purpose             21525 non-null object\n",
      "dtypes: float64(2), int64(5), object(5)\n",
      "memory usage: 2.0+ MB\n",
      "None\n"
     ]
    }
   ],
   "source": [
    "up_to_20_days_employed_mean = data.loc[(data['days_employed'] < incorrect_days_employed_min) & (data['dob_years'] <= 20), 'days_employed'].mean()\n",
    "f_20_to_40_days_employed_mean = data.loc[(data['days_employed'] < incorrect_days_employed_min) & (data['dob_years'] > 20) & (data['dob_years'] <= 40), 'days_employed'].mean()\n",
    "f_40_to_60_days_employed_mean = data.loc[(data['days_employed'] < incorrect_days_employed_min) & (data['dob_years'] > 40) & (data['dob_years'] <= 60), 'days_employed'].mean()\n",
    "f_60_days_employed_mean = data.loc[(data['days_employed'] < incorrect_days_employed_min) & (data['dob_years'] > 60), 'days_employed'].mean()\n",
    "\n",
    "#У нас есть 4 средних значения и мы можем их использовать для заполнения пропуском и некорректных значений\n",
    "#Напишем функцию, которая будет брать строку в датафрейме, проверять значение в столбце 'days_employed' \n",
    "#И если значения нет, либо оно равно или больше ранее определенной переменной 'incorrect_days_employed_min'\n",
    "#Мы будем записывать в дни стажа расчетное среднее значение\n",
    "\n",
    "data.loc[data['days_employed'].isnull() == True, 'days_employed'] = 0 #заполняем пустые значения нулями для простоты работы функции\n",
    "\n",
    "def days_employed_check(row):\n",
    "    days_employed = row['days_employed']\n",
    "    dob_years = row['dob_years']\n",
    "    if days_employed == 0:\n",
    "        if dob_years <= 20:\n",
    "            return up_to_20_days_employed_mean\n",
    "        if dob_years <= 40: \n",
    "            return f_20_to_40_days_employed_mean\n",
    "        if dob_years <= 60: \n",
    "            return f_40_to_60_days_employed_mean\n",
    "        return f_60_days_employed_mean\n",
    "    if days_employed >= incorrect_days_employed_min:\n",
    "        if dob_years <= 20:\n",
    "            return up_to_20_days_employed_mean\n",
    "        if dob_years <= 40: \n",
    "            return f_20_to_40_days_employed_mean\n",
    "        if dob_years <= 60: \n",
    "            return f_40_to_60_days_employed_mean\n",
    "        return f_60_days_employed_mean\n",
    "    if days_employed < incorrect_days_employed_min and days_employed != 0:\n",
    "        return days_employed\n",
    "        \n",
    "data['days_employed'] = data.apply(days_employed_check, axis=1) #применяем функцию к датафрейму\n",
    "del data['years_employed'] #удаляем добавленный ранее вычисляемый столбец 'years_employed', так как он нам больше не нужен\n",
    "\n",
    "print(data.info()) #оцениваем результат и видим, что в столбце 'days_employed' все столбцы заполнены\n",
    "#print(data.head()) #визуально столбец 'days_employed' также выглядит более корректно, чем ранее"
   ]
  },
  {
   "cell_type": "markdown",
   "metadata": {},
   "source": [
    "У нас остались пропуски в столбце 'total_income', что видно на шаге выше. \n",
    "Метод заполнения данных в этом столбце схож со стажем, но имеет смысл использовать иные значения:\n",
    "1. Вместо среднего арифметического более разумно использовать медиану, так как колебания уровня дохода могут быть значительно выше таковых для стажа\n",
    "2. Для поиска более точного значения также имеет смысл сгруппировать клиентов по определенному признаку, но при оценке уровня дохода лучше использовать тип дохода, то есть данные столбца 'income_type'\n",
    "3. Так как 'income_type' явно категорийная переменная следует провести оценку качества данных в столбце перед переходом к заполнению пропусков в ежемесячных доходах."
   ]
  },
  {
   "cell_type": "code",
   "execution_count": 8,
   "metadata": {},
   "outputs": [
    {
     "name": "stdout",
     "output_type": "stream",
     "text": [
      "сотрудник          11119\n",
      "компаньон           5085\n",
      "пенсионер           3856\n",
      "госслужащий         1459\n",
      "предприниматель        2\n",
      "безработный            2\n",
      "студент                1\n",
      "в декрете              1\n",
      "Name: income_type, dtype: int64\n"
     ]
    }
   ],
   "source": [
    "print(data['income_type'].value_counts()) #мы смотрим на количество записей по каждом типу дохода, а заодно на качество отражения самих типов\n",
    "income_type_median_values = data.groupby('income_type') #группируем дата-сет по типу дохода и записываем в отдельную переменную\n",
    "\n",
    "#кладем в переменную series со медианным уровнем дохода по каждому типу\n",
    "#так мы можем легко получить доступ к медианному значению для заполнения пропусков по доходу:\n",
    "income_type_median_values = income_type_median_values['total_income'].median() \n",
    "#print(income_type_median_values) #можем визуально оценить значения среднего дохода по каждой категории"
   ]
  },
  {
   "cell_type": "markdown",
   "metadata": {},
   "source": [
    "Теперь нам необходимо заполнить пропуски в значениях ежемесячного дохода для клиентов с незаполненными значениями. Для этого напишем функцию, которая проверит весь столбец 'total_income' в таблице и, в случае отсутствия в нем значений, заполнит медианным значением для устранения пропусков.  "
   ]
  },
  {
   "cell_type": "code",
   "execution_count": 9,
   "metadata": {},
   "outputs": [
    {
     "name": "stdout",
     "output_type": "stream",
     "text": [
      "<class 'pandas.core.frame.DataFrame'>\n",
      "RangeIndex: 21525 entries, 0 to 21524\n",
      "Data columns (total 12 columns):\n",
      "children            21525 non-null int64\n",
      "days_employed       21525 non-null float64\n",
      "dob_years           21525 non-null int64\n",
      "education           21525 non-null object\n",
      "education_id        21525 non-null int64\n",
      "family_status       21525 non-null object\n",
      "family_status_id    21525 non-null int64\n",
      "gender              21525 non-null object\n",
      "income_type         21525 non-null object\n",
      "debt                21525 non-null int64\n",
      "total_income        21525 non-null float64\n",
      "purpose             21525 non-null object\n",
      "dtypes: float64(2), int64(5), object(5)\n",
      "memory usage: 2.0+ MB\n",
      "None\n"
     ]
    }
   ],
   "source": [
    "def income_filler(row):\n",
    "    income_type = row['income_type']\n",
    "    total_income = row['total_income']\n",
    "    if total_income > 0: #если значение total_income больше нуля (то есть, заполнено), оставляем старое значение\n",
    "        return total_income\n",
    "    total_income_median = income_type_median_values[income_type] #то объявляем переменную, равную соответствующему значения из сформированного ранее списка медианных значений по категориям\n",
    "    return total_income_median #возвращаем медианное значение вместо пустоты\n",
    "        \n",
    "data['total_income'] = data.apply(income_filler, axis=1) #применяем функцию к дата-сету\n",
    "print(data.info()) #оцениваем результат"
   ]
  },
  {
   "cell_type": "markdown",
   "metadata": {},
   "source": [
    "Теперь в таблице нет пропусков. "
   ]
  },
  {
   "cell_type": "markdown",
   "metadata": {},
   "source": [
    "### Вывод"
   ]
  },
  {
   "cell_type": "markdown",
   "metadata": {},
   "source": [
    "При первоначальном изучении среза были обнаружены два столбца с пропусками. Путем подсчета среднего и медианного значений с категоризацией для разных столбцов было произведено заполнение пропусков. "
   ]
  },
  {
   "cell_type": "markdown",
   "metadata": {},
   "source": [
    "### Замена типа данных"
   ]
  },
  {
   "cell_type": "code",
   "execution_count": 10,
   "metadata": {},
   "outputs": [
    {
     "name": "stdout",
     "output_type": "stream",
     "text": [
      "<class 'pandas.core.frame.DataFrame'>\n",
      "RangeIndex: 21525 entries, 0 to 21524\n",
      "Data columns (total 12 columns):\n",
      "children            21525 non-null int64\n",
      "days_employed       21525 non-null float64\n",
      "dob_years           21525 non-null int64\n",
      "education           21525 non-null object\n",
      "education_id        21525 non-null int64\n",
      "family_status       21525 non-null object\n",
      "family_status_id    21525 non-null int64\n",
      "gender              21525 non-null object\n",
      "income_type         21525 non-null object\n",
      "debt                21525 non-null int64\n",
      "total_income        21525 non-null float64\n",
      "purpose             21525 non-null object\n",
      "dtypes: float64(2), int64(5), object(5)\n",
      "memory usage: 2.0+ MB\n",
      "None\n"
     ]
    }
   ],
   "source": [
    "print(data.info())"
   ]
  },
  {
   "cell_type": "markdown",
   "metadata": {},
   "source": [
    "В таблице 2 столбца, тип данных которых - вещественное число. Вероятно, при экспорте данных из системы, значения в столбце количества дней трудового стажа были вычислены относительно конкретного момента выгрузки, поэтому в таблице мы можем наблюдать довольно много знаков после запятой. Для работы с данными о днях стажа в нашем случае такая точность не требуется, поэтому мы просто изменим тип данных в столбце на целое число. \n",
    "\n",
    "По схожей причине мы преобразуем среднемесячный уровень дохода в целое число, так как с такими данными проще работать, а копейки для достижения целей исследования не требуются. "
   ]
  },
  {
   "cell_type": "code",
   "execution_count": 11,
   "metadata": {},
   "outputs": [
    {
     "name": "stdout",
     "output_type": "stream",
     "text": [
      "<class 'pandas.core.frame.DataFrame'>\n",
      "RangeIndex: 21525 entries, 0 to 21524\n",
      "Data columns (total 12 columns):\n",
      "children            21525 non-null int64\n",
      "days_employed       21525 non-null int64\n",
      "dob_years           21525 non-null int64\n",
      "education           21525 non-null object\n",
      "education_id        21525 non-null int64\n",
      "family_status       21525 non-null object\n",
      "family_status_id    21525 non-null int64\n",
      "gender              21525 non-null object\n",
      "income_type         21525 non-null object\n",
      "debt                21525 non-null int64\n",
      "total_income        21525 non-null int64\n",
      "purpose             21525 non-null object\n",
      "dtypes: int64(7), object(5)\n",
      "memory usage: 2.0+ MB\n",
      "None\n"
     ]
    }
   ],
   "source": [
    "data['days_employed'] = data['days_employed'].astype('int') #при помощи метода astype() мы преобразуем значения в тот тип, который передаем методу в параметрах\n",
    "data['total_income'] = data['total_income'].astype('int')\n",
    "print(data.info())"
   ]
  },
  {
   "cell_type": "markdown",
   "metadata": {},
   "source": [
    "### Вывод"
   ]
  },
  {
   "cell_type": "markdown",
   "metadata": {},
   "source": [
    "При помощи метода astype() мы преобразовали вещественные числа в целые, что в целом не снижает потенциальную точность ответа на поставленные перед исследованием вопросы, но упрощает работу с данными. "
   ]
  },
  {
   "cell_type": "markdown",
   "metadata": {},
   "source": [
    "### Обработка дубликатов"
   ]
  },
  {
   "cell_type": "markdown",
   "metadata": {},
   "source": [
    "В таблице присутствовали 54 полных дубликата, которые удалось выявить при помощи метода duplicated(). Методом drop_duplicates() эти дубликаты мы убрали из таблицы. \n",
    "В соответствии с изначальной гипотезой, на факт погашения крелита в срок влияют два фактора: семейное положение и количество детей. При помощи аргумента value_counts() мы оценили количество значений в столбцах 'family_status' и 'family_status_id': количество уникальных значений и количество наблюдений для каждого идентичны, поэтому столбец 'family_status' не нуждается в удалении дубликатов. \n",
    "\n",
    "Вероятная причина появления полных дубликатов - дублирование информации об обращении клиентов. Это может обусловлено особенностями хранения данных, либо спецификой процесса извлечения данных из учетной системы. \n",
    "\n",
    "Также в столбце 'education' присутствуют различные варианты записи стандартных категорий. Использование метода 'unique' в комбинации с функцией len возвращает информацию о 15 уникальных значениях. В то время как аналогичная комбинация, примененная к столбцу 'education_id', говорит лишь о 5 уникальных идентификаторах. Визуальная оценка диапазона уникальных значений образования говорит нам о проблем с регистром символов: вероятно, произошла какая-то ошибка работы с данными, так как отсутствие проверки данных на этапе ввода привело бы к значетельно большему количеству ошибок. При помощи метода str.lower() мы приводим значения в столбце к нижнему регистру и повторная проверка говорит о соответствии количества уникальных значений столбцов 'education' и 'education_id'."
   ]
  },
  {
   "cell_type": "code",
   "execution_count": 12,
   "metadata": {},
   "outputs": [],
   "source": [
    "data = data.drop_duplicates().reset_index(drop=True)\n",
    "data['education'] = data['education'].str.lower()"
   ]
  },
  {
   "cell_type": "markdown",
   "metadata": {},
   "source": [
    "### Вывод"
   ]
  },
  {
   "cell_type": "markdown",
   "metadata": {},
   "source": [
    "В данных присутствовали полные дубликаты строк, а также дубликаты категорийных значений, полученные в результате использования разного регистра для символов. Стандартными методами Python эти дубликаты удалось устранить. "
   ]
  },
  {
   "cell_type": "markdown",
   "metadata": {},
   "source": [
    "### Лемматизация"
   ]
  },
  {
   "cell_type": "code",
   "execution_count": 13,
   "metadata": {},
   "outputs": [],
   "source": [
    "from pymystem3 import Mystem #импортируем библиотеку pymystem и записываем ее в переменную m для обращения к ее функциям и методам\n",
    "m = Mystem()\n",
    "\n",
    "def lemmatization(row):\n",
    "    purpose = row['purpose'] #берем str с целью получения кредита в строке\n",
    "    purpose = m.lemmatize(purpose) #лемматизируем слова в цели кредита по текущей строке\n",
    "    purpose = ''.join(purpose).rstrip('\\r\\n') #склеиваем полученный список в строку и удаляем символ переноса строки\n",
    "    return purpose #возвращаем лемматизированную строку на место данных, которые мы лемматизировали\n",
    "    \n",
    "data['purpose'] = data.apply(lemmatization, axis=1) #применяем функцию к дата-сету "
   ]
  },
  {
   "cell_type": "code",
   "execution_count": 14,
   "metadata": {},
   "outputs": [],
   "source": [
    "real_goals = set() #объявляем переменную в которую запишем все уникальные короткие значения в колонке\n",
    "\n",
    "for purpose in data['purpose']: #при помощи цикла пробегаемся по столбцу и в множество пишем значения всех строк, которые не превышают 1 слово\n",
    "    if len(purpose.split()) == 1:\n",
    "        real_goals.add(purpose)\n",
    "    else: \n",
    "        continue\n",
    "\n",
    "#в результате работы цикла мы получили множество с 5 уникальными значениями = целями получения кредита\n",
    "# {'свадьба', 'недвижимость', 'автомобиль', 'жилье', 'образование'}\n",
    "   \n",
    "    \n",
    "#функция проверят, есть ли значения из множества уникальные целей в 1 слово в строке\n",
    "#если есть, меняет значение purpose в строке на 1 существительное\n",
    "\n",
    "def single_word_goal_modifier(row): \n",
    "    purpose = row['purpose']\n",
    "    purpose = purpose.split()\n",
    "    for goal in real_goals:\n",
    "        if goal in purpose:\n",
    "            purpose = goal\n",
    "    return purpose\n",
    "\n",
    "data['purpose'] = data.apply(single_word_goal_modifier, axis=1)"
   ]
  },
  {
   "cell_type": "code",
   "execution_count": 15,
   "metadata": {
    "scrolled": true
   },
   "outputs": [
    {
     "name": "stdout",
     "output_type": "stream",
     "text": [
      "недвижимость    6353\n",
      "жилье           4461\n",
      "автомобиль      4308\n",
      "образование     4014\n",
      "свадьба         2335\n",
      "Name: purpose, dtype: int64\n"
     ]
    }
   ],
   "source": [
    "print(data['purpose'].value_counts()) #все строки дата-сета сгруппированы по 5 понятным категориям"
   ]
  },
  {
   "cell_type": "markdown",
   "metadata": {},
   "source": [
    "### Вывод"
   ]
  },
  {
   "cell_type": "markdown",
   "metadata": {},
   "source": [
    "При помощи библиотеки pymystem и нескольких функций нам удалось извлечь леммы из изначальных формулировок целей получения кредита, а также редуцировать значения в каждой строке до 5 понятных категорий, по которым впоследствии будет нетрудно определить долю возвращающих кредит в срок. "
   ]
  },
  {
   "cell_type": "markdown",
   "metadata": {},
   "source": [
    "### Категоризация данных"
   ]
  },
  {
   "cell_type": "markdown",
   "metadata": {},
   "source": [
    "Ранее, в рамках процесса по заполнению пропусков в данных, была проведена категоризация данных: мы распределили клиентов по возрастным группам для рассчета среднего значения трудового стажа в каждой возрастной группе. Такой подход наиболее очевидный, так как между стажем и возрастом клиента есть зависимость. Категоризация была произведена при помощи фукнции для одной строки. \n",
    "\n",
    "Также данных присутствует столбец, в котором, несмотря на численное значение, отражается категорийная переменная - это количество детей. "
   ]
  },
  {
   "cell_type": "code",
   "execution_count": 16,
   "metadata": {},
   "outputs": [
    {
     "name": "stdout",
     "output_type": "stream",
     "text": [
      " 0     14107\n",
      " 1      4809\n",
      " 2      2052\n",
      " 3       330\n",
      " 20       76\n",
      "-1        47\n",
      " 4        41\n",
      " 5         9\n",
      "Name: children, dtype: int64\n"
     ]
    }
   ],
   "source": [
    "print(data['children'].value_counts()) #смотрим на количество уникальных значений по столбцу и количество записей для каждого значения"
   ]
  },
  {
   "cell_type": "markdown",
   "metadata": {},
   "source": [
    "Гипотеза исследования: количество детей и семейное положение влияют на факт погашения кредита в срок. \n",
    "\n",
    "Таким образом, обработку среза начинаем с нормализации данных в столбце 'children'. \n",
    "Мы видим, что в нашем списке 8 уникальных значений. Из них 2 явно выделяются: -1 и 20. \n",
    "Мы не можем использовать значение -1 для характеристики количества детей, так как оно не является натуральным. В нашей выборке есть два приближенных значения: 0 и 1. Так как физически сложно ввести 1 вместо 0, мы остановимся на гипотезе о том, что знак минус появился у единицы случайно в результате выгрузки, либо обработки данных в источнике и изменим значение -1 на 1. \n",
    "\n",
    "Значение 20 также не выглядит реалистичным по следующим причинам: \n",
    "\n",
    "1. Между значениями 5 и 20 отсутствуют промежуточные значения, что очень странно в такой, достаточно многочисленной, выборке;\n",
    "2. Количество записей со значением 20 больше, чем суммарное количество записей со значениями 4 и 5 детей. На уровне личностных ощущений предположу, что такой вариант развития событий нереалистчен. \n",
    "\n",
    "Вероятно, при вводе данных была допущена ошибка и вместо значения 2 было введено 20, либо ошибочна была введена двойка и клиент ввел ноль, не удалив предыдущее значение. Так как в группе '2 детей' дополнительные 76 записей составят порядка 4% от общей суммы, мы изменим значение 20 на 0, так как это в наименьшей степени повлияет на точность итоговых выводов. "
   ]
  },
  {
   "cell_type": "code",
   "execution_count": 17,
   "metadata": {},
   "outputs": [
    {
     "name": "stdout",
     "output_type": "stream",
     "text": [
      "0    14183\n",
      "1     4856\n",
      "2     2052\n",
      "3      330\n",
      "4       41\n",
      "5        9\n",
      "Name: children, dtype: int64\n"
     ]
    }
   ],
   "source": [
    "data.loc[data['children'] <0, 'children'] = 1 #отбираем строки со значением <0 по количеству детей и изменяем значение в них на 1\n",
    "data.loc[data['children'] == 20, 'children'] = 0 #отбираем строки со значением '20' и изменяем его на '0'\n",
    "print(data['children'].value_counts())"
   ]
  },
  {
   "cell_type": "markdown",
   "metadata": {},
   "source": [
    "### Вывод"
   ]
  },
  {
   "cell_type": "markdown",
   "metadata": {},
   "source": [
    "Данные были распределены по категориям в процессе удаления пропусков. Кроме того, восстановлена корректная категоризация по количеству детей, что важно в контексте поставленного перед исследованием вопроса. "
   ]
  },
  {
   "cell_type": "markdown",
   "metadata": {},
   "source": [
    "### Шаг 3. Ответьте на вопросы"
   ]
  },
  {
   "cell_type": "markdown",
   "metadata": {},
   "source": [
    "- Есть ли зависимость между наличием детей и возвратом кредита в срок?"
   ]
  },
  {
   "cell_type": "code",
   "execution_count": 18,
   "metadata": {},
   "outputs": [
    {
     "name": "stdout",
     "output_type": "stream",
     "text": [
      "children\n",
      "5    0.000000\n",
      "0    0.075513\n",
      "3    0.081818\n",
      "1    0.091639\n",
      "2    0.094542\n",
      "4    0.097561\n",
      "Name: debt, dtype: float64\n",
      "children  debt\n",
      "0         0       13112\n",
      "          1        1071\n",
      "1         0        4411\n",
      "          1         445\n",
      "2         0        1858\n",
      "          1         194\n",
      "3         0         303\n",
      "          1          27\n",
      "4         0          37\n",
      "          1           4\n",
      "5         0           9\n",
      "Name: debt, dtype: int64\n"
     ]
    }
   ],
   "source": [
    "children_grouped = data.groupby('children') #создаем Series, в который группируем дата-сете по количеству детей\n",
    "print(children_grouped['debt'].mean().sort_values()) #выводим среднее значение реквизита debt для каждой категории\n",
    "print(children_grouped['debt'].value_counts())"
   ]
  },
  {
   "cell_type": "markdown",
   "metadata": {},
   "source": [
    "### Вывод"
   ]
  },
  {
   "cell_type": "markdown",
   "metadata": {},
   "source": [
    "Судя по среднему значению булевого параметра debt, с ростом количества детей в семье растет и среднее значение по параметру \"были ли задолженности по кредитам\". Также мы видим, что клиенты с 5 детьми имеют среднюю оценку по этому параметру = 0. Однако эти данные нельзя использовать для выводов, так как выборка в 9 человек в данном случае нерепрезентативна."
   ]
  },
  {
   "cell_type": "markdown",
   "metadata": {},
   "source": [
    "- Есть ли зависимость между семейным положением и возвратом кредита в срок?"
   ]
  },
  {
   "cell_type": "code",
   "execution_count": 19,
   "metadata": {},
   "outputs": [
    {
     "name": "stdout",
     "output_type": "stream",
     "text": [
      "family_status\n",
      "вдовец / вдова           0.065693\n",
      "в разводе                0.071130\n",
      "женат / замужем          0.075421\n",
      "гражданский брак         0.093202\n",
      "Не женат / не замужем    0.097509\n",
      "Name: debt, dtype: float64\n",
      "family_status          debt\n",
      "Не женат / не замужем  0        2536\n",
      "                       1         274\n",
      "в разводе              0        1110\n",
      "                       1          85\n",
      "вдовец / вдова         0         896\n",
      "                       1          63\n",
      "гражданский брак       0        3775\n",
      "                       1         388\n",
      "женат / замужем        0       11413\n",
      "                       1         931\n",
      "Name: debt, dtype: int64\n"
     ]
    }
   ],
   "source": [
    "family_status_grouped = data.groupby('family_status')\n",
    "print(family_status_grouped['debt'].mean().sort_values())\n",
    "print(family_status_grouped['debt'].value_counts())"
   ]
  },
  {
   "cell_type": "markdown",
   "metadata": {},
   "source": [
    "### Вывод"
   ]
  },
  {
   "cell_type": "markdown",
   "metadata": {},
   "source": [
    "Мы видим, что наименьший средний балл по параметру задолженностей был у группы 'вдовец / вдова', однако эта группа не слишком многочисленна, поэтому посмотрим на другие группы. Здесь мы видим, что даже гражданский брак незначительно влияет на ответственность заемщиков. Но наиболее очевидные результаты по группам женатых и разведенных: средний балл значительно ниже, что приводит нас к заключению о влиянии семейного статуса на задолженность. "
   ]
  },
  {
   "cell_type": "markdown",
   "metadata": {},
   "source": [
    "- Есть ли зависимость между уровнем дохода и возвратом кредита в срок?"
   ]
  },
  {
   "cell_type": "code",
   "execution_count": 20,
   "metadata": {},
   "outputs": [
    {
     "name": "stdout",
     "output_type": "stream",
     "text": [
      "                       total_income\n",
      "debt income_type                   \n",
      "0    безработный      202722.000000\n",
      "     госслужащий      169919.258206\n",
      "     компаньон        199887.536565\n",
      "     пенсионер        135145.954432\n",
      "     предприниматель  499163.000000\n",
      "     сотрудник        159978.793619\n",
      "     студент           98201.000000\n",
      "1    безработный       59956.000000\n",
      "     в декрете         53829.000000\n",
      "     госслужащий      152016.546512\n",
      "     компаньон        193848.571809\n",
      "     пенсионер        136385.074074\n",
      "     сотрудник        155554.491989\n",
      "       total_income\n",
      "debt               \n",
      "0     165660.432083\n",
      "1     161158.393452\n"
     ]
    }
   ],
   "source": [
    "income_grouped = data.groupby(['debt', 'income_type']).agg({'total_income': 'mean'})\n",
    "print(income_grouped)\n",
    "income_grouped = data.groupby('debt').agg({'total_income': 'mean'})\n",
    "print(income_grouped)"
   ]
  },
  {
   "cell_type": "markdown",
   "metadata": {},
   "source": [
    "### Вывод"
   ]
  },
  {
   "cell_type": "markdown",
   "metadata": {},
   "source": [
    "Мы видим, что в целом средний уровень дохода не сильно влияет на возврат кредита в срок. \n",
    "\n",
    "Однако если мы посмотрим на тип дохода, то увидим закономерность: чем ниже средний уровень дохода категорий 'безработный' и 'госслужащий', тем выше вероятность невозврата кредита. Особенно ярко это выражено у безработных (разница в средней величине дохода около 4 раз). "
   ]
  },
  {
   "cell_type": "markdown",
   "metadata": {},
   "source": [
    "- Как разные цели кредита влияют на его возврат в срок?"
   ]
  },
  {
   "cell_type": "code",
   "execution_count": 21,
   "metadata": {},
   "outputs": [
    {
     "name": "stdout",
     "output_type": "stream",
     "text": [
      "                  debt\n",
      "purpose               \n",
      "жилье         0.069043\n",
      "недвижимость  0.074610\n",
      "свадьба       0.079657\n",
      "образование   0.092177\n",
      "автомобиль    0.093547\n"
     ]
    }
   ],
   "source": [
    "goals_grouped = data.groupby('purpose').agg({'debt': 'mean'})\n",
    "print(goals_grouped.sort_values('debt'))"
   ]
  },
  {
   "cell_type": "markdown",
   "metadata": {},
   "source": [
    "### Вывод"
   ]
  },
  {
   "cell_type": "markdown",
   "metadata": {},
   "source": [
    "Мы видим, что наиболее дисциплинированные клиенты в группе заемщиков на 'жилье'. Предположу, что это связано с закрытием базовой потребности и без крайней необходимости, люди старатся избегать долгов по ипотеке. Также можно заметить, что два близких понятия 'жилье' и 'недвижимость' имеют довольно сильное расхождение по среднему баллу наличия задолженности: с точки зрения семантики, можно выдвинуть гипотезы, что эти цели несколько отличны - возможно 'недвижимость' здесь фигурирует в несколько коммерческом контексте. Далее среднее значение растет, так как речь идет о значительно менее 'базовых' потребностях. При этом, можно предположить, что заемщики на свадьбу более дисциплинированны, так как в процессе возврата кредита используется помощь росдтвенников."
   ]
  },
  {
   "cell_type": "markdown",
   "metadata": {},
   "source": [
    "### Шаг 4. Общий вывод"
   ]
  },
  {
   "cell_type": "markdown",
   "metadata": {},
   "source": [
    "Общий вывод относительно изначально озвученных целей исследования таков: \n",
    "1. Семейное положение влияет на возврат кредита в срок: женатые или разведенные более дисциплинированы, чем холостые. При этом гражданский брак практически сопоставим с холостыми. Самые дисциплинированные - вдовы/вдовцы, но эта категория не слишком многочисленна;\n",
    "2. Количество детей влияет на возврат кредита в срок: с ростом количества детей, растет и средний балл по задолженности у клиентов. Вероятно, это связано с необходимостью погашать более важные затраты, связанные с содержанием детей."
   ]
  }
 ],
 "metadata": {
  "kernelspec": {
   "display_name": "Python 3",
   "language": "python",
   "name": "python3"
  },
  "language_info": {
   "codemirror_mode": {
    "name": "ipython",
    "version": 3
   },
   "file_extension": ".py",
   "mimetype": "text/x-python",
   "name": "python",
   "nbconvert_exporter": "python",
   "pygments_lexer": "ipython3",
   "version": "3.8.3"
  },
  "toc": {
   "base_numbering": 1,
   "nav_menu": {},
   "number_sections": true,
   "sideBar": true,
   "skip_h1_title": true,
   "title_cell": "Table of Contents",
   "title_sidebar": "Contents",
   "toc_cell": false,
   "toc_position": {},
   "toc_section_display": true,
   "toc_window_display": false
  }
 },
 "nbformat": 4,
 "nbformat_minor": 2
}
