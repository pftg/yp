{
 "cells": [
  {
   "cell_type": "markdown",
   "metadata": {},
   "source": [
    "Изучите таблицу `airports` и выведите список городов (`city`), в которых есть аэропорты.  "
   ]
  },
  {
   "cell_type": "code",
   "execution_count": null,
   "metadata": {},
   "outputs": [],
   "source": [
    "'''\n",
    "SELECT\n",
    "    DISTINCT city\n",
    "FROM\n",
    "    airports\n",
    "'''"
   ]
  },
  {
   "cell_type": "markdown",
   "metadata": {},
   "source": [
    "Изучите таблицу `flights` и подсчитайте количество вылетов (`flight_id`) из каждого аэропорта вылета (`departure_airport`). Назовите переменную `cnt_flights` и выведите её вместе со столбцом `departure_airport` — сначала `departure_airport`, потом `cnt_flights`. Результат отсортируйте в порядке убывания количества вылетов."
   ]
  },
  {
   "cell_type": "code",
   "execution_count": null,
   "metadata": {},
   "outputs": [],
   "source": [
    "'''\n",
    "SELECT\n",
    "    departure_airport,\n",
    "    COUNT(flight_id) as cnt_flights\n",
    "FROM\n",
    "    flights\n",
    "GROUP BY\n",
    "    departure_airport\n",
    "ORDER BY\n",
    "    COUNT(flight_id) DESC\n",
    "'''"
   ]
  },
  {
   "cell_type": "markdown",
   "metadata": {},
   "source": [
    "Найдите количество рейсов на каждой модели самолёта с вылетом в сентябре 2018 года. Назовите получившийся столбец `flights_amount` и выведите его, также выведите столбец `model`."
   ]
  },
  {
   "cell_type": "code",
   "execution_count": null,
   "metadata": {},
   "outputs": [],
   "source": [
    "'''\n",
    "SELECT \n",
    "    aircrafts.model as model,\n",
    "    COUNT(flights.flight_id) AS flights_amount\n",
    "FROM\n",
    "    flights\n",
    "    LEFT JOIN aircrafts ON aircrafts.aircraft_code = flights.aircraft_code\n",
    "WHERE\n",
    "    CAST(flights.departure_time as date) > '2018-08-31' \n",
    "    AND CAST(flights.departure_time as date) < '2018-10-01'\n",
    "GROUP BY\n",
    "    aircrafts.model\n",
    "'''"
   ]
  },
  {
   "cell_type": "markdown",
   "metadata": {},
   "source": [
    "Посчитайте количество рейсов по всем моделям самолётов Boeing, Airbus и другим (`'other'`) в сентябре. Типы моделей поместите в столбец `type_aircraft`, а количество рейсов — во `flights_amount`. Выведите их на экран."
   ]
  },
  {
   "cell_type": "code",
   "execution_count": null,
   "metadata": {},
   "outputs": [],
   "source": [
    "'''\n",
    "SELECT\n",
    "    CASE WHEN aircrafts.model LIKE '%Boeing%' THEN\n",
    "        'Boeing'\n",
    "    WHEN aircrafts.model LIKE '%Airbus%' THEN    \n",
    "        'Airbus'\n",
    "    ELSE\n",
    "        'other'\n",
    "    END AS type_aircraft,\n",
    "    COUNT(flights.flight_id) as flights_amount\n",
    "FROM\n",
    "    flights\n",
    "    INNER JOIN aircrafts ON aircrafts.aircraft_code = flights.aircraft_code\n",
    "WHERE\n",
    "    CAST(flights.departure_time as date) > '2018-08-31' \n",
    "    AND CAST(flights.departure_time as date) < '2018-10-01'\n",
    "GROUP BY\n",
    "    type_aircraft\n",
    "'''"
   ]
  },
  {
   "cell_type": "markdown",
   "metadata": {},
   "source": [
    "Посчитайте среднее количество прибывающих рейсов в день для каждого города за август 2018 года. Назовите получившееся поле `average_flights`, вместе с ним выведите столбец `city`.\n",
    "Выводите столбцы в таком порядке:\n",
    "* city,\n",
    "* average_flights."
   ]
  },
  {
   "cell_type": "code",
   "execution_count": null,
   "metadata": {},
   "outputs": [],
   "source": [
    "'''\n",
    "SELECT\n",
    "    subq.city as city,\n",
    "    AVG(qty) AS average_flights\n",
    "FROM (\n",
    "        SELECT\n",
    "            airports.city as city,\n",
    "            CAST(flights.arrival_time AS date) AS ar_date,\n",
    "            count(flights.arrival_time) AS qty\n",
    "        FROM\n",
    "            flights\n",
    "            INNER JOIN airports ON airports.airport_code = flights.arrival_airport\n",
    "        WHERE\n",
    "            EXTRACT(MONTH FROM flights.arrival_time) = 8\n",
    "        GROUP BY\n",
    "            city,\n",
    "            ar_date) AS subq\n",
    "GROUP BY\n",
    "    city\n",
    "'''"
   ]
  },
  {
   "cell_type": "markdown",
   "metadata": {},
   "source": [
    "Установите фестивали, которые проходили с 23 июля по 30 сентября 2018 года в Москве, и номер недели, в которую они проходили. Выведите название фестиваля `festival_name` и номер недели `festival_week`."
   ]
  },
  {
   "cell_type": "code",
   "execution_count": null,
   "metadata": {},
   "outputs": [],
   "source": [
    "'''\n",
    "SELECT\n",
    "    festival_name,\n",
    "    EXTRACT(WEEK FROM festival_date) AS festival_week\n",
    "FROM\n",
    "    festivals\n",
    "WHERE\n",
    "    festival_city = 'Москва'\n",
    "    AND festival_date BETWEEN '2018-07-23' AND '2018-09-30'\n",
    "'''"
   ]
  },
  {
   "cell_type": "markdown",
   "metadata": {},
   "source": [
    "Для каждой недели с 23 июля по 30 сентября 2018 года посчитайте количество билетов, купленных на рейсы в Москву (номер недели `week_number` и количество билетов `ticket_amount`). Получите таблицу, в которой будет информация о количестве купленных за неделю билетов; отметка, проходил ли в эту неделю фестиваль; название фестиваля `festival_name` и номер недели `week_number`.\n",
    "Выводите столбцы в таком порядке: - `week_number` - `ticket_amount` - `festival_week` - `festival_name`"
   ]
  },
  {
   "cell_type": "code",
   "execution_count": null,
   "metadata": {},
   "outputs": [],
   "source": [
    "'''\n",
    "SELECT\n",
    "    T.week_number,\n",
    "    T.ticket_amount,\n",
    "    T.festival_week,\n",
    "    T.festival_name\n",
    "FROM ((\n",
    "        SELECT\n",
    "            EXTRACT(week FROM flights.departure_time) AS week_number,\n",
    "            COUNT(ticket_flights.ticket_no) AS ticket_amount\n",
    "        FROM\n",
    "            airports\n",
    "            INNER JOIN flights ON airports.airport_code = flights.arrival_airport\n",
    "            INNER JOIN ticket_flights ON flights.flight_id = ticket_flights.flight_id\n",
    "        WHERE\n",
    "            airports.city = 'Москва'\n",
    "            AND CAST(flights.departure_time AS date) BETWEEN '2018-07-23' AND '2018-09-30'\n",
    "        GROUP BY\n",
    "            week_number) t\n",
    "    LEFT JOIN (\n",
    "        SELECT\n",
    "            festival_name,\n",
    "            EXTRACT(week FROM festivals.festival_date) AS festival_week\n",
    "        FROM\n",
    "            festivals\n",
    "        WHERE\n",
    "            festival_city = 'Москва'\n",
    "            AND CAST(festivals.festival_date AS date) BETWEEN '2018-07-23' AND '2018-09-30') t2 ON t.week_number = t2.festival_week) AS T;\n",
    "'''"
   ]
  }
 ],
 "metadata": {
  "kernelspec": {
   "display_name": "Python 3",
   "language": "python",
   "name": "python3"
  },
  "language_info": {
   "codemirror_mode": {
    "name": "ipython",
    "version": 3
   },
   "file_extension": ".py",
   "mimetype": "text/x-python",
   "name": "python",
   "nbconvert_exporter": "python",
   "pygments_lexer": "ipython3",
   "version": "3.8.3"
  }
 },
 "nbformat": 4,
 "nbformat_minor": 4
}
